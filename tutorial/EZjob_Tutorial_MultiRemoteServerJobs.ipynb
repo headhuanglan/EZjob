{
 "cells": [
  {
   "cell_type": "code",
   "execution_count": 1,
   "metadata": {
    "ExecuteTime": {
     "end_time": "2020-07-14T11:56:58.656393Z",
     "start_time": "2020-07-14T11:56:56.717389Z"
    }
   },
   "outputs": [
    {
     "name": "stdout",
     "output_type": "stream",
     "text": [
      "\n",
      "  ______ _____ _       _\n",
      " |  ____|___  (_)     | |\n",
      " | |__     / / _  ___ | |__   \n",
      " |  __|   / / | |/ _ \\| '_ \\    \n",
      " | |____ / /__| | (_) | |_) |     \n",
      " |______/_____| |\\___/|_.__/     \n",
      "             _/ |\n",
      "            |__/\n",
      "   \n",
      "Job Manager version :    0.1.6\n",
      "Today :    2020-07-14 06:56:58\n"
     ]
    }
   ],
   "source": [
    "from ezjob import *"
   ]
  },
  {
   "cell_type": "code",
   "execution_count": 2,
   "metadata": {
    "ExecuteTime": {
     "end_time": "2020-07-14T11:57:09.171803Z",
     "start_time": "2020-07-14T11:57:06.673897Z"
    }
   },
   "outputs": [
    {
     "name": "stdout",
     "output_type": "stream",
     "text": [
      "Last login: Tue Jul 14 07:51:51 2020 from psd01a-0047s.cfs.its.nyu.edu\n",
      "\n",
      "PyTorch GPUs\n",
      "\n",
      "GPU driver on Prince does not support CUDA 10.2, if you are running PyTorch, please try to use PyTorch built with CUDA 10.1\n",
      "Please follow instructions on PyTorch page to reinstall PyTorch, https://pytorch.org\n",
      "pip install torch==1.5.0+cu101 torchvision==0.6.0+cu101 -f https://download.pytorch.org/whl/torch_stable.html\n",
      "If you run pip list, the PyTorch version should be torch==1.5.0+cu101\n",
      "\n",
      "cd /home/lh3147\n",
      "[lh3147@log-1 ~]$ cd /home/lh3147\n",
      "[lh3147@log-1 ~]$ \n",
      " "
     ]
    }
   ],
   "source": [
    "ssh_nyu =  SSH('../config_nyu.ini',name='nyu')\n",
    "ssh_nyu.connect()"
   ]
  },
  {
   "cell_type": "code",
   "execution_count": 4,
   "metadata": {
    "ExecuteTime": {
     "end_time": "2020-07-14T11:57:41.189101Z",
     "start_time": "2020-07-14T11:57:32.109229Z"
    },
    "scrolled": true
   },
   "outputs": [
    {
     "name": "stdout",
     "output_type": "stream",
     "text": [
      "Password:\n",
      "Duo two-factor login for huangl1\n",
      "\n",
      "Enter a passcode or select one of the following options:\n",
      "\n",
      " 1. Duo Push to XXX-XXX-4177\n",
      " 2. Phone call to XXX-XXX-4177\n",
      " 3. SMS passcodes to XXX-XXX-4177\n",
      "\n",
      "Passcode or option (1-3):\n",
      "Success. Logging you in...\n",
      "Last login: Tue Jul 14 06:53:51 2020 from c-73-51-208-105.hsd1.il.comcast.net\n",
      "===============================================================================\n",
      "                               Welcome to Midway\n",
      "                           Research Computing Center\n",
      "                             University of Chicago\n",
      "                            http://rcc.uchicago.edu\n",
      "\n",
      "\n",
      "For the RCC Manual see the documentation site at\n",
      "    http://docs.rcc.uchicago.edu\n",
      "\n",
      "To check your allocation balance for the current period use this command:\n",
      "accounts balance\n",
      "\n",
      "Questions and issues should be sent to help@rcc.uchicago.edu or 773-795-2667.\n",
      "===============================================================================\n",
      "\n",
      "*******************************************************************************\n",
      "\n",
      "Midway information system usage may be monitored, recorded, and subject to audit.\n",
      "Use of the information system indicates consent to monitoring and recording.\n",
      "Users who logon represent that they are authorized to do so. Unauthorized use of \n",
      "the information system is prohibited and subject to criminal and civil penalties.\n",
      "\n",
      "*******************************************************************************\n",
      "\n",
      "*******************************************************************************\n",
      "\n",
      "Resource intensive computation jobs running on login nodes will be killed. Please\n",
      "submit them to slurm. \n",
      "\n",
      "*******************************************************************************\n",
      "\n",
      "*******************************************************************************\n",
      "\n",
      "As part of Midway1 decommissioning, starting from April 10, 2019 the shared partitions \n",
      "of Midway1 (e.g., sandyb, ivyb, amd, bigmem, etc.) will be no longer available to run \n",
      "jobs. Please use Midway2 partitions (e.g., broadwl, broadwl-lc, etc.) to run your jobs.\n",
      "\n",
      "*******************************************************************************\n",
      "cd /home/huangl1/simulation\n",
      "[huangl1@midway2-login1 ~]$ cd /home/huangl1/simulation\n",
      "[huangl1@midway2-login1 simulation]$ \n",
      " "
     ]
    }
   ],
   "source": [
    "ssh_rcc = SSH('../config_rcc.ini',name='rcc')\n",
    "ssh_rcc.connect()"
   ]
  },
  {
   "cell_type": "code",
   "execution_count": 6,
   "metadata": {
    "ExecuteTime": {
     "end_time": "2020-07-14T12:00:54.477197Z",
     "start_time": "2020-07-14T12:00:15.382188Z"
    },
    "scrolled": true
   },
   "outputs": [
    {
     "name": "stdout",
     "output_type": "stream",
     "text": [
      "please input your dynamic password!········\n",
      "Password + OTP:\n",
      "/usr/lib/systemd/scripts/update_user_slice_config.sh failed: exit code 1\n",
      "----------------------------- Contact Information ------------------------------\n",
      "\n",
      "NERSC Contacts                http://www.nersc.gov/about/contact-us/\n",
      "NERSC Status                  http://www.nersc.gov/users/live-status/\n",
      "NERSC: 800-66-NERSC (USA)     510-486-8600 (outside continental USA)\n",
      "\n",
      "----------------- Current Status as of 2020-07-13 23:26 PDT --------------------\n",
      "\n",
      "Compute Resources: \n",
      "Cori:            Available.\n",
      "\n",
      "Global Filesystems: \n",
      "Community File System (CFS): Available.\n",
      "DNA:             Available.\n",
      "Data Transfer Nodes: Available.\n",
      "Global Common:   Available.\n",
      "Global Homes:    Available.\n",
      "ProjectB:        Available.\n",
      "SeqFS:           Available.\n",
      "\n",
      "Mass Storage Systems: \n",
      "HPSS Archive (User): Available.\n",
      "HPSS Regent (Backup): Available.\n",
      "\n",
      "----------------- Service Status as of 2020-07-13 23:26 PDT --------------------\n",
      "\n",
      "All services are available.\n",
      "\n",
      "-------------------------------- Planned Outages -------------------------------\n",
      "\n",
      "Cori:            08/19/20 7:00-20:00 PDT, Scheduled Maintenance\n",
      "\n",
      "Cori:            09/16/20 7:00-20:00 PDT, Scheduled Maintenance\n",
      "\n",
      "Cori:            10/21/20 7:00-20:00 PDT, Scheduled Maintenance\n",
      "\n",
      "Cori:            12/16/20 7:00-20:00 PST, Scheduled Maintenance\n",
      "\n",
      "Cori:            01/20/21 7:00-20:00 PST, Scheduled Maintenance\n",
      "\n",
      "Cori:            02/17/21 7:00-20:00 PST, Scheduled Maintenance\n",
      "\n",
      "--------------------------------- Past Outages ---------------------------------\n",
      "\n",
      "HPSS Archive (User): 07/10/20 5:45-07/13/20 9:20 PDT, Scheduled Maintenance\n",
      "                  Facility upgrade to prepare for Perlmutter.  Cori, NGF, HPSS and\n",
      "                  other systems will be impacted. NOTE: This is an updated\n",
      "                  maintenance window for our previously scheduled outage.\n",
      "\n",
      "HPSS Regent (Backup): 07/10/20 5:45-07/13/20 9:08 PDT, Scheduled Maintenance\n",
      "\n",
      "NERSC Center:    07/10/20 6:00-07/13/20 23:22 PDT, Scheduled Maintenance\n",
      "                  Facility upgrade to prepare for Perlmutter.  Cori, NGF, HPSS and\n",
      "                  other systems will be impacted. NOTE: This is an updated\n",
      "                  maintenance window for our previously scheduled outage.\n",
      "\n",
      "Cori:            07/10/20 6:00-07/13/20 23:22 PDT, Scheduled Maintenance\n",
      "                  Facility upgrade to prepare for Perlmutter.  Cori, NGF, HPSS and\n",
      "                  other systems will be impacted. NOTE: This is an updated\n",
      "                  maintenance window for our previously scheduled outage.\n",
      "\n",
      "Data Transfer Nodes: 07/10/20 6:00-07/13/20 8:56 PDT, Scheduled Maintenance\n",
      "                  Facility upgrade to prepare for Perlmutter. Cori, NGF, HPSS and\n",
      "                  other systems will be impacted. NOTE: This is an updated\n",
      "                  maintenance window for our previously scheduled outage.\n",
      "\n",
      "ProjectB:        07/10/20 9:00-07/13/20 8:56 PDT, Scheduled Maintenance\n",
      "                  Facility upgrade to prepare for Perlmutter. Cori, NGF, HPSS and\n",
      "                  other systems will be impacted. NOTE: This is an updated\n",
      "                  maintenance window for our previously scheduled outage.\n",
      "\n",
      "Global Homes:    07/10/20 9:00-07/13/20 8:56 PDT, Scheduled Maintenance\n",
      "                  Facility upgrade to prepare for Perlmutter. Cori, NGF, HPSS and\n",
      "                  other systems will be impacted. NOTE: This is an updated\n",
      "                  maintenance window for our previously scheduled outage.\n",
      "\n",
      "DNA:             07/10/20 9:00-07/13/20 8:56 PDT, Scheduled Maintenance\n",
      "                  Facility upgrade to prepare for Perlmutter. Cori, NGF, HPSS and\n",
      "                  other systems will be impacted. NOTE: This is an updated\n",
      "                  maintenance window for our previously scheduled outage.\n",
      "\n",
      "Global Common:   07/10/20 9:00-07/13/20 8:56 PDT, Scheduled Maintenance\n",
      "                  Facility upgrade to prepare for Perlmutter. Cori, NGF, HPSS and\n",
      "                  other systems will be impacted. NOTE: This is an updated\n",
      "                  maintenance window for our previously scheduled outage.\n",
      "\n",
      "SeqFS:           07/10/20 9:00-07/13/20 8:56 PDT, Scheduled Maintenance\n",
      "                  Facility upgrade to prepare for Perlmutter. Cori, NGF, HPSS and\n",
      "                  other systems will be impacted. NOTE: This is an updated\n",
      "                  maintenance window for our previously scheduled outage.\n",
      "\n",
      "Community File System (CFS): 07/10/20 9:00-07/13/20 8:56 PDT, Scheduled Maintenance\n",
      "                  Facility upgrade to prepare for Perlmutter. Cori, NGF, HPSS and\n",
      "                  other systems will be impacted. NOTE: This is an updated\n",
      "                  maintenance window for our previously scheduled outage.\n",
      "\n",
      "For past outages, see: http://my.nersc.gov/outagelog-cs.php\n",
      "\n",
      "--------------------------------------------------------------------------------\n",
      "\n",
      "cd /global/homes/h/huangl\n",
      "huangl@cori04:~> cd /global/homes/h/huangl\n",
      "huangl@cori04:~> "
     ]
    }
   ],
   "source": [
    "ssh_cori = SSH('../config_cori.ini','cori')\n",
    "ssh_cori.connect()"
   ]
  },
  {
   "cell_type": "markdown",
   "metadata": {},
   "source": [
    "Which one to run %r & %%r ?  you need to choose"
   ]
  },
  {
   "cell_type": "code",
   "execution_count": 7,
   "metadata": {
    "ExecuteTime": {
     "end_time": "2020-07-14T12:01:10.315820Z",
     "start_time": "2020-07-14T12:01:07.134737Z"
    }
   },
   "outputs": [
    {
     "name": "stdout",
     "output_type": "stream",
     "text": [
      "More than one valid SSH instance exists\n",
      "id: 0 signature:nyu\n",
      "id: 1 signature:rcc\n",
      "id: 2 signature:cori\n",
      "Which id? (input %r @choose to reselect client)0\n",
      "ls\n",
      "\u001b[0m\u001b[01;34mDL4DistancePrediction2\u001b[0m  \u001b[01;34mminiconda3\u001b[0m\n",
      "[lh3147@log-1 ~]$ \n",
      " "
     ]
    }
   ],
   "source": [
    "%r ls"
   ]
  },
  {
   "cell_type": "code",
   "execution_count": 8,
   "metadata": {
    "ExecuteTime": {
     "end_time": "2020-07-14T12:01:15.088585Z",
     "start_time": "2020-07-14T12:01:15.080593Z"
    }
   },
   "outputs": [
    {
     "name": "stdout",
     "output_type": "stream",
     "text": [
      " \r\n",
      "[lh3147@log-1 ~]$ \n",
      " ls -l\r\n",
      "total 17\r\n",
      "drwxr-s---  9 lh3147 users 41 Jul  7 03:58 \u001b[0m\u001b[01;34mDL4DistancePrediction2\u001b[0m\r\n",
      "drwxr-s--- 17 lh3147 users 18 Jun 26 17:29 \u001b[01;34mminiconda3\u001b[0m\r\n",
      "[lh3147@log-1 ~]$ pwd\r\n",
      "/home/lh3147\r\n",
      "[lh3147@log-1 ~]$ \n",
      " "
     ]
    }
   ],
   "source": [
    "%%r  \n",
    "\n",
    "ls -l\n",
    "pwd"
   ]
  },
  {
   "cell_type": "markdown",
   "metadata": {},
   "source": [
    "rechoose the ssh client? "
   ]
  },
  {
   "cell_type": "code",
   "execution_count": 9,
   "metadata": {
    "ExecuteTime": {
     "end_time": "2020-07-14T12:01:24.603818Z",
     "start_time": "2020-07-14T12:01:20.293036Z"
    }
   },
   "outputs": [
    {
     "name": "stdout",
     "output_type": "stream",
     "text": [
      "More than one valid SSH instance exists\n",
      "id: 0 signature:nyu\n",
      "id: 1 signature:rcc\n",
      "id: 2 signature:cori\n",
      "Which id? (input %r @choose to reselect client)2\n"
     ]
    }
   ],
   "source": [
    "%r @choose"
   ]
  },
  {
   "cell_type": "code",
   "execution_count": 10,
   "metadata": {
    "ExecuteTime": {
     "end_time": "2020-07-14T12:01:26.506542Z",
     "start_time": "2020-07-14T12:01:26.501544Z"
    }
   },
   "outputs": [
    {
     "name": "stdout",
     "output_type": "stream",
     "text": [
      "pwd\r\n",
      "/global/homes/h/huangl\r\n",
      "huangl@cori04:~> "
     ]
    }
   ],
   "source": [
    "%r pwd"
   ]
  },
  {
   "cell_type": "code",
   "execution_count": 11,
   "metadata": {
    "ExecuteTime": {
     "end_time": "2020-07-14T12:01:31.489267Z",
     "start_time": "2020-07-14T12:01:29.189193Z"
    }
   },
   "outputs": [
    {
     "name": "stdout",
     "output_type": "stream",
     "text": [
      "More than one valid SSH instance exists\n",
      "id: 0 signature:nyu\n",
      "id: 1 signature:rcc\n",
      "id: 2 signature:cori\n",
      "Which id? (input %r @choose to reselect client)1\n"
     ]
    }
   ],
   "source": [
    "%r @choose"
   ]
  },
  {
   "cell_type": "code",
   "execution_count": 12,
   "metadata": {
    "ExecuteTime": {
     "end_time": "2020-07-14T12:01:33.331826Z",
     "start_time": "2020-07-14T12:01:33.325830Z"
    }
   },
   "outputs": [
    {
     "name": "stdout",
     "output_type": "stream",
     "text": [
      "pwd\r\n",
      "/home/huangl1/simulation\r\n",
      "[huangl1@midway2-login1 simulation]$ \n",
      " "
     ]
    }
   ],
   "source": [
    "%r pwd"
   ]
  },
  {
   "cell_type": "code",
   "execution_count": 13,
   "metadata": {
    "ExecuteTime": {
     "end_time": "2020-07-14T12:02:13.185905Z",
     "start_time": "2020-07-14T12:02:12.476292Z"
    }
   },
   "outputs": [
    {
     "name": "stdout",
     "output_type": "stream",
     "text": [
      "Change directory to LOCAL_WORKING_DIR:C:\\Users\\headh\\Desktop\\0D\\tutorial\\rcc\n"
     ]
    }
   ],
   "source": [
    "jmn_rcc = JobManager(ssh=ssh_rcc,name='rcc_job_manager')"
   ]
  },
  {
   "cell_type": "code",
   "execution_count": 14,
   "metadata": {
    "ExecuteTime": {
     "end_time": "2020-07-14T12:02:25.140877Z",
     "start_time": "2020-07-14T12:02:23.916396Z"
    }
   },
   "outputs": [
    {
     "name": "stdout",
     "output_type": "stream",
     "text": [
      "Change directory to LOCAL_WORKING_DIR:C:\\Users\\headh\\Desktop\\0D\\tutorial\\nyu\n"
     ]
    }
   ],
   "source": [
    "jmn_nyu = JobManager(ssh=ssh_nyu,name='nyu_job_manager')"
   ]
  },
  {
   "cell_type": "code",
   "execution_count": 15,
   "metadata": {
    "ExecuteTime": {
     "end_time": "2020-07-14T12:02:37.968569Z",
     "start_time": "2020-07-14T12:02:31.054688Z"
    }
   },
   "outputs": [
    {
     "name": "stdout",
     "output_type": "stream",
     "text": [
      "More than one valid SSH instance exists\n",
      "id: 0 signature:nyu\n",
      "id: 1 signature:rcc\n",
      "id: 2 signature:cori\n",
      "Which id? 2\n",
      "Change directory to LOCAL_WORKING_DIR:C:\\Users\\headh\\Desktop\\0D\\tutorial\\cori\n"
     ]
    }
   ],
   "source": [
    "jmn_cori = JobManager()"
   ]
  },
  {
   "cell_type": "code",
   "execution_count": 16,
   "metadata": {
    "ExecuteTime": {
     "end_time": "2020-07-14T12:02:52.321104Z",
     "start_time": "2020-07-14T12:02:52.304115Z"
    }
   },
   "outputs": [
    {
     "data": {
      "text/plain": [
       "'C:\\\\Users\\\\headh\\\\Desktop\\\\0D\\\\tutorial\\\\cori'"
      ]
     },
     "execution_count": 16,
     "metadata": {},
     "output_type": "execute_result"
    }
   ],
   "source": [
    "%pwd"
   ]
  },
  {
   "cell_type": "code",
   "execution_count": 17,
   "metadata": {
    "ExecuteTime": {
     "end_time": "2020-07-14T12:02:56.874582Z",
     "start_time": "2020-07-14T12:02:56.164970Z"
    }
   },
   "outputs": [
    {
     "name": "stdout",
     "output_type": "stream",
     "text": [
      "    JobID  | Status  |   Time   |    SubmitTime       |       Note\n",
      " -----------------------------Pending Jobs------------------------------\n",
      "   2975955 | Pending |     0:00 | 2020-07-14 03:45:52 | Cannot find JobInfo in log \n"
     ]
    }
   ],
   "source": [
    "jmn_rcc.view()"
   ]
  },
  {
   "cell_type": "code",
   "execution_count": 18,
   "metadata": {
    "ExecuteTime": {
     "end_time": "2020-07-14T12:03:12.046842Z",
     "start_time": "2020-07-14T12:03:10.964654Z"
    }
   },
   "outputs": [
    {
     "name": "stdout",
     "output_type": "stream",
     "text": [
      "    JobID  | Status  |   Time   |    SubmitTime       |       Note\n"
     ]
    }
   ],
   "source": [
    "jmn_nyu.view()"
   ]
  },
  {
   "cell_type": "code",
   "execution_count": 19,
   "metadata": {
    "ExecuteTime": {
     "end_time": "2020-07-14T12:03:27.270884Z",
     "start_time": "2020-07-14T12:03:25.380522Z"
    }
   },
   "outputs": [
    {
     "name": "stdout",
     "output_type": "stream",
     "text": [
      "    JobID  | Status  |   Time   |    SubmitTime       |       Note\n"
     ]
    }
   ],
   "source": [
    "jmn_cori.view()"
   ]
  },
  {
   "cell_type": "code",
   "execution_count": 20,
   "metadata": {
    "ExecuteTime": {
     "end_time": "2020-07-14T12:03:33.924900Z",
     "start_time": "2020-07-14T12:03:33.915901Z"
    }
   },
   "outputs": [
    {
     "data": {
      "text/plain": [
       "'C:\\\\Users\\\\headh\\\\Desktop\\\\0D\\\\tutorial\\\\cori'"
      ]
     },
     "execution_count": 20,
     "metadata": {},
     "output_type": "execute_result"
    }
   ],
   "source": [
    "%pwd"
   ]
  },
  {
   "cell_type": "code",
   "execution_count": 21,
   "metadata": {
    "ExecuteTime": {
     "end_time": "2020-07-14T12:03:57.252052Z",
     "start_time": "2020-07-14T12:03:57.245055Z"
    }
   },
   "outputs": [
    {
     "name": "stdout",
     "output_type": "stream",
     "text": [
      "Change directory to LOCAL_WORKING_DIR:C:\\Users\\headh\\Desktop\\0D\\tutorial\\rcc\n"
     ]
    }
   ],
   "source": [
    "jmn_rcc.cd_LOCAL_WORKING_DIR()"
   ]
  },
  {
   "cell_type": "code",
   "execution_count": 22,
   "metadata": {
    "ExecuteTime": {
     "end_time": "2020-07-14T12:04:06.334386Z",
     "start_time": "2020-07-14T12:04:06.324393Z"
    }
   },
   "outputs": [
    {
     "data": {
      "text/plain": [
       "'C:\\\\Users\\\\headh\\\\Desktop\\\\0D\\\\tutorial\\\\rcc'"
      ]
     },
     "execution_count": 22,
     "metadata": {},
     "output_type": "execute_result"
    }
   ],
   "source": [
    "%pwd"
   ]
  },
  {
   "cell_type": "code",
   "execution_count": 23,
   "metadata": {
    "ExecuteTime": {
     "end_time": "2020-07-14T12:04:12.151638Z",
     "start_time": "2020-07-14T12:04:08.931240Z"
    }
   },
   "outputs": [
    {
     "name": "stdout",
     "output_type": "stream",
     "text": [
      "More than one valid JobManager instance exists\n",
      "id: 0 signature:rcc_job_manager\n",
      "id: 1 signature:nyu_job_manager\n",
      "id: 2 signature:2020-07-14 07:02:37  cori\n",
      "Which id? (input %ezjob @choose to reselect)0\n"
     ]
    },
    {
     "data": {
      "application/vnd.jupyter.widget-view+json": {
       "model_id": "",
       "version_major": 2,
       "version_minor": 0
      },
      "text/plain": [
       "Accordion(children=(VBox(layout=Layout(max_width='710px', min_width='710px')),), layout=Layout(max_height='500…"
      ]
     },
     "metadata": {},
     "output_type": "display_data"
    },
    {
     "data": {
      "application/javascript": [
       "$('div.job_widget')\n",
       "        .detach()\n",
       "        .appendTo($('#header'))\n",
       "        .css({\n",
       "            'z-index': 999,\n",
       "             'position': 'fixed',\n",
       "            'box-shadow': '5px 5px 5px -3px black',\n",
       "            'opacity': 0.95,\n",
       "            'float': 'left,'\n",
       "        })\n",
       "        "
      ],
      "text/plain": [
       "<IPython.core.display.Javascript object>"
      ]
     },
     "metadata": {},
     "output_type": "display_data"
    }
   ],
   "source": [
    "%ezjob"
   ]
  },
  {
   "cell_type": "code",
   "execution_count": 24,
   "metadata": {
    "ExecuteTime": {
     "end_time": "2020-07-14T12:04:26.649564Z",
     "start_time": "2020-07-14T12:04:19.455802Z"
    }
   },
   "outputs": [
    {
     "name": "stdout",
     "output_type": "stream",
     "text": [
      "More than one valid JobManager instance exists\n",
      "id: 0 signature:rcc_job_manager\n",
      "id: 1 signature:nyu_job_manager\n",
      "id: 2 signature:2020-07-14 07:02:37  cori\n",
      "Which id? (input %ezjob @choose to reselect)1\n"
     ]
    }
   ],
   "source": [
    "%ezjob @choose"
   ]
  },
  {
   "cell_type": "markdown",
   "metadata": {},
   "source": [
    "after choose the ezjob JobManager for ezjob watcher\n",
    "open the ezjob watcher by %ezjob"
   ]
  },
  {
   "cell_type": "code",
   "execution_count": 25,
   "metadata": {
    "ExecuteTime": {
     "end_time": "2020-07-14T12:04:47.330763Z",
     "start_time": "2020-07-14T12:04:47.236816Z"
    }
   },
   "outputs": [
    {
     "data": {
      "application/vnd.jupyter.widget-view+json": {
       "model_id": "",
       "version_major": 2,
       "version_minor": 0
      },
      "text/plain": [
       "Accordion(children=(VBox(layout=Layout(max_width='710px', min_width='710px')),), layout=Layout(max_height='500…"
      ]
     },
     "metadata": {},
     "output_type": "display_data"
    },
    {
     "data": {
      "application/javascript": [
       "$('div.job_widget')\n",
       "        .detach()\n",
       "        .appendTo($('#header'))\n",
       "        .css({\n",
       "            'z-index': 999,\n",
       "             'position': 'fixed',\n",
       "            'box-shadow': '5px 5px 5px -3px black',\n",
       "            'opacity': 0.95,\n",
       "            'float': 'left,'\n",
       "        })\n",
       "        "
      ],
      "text/plain": [
       "<IPython.core.display.Javascript object>"
      ]
     },
     "metadata": {},
     "output_type": "display_data"
    }
   ],
   "source": [
    "%ezjob"
   ]
  },
  {
   "cell_type": "code",
   "execution_count": 26,
   "metadata": {
    "ExecuteTime": {
     "end_time": "2020-07-14T12:05:40.307696Z",
     "start_time": "2020-07-14T12:05:39.157594Z"
    }
   },
   "outputs": [],
   "source": [
    "%ezjob close"
   ]
  },
  {
   "cell_type": "code",
   "execution_count": 28,
   "metadata": {
    "ExecuteTime": {
     "end_time": "2020-07-14T12:06:54.171759Z",
     "start_time": "2020-07-14T12:06:54.052807Z"
    }
   },
   "outputs": [
    {
     "name": "stdout",
     "output_type": "stream",
     "text": [
      "nyu\n",
      "rcc\n",
      "cori\n"
     ]
    }
   ],
   "source": [
    "for ssh_ins in SSH.get_instances():\n",
    "    print(ssh_ins.get_signature())\n",
    "    ssh_ins.close()"
   ]
  },
  {
   "cell_type": "markdown",
   "metadata": {},
   "source": [
    "### With multi JobManager Instances, you can only submit job at each valid  JobManger's dir scope. For example, You can work below  jmn_rcc.cd_LOCAL_WORKING_DIR()  if you want to submit job to rcc."
   ]
  },
  {
   "cell_type": "markdown",
   "metadata": {},
   "source": [
    "An Example Files Structure as Follow:"
   ]
  },
  {
   "cell_type": "markdown",
   "metadata": {},
   "source": [
    "     |_  EZjob_Tutorial_MultiRemoteServerJobs.ipynb\n",
    "     |_  rcc_log.pickle\n",
    "     |_  nyu_log.pickle\n",
    "     |_  cori_log.pickle\n",
    "     |_  Template_Folder\n",
    "              |- Template_RCC\n",
    "              |- Template_NYU\n",
    "              |- Template_CORI\n",
    "     |-  ...\n",
    "     |-  config_rcc.ini\n",
    "     |-  config_nyu.ini\n",
    "     |-  config_cori.ini\n",
    "     |-  cori\n",
    "             |- .ezfiles\n",
    "             |- YOUR_FOLDER\n",
    "                   |- YOUR_SUB_FOLDER\n",
    "                   |- YOUR_SUB_FILE\n",
    "             |- YOUR_FILE\n",
    "             |- ...\n",
    "     |-  nyu\n",
    "             |- .ezfiles\n",
    "             |- YOUR_FOLDER\n",
    "                   |- YOUR_SUB_FOLDER\n",
    "                   |- YOUR_SUB_FILE\n",
    "             |- YOUR_FILE\n",
    "             |- ...\n",
    "     |-  rcc\n",
    "             |- .ezfiles\n",
    "             |- YOUR_FOLDER\n",
    "                   |- YOUR_SUB_FOLDER\n",
    "                   |- YOUR_SUB_FILE\n",
    "             |- YOUR_FILE\n",
    "             |- ...\n",
    "            "
   ]
  },
  {
   "cell_type": "code",
   "execution_count": null,
   "metadata": {},
   "outputs": [],
   "source": []
  }
 ],
 "metadata": {
  "kernelspec": {
   "display_name": "Python 3",
   "language": "python",
   "name": "python3"
  },
  "language_info": {
   "codemirror_mode": {
    "name": "ipython",
    "version": 3
   },
   "file_extension": ".py",
   "mimetype": "text/x-python",
   "name": "python",
   "nbconvert_exporter": "python",
   "pygments_lexer": "ipython3",
   "version": "3.7.3"
  },
  "toc": {
   "base_numbering": 1,
   "nav_menu": {},
   "number_sections": true,
   "sideBar": true,
   "skip_h1_title": false,
   "title_cell": "Table of Contents",
   "title_sidebar": "Contents",
   "toc_cell": false,
   "toc_position": {},
   "toc_section_display": true,
   "toc_window_display": false
  }
 },
 "nbformat": 4,
 "nbformat_minor": 2
}
