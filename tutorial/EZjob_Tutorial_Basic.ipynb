{
 "cells": [
  {
   "cell_type": "code",
   "execution_count": 1,
   "metadata": {
    "ExecuteTime": {
     "end_time": "2020-07-22T08:46:33.286729Z",
     "start_time": "2020-07-22T08:46:31.607688Z"
    },
    "scrolled": false
   },
   "outputs": [
    {
     "name": "stdout",
     "output_type": "stream",
     "text": [
      "\n",
      "  ______ _____ _       _\n",
      " |  ____|___  (_)     | |\n",
      " | |__     / / _  ___ | |__   \n",
      " |  __|   / / | |/ _ \\| '_ \\    \n",
      " | |____ / /__| | (_) | |_) |     \n",
      " |______/_____| |\\___/|_.__/     \n",
      "             _/ |\n",
      "            |__/\n",
      "   \n",
      "Job Manager version :    0.1.8\n",
      "Today :    2020-07-22 03:46:33\n"
     ]
    }
   ],
   "source": [
    "from ezjob import *"
   ]
  },
  {
   "cell_type": "code",
   "execution_count": 3,
   "metadata": {
    "ExecuteTime": {
     "end_time": "2020-07-22T08:47:14.967784Z",
     "start_time": "2020-07-22T08:47:05.108983Z"
    },
    "scrolled": true
   },
   "outputs": [
    {
     "name": "stdout",
     "output_type": "stream",
     "text": [
      "Password:\n",
      "Duo two-factor login for huangl1\n",
      "\n",
      "Enter a passcode or select one of the following options:\n",
      "\n",
      " 1. Duo Push to XXX-XXX-4177\n",
      " 2. Phone call to XXX-XXX-4177\n",
      " 3. SMS passcodes to XXX-XXX-4177\n",
      "\n",
      "Passcode or option (1-3):\n",
      "Success. Logging you in...\n",
      "Last login: Wed Jul 22 03:39:49 2020 from c-73-51-208-105.hsd1.il.comcast.net\n",
      "===============================================================================\n",
      "                               Welcome to Midway\n",
      "                           Research Computing Center\n",
      "                             University of Chicago\n",
      "                            http://rcc.uchicago.edu\n",
      "\n",
      "\n",
      "For the RCC Manual see the documentation site at\n",
      "    http://docs.rcc.uchicago.edu\n",
      "\n",
      "To check your allocation balance for the current period use this command:\n",
      "accounts balance\n",
      "\n",
      "Questions and issues should be sent to help@rcc.uchicago.edu or 773-795-2667.\n",
      "===============================================================================\n",
      "\n",
      "*******************************************************************************\n",
      "\n",
      "Midway information system usage may be monitored, recorded, and subject to audit.\n",
      "Use of the information system indicates consent to monitoring and recording.\n",
      "Users who logon represent that they are authorized to do so. Unauthorized use of \n",
      "the information system is prohibited and subject to criminal and civil penalties.\n",
      "\n",
      "*******************************************************************************\n",
      "\n",
      "*******************************************************************************\n",
      "\n",
      "Resource intensive computation jobs running on login nodes will be killed. Please\n",
      "submit them to slurm. \n",
      "\n",
      "*******************************************************************************\n",
      "\n",
      "*******************************************************************************\n",
      "\n",
      "As part of Midway1 decommissioning, starting from April 10, 2019 the shared partitions \n",
      "of Midway1 (e.g., sandyb, ivyb, amd, bigmem, etc.) will be no longer available to run \n",
      "jobs. Please use Midway2 partitions (e.g., broadwl, broadwl-lc, etc.) to run your jobs.\n",
      "\n",
      "*******************************************************************************\n",
      "cd /home/huangl1/simulation\n",
      "\n",
      "---------------------------------------------------------------------------\n",
      "fileset          type                   used      quota      limit    grace\n",
      "---------------- ---------------- ---------- ---------- ---------- --------\n",
      "home             blocks (user)         2.01G     30.00G     35.00G     none\n",
      "                 files  (user)         46985     300000    1000000     none\n",
      "scratch          blocks (user)       172.80G    100.00G      5.00T  26 days\n",
      "                 files  (user)          5271   10000000   20000000     none\n",
      "---------------- ---------------- ---------- ---------- ---------- --------\n",
      ">>> Capacity Filesystem: project2 (GPFS)\n",
      "---------------- ---------------- ---------- ---------- ---------- --------\n",
      "gagalli          blocks (group)       63.23T     77.44T     78.44T     none\n",
      "                 files  (group)     14174779   24290000   25290000     none\n",
      "---------------- ---------------- ---------- ---------- ---------- --------\n",
      ">>> Cost-Effective Filesystem: cds1 (ZFS)\n",
      "---------------- ---------------- ---------- ---------- ---------- --------\n",
      "gagalli          blocks (group)      197.30T    200.00T    200.00T     none\n",
      "---------------------------------------------------------------------------\n",
      "\n",
      "> WARNING: Quota limits exceeded. Please note that the report is updated  <\n",
      "> every 60 minutes, so it doesn't reflect the changes of your usages or   <\n",
      "> quota limits immediately.                                               <\n",
      "\n",
      "[huangl1@midway2-login1 ~]$ cd /home/huangl1/simulation\n",
      "[huangl1@midway2-login1 simulation]$ \n",
      " "
     ]
    }
   ],
   "source": [
    "#SSH takes 2 args <config_file_path/dict>, <name>\n",
    "#<name> is the folder name to be created at local, this local folder will mirror to REMOTE_WORKING_DIR\n",
    "#make sure your REMOTE_WORKING_DIR in config file exsit in remote\n",
    "ssh=SSH('config_rcc.ini','rcc')\n",
    "ssh.connect()"
   ]
  },
  {
   "cell_type": "code",
   "execution_count": 4,
   "metadata": {
    "ExecuteTime": {
     "end_time": "2020-07-22T08:47:26.932457Z",
     "start_time": "2020-07-22T08:47:26.877494Z"
    }
   },
   "outputs": [
    {
     "name": "stdout",
     "output_type": "stream",
     "text": [
      "Close <rcc> Done!\n"
     ]
    }
   ],
   "source": [
    "%close"
   ]
  },
  {
   "cell_type": "markdown",
   "metadata": {},
   "source": [
    "Another way of create a SSH instance is using a dict (Note that multi_factor_auth_option must be string)"
   ]
  },
  {
   "cell_type": "code",
   "execution_count": 9,
   "metadata": {
    "ExecuteTime": {
     "end_time": "2020-07-22T08:51:39.896548Z",
     "start_time": "2020-07-22T08:51:39.886553Z"
    }
   },
   "outputs": [],
   "source": [
    "config = {'hostname': 'midway2.rcc.uchicago.edu',\n",
    "          'port': 22,\n",
    "          'timeout': 30,\n",
    "          'username': 'your user name',\n",
    "          'password': 'your password',\n",
    "          'multi_factor_auth': 'yes',\n",
    "          'multi_factor_auth_key': 'Duo',\n",
    "          'multi_factor_auth_option': '1',\n",
    "\n",
    "\n",
    "          'REMOTE_WORKING_DIR': '/home/your_username/simulation',\n",
    "          'REMOTE_SCRATCH_DIR': '/home/your_username/scratch-midway2/simulation',\n",
    "\n",
    "\n",
    "          'log_file': 'log.pickle',\n",
    "\n",
    "\n",
    "          'cmd_job_status': 'squeue -u your_username',\n",
    "          'cmd_job_submit': 'sbatch',\n",
    "          'cmd_job_cancel': 'scancel',\n",
    "\n",
    "          'job_status_header_skip': 1,\n",
    "          'job_status_jobid_col': 1,\n",
    "          'job_status_st_col': 5,\n",
    "          'job_status_pending_label': 'PD',\n",
    "          'job_status_running_label': 'R',\n",
    "          'job_status_time_col': 6}"
   ]
  },
  {
   "cell_type": "code",
   "execution_count": 6,
   "metadata": {
    "ExecuteTime": {
     "end_time": "2020-07-22T08:49:10.827675Z",
     "start_time": "2020-07-22T08:49:03.566370Z"
    },
    "scrolled": true
   },
   "outputs": [
    {
     "name": "stdout",
     "output_type": "stream",
     "text": [
      "Password:\n",
      "Duo two-factor login for huangl1\n",
      "\n",
      "Enter a passcode or select one of the following options:\n",
      "\n",
      " 1. Duo Push to XXX-XXX-4177\n",
      " 2. Phone call to XXX-XXX-4177\n",
      " 3. SMS passcodes to XXX-XXX-4177\n",
      "\n",
      "Passcode or option (1-3):\n",
      "Success. Logging you in...\n",
      "Last login: Wed Jul 22 03:47:14 2020 from c-73-51-208-105.hsd1.il.comcast.net\n",
      "===============================================================================\n",
      "                               Welcome to Midway\n",
      "                           Research Computing Center\n",
      "                             University of Chicago\n",
      "                            http://rcc.uchicago.edu\n",
      "\n",
      "\n",
      "For the RCC Manual see the documentation site at\n",
      "    http://docs.rcc.uchicago.edu\n",
      "\n",
      "To check your allocation balance for the current period use this command:\n",
      "accounts balance\n",
      "\n",
      "Questions and issues should be sent to help@rcc.uchicago.edu or 773-795-2667.\n",
      "===============================================================================\n",
      "\n",
      "*******************************************************************************\n",
      "\n",
      "Midway information system usage may be monitored, recorded, and subject to audit.\n",
      "Use of the information system indicates consent to monitoring and recording.\n",
      "Users who logon represent that they are authorized to do so. Unauthorized use of \n",
      "the information system is prohibited and subject to criminal and civil penalties.\n",
      "\n",
      "*******************************************************************************\n",
      "\n",
      "*******************************************************************************\n",
      "\n",
      "Resource intensive computation jobs running on login nodes will be killed. Please\n",
      "submit them to slurm. \n",
      "\n",
      "*******************************************************************************\n",
      "\n",
      "*******************************************************************************\n",
      "\n",
      "As part of Midway1 decommissioning, starting from April 10, 2019 the shared partitions \n",
      "of Midway1 (e.g., sandyb, ivyb, amd, bigmem, etc.) will be no longer available to run \n",
      "jobs. Please use Midway2 partitions (e.g., broadwl, broadwl-lc, etc.) to run your jobs.\n",
      "\n",
      "*******************************************************************************\n",
      "cd /home/huangl1/simulation\n",
      "\n",
      "---------------------------------------------------------------------------\n",
      "fileset          type                   used      quota      limit    grace\n",
      "---------------- ---------------- ---------- ---------- ---------- --------\n",
      "home             blocks (user)         2.01G     30.00G     35.00G     none\n",
      "                 files  (user)         46985     300000    1000000     none\n",
      "scratch          blocks (user)       172.80G    100.00G      5.00T  26 days\n",
      "                 files  (user)          5271   10000000   20000000     none\n",
      "---------------- ---------------- ---------- ---------- ---------- --------\n",
      ">>> Capacity Filesystem: project2 (GPFS)\n",
      "---------------- ---------------- ---------- ---------- ---------- --------\n",
      "gagalli          blocks (group)       63.23T     77.44T     78.44T     none\n",
      "                 files  (group)     14174779   24290000   25290000     none\n",
      "---------------- ---------------- ---------- ---------- ---------- --------\n",
      ">>> Cost-Effective Filesystem: cds1 (ZFS)\n",
      "---------------- ---------------- ---------- ---------- ---------- --------\n",
      "gagalli          blocks (group)      197.30T    200.00T    200.00T     none\n",
      "---------------------------------------------------------------------------\n",
      "\n",
      "> WARNING: Quota limits exceeded. Please note that the report is updated  <\n",
      "> every 60 minutes, so it doesn't reflect the changes of your usages or   <\n",
      "> quota limits immediately.                                               <\n",
      "\n",
      "[huangl1@midway2-login1 ~]$ cd /home/huangl1/simulation\n",
      "[huangl1@midway2-login1 simulation]$ \n",
      " "
     ]
    }
   ],
   "source": [
    "ssh=SSH(config,'rcc')\n",
    "ssh.connect()"
   ]
  },
  {
   "cell_type": "markdown",
   "metadata": {},
   "source": [
    "# Line and Cell Magic"
   ]
  },
  {
   "cell_type": "code",
   "execution_count": 3,
   "metadata": {
    "ExecuteTime": {
     "end_time": "2020-07-15T21:24:50.546660Z",
     "start_time": "2020-07-15T21:24:50.537666Z"
    }
   },
   "outputs": [
    {
     "name": "stdout",
     "output_type": "stream",
     "text": [
      "ls\r\n",
      "[huangl1@midway2-login2 simulation]$ \n",
      " "
     ]
    }
   ],
   "source": [
    "%r ls"
   ]
  },
  {
   "cell_type": "code",
   "execution_count": 4,
   "metadata": {
    "ExecuteTime": {
     "end_time": "2020-07-15T21:24:56.927600Z",
     "start_time": "2020-07-15T21:24:56.920604Z"
    }
   },
   "outputs": [
    {
     "name": "stdout",
     "output_type": "stream",
     "text": [
      "\r\n",
      "[huangl1@midway2-login2 simulation]$ ls -a\r\n",
      "\u001b[0m\u001b[01;34m.\u001b[0m  \u001b[01;34m..\u001b[0m  .ezjob.py\r\n",
      "[huangl1@midway2-login2 simulation]$ pwd\r\n",
      "/home/huangl1/simulation\r\n",
      "[huangl1@midway2-login2 simulation]$ ls -l\r\n",
      "total 0\r\n",
      "[huangl1@midway2-login2 simulation]$ \n",
      " "
     ]
    }
   ],
   "source": [
    "%%r\n",
    "\n",
    "ls -a\n",
    "pwd\n",
    "ls -l"
   ]
  },
  {
   "cell_type": "markdown",
   "metadata": {},
   "source": [
    "ssh.shell() is the same as %r %rr"
   ]
  },
  {
   "cell_type": "code",
   "execution_count": 5,
   "metadata": {
    "ExecuteTime": {
     "end_time": "2020-07-15T21:25:33.917045Z",
     "start_time": "2020-07-15T21:25:33.912048Z"
    }
   },
   "outputs": [
    {
     "name": "stdout",
     "output_type": "stream",
     "text": [
      "ls\r\n",
      "[huangl1@midway2-login2 simulation]$ \n",
      " "
     ]
    }
   ],
   "source": [
    "ssh.shell('ls')"
   ]
  },
  {
   "cell_type": "markdown",
   "metadata": {
    "ExecuteTime": {
     "end_time": "2020-06-24T19:22:31.792350Z",
     "start_time": "2020-06-24T19:22:31.447546Z"
    }
   },
   "source": [
    "ssh.cmd() gives the returned value"
   ]
  },
  {
   "cell_type": "code",
   "execution_count": 6,
   "metadata": {
    "ExecuteTime": {
     "end_time": "2020-07-15T21:25:37.244285Z",
     "start_time": "2020-07-15T21:25:36.445640Z"
    }
   },
   "outputs": [
    {
     "name": "stdout",
     "output_type": "stream",
     "text": [
      "30_centered_relax.xyz\n",
      "30_si35h36.xyz\n",
      "H_ONCV_PBE-1.2.upf\n",
      "Si_ONCV_PBE-1.2.upf\n",
      "ecut_test\n",
      "energies.ecutwfc.H_ONCV_PBE-1.2.upf\n",
      "energies.ecutwfc.Si_ONCV_PBE-1.2.upf\n",
      "fig.ecutwfc.H_ONCV_PBE-1.2.upf.png\n",
      "fig.ecutwfc.Si_ONCV_PBE-1.2.upf.png\n",
      "in\n",
      "out.ecut_wfc.H_ONCV_PBE-1.2.upf\n",
      "out.ecut_wfc.Si_ONCV_PBE-1.2.upf\n",
      "pw_cutoff.sh\n",
      "relax.in\n",
      "relax.out\n",
      "relax.xyz\n",
      "run_relax.sh\n",
      "si35h36.xyz\n",
      "slurm-2196851.out\n",
      "slurm-2252713.out\n",
      "vacuum_test\n",
      "wfreq_test\n",
      "\n"
     ]
    }
   ],
   "source": [
    "return_string = ssh.cmd(\"cd /home/huangl1/scratch-midway2/simulation/0D; ls\")\n",
    "print(return_string)"
   ]
  },
  {
   "cell_type": "markdown",
   "metadata": {},
   "source": [
    "If your prefer terminal we have both %ezterm and %ezxterm"
   ]
  },
  {
   "cell_type": "code",
   "execution_count": 8,
   "metadata": {
    "ExecuteTime": {
     "end_time": "2020-07-15T21:28:25.524283Z",
     "start_time": "2020-07-15T21:28:25.443335Z"
    }
   },
   "outputs": [
    {
     "data": {
      "text/html": [
       "<div id=\"notebook_ezterm_743d51ce-6ea9-4439-b353-92204a8e414d\"></div> <script id=\"notebook_script\">var MAX_POLL_INTERVAL = 1500;\n",
       "var MIN_POLL_INTERVAL = 100;\n",
       "var BACKOFF_RATE = 1.8;\n",
       "var PY_XTERM_INSTANCE = 'get_ipython().find_magic(\"ezterm\").__self__';\n",
       "var PY_TERMINAL_SERVER = PY_XTERM_INSTANCE + '.getTerminalServer()';\n",
       "function TerminalClient(elem) {\n",
       "    this.closed = false;\n",
       "    // require xterm.js\n",
       "    require.config({\n",
       "      paths: {\n",
       "          xterm: '//cdnjs.cloudflare.com/ajax/libs/xterm/2.9.2/xterm.min'\n",
       "      }\n",
       "    });\n",
       "\n",
       "    require(['xterm'], function(Terminal) {\n",
       "        this.div_id = elem.attr('id');\n",
       "        var termArea = this.create_ui(elem);\n",
       "        this.term = new Terminal({\n",
       "            rows: 25,\n",
       "            cols: 100\n",
       "        });\n",
       "        this.term.open(termArea[0]);\n",
       "\n",
       "        this.term.on('data', function(data) {\n",
       "            this.handle_transmit(data);\n",
       "        }.bind(this));\n",
       "\n",
       "        this.term.on('resize', function() {\n",
       "            this.handle_resize()\n",
       "        }.bind(this));\n",
       "\n",
       "        // set title\n",
       "        this.term.on('title', function(title) {\n",
       "            this.handle_title(title);\n",
       "        }.bind(this));\n",
       "\n",
       "        this.termArea.on('remove', function(ev) {\n",
       "            this.close();\n",
       "        }.bind(this))\n",
       "\n",
       "        // set the initial size correctly\n",
       "        this.handle_resize();\n",
       "\n",
       "        // reset the terminal\n",
       "        this.server_exec(PY_TERMINAL_SERVER + '.transmit(b\"' + btoa('\\r\\nreset\\r\\nclear\\r') + '\")');\n",
       "\n",
       "        // start polling\n",
       "        this.curPollInterval = MIN_POLL_INTERVAL;\n",
       "        this.poll_server();\n",
       "        console.log('Starting notebook_ezterm.');\n",
       "\n",
       "    }.bind(this));\n",
       "}\n",
       "\n",
       "TerminalClient.prototype.create_ui = function(elem) {\n",
       "    var INITIAL_TITLE = 'EZterm(remote)'\n",
       "    // add xterm stylesheet for formatting\n",
       "    var xtermCssUrl = 'https://cdnjs.cloudflare.com/ajax/libs/xterm/2.9.2/xterm.min.css'\n",
       "    $('<link/>', {rel: 'stylesheet', href: xtermCssUrl}).appendTo('head');\n",
       "\n",
       "    this.wrap = $('<div>').appendTo(elem);\n",
       "    this.wrap.css({\n",
       "        padding: 10,\n",
       "        margin: 10,\n",
       "        marginTop: 5,\n",
       "        backgroundColor: 'black',\n",
       "        borderRadius: 5\n",
       "    });\n",
       "    this.titleBar = $('<div>').appendTo(this.wrap);\n",
       "    this.titleBar.css({\n",
       "        color: '#AAA',\n",
       "        margin: -10,\n",
       "        marginBottom: 5,\n",
       "        padding: 10,\n",
       "        overflow: 'hidden',\n",
       "        borderBottom: '1px solid #AAA'\n",
       "    })\n",
       "    this.titleText = $('<div>').html(INITIAL_TITLE).css({float: 'left'}).appendTo(this.titleBar);\n",
       "    this.comIndicator = $('<div>').html('&middot;').css({float: 'left', marginLeft: 10}).hide().appendTo(this.titleBar);\n",
       "    this.close_button = $('<div>').html('<a onclick=\"window.terminalClient.close()\">close</a>').css({float: 'right'}).appendTo(this.titleBar);\n",
       "    this.termArea = $('<div>').appendTo(this.wrap);\n",
       "    return this.termArea;\n",
       "}\n",
       "\n",
       "TerminalClient.prototype.update_com_indicator = function() {\n",
       "    this.comIndicator.show().fadeOut(400);\n",
       "}\n",
       "\n",
       "TerminalClient.prototype.server_exec = function(cmd) {\n",
       "    if (this.closed) {\n",
       "        return;\n",
       "    }\n",
       "\n",
       "    Jupyter.notebook.kernel.execute(cmd, {\n",
       "        iopub: {\n",
       "            output: function(data) {\n",
       "                this.receive_data_callback(data)\n",
       "            }.bind(this)\n",
       "        }\n",
       "    });\n",
       "    // this.update_com_indicator();\n",
       "}\n",
       "\n",
       "TerminalClient.prototype.poll_server = function() {\n",
       "    if (this.closed) {\n",
       "        return;\n",
       "    }\n",
       "\n",
       "    this.server_exec(PY_TERMINAL_SERVER + '.receive()');\n",
       "    clearTimeout(this.termPollTimer);\n",
       "    this.termPollTimer = setTimeout(function() {\n",
       "        this.poll_server();\n",
       "    }.bind(this), this.curPollInterval);\n",
       "    // gradually back off the polling interval\n",
       "    this.curPollInterval = Math.min(this.curPollInterval*BACKOFF_RATE, MAX_POLL_INTERVAL);\n",
       "\n",
       "    this.check_for_close();\n",
       "}\n",
       "TerminalClient.prototype.receive_data_callback = function(data) {\n",
       "    if (this.closed) {\n",
       "        return;\n",
       "    }\n",
       "\n",
       "    try {\n",
       "        var decoded = atob(data.content.text);\n",
       "        this.term.write(decoded);\n",
       "    }\n",
       "    catch(e) {\n",
       "        var message = \"\\u001b[31;1m~~~ notebook_ezterm error ~~~\\u001b[0m\\r\\n\"\n",
       "        if (data.content.ename && data.content.evalue) {\n",
       "            message += data.content.ename + \": \" + data.content.evalue + \"\\r\\n\";\n",
       "            data.content.traceback.map(function(row){\n",
       "                row = row.replace('\\n', '\\r\\n')\n",
       "                message += row + '\\r\\n';\n",
       "            });\n",
       "        } else {\n",
       "            message += \"See browser console for more details.\\r\\n\";\n",
       "        }\n",
       "        console.log(data.content);\n",
       "        this.handle_title('error');\n",
       "        this.term.write(message);\n",
       "        this.close();\n",
       "    }\n",
       "\n",
       "}\n",
       "TerminalClient.prototype.handle_transmit = function(data) {\n",
       "    // we've had interaction, so reset the timer for the next poll\n",
       "    // to minPollInterval\n",
       "    this.curPollInterval = MIN_POLL_INTERVAL;\n",
       "\n",
       "    // transmit data to the server, but b64 encode it\n",
       "    this.server_exec(PY_TERMINAL_SERVER + '.transmit(b\"' + btoa(data) + '\")');\n",
       "}\n",
       "\n",
       "TerminalClient.prototype.handle_resize = function() {\n",
       "    this.server_exec(PY_TERMINAL_SERVER + '.update_window_size('+ this.term.rows + ', '+ this.term.cols + ')');\n",
       "}\n",
       "\n",
       "TerminalClient.prototype.handle_title = function(title) {\n",
       "    this.titleText.html(title);\n",
       "}\n",
       "TerminalClient.prototype.check_for_close = function() {\n",
       "    if (!this.termArea.length) {\n",
       "        this.close();\n",
       "    }\n",
       "}\n",
       "TerminalClient.prototype.close = function() {\n",
       "    if (this.closed) {\n",
       "        return;\n",
       "    }\n",
       "    this.closed = true;\n",
       "    console.log('Closing notebook_ezterm.');\n",
       "    clearTimeout(this.termPollTimer);\n",
       "    this.server_exec(PY_XTERM_INSTANCE + '.deleteTerminalServer()');\n",
       "    $(\"#\" + this.div_id).remove()\n",
       "}\n",
       "// create the TerminalClient instance (only once!)\n",
       "if (window.terminalClient) {\n",
       "    window.terminalClient.close()\n",
       "    delete window.terminalClient;\n",
       "}\n",
       "\n",
       "window.terminalClient = new TerminalClient($(\"#notebook_ezterm_743d51ce-6ea9-4439-b353-92204a8e414d\"))</script>"
      ],
      "text/plain": [
       "<IPython.core.display.HTML object>"
      ]
     },
     "metadata": {},
     "output_type": "display_data"
    }
   ],
   "source": [
    "%ezterm"
   ]
  },
  {
   "cell_type": "markdown",
   "metadata": {
    "ExecuteTime": {
     "end_time": "2020-06-24T19:08:52.465326Z",
     "start_time": "2020-06-24T19:08:52.186493Z"
    }
   },
   "source": [
    "# Template"
   ]
  },
  {
   "cell_type": "markdown",
   "metadata": {
    "ExecuteTime": {
     "end_time": "2020-06-24T19:09:25.382889Z",
     "start_time": "2020-06-24T19:09:25.099829Z"
    }
   },
   "source": [
    "## from template string"
   ]
  },
  {
   "cell_type": "markdown",
   "metadata": {},
   "source": [
    "use jinja2 template engine, variables are defined as {{var_name}}"
   ]
  },
  {
   "cell_type": "code",
   "execution_count": 9,
   "metadata": {
    "ExecuteTime": {
     "end_time": "2020-07-15T21:28:46.100223Z",
     "start_time": "2020-07-15T21:28:46.094226Z"
    }
   },
   "outputs": [],
   "source": [
    "template_str=\"\"\"#!/bin/bash\n",
    "#SBATCH --job-name={{job_name}}\n",
    "#SBATCH --time={{time}}\n",
    "#SBATCH --partition={{queue}}\n",
    "#SBATCH --nodes={{nodes}}\n",
    "#SBATCH --ntasks-per-node={{ntasks_per_node}}\n",
    "#SBATCH --cpus-per-task={{cpus_per_task}}\n",
    "#SBATCH --mem-per-cpu={{mem_per_cpu}}\n",
    "\n",
    "module purge\n",
    "module load intelmpi/5.1+intel-16.0 mkl/2017.up4 Anaconda3/5.1.0\n",
    "\n",
    "export OMP_NUM_THREADS=$SLURM_CPUS_PER_TASK\n",
    "NTASKS=$(($SLURM_NTASKS_PER_NODE * $SLURM_JOB_NUM_NODES))\n",
    "\n",
    "{{cmd}}\n",
    "\"\"\""
   ]
  },
  {
   "cell_type": "code",
   "execution_count": 10,
   "metadata": {
    "ExecuteTime": {
     "end_time": "2020-07-15T21:28:48.016482Z",
     "start_time": "2020-07-15T21:28:48.010486Z"
    }
   },
   "outputs": [],
   "source": [
    "parameters = {'job_name':'pw',\n",
    "              'time':'00:20:00',\n",
    "             'queue':'broadwl',\n",
    "             'nodes':1,\n",
    "             'ntasks_per_node':8,\n",
    "             'cpus_per_task':1,\n",
    "             'mem_per_cpu':2000,\n",
    "             'cmd':'mpirun -np $NTASKS pw.x -i pw.in > pw.out'}"
   ]
  },
  {
   "cell_type": "code",
   "execution_count": 11,
   "metadata": {
    "ExecuteTime": {
     "end_time": "2020-07-15T21:28:49.879125Z",
     "start_time": "2020-07-15T21:28:49.865136Z"
    }
   },
   "outputs": [],
   "source": [
    "rcc_template_from_string = Template(template_str,parameters)"
   ]
  },
  {
   "cell_type": "markdown",
   "metadata": {
    "ExecuteTime": {
     "end_time": "2020-06-24T19:11:00.365898Z",
     "start_time": "2020-06-24T19:11:00.060094Z"
    }
   },
   "source": [
    "## from template file"
   ]
  },
  {
   "cell_type": "code",
   "execution_count": 12,
   "metadata": {
    "ExecuteTime": {
     "end_time": "2020-07-15T21:28:51.560145Z",
     "start_time": "2020-07-15T21:28:51.546136Z"
    }
   },
   "outputs": [],
   "source": [
    "rcc_template_from_file = Template('../template_rcc.sh',parameters)"
   ]
  },
  {
   "cell_type": "markdown",
   "metadata": {},
   "source": [
    "## write your rendered template to  disk"
   ]
  },
  {
   "cell_type": "code",
   "execution_count": 13,
   "metadata": {
    "ExecuteTime": {
     "end_time": "2020-07-15T21:28:52.686202Z",
     "start_time": "2020-07-15T21:28:52.676228Z"
    }
   },
   "outputs": [
    {
     "name": "stdout",
     "output_type": "stream",
     "text": [
      "#!/bin/bash\n",
      "#SBATCH --job-name=pw\n",
      "#SBATCH --time=00:20:00\n",
      "#SBATCH --partition=broadwl\n",
      "#SBATCH --nodes=1\n",
      "#SBATCH --ntasks-per-node=8\n",
      "#SBATCH --cpus-per-task=1\n",
      "#SBATCH --mem-per-cpu=2000\n",
      "\n",
      "module purge\n",
      "module load intelmpi/5.1+intel-16.0 mkl/2017.up4 Anaconda3/5.1.0\n",
      "\n",
      "export OMP_NUM_THREADS=$SLURM_CPUS_PER_TASK\n",
      "NTASKS=$(($SLURM_NTASKS_PER_NODE * $SLURM_JOB_NUM_NODES))\n",
      "\n",
      "mpirun -np $NTASKS pw.x -i pw.in > pw.out\n"
     ]
    }
   ],
   "source": [
    "#generate the file, if debug=True  print the template\n",
    "rcc_template_from_string.write('rcc_from_string.sh',debug=True)\n",
    "rcc_template_from_file.write('rcc_from_file.sh')"
   ]
  },
  {
   "cell_type": "code",
   "execution_count": 14,
   "metadata": {
    "ExecuteTime": {
     "end_time": "2020-07-15T21:28:56.745093Z",
     "start_time": "2020-07-15T21:28:55.106076Z"
    }
   },
   "outputs": [
    {
     "name": "stdout",
     "output_type": "stream",
     "text": [
      "EZjob_Tutorial_Basic.ipynb\n",
      "EZjob_Tutorial_EZterm.ipynb\n",
      "EZjob_Tutorial_EZxterm.ipynb\n",
      "EZjob_Tutorial_MultiRemoteServerJobs.ipynb\n",
      "EZjob_Tutorial_PortForwarding.ipynb\n",
      "rcc\n",
      "rcc_from_file.sh\n",
      "rcc_from_string.sh\n"
     ]
    }
   ],
   "source": [
    "%%bash\n",
    "ls"
   ]
  },
  {
   "cell_type": "markdown",
   "metadata": {},
   "source": [
    "## dos2unix "
   ]
  },
  {
   "cell_type": "code",
   "execution_count": 15,
   "metadata": {
    "ExecuteTime": {
     "end_time": "2020-07-15T21:29:24.238561Z",
     "start_time": "2020-07-15T21:29:24.232565Z"
    }
   },
   "outputs": [
    {
     "name": "stdout",
     "output_type": "stream",
     "text": [
      "filename not found!\n"
     ]
    }
   ],
   "source": [
    "#In some case your remote server only takes unix format, you can convert your local file by\n",
    "Template.dos2unix('filename')"
   ]
  },
  {
   "cell_type": "code",
   "execution_count": 16,
   "metadata": {
    "ExecuteTime": {
     "end_time": "2020-07-15T21:29:25.121123Z",
     "start_time": "2020-07-15T21:29:25.113132Z"
    }
   },
   "outputs": [],
   "source": [
    "#create a testfile\n",
    "with open('testfile','w') as f:\n",
    "    f.write(\"\"\"\n",
    "    testfile win foramt\n",
    "    testfile win foramt\n",
    "    \"\"\")"
   ]
  },
  {
   "cell_type": "code",
   "execution_count": 17,
   "metadata": {
    "ExecuteTime": {
     "end_time": "2020-07-15T21:29:27.097921Z",
     "start_time": "2020-07-15T21:29:25.697795Z"
    }
   },
   "outputs": [
    {
     "name": "stdout",
     "output_type": "stream",
     "text": [
      "\r\n",
      "    testfile win foramt\r\n",
      "    testfile win foramt\r\n",
      "    "
     ]
    }
   ],
   "source": [
    "%%bash\n",
    "cat testfile"
   ]
  },
  {
   "cell_type": "code",
   "execution_count": 18,
   "metadata": {
    "ExecuteTime": {
     "end_time": "2020-07-15T21:29:27.838297Z",
     "start_time": "2020-07-15T21:29:27.826304Z"
    }
   },
   "outputs": [
    {
     "name": "stdout",
     "output_type": "stream",
     "text": [
      "dos2unix:testfile\n"
     ]
    }
   ],
   "source": [
    "Template.dos2unix('testfile')"
   ]
  },
  {
   "cell_type": "markdown",
   "metadata": {},
   "source": [
    "# JobManager"
   ]
  },
  {
   "cell_type": "code",
   "execution_count": 19,
   "metadata": {
    "ExecuteTime": {
     "end_time": "2020-07-15T21:29:37.631291Z",
     "start_time": "2020-07-15T21:29:36.794123Z"
    }
   },
   "outputs": [
    {
     "name": "stdout",
     "output_type": "stream",
     "text": [
      "Change directory to LOCAL_WORKING_DIR:C:\\Users\\headh\\Desktop\\0D\\tutorial\\rcc\n"
     ]
    }
   ],
   "source": [
    "#JobManager takes two args <ssh> <name>.\n",
    "#Both of them are optinal\n",
    "#It can take a SSH instance to init\n",
    "#If no ssh instance provided and only one valid ssh instance exists.\n",
    "#The only valid one will be used. If multi valid ssh instances exist. User will choose one.\n",
    "#<name> is optional, it used to distinguish diffrent JobManager instances when you have multi job managers. \n",
    "#JobManger will auto change the dir to LOCAL_WORKING_DIR\n",
    "jmn=JobManager(ssh)"
   ]
  },
  {
   "cell_type": "code",
   "execution_count": 20,
   "metadata": {
    "ExecuteTime": {
     "end_time": "2020-07-15T21:29:37.654278Z",
     "start_time": "2020-07-15T21:29:37.637288Z"
    }
   },
   "outputs": [
    {
     "data": {
      "text/plain": [
       "'C:\\\\Users\\\\headh\\\\Desktop\\\\0D\\\\tutorial\\\\rcc'"
      ]
     },
     "execution_count": 20,
     "metadata": {},
     "output_type": "execute_result"
    }
   ],
   "source": [
    "#check our current location\n",
    "%pwd"
   ]
  },
  {
   "cell_type": "code",
   "execution_count": 21,
   "metadata": {
    "ExecuteTime": {
     "end_time": "2020-07-15T21:29:38.978441Z",
     "start_time": "2020-07-15T21:29:38.094050Z"
    }
   },
   "outputs": [
    {
     "name": "stdout",
     "output_type": "stream",
     "text": [
      "    JobID  | Status  |   Time   |    SubmitTime       |       Note\n",
      " -----------------------------Pending Jobs------------------------------\n",
      "   2975955 | Pending |     0:00 | 2020-07-14 03:45:52 | Cannot find JobInfo in log \n"
     ]
    }
   ],
   "source": [
    "#JobManger.view() print current job status\n",
    "jmn.view()"
   ]
  },
  {
   "cell_type": "code",
   "execution_count": 22,
   "metadata": {
    "ExecuteTime": {
     "end_time": "2020-07-15T21:29:39.045413Z",
     "start_time": "2020-07-15T21:29:38.984439Z"
    }
   },
   "outputs": [
    {
     "data": {
      "application/vnd.jupyter.widget-view+json": {
       "model_id": "",
       "version_major": 2,
       "version_minor": 0
      },
      "text/plain": [
       "Accordion(children=(VBox(layout=Layout(max_width='710px', min_width='710px')),), layout=Layout(max_height='500…"
      ]
     },
     "metadata": {},
     "output_type": "display_data"
    },
    {
     "data": {
      "application/javascript": [
       "$('div.job_widget')\n",
       "        .detach()\n",
       "        .appendTo($('#header'))\n",
       "        .css({\n",
       "            'z-index': 999,\n",
       "             'position': 'fixed',\n",
       "            'box-shadow': '5px 5px 5px -3px black',\n",
       "            'opacity': 0.95,\n",
       "            'float': 'left,'\n",
       "        })\n",
       "        "
      ],
      "text/plain": [
       "<IPython.core.display.Javascript object>"
      ]
     },
     "metadata": {},
     "output_type": "display_data"
    }
   ],
   "source": [
    "#Magic method open EZjob watcher, refresh every 10 sec, if not sepecify, default refresh rate is evey 5 secs\n",
    "%ezjob 10"
   ]
  },
  {
   "cell_type": "markdown",
   "metadata": {},
   "source": [
    "## submit job"
   ]
  },
  {
   "cell_type": "markdown",
   "metadata": {},
   "source": [
    "You do not need to do ssh.push(), push is auto called when you submit a job, this is making sure the remote files are up to date."
   ]
  },
  {
   "cell_type": "code",
   "execution_count": 23,
   "metadata": {
    "ExecuteTime": {
     "end_time": "2020-07-15T21:29:43.607762Z",
     "start_time": "2020-07-15T21:29:43.600768Z"
    }
   },
   "outputs": [
    {
     "data": {
      "text/plain": [
       "'C:\\\\Users\\\\headh\\\\Desktop\\\\0D\\\\tutorial\\\\rcc'"
      ]
     },
     "execution_count": 23,
     "metadata": {},
     "output_type": "execute_result"
    }
   ],
   "source": [
    "#check current folder at local\n",
    "%pwd"
   ]
  },
  {
   "cell_type": "code",
   "execution_count": 24,
   "metadata": {
    "ExecuteTime": {
     "end_time": "2020-07-15T21:29:45.743665Z",
     "start_time": "2020-07-15T21:29:45.681703Z"
    }
   },
   "outputs": [],
   "source": [
    "#create a folder for simple run\n",
    "%mkdir simple_run"
   ]
  },
  {
   "cell_type": "code",
   "execution_count": 25,
   "metadata": {
    "ExecuteTime": {
     "end_time": "2020-07-15T21:29:46.372305Z",
     "start_time": "2020-07-15T21:29:46.360311Z"
    }
   },
   "outputs": [
    {
     "name": "stdout",
     "output_type": "stream",
     "text": [
      "C:\\Users\\headh\\Desktop\\0D\\tutorial\\rcc\\simple_run\n"
     ]
    }
   ],
   "source": [
    "%cd simple_run"
   ]
  },
  {
   "cell_type": "code",
   "execution_count": 26,
   "metadata": {
    "ExecuteTime": {
     "end_time": "2020-07-15T21:29:47.402447Z",
     "start_time": "2020-07-15T21:29:47.392453Z"
    }
   },
   "outputs": [
    {
     "data": {
      "text/plain": [
       "'C:\\\\Users\\\\headh\\\\Desktop\\\\0D\\\\tutorial\\\\rcc\\\\simple_run'"
      ]
     },
     "execution_count": 26,
     "metadata": {},
     "output_type": "execute_result"
    }
   ],
   "source": [
    "%pwd"
   ]
  },
  {
   "cell_type": "markdown",
   "metadata": {},
   "source": [
    "download QE input file to simple_run folder"
   ]
  },
  {
   "cell_type": "code",
   "execution_count": 27,
   "metadata": {
    "ExecuteTime": {
     "end_time": "2020-07-15T21:30:06.335366Z",
     "start_time": "2020-07-15T21:29:48.377886Z"
    }
   },
   "outputs": [],
   "source": [
    "%%bash\n",
    "wget -N -q http://www.west-code.org/doc/training/silane/pw.in\n",
    "wget -N -q http://www.quantum-simulation.org/potentials/sg15_oncv/upf/H_ONCV_PBE-1.0.upf\n",
    "wget -N -q http://www.quantum-simulation.org/potentials/sg15_oncv/upf/Si_ONCV_PBE-1.1.upf"
   ]
  },
  {
   "cell_type": "markdown",
   "metadata": {},
   "source": [
    "write run.sh file for job submission"
   ]
  },
  {
   "cell_type": "code",
   "execution_count": 28,
   "metadata": {
    "ExecuteTime": {
     "end_time": "2020-07-15T21:30:07.576073Z",
     "start_time": "2020-07-15T21:30:07.568077Z"
    }
   },
   "outputs": [
    {
     "name": "stdout",
     "output_type": "stream",
     "text": [
      "#!/bin/bash\n",
      "#SBATCH --job-name=pw\n",
      "#SBATCH --time=00:20:00\n",
      "#SBATCH --partition=broadwl\n",
      "#SBATCH --nodes=1\n",
      "#SBATCH --ntasks-per-node=8\n",
      "#SBATCH --cpus-per-task=1\n",
      "#SBATCH --mem-per-cpu=2000\n",
      "\n",
      "module purge\n",
      "module load intelmpi/5.1+intel-16.0 mkl/2017.up4 Anaconda3/5.1.0\n",
      "\n",
      "export OMP_NUM_THREADS=$SLURM_CPUS_PER_TASK\n",
      "NTASKS=$(($SLURM_NTASKS_PER_NODE * $SLURM_JOB_NUM_NODES))\n",
      "\n",
      "mpirun -np $NTASKS pw.x -i pw.in > pw.out\n",
      "\n"
     ]
    }
   ],
   "source": [
    "#use the rcc_template, if debug=True, it will also print on screen\n",
    "rcc_template_from_file.write('run.sh',debug=True)"
   ]
  },
  {
   "cell_type": "code",
   "execution_count": 29,
   "metadata": {
    "ExecuteTime": {
     "end_time": "2020-07-15T21:30:11.231401Z",
     "start_time": "2020-07-15T21:30:11.225408Z"
    }
   },
   "outputs": [
    {
     "data": {
      "text/plain": [
       "'C:\\\\Users\\\\headh\\\\Desktop\\\\0D\\\\tutorial\\\\rcc\\\\simple_run'"
      ]
     },
     "execution_count": 29,
     "metadata": {},
     "output_type": "execute_result"
    }
   ],
   "source": [
    "#check current dir\n",
    "%pwd"
   ]
  },
  {
   "cell_type": "code",
   "execution_count": 30,
   "metadata": {
    "ExecuteTime": {
     "end_time": "2020-07-15T21:30:13.856664Z",
     "start_time": "2020-07-15T21:30:13.429143Z"
    }
   },
   "outputs": [
    {
     "name": "stdout",
     "output_type": "stream",
     "text": [
      "H_ONCV_PBE-1.0.upf\n",
      "Si_ONCV_PBE-1.1.upf\n",
      "pw.in\n",
      "run.sh\n"
     ]
    }
   ],
   "source": [
    "%%bash\n",
    "ls"
   ]
  },
  {
   "cell_type": "markdown",
   "metadata": {},
   "source": [
    "Now we have all files needed for this simple run at folder rcc/simple_run"
   ]
  },
  {
   "cell_type": "code",
   "execution_count": 31,
   "metadata": {
    "ExecuteTime": {
     "end_time": "2020-07-15T21:30:22.826410Z",
     "start_time": "2020-07-15T21:30:17.018309Z"
    }
   },
   "outputs": [
    {
     "name": "stdout",
     "output_type": "stream",
     "text": [
      "\u001b[1;1msynchronizing local:C:\\Users\\headh\\Desktop\\0D\\tutorial\\rcc  ->  remote:/home/huangl1/simulation\u001b[0m\n",
      "\u001b[1;32mUpload local  dir:C:\\Users\\headh\\Desktop\\0D\\tutorial\\rcc\\simple_run\u001b[0m\n"
     ]
    },
    {
     "data": {
      "text/plain": [
       "'3009581'"
      ]
     },
     "execution_count": 31,
     "metadata": {},
     "output_type": "execute_result"
    }
   ],
   "source": [
    "#since we direct output to pw.out at template file, we will collect pw.out\n",
    "#collect is a list of files and folders to collect \n",
    "jmn.submit(file='run.sh',collect=['pw.out'])"
   ]
  },
  {
   "cell_type": "markdown",
   "metadata": {},
   "source": [
    "the above job submit action can also be done using magic function"
   ]
  },
  {
   "cell_type": "code",
   "execution_count": null,
   "metadata": {},
   "outputs": [],
   "source": [
    "%submit run.sh @collect=pw.out"
   ]
  },
  {
   "cell_type": "markdown",
   "metadata": {},
   "source": [
    "If you want to collect  slurm* log files and copy them to REMOTE_WORKING_DIR after job done "
   ]
  },
  {
   "cell_type": "code",
   "execution_count": null,
   "metadata": {},
   "outputs": [],
   "source": [
    "%submit run.sh @collect=pw.out,slurm*.log"
   ]
  },
  {
   "cell_type": "markdown",
   "metadata": {},
   "source": [
    "The magical function:\n",
    "```\n",
    "%submit <HPC_bash_file>  <optional:@collect=collect1,collect2,collect3,log*>  <optional:@scratch=/Your/remote/scratch/defined/here/will/overwrite/config/scrach/setting>\n",
    "```\n",
    "The jm.submit way:\n",
    "```\n",
    "jm = JobManager(ssh_instance)\n",
    "jm.submit('run.sh',collect=['file1','folder1','prefix*'])\n",
    "```\n",
    "\n",
    "- auto push when submitting a job, auto push you local files/folder change to remote.\n",
    "- auto path translate, local job submit action will auto mirror to the corresponding remote folder, submit at local, run at remote.\n",
    "- collect = ['result.out','result*'...]  copy result files/folders from remote scratch to remote working after job done. keep remote & local working dir small.\n",
    "- If you leave out collect, the default value is '*'.  which means you will copy all files/folders generated by simulation from remote scrach back to remote working dir.\n",
    "- If you do not define REMOTE_SCRATCH_DIR in your config file, the REMOTE_WORKING_DIR will be used as scratch, collect option is ignored.\n",
    "\n",
    "\n",
    "* You can customize your note, if note is None, note will be the <job submit path|collect>\n",
    "* You can customize your scratch, this will overwrite default setting is config file of REMOTE_SCRATCH_DIR\n",
    "```\n",
    "jmn.submit(file='run.sh',collect=['pw.out'],note='customized_note',scratch='/your/customized/scratch')\n",
    "```"
   ]
  },
  {
   "cell_type": "code",
   "execution_count": 32,
   "metadata": {
    "ExecuteTime": {
     "end_time": "2020-07-15T21:30:28.841403Z",
     "start_time": "2020-07-15T21:30:27.999059Z"
    }
   },
   "outputs": [
    {
     "name": "stdout",
     "output_type": "stream",
     "text": [
      "    JobID  | Status  |   Time   |    SubmitTime       |       Note\n",
      " -----------------------------Pending Jobs------------------------------\n",
      "   2975955 | Pending |     0:00 | 2020-07-14 03:45:52 | Cannot find JobInfo in log \n",
      "   3009581 | Pending |     0:00 | 2020-07-15 21:30:22 | \\simple_run | pw.out \n"
     ]
    }
   ],
   "source": [
    "#view current job status\n",
    "jmn.view()"
   ]
  },
  {
   "cell_type": "markdown",
   "metadata": {},
   "source": [
    "Let's check that the simple_run folder is mirror to remote and run at scratch"
   ]
  },
  {
   "cell_type": "code",
   "execution_count": 36,
   "metadata": {
    "ExecuteTime": {
     "end_time": "2020-07-15T21:31:30.076508Z",
     "start_time": "2020-07-15T21:31:30.056518Z"
    }
   },
   "outputs": [
    {
     "name": "stdout",
     "output_type": "stream",
     "text": [
      "\r\n",
      "[huangl1@midway2-login2 simulation]$ ls\r\n",
      "\u001b[0m\u001b[01;34msimple_run\u001b[0m\r\n",
      "[huangl1@midway2-login2 simulation]$ pwd\r\n",
      "/home/huangl1/simulation\r\n",
      "[huangl1@midway2-login2 simulation]$ \n",
      " "
     ]
    }
   ],
   "source": [
    "%%r\n",
    "ls\n",
    "pwd"
   ]
  },
  {
   "cell_type": "markdown",
   "metadata": {},
   "source": [
    "we can see simple_run is in /home/huangl1/simulation which is my REMOTE_WORKING_DIR"
   ]
  },
  {
   "cell_type": "code",
   "execution_count": 40,
   "metadata": {
    "ExecuteTime": {
     "end_time": "2020-07-15T21:32:31.924251Z",
     "start_time": "2020-07-15T21:32:31.917254Z"
    }
   },
   "outputs": [
    {
     "name": "stdout",
     "output_type": "stream",
     "text": [
      "\r\n",
      "[huangl1@midway2-login2 simulation]$ \n",
      " cd ~ \r\n",
      "[huangl1@midway2-login2 ~]$ cd scratch-midway2\r\n",
      "[huangl1@midway2-login2 scratch-midway2]$ cd simulation\r\n",
      "[huangl1@midway2-login2 simulation]$ ls\r\n",
      "\u001b[0m\u001b[01;34m0D\u001b[0m  log.pickle  \u001b[01;34msimple_run\u001b[0m\r\n",
      "[huangl1@midway2-login2 simulation]$ pwd\r\n",
      "/home/huangl1/scratch-midway2/simulation\r\n",
      "[huangl1@midway2-login2 simulation]$ \n",
      " "
     ]
    }
   ],
   "source": [
    "%%r\n",
    "cd ~ \n",
    "cd scratch-midway2\n",
    "cd simulation\n",
    "ls\n",
    "pwd"
   ]
  },
  {
   "cell_type": "markdown",
   "metadata": {},
   "source": [
    "we can see simple_run is copyed to /home/huangl1/scratch-midway2/simulation which is my REMOTE_SCRATCH_DIR"
   ]
  },
  {
   "cell_type": "markdown",
   "metadata": {},
   "source": [
    "cancel jobs"
   ]
  },
  {
   "cell_type": "code",
   "execution_count": null,
   "metadata": {
    "ExecuteTime": {
     "end_time": "2020-07-14T11:13:13.036960Z",
     "start_time": "2020-07-14T11:13:10.871242Z"
    }
   },
   "outputs": [],
   "source": [
    "jmn.cancel(2989148)\n",
    "jmn.cancel(2668449,2668450)"
   ]
  },
  {
   "cell_type": "code",
   "execution_count": 41,
   "metadata": {
    "ExecuteTime": {
     "end_time": "2020-07-15T21:34:36.081656Z",
     "start_time": "2020-07-15T21:34:35.275755Z"
    }
   },
   "outputs": [
    {
     "name": "stdout",
     "output_type": "stream",
     "text": [
      "    JobID  | Status  |   Time   |    SubmitTime       |       Note\n",
      " -----------------------------Pending Jobs------------------------------\n",
      "   2975955 | Pending |     0:00 | 2020-07-14 03:45:52 | Cannot find JobInfo in log \n",
      "   3009581 | Pending |     0:00 | 2020-07-15 21:30:22 | \\simple_run | pw.out \n"
     ]
    }
   ],
   "source": [
    "jmn.view()"
   ]
  },
  {
   "cell_type": "markdown",
   "metadata": {},
   "source": [
    "You can also cancel job at EZjob Watcher, just click X at left side of JobID"
   ]
  },
  {
   "cell_type": "markdown",
   "metadata": {},
   "source": [
    "The Note section in EZjob Watcher by default is <path | collect> if you do not provide customized not when do a job submission. \n",
    "if the note is <Cannot find JobInfo in log>, this means you may submit your job at remote directly, therefore, ezjob have no history of this job."
   ]
  },
  {
   "cell_type": "code",
   "execution_count": 42,
   "metadata": {
    "ExecuteTime": {
     "end_time": "2020-07-15T21:37:18.266757Z",
     "start_time": "2020-07-15T21:37:18.204795Z"
    }
   },
   "outputs": [],
   "source": [
    "#you can close ezjob watcher by \n",
    "%ezjob close"
   ]
  },
  {
   "cell_type": "code",
   "execution_count": 43,
   "metadata": {
    "ExecuteTime": {
     "end_time": "2020-07-15T21:37:21.960825Z",
     "start_time": "2020-07-15T21:37:21.954829Z"
    }
   },
   "outputs": [
    {
     "name": "stdout",
     "output_type": "stream",
     "text": [
      "Change directory to LOCAL_WORKING_DIR:C:\\Users\\headh\\Desktop\\0D\\tutorial\\rcc\n"
     ]
    }
   ],
   "source": [
    "#If you want to go to the top folder\n",
    "jmn.cd_LOCAL_WORKING_DIR()"
   ]
  },
  {
   "cell_type": "markdown",
   "metadata": {},
   "source": [
    "# Pull and Push"
   ]
  },
  {
   "cell_type": "code",
   "execution_count": 44,
   "metadata": {
    "ExecuteTime": {
     "end_time": "2020-07-15T21:37:30.068931Z",
     "start_time": "2020-07-15T21:37:30.057940Z"
    }
   },
   "outputs": [
    {
     "data": {
      "text/plain": [
       "'C:\\\\Users\\\\headh\\\\Desktop\\\\0D\\\\tutorial\\\\rcc'"
      ]
     },
     "execution_count": 44,
     "metadata": {},
     "output_type": "execute_result"
    }
   ],
   "source": [
    "#currently I am at\n",
    "%pwd"
   ]
  },
  {
   "cell_type": "code",
   "execution_count": 45,
   "metadata": {
    "ExecuteTime": {
     "end_time": "2020-07-15T21:37:41.510105Z",
     "start_time": "2020-07-15T21:37:41.505108Z"
    }
   },
   "outputs": [
    {
     "data": {
      "text/plain": [
       "'C:\\\\Users\\\\headh\\\\Desktop\\\\0D\\\\tutorial\\\\rcc'"
      ]
     },
     "execution_count": 45,
     "metadata": {},
     "output_type": "execute_result"
    }
   ],
   "source": [
    "#find out our Local working dir\n",
    "ssh.get_LOCAL_WORKING_DIR()"
   ]
  },
  {
   "cell_type": "code",
   "execution_count": 46,
   "metadata": {
    "ExecuteTime": {
     "end_time": "2020-07-15T21:37:44.034861Z",
     "start_time": "2020-07-15T21:37:44.025865Z"
    }
   },
   "outputs": [
    {
     "data": {
      "text/plain": [
       "'/home/huangl1/simulation'"
      ]
     },
     "execution_count": 46,
     "metadata": {},
     "output_type": "execute_result"
    }
   ],
   "source": [
    "#we are working at this dir remotely\n",
    "ssh.get_REMOTE_WORKING_DIR()"
   ]
  },
  {
   "cell_type": "code",
   "execution_count": 47,
   "metadata": {
    "ExecuteTime": {
     "end_time": "2020-07-15T21:37:47.639782Z",
     "start_time": "2020-07-15T21:37:47.632786Z"
    }
   },
   "outputs": [
    {
     "data": {
      "text/plain": [
       "'/home/huangl1/scratch-midway2/simulation'"
      ]
     },
     "execution_count": 47,
     "metadata": {},
     "output_type": "execute_result"
    }
   ],
   "source": [
    "#job submission scratch folder remotely is\n",
    "ssh.get_REMOTE_SCRATCH_DIR()"
   ]
  },
  {
   "cell_type": "markdown",
   "metadata": {
    "ExecuteTime": {
     "end_time": "2020-06-24T18:15:33.484720Z",
     "start_time": "2020-06-24T18:15:33.280813Z"
    }
   },
   "source": [
    "## pull"
   ]
  },
  {
   "cell_type": "code",
   "execution_count": 48,
   "metadata": {
    "ExecuteTime": {
     "end_time": "2020-07-15T21:38:06.797854Z",
     "start_time": "2020-07-15T21:38:05.842399Z"
    }
   },
   "outputs": [
    {
     "name": "stdout",
     "output_type": "stream",
     "text": [
      "\u001b[1;1msynchronizing remote:/home/huangl1/simulation  ->  local:C:\\Users\\headh\\Desktop\\0D\\tutorial\\rcc\u001b[0m\n",
      "--------------------------- Local files change after pull -------------------------------\n",
      "------------------------------------------------------------------------------------------\n"
     ]
    }
   ],
   "source": [
    "#default delete=Flase, debug=True, with debug=True, will print local file changes after pull\n",
    "#let's pull simple_run result to local\n",
    "ssh.pull()"
   ]
  },
  {
   "cell_type": "code",
   "execution_count": 49,
   "metadata": {
    "ExecuteTime": {
     "end_time": "2020-07-15T21:38:08.798018Z",
     "start_time": "2020-07-15T21:38:07.833814Z"
    }
   },
   "outputs": [
    {
     "name": "stdout",
     "output_type": "stream",
     "text": [
      "\u001b[1;1msynchronizing remote:/home/huangl1/simulation  ->  local:C:\\Users\\headh\\Desktop\\0D\\tutorial\\rcc\u001b[0m\n",
      "--------------------------- Local files change after pull -------------------------------\n",
      "------------------------------------------------------------------------------------------\n"
     ]
    }
   ],
   "source": [
    "#delete=True will mirror remote to local,\n",
    "#if you create a file at local but not at remote, \n",
    "#the local file or folder will be deleted\n",
    "ssh.pull(delete=True)"
   ]
  },
  {
   "cell_type": "markdown",
   "metadata": {},
   "source": [
    "Let's create file/folder at local "
   ]
  },
  {
   "cell_type": "code",
   "execution_count": 50,
   "metadata": {
    "ExecuteTime": {
     "end_time": "2020-07-15T21:38:14.657732Z",
     "start_time": "2020-07-15T21:38:14.650736Z"
    }
   },
   "outputs": [
    {
     "data": {
      "text/plain": [
       "'C:\\\\Users\\\\headh\\\\Desktop\\\\0D\\\\tutorial\\\\rcc'"
      ]
     },
     "execution_count": 50,
     "metadata": {},
     "output_type": "execute_result"
    }
   ],
   "source": [
    "%pwd"
   ]
  },
  {
   "cell_type": "code",
   "execution_count": 51,
   "metadata": {
    "ExecuteTime": {
     "end_time": "2020-07-15T21:38:17.755944Z",
     "start_time": "2020-07-15T21:38:17.692981Z"
    }
   },
   "outputs": [],
   "source": [
    "%mkdir test"
   ]
  },
  {
   "cell_type": "code",
   "execution_count": 52,
   "metadata": {
    "ExecuteTime": {
     "end_time": "2020-07-15T21:38:22.351372Z",
     "start_time": "2020-07-15T21:38:21.232013Z"
    }
   },
   "outputs": [],
   "source": [
    "%%bash \n",
    "touch test.txt"
   ]
  },
  {
   "cell_type": "code",
   "execution_count": 53,
   "metadata": {
    "ExecuteTime": {
     "end_time": "2020-07-15T21:38:26.694678Z",
     "start_time": "2020-07-15T21:38:26.121004Z"
    }
   },
   "outputs": [
    {
     "name": "stdout",
     "output_type": "stream",
     "text": [
      "simple_run\n",
      "test\n",
      "test.txt\n"
     ]
    }
   ],
   "source": [
    "%%bash \n",
    "ls"
   ]
  },
  {
   "cell_type": "code",
   "execution_count": 54,
   "metadata": {
    "ExecuteTime": {
     "end_time": "2020-07-15T21:38:32.284275Z",
     "start_time": "2020-07-15T21:38:31.313087Z"
    }
   },
   "outputs": [
    {
     "name": "stdout",
     "output_type": "stream",
     "text": [
      "\u001b[1;1msynchronizing remote:/home/huangl1/simulation  ->  local:C:\\Users\\headh\\Desktop\\0D\\tutorial\\rcc\u001b[0m\n",
      "\u001b[1;31mDelete  local  dir:C:\\Users\\headh\\Desktop\\0D\\tutorial\\rcc\\test\u001b[0m\n",
      "\u001b[31mDelete  local  file:C:\\Users\\headh\\Desktop\\0D\\tutorial\\rcc\\test.txt\u001b[0m\n",
      "--------------------------- Local files change after pull -------------------------------\n",
      "Files Deleted:\n",
      "\tC:\\Users\\headh\\Desktop\\0D\\tutorial\\rcc\\test.txt\n",
      "Folder Deleted:\n",
      "\tC:\\Users\\headh\\Desktop\\0D\\tutorial\\rcc\\test\n",
      "------------------------------------------------------------------------------------------\n"
     ]
    }
   ],
   "source": [
    "#this will delete folder test and file test.txt since they are not at remote \n",
    "ssh.pull(delete=True)"
   ]
  },
  {
   "cell_type": "markdown",
   "metadata": {},
   "source": [
    "you can also use magic function %pull , this is the same as ssh.pull(delete=False)"
   ]
  },
  {
   "cell_type": "code",
   "execution_count": null,
   "metadata": {},
   "outputs": [],
   "source": [
    "%pull"
   ]
  },
  {
   "cell_type": "markdown",
   "metadata": {},
   "source": [
    "this is same as ssh.pull(delete=True)"
   ]
  },
  {
   "cell_type": "code",
   "execution_count": null,
   "metadata": {},
   "outputs": [],
   "source": [
    "%pull --delete"
   ]
  },
  {
   "cell_type": "markdown",
   "metadata": {},
   "source": [
    "If more than one ssh instances exist, one can choose which one to do the pull/push"
   ]
  },
  {
   "cell_type": "code",
   "execution_count": null,
   "metadata": {},
   "outputs": [],
   "source": [
    "%pull @choose"
   ]
  },
  {
   "cell_type": "markdown",
   "metadata": {
    "ExecuteTime": {
     "end_time": "2020-07-14T11:35:55.028072Z",
     "start_time": "2020-07-14T11:35:55.023099Z"
    }
   },
   "source": [
    "## push"
   ]
  },
  {
   "cell_type": "code",
   "execution_count": 55,
   "metadata": {
    "ExecuteTime": {
     "end_time": "2020-07-15T21:38:42.896546Z",
     "start_time": "2020-07-15T21:38:41.153317Z"
    }
   },
   "outputs": [
    {
     "name": "stdout",
     "output_type": "stream",
     "text": [
      "-----------------------Tracking local files change before push ---------------------------\n",
      "------------------------------------------------------------------------------------------\n",
      "\u001b[1;1msynchronizing local:C:\\Users\\headh\\Desktop\\0D\\tutorial\\rcc  ->  remote:/home/huangl1/simulation\u001b[0m\n"
     ]
    }
   ],
   "source": [
    "#default delete=False, debug = True, if debug=True, will print local file changes before push\n",
    "ssh.push()"
   ]
  },
  {
   "cell_type": "markdown",
   "metadata": {},
   "source": [
    "Let's create folder and files at local and do a push"
   ]
  },
  {
   "cell_type": "code",
   "execution_count": 56,
   "metadata": {
    "ExecuteTime": {
     "end_time": "2020-07-15T21:38:44.014872Z",
     "start_time": "2020-07-15T21:38:43.943914Z"
    }
   },
   "outputs": [],
   "source": [
    "%mkdir test"
   ]
  },
  {
   "cell_type": "code",
   "execution_count": 57,
   "metadata": {
    "ExecuteTime": {
     "end_time": "2020-07-15T21:38:47.025616Z",
     "start_time": "2020-07-15T21:38:46.017194Z"
    }
   },
   "outputs": [],
   "source": [
    "%%bash\n",
    "touch test.txt"
   ]
  },
  {
   "cell_type": "code",
   "execution_count": 58,
   "metadata": {
    "ExecuteTime": {
     "end_time": "2020-07-15T21:38:49.874570Z",
     "start_time": "2020-07-15T21:38:49.464805Z"
    }
   },
   "outputs": [
    {
     "name": "stdout",
     "output_type": "stream",
     "text": [
      "simple_run\n",
      "test\n",
      "test.txt\n"
     ]
    }
   ],
   "source": [
    "%%bash\n",
    "ls"
   ]
  },
  {
   "cell_type": "code",
   "execution_count": 59,
   "metadata": {
    "ExecuteTime": {
     "end_time": "2020-07-15T21:38:55.865676Z",
     "start_time": "2020-07-15T21:38:53.068708Z"
    }
   },
   "outputs": [
    {
     "name": "stdout",
     "output_type": "stream",
     "text": [
      "-----------------------Tracking local files change before push ---------------------------\n",
      "Files Added:\n",
      "\tC:\\Users\\headh\\Desktop\\0D\\tutorial\\rcc\\test.txt\n",
      "Folder Added:\n",
      "\tC:\\Users\\headh\\Desktop\\0D\\tutorial\\rcc\\test\n",
      "------------------------------------------------------------------------------------------\n",
      "\u001b[1;1msynchronizing local:C:\\Users\\headh\\Desktop\\0D\\tutorial\\rcc  ->  remote:/home/huangl1/simulation\u001b[0m\n",
      "\u001b[1;32mUpload local  dir:C:\\Users\\headh\\Desktop\\0D\\tutorial\\rcc\\test\u001b[0m\n",
      "\u001b[32mUpload local  file:C:\\Users\\headh\\Desktop\\0D\\tutorial\\rcc\\test.txt\u001b[0m\n"
     ]
    }
   ],
   "source": [
    "#do the push\n",
    "ssh.push()"
   ]
  },
  {
   "cell_type": "code",
   "execution_count": 60,
   "metadata": {
    "ExecuteTime": {
     "end_time": "2020-07-15T21:38:59.663312Z",
     "start_time": "2020-07-15T21:38:57.797546Z"
    }
   },
   "outputs": [
    {
     "name": "stdout",
     "output_type": "stream",
     "text": [
      "-----------------------Tracking local files change before push ---------------------------\n",
      "------------------------------------------------------------------------------------------\n",
      "\u001b[1;1msynchronizing local:C:\\Users\\headh\\Desktop\\0D\\tutorial\\rcc  ->  remote:/home/huangl1/simulation\u001b[0m\n"
     ]
    }
   ],
   "source": [
    "# if delete=True, any file at remote not at local will be deleted at remote.\n",
    "# This delete=True force remote look exactly like local.\n",
    "ssh.push(delete=True)"
   ]
  },
  {
   "cell_type": "markdown",
   "metadata": {
    "ExecuteTime": {
     "end_time": "2020-07-14T11:41:58.398543Z",
     "start_time": "2020-07-14T11:41:58.392551Z"
    }
   },
   "source": [
    "lets create files and folder at remote"
   ]
  },
  {
   "cell_type": "markdown",
   "metadata": {},
   "source": [
    "go back to my remote_working_dir first"
   ]
  },
  {
   "cell_type": "code",
   "execution_count": 63,
   "metadata": {
    "ExecuteTime": {
     "end_time": "2020-07-15T21:40:50.298459Z",
     "start_time": "2020-07-15T21:40:50.290463Z"
    }
   },
   "outputs": [
    {
     "name": "stdout",
     "output_type": "stream",
     "text": [
      " cd /home/huangl1/simulation\r\n",
      "[huangl1@midway2-login2 simulation]$ \n",
      " "
     ]
    }
   ],
   "source": [
    "%r  cd {ssh.get_REMOTE_WORKING_DIR()}"
   ]
  },
  {
   "cell_type": "code",
   "execution_count": 64,
   "metadata": {
    "ExecuteTime": {
     "end_time": "2020-07-15T21:40:54.815840Z",
     "start_time": "2020-07-15T21:40:54.809496Z"
    }
   },
   "outputs": [
    {
     "name": "stdout",
     "output_type": "stream",
     "text": [
      "ls\r\n",
      "\u001b[0m\u001b[01;34msimple_run\u001b[0m  \u001b[01;34mtest\u001b[0m  test.txt\r\n",
      "[huangl1@midway2-login2 simulation]$ \n",
      " "
     ]
    }
   ],
   "source": [
    "%r ls"
   ]
  },
  {
   "cell_type": "code",
   "execution_count": 65,
   "metadata": {
    "ExecuteTime": {
     "end_time": "2020-07-15T21:41:06.085569Z",
     "start_time": "2020-07-15T21:41:06.079576Z"
    }
   },
   "outputs": [
    {
     "name": "stdout",
     "output_type": "stream",
     "text": [
      "\r\n",
      "[huangl1@midway2-login2 simulation]$ mkdir remote_dir\r\n",
      "[huangl1@midway2-login2 simulation]$ touch remote_file\r\n",
      "[huangl1@midway2-login2 simulation]$ \n",
      " "
     ]
    }
   ],
   "source": [
    "%%r\n",
    "mkdir remote_dir\n",
    "touch remote_file"
   ]
  },
  {
   "cell_type": "code",
   "execution_count": 66,
   "metadata": {
    "ExecuteTime": {
     "end_time": "2020-07-15T21:41:08.294147Z",
     "start_time": "2020-07-15T21:41:08.288155Z"
    }
   },
   "outputs": [
    {
     "name": "stdout",
     "output_type": "stream",
     "text": [
      "ls\r\n",
      "\u001b[0m\u001b[01;34mremote_dir\u001b[0m  remote_file  \u001b[01;34msimple_run\u001b[0m  \u001b[01;34mtest\u001b[0m  test.txt\r\n",
      "[huangl1@midway2-login2 simulation]$ \n",
      " "
     ]
    }
   ],
   "source": [
    "%r ls"
   ]
  },
  {
   "cell_type": "code",
   "execution_count": 67,
   "metadata": {
    "ExecuteTime": {
     "end_time": "2020-07-15T21:41:16.957412Z",
     "start_time": "2020-07-15T21:41:13.391551Z"
    }
   },
   "outputs": [
    {
     "name": "stdout",
     "output_type": "stream",
     "text": [
      "-----------------------Tracking local files change before push ---------------------------\n",
      "------------------------------------------------------------------------------------------\n",
      "\u001b[1;1msynchronizing local:C:\\Users\\headh\\Desktop\\0D\\tutorial\\rcc  ->  remote:/home/huangl1/simulation\u001b[0m\n",
      "\u001b[1;31mDelete remote dir:/home/huangl1/simulation//remote_dir\u001b[0m\n",
      "\u001b[31mDelete remote file:/home/huangl1/simulation//remote_file\u001b[0m\n"
     ]
    }
   ],
   "source": [
    "ssh.push(delete=True)"
   ]
  },
  {
   "cell_type": "code",
   "execution_count": 68,
   "metadata": {
    "ExecuteTime": {
     "end_time": "2020-07-15T21:41:18.618610Z",
     "start_time": "2020-07-15T21:41:18.612615Z"
    }
   },
   "outputs": [
    {
     "name": "stdout",
     "output_type": "stream",
     "text": [
      "ls\r\n",
      "\u001b[0m\u001b[01;34msimple_run\u001b[0m  \u001b[01;34mtest\u001b[0m  test.txt\r\n",
      "[huangl1@midway2-login2 simulation]$ \n",
      " "
     ]
    }
   ],
   "source": [
    "%r ls"
   ]
  },
  {
   "cell_type": "markdown",
   "metadata": {},
   "source": [
    "another way of push is to use magic function, it is the same as ssh.push(delete=False)"
   ]
  },
  {
   "cell_type": "code",
   "execution_count": null,
   "metadata": {},
   "outputs": [],
   "source": [
    "%push "
   ]
  },
  {
   "cell_type": "markdown",
   "metadata": {},
   "source": [
    "This is the same as ssh.push(delete=True)"
   ]
  },
  {
   "cell_type": "code",
   "execution_count": null,
   "metadata": {},
   "outputs": [],
   "source": [
    "%push --delete"
   ]
  },
  {
   "cell_type": "markdown",
   "metadata": {},
   "source": [
    "# Advanced(optional): Paramiko SFTP object"
   ]
  },
  {
   "cell_type": "markdown",
   "metadata": {},
   "source": [
    "more on http://docs.paramiko.org/en/stable/api/sftp.html"
   ]
  },
  {
   "cell_type": "code",
   "execution_count": null,
   "metadata": {
    "ExecuteTime": {
     "end_time": "2020-06-24T20:59:00.172276Z",
     "start_time": "2020-06-24T20:58:59.415944Z"
    }
   },
   "outputs": [],
   "source": [
    "sftp = ssh.get_sftp()"
   ]
  },
  {
   "cell_type": "code",
   "execution_count": null,
   "metadata": {},
   "outputs": [],
   "source": [
    "sftp.mkdir(\"demo_sftp_folder\")\n",
    "\n",
    "with sftp.open(\"README\", \"w\") as f:\n",
    "    f.write(\"This will write to remote file.\\n\")\n",
    "    \n",
    "with open(\"demo_sftp.py\", \"r\") as f:\n",
    "    data = f.read()\n",
    "\n",
    "sftp.open(\"demo_sftp_folder/demo_sftp.py\", \"w\").write(data)\n",
    "\n",
    " \n",
    "with sftp.open(\"demo_sftp_folder/README\", \"r\") as f:\n",
    "        data = f.read()\n",
    "        \n",
    "with open(\"README_demo_sftp\", \"w\") as f:\n",
    "    f.write(data)\n",
    " \n",
    " \n",
    "sftp.put(\"demo_sftp.py\", \"demo_sftp_folder/demo_sftp.py\")\n",
    "sftp.get(\"demo_sftp_folder/README\", \"README_demo_sftp\")"
   ]
  },
  {
   "cell_type": "markdown",
   "metadata": {},
   "source": [
    "# always close ssh after use"
   ]
  },
  {
   "cell_type": "code",
   "execution_count": 70,
   "metadata": {
    "ExecuteTime": {
     "end_time": "2020-07-15T21:41:28.881617Z",
     "start_time": "2020-07-15T21:41:28.825654Z"
    }
   },
   "outputs": [],
   "source": [
    "#If you want to close a specific ssh instance\n",
    "ssh.close()"
   ]
  },
  {
   "cell_type": "code",
   "execution_count": 8,
   "metadata": {
    "ExecuteTime": {
     "end_time": "2020-07-22T08:50:17.104996Z",
     "start_time": "2020-07-22T08:50:17.070012Z"
    }
   },
   "outputs": [
    {
     "name": "stdout",
     "output_type": "stream",
     "text": [
      "Close <rcc> Done!\n"
     ]
    }
   ],
   "source": [
    "#this is a magic function which close all valid ssh instance.\n",
    "%close"
   ]
  },
  {
   "cell_type": "code",
   "execution_count": null,
   "metadata": {},
   "outputs": [],
   "source": []
  }
 ],
 "metadata": {
  "kernelspec": {
   "display_name": "Python 3",
   "language": "python",
   "name": "python3"
  },
  "language_info": {
   "codemirror_mode": {
    "name": "ipython",
    "version": 3
   },
   "file_extension": ".py",
   "mimetype": "text/x-python",
   "name": "python",
   "nbconvert_exporter": "python",
   "pygments_lexer": "ipython3",
   "version": "3.7.3"
  },
  "toc": {
   "base_numbering": 1,
   "nav_menu": {},
   "number_sections": true,
   "sideBar": true,
   "skip_h1_title": false,
   "title_cell": "Table of Contents",
   "title_sidebar": "Contents",
   "toc_cell": false,
   "toc_position": {
    "height": "calc(100% - 180px)",
    "left": "10px",
    "top": "150px",
    "width": "220px"
   },
   "toc_section_display": true,
   "toc_window_display": false
  }
 },
 "nbformat": 4,
 "nbformat_minor": 2
}
