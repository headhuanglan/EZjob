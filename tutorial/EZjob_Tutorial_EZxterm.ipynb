{
 "cells": [
  {
   "cell_type": "code",
   "execution_count": 1,
   "metadata": {
    "ExecuteTime": {
     "end_time": "2020-07-14T11:50:01.099539Z",
     "start_time": "2020-07-14T11:49:59.177661Z"
    }
   },
   "outputs": [
    {
     "name": "stdout",
     "output_type": "stream",
     "text": [
      "\n",
      "  ______ _____ _       _\n",
      " |  ____|___  (_)     | |\n",
      " | |__     / / _  ___ | |__   \n",
      " |  __|   / / | |/ _ \\| '_ \\    \n",
      " | |____ / /__| | (_) | |_) |     \n",
      " |______/_____| |\\___/|_.__/     \n",
      "             _/ |\n",
      "            |__/\n",
      "   \n",
      "Job Manager version :    0.1.6\n",
      "Today :    2020-07-14 06:50:01\n"
     ]
    }
   ],
   "source": [
    "from ezjob import *"
   ]
  },
  {
   "cell_type": "code",
   "execution_count": 3,
   "metadata": {
    "ExecuteTime": {
     "end_time": "2020-07-14T11:50:25.418093Z",
     "start_time": "2020-07-14T11:50:17.328028Z"
    },
    "scrolled": true
   },
   "outputs": [
    {
     "name": "stdout",
     "output_type": "stream",
     "text": [
      "Password:\n",
      "Duo two-factor login for huangl1\n",
      "\n",
      "Enter a passcode or select one of the following options:\n",
      "\n",
      " 1. Duo Push to XXX-XXX-4177\n",
      " 2. Phone call to XXX-XXX-4177\n",
      " 3. SMS passcodes to XXX-XXX-4177\n",
      "\n",
      "Passcode or option (1-3):\n",
      "Success. Logging you in...\n",
      "Last login: Tue Jul 14 06:48:54 2020 from c-73-51-208-105.hsd1.il.comcast.net\n",
      "===============================================================================\n",
      "                               Welcome to Midway\n",
      "                           Research Computing Center\n",
      "                             University of Chicago\n",
      "                            http://rcc.uchicago.edu\n",
      "\n",
      "\n",
      "For the RCC Manual see the documentation site at\n",
      "    http://docs.rcc.uchicago.edu\n",
      "\n",
      "To check your allocation balance for the current period use this command:\n",
      "accounts balance\n",
      "\n",
      "Questions and issues should be sent to help@rcc.uchicago.edu or 773-795-2667.\n",
      "===============================================================================\n",
      "\n",
      "*******************************************************************************\n",
      "\n",
      "Midway information system usage may be monitored, recorded, and subject to audit.\n",
      "Use of the information system indicates consent to monitoring and recording.\n",
      "Users who logon represent that they are authorized to do so. Unauthorized use of \n",
      "the information system is prohibited and subject to criminal and civil penalties.\n",
      "\n",
      "*******************************************************************************\n",
      "\n",
      "*******************************************************************************\n",
      "\n",
      "Resource intensive computation jobs running on login nodes will be killed. Please\n",
      "submit them to slurm. \n",
      "\n",
      "*******************************************************************************\n",
      "\n",
      "*******************************************************************************\n",
      "\n",
      "As part of Midway1 decommissioning, starting from April 10, 2019 the shared partitions \n",
      "of Midway1 (e.g., sandyb, ivyb, amd, bigmem, etc.) will be no longer available to run \n",
      "jobs. Please use Midway2 partitions (e.g., broadwl, broadwl-lc, etc.) to run your jobs.\n",
      "\n",
      "*******************************************************************************\n",
      "cd /home/huangl1/simulation\n",
      "[huangl1@midway2-login1 ~]$ cd /home/huangl1/simulation\n",
      "[huangl1@midway2-login1 simulation]$ \n",
      " "
     ]
    }
   ],
   "source": [
    "ssh1 = SSH(config_file_path='../config_rcc.ini',name='rcc')\n",
    "ssh1.connect()"
   ]
  },
  {
   "cell_type": "markdown",
   "metadata": {},
   "source": [
    "ezxterm will open a remote xterm, this xterm will auto x11_forwarding."
   ]
  },
  {
   "cell_type": "code",
   "execution_count": 4,
   "metadata": {
    "ExecuteTime": {
     "end_time": "2020-07-14T11:50:52.477517Z",
     "start_time": "2020-07-14T11:50:47.943381Z"
    }
   },
   "outputs": [
    {
     "name": "stdout",
     "output_type": "stream",
     "text": [
      "Please open Xming or VcXsrv and input the x11 display id. If no input, X11_display_id = 0.0 will be used!\n",
      "Opening remote xterm now...\n"
     ]
    }
   ],
   "source": [
    "%ezxterm"
   ]
  },
  {
   "cell_type": "markdown",
   "metadata": {},
   "source": [
    "It is recommended to close the remote xterm window. Then run: <%ezxterm close>.  If you do not press X in remote xterm window. <%ezxterm close> will force closing all sockets, this takes extra time due to the communication between server and client. "
   ]
  },
  {
   "cell_type": "code",
   "execution_count": 5,
   "metadata": {
    "ExecuteTime": {
     "end_time": "2020-07-14T11:51:37.610625Z",
     "start_time": "2020-07-14T11:51:37.602631Z"
    }
   },
   "outputs": [],
   "source": [
    "%ezxterm close"
   ]
  },
  {
   "cell_type": "code",
   "execution_count": 7,
   "metadata": {
    "ExecuteTime": {
     "end_time": "2020-07-14T11:51:53.196434Z",
     "start_time": "2020-07-14T11:51:50.786230Z"
    },
    "scrolled": true
   },
   "outputs": [
    {
     "name": "stdout",
     "output_type": "stream",
     "text": [
      "Last login: Tue Jul  7 03:56:07 2020 from psd01a-0046s.cfs.its.nyu.edu\n",
      "\n",
      "PyTorch GPUs\n",
      "\n",
      "GPU driver on Prince does not support CUDA 10.2, if you are running PyTorch, please try to use PyTorch built with CUDA 10.1\n",
      "Please follow instructions on PyTorch page to reinstall PyTorch, https://pytorch.org\n",
      "pip install torch==1.5.0+cu101 torchvision==0.6.0+cu101 -f https://download.pytorch.org/whl/torch_stable.html\n",
      "If you run pip list, the PyTorch version should be torch==1.5.0+cu101\n",
      "\n",
      "cd /home/lh3147\n",
      "[lh3147@log-1 ~]$ cd /home/lh3147\n",
      "[lh3147@log-1 ~]$ \n",
      " "
     ]
    }
   ],
   "source": [
    "ssh2 = SSH(config_file_path='../config_nyu.ini',name='nyu')\n",
    "ssh2.connect()"
   ]
  },
  {
   "cell_type": "code",
   "execution_count": 8,
   "metadata": {
    "ExecuteTime": {
     "end_time": "2020-07-14T11:52:00.246331Z",
     "start_time": "2020-07-14T11:51:54.576260Z"
    }
   },
   "outputs": [
    {
     "name": "stdout",
     "output_type": "stream",
     "text": [
      "More than one valid SSH instance exists\n",
      "id: 0 signature:rcc\n",
      "id: 1 signature:nyu\n",
      "Which id? (input %ezxterm @choose to reselect client)1\n",
      "Please open Xming or VcXsrv and input the x11 display id. If no input, X11_display_id = 0.0 will be used!\n",
      "Opening remote xterm now...\n"
     ]
    }
   ],
   "source": [
    "%ezxterm"
   ]
  },
  {
   "cell_type": "code",
   "execution_count": 9,
   "metadata": {
    "ExecuteTime": {
     "end_time": "2020-07-14T11:52:36.135891Z",
     "start_time": "2020-07-14T11:52:36.127894Z"
    }
   },
   "outputs": [],
   "source": [
    "%ezxterm close"
   ]
  },
  {
   "cell_type": "code",
   "execution_count": 10,
   "metadata": {
    "ExecuteTime": {
     "end_time": "2020-07-14T11:52:43.492791Z",
     "start_time": "2020-07-14T11:52:39.065348Z"
    }
   },
   "outputs": [
    {
     "name": "stdout",
     "output_type": "stream",
     "text": [
      "More than one valid SSH instance exists\n",
      "id: 0 signature:rcc\n",
      "id: 1 signature:nyu\n",
      "Which id? (input %ezxterm @choose to reselect client)0\n",
      "Please open Xming or VcXsrv and input the x11 display id. If no input, X11_display_id = 0.0 will be used!\n",
      "Opening remote xterm now...\n"
     ]
    }
   ],
   "source": [
    "%ezxterm @choose"
   ]
  },
  {
   "cell_type": "code",
   "execution_count": 11,
   "metadata": {
    "ExecuteTime": {
     "end_time": "2020-07-14T11:53:03.170535Z",
     "start_time": "2020-07-14T11:53:03.085582Z"
    }
   },
   "outputs": [],
   "source": [
    "%ezxterm close\n",
    "ssh1.close()\n",
    "ssh2.close()"
   ]
  },
  {
   "cell_type": "code",
   "execution_count": null,
   "metadata": {},
   "outputs": [],
   "source": []
  }
 ],
 "metadata": {
  "kernelspec": {
   "display_name": "Python 3",
   "language": "python",
   "name": "python3"
  },
  "language_info": {
   "codemirror_mode": {
    "name": "ipython",
    "version": 3
   },
   "file_extension": ".py",
   "mimetype": "text/x-python",
   "name": "python",
   "nbconvert_exporter": "python",
   "pygments_lexer": "ipython3",
   "version": "3.7.3"
  },
  "toc": {
   "base_numbering": 1,
   "nav_menu": {},
   "number_sections": true,
   "sideBar": true,
   "skip_h1_title": false,
   "title_cell": "Table of Contents",
   "title_sidebar": "Contents",
   "toc_cell": false,
   "toc_position": {},
   "toc_section_display": true,
   "toc_window_display": false
  }
 },
 "nbformat": 4,
 "nbformat_minor": 2
}
