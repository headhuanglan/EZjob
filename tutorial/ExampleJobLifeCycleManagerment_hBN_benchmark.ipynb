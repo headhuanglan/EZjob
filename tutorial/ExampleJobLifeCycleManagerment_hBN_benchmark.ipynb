{
 "cells": [
  {
   "cell_type": "markdown",
   "metadata": {},
   "source": [
    "# 2D hexagonal boron nitride (hBN) benchmark"
   ]
  },
  {
   "cell_type": "markdown",
   "metadata": {},
   "source": [
    "# Define config and template"
   ]
  },
  {
   "cell_type": "code",
   "execution_count": 1,
   "metadata": {
    "ExecuteTime": {
     "end_time": "2020-07-22T19:36:57.439143Z",
     "start_time": "2020-07-22T19:36:57.428145Z"
    }
   },
   "outputs": [
    {
     "name": "stdout",
     "output_type": "stream",
     "text": [
      "\n",
      "  ______ _____ _       _\n",
      " |  ____|___  (_)     | |\n",
      " | |__     / / _  ___ | |__   \n",
      " |  __|   / / | |/ _ \\| '_ \\    \n",
      " | |____ / /__| | (_) | |_) |     \n",
      " |______/_____| |\\___/|_.__/     \n",
      "             _/ |\n",
      "            |__/\n",
      "   \n",
      "Job Manager version :    0.1.8\n",
      "Today :    2020-07-27 16:33:42\n",
      " \n",
      " _    _ _____ _____ _____            \n",
      "| |  | |  ___/  ___|_   _|           \n",
      "| |  | | |__ \\ `--.  | |_ __  _   _  \n",
      "| |/\\| |  __| `--. \\ | | '_ \\| | | | \n",
      "\\  /\\  / |___/\\__/ / | | |_) | |_| | \n",
      " \\/  \\/\\____/\\____/  \\_/ .__/ \\__, | \n",
      "                       | |     __/ | \n",
      "                       |_|    |___/  \n",
      " \n",
      "WEST version     :  4.2.0\n",
      "Today            :  2020-07-27 16:33:43.290840\n"
     ]
    }
   ],
   "source": [
    "#change password, username  REMOTE_WORKING_DIR REMOTE_SCRATCH_DIR to yours\n",
    "ssh_config = {'hostname': 'midway2.rcc.uchicago.edu',\n",
    "          'port': 22,\n",
    "          'timeout': 30,\n",
    "          'username': 'huangl1',\n",
    "          'password': '',\n",
    "          'multi_factor_auth': 'yes',\n",
    "          'multi_factor_auth_key': 'Duo',\n",
    "          'multi_factor_auth_option': '1',\n",
    "\n",
    "          'REMOTE_WORKING_DIR': '/home/huangl1/simulation',\n",
    "          'REMOTE_SCRATCH_DIR': '/home/huangl1/scratch-midway2/simulation/BN_benchmark',\n",
    "\n",
    "          'log_file': 'log.pickle',\n",
    "\n",
    "          'cmd_job_status': 'squeue -u huangl1',\n",
    "          'cmd_job_submit': 'sbatch',\n",
    "          'cmd_job_cancel': 'scancel',\n",
    "\n",
    "          'job_status_header_skip': 1,\n",
    "          'job_status_jobid_col': 1,\n",
    "          'job_status_st_col': 5,\n",
    "          'job_status_pending_label': 'PD',\n",
    "          'job_status_running_label': 'R',\n",
    "          'job_status_time_col': 6}\n",
    "\n",
    "rcc_template_string = \"\"\"#!/bin/bash\n",
    "#SBATCH --job-name={{job_name}}\n",
    "#SBATCH --time={{time}}\n",
    "#SBATCH --partition={{queue}}\n",
    "#SBATCH --nodes={{nodes}}\n",
    "#SBATCH --ntasks-per-node={{ntasks_per_node}}\n",
    "#SBATCH --cpus-per-task={{cpus_per_task}}\n",
    "#SBATCH --mem-per-cpu={{mem_per_cpu}}\n",
    "\n",
    "module purge\n",
    "module load intelmpi/5.1+intel-16.0 mkl/2017.up4 Anaconda3/5.1.0\n",
    "\n",
    "export OMP_NUM_THREADS=$SLURM_CPUS_PER_TASK\n",
    "NTASKS=$(($SLURM_NTASKS_PER_NODE * $SLURM_JOB_NUM_NODES))\n",
    "\n",
    "{{cmd}}\n",
    "\n",
    "\n",
    "\"\"\"\n",
    "from ezjob import *\n",
    "from westpy import *\n",
    "import pandas as pd\n",
    "import numpy as np\n",
    "import matplotlib.pyplot as plt"
   ]
  },
  {
   "cell_type": "markdown",
   "metadata": {},
   "source": [
    "# connect ssh"
   ]
  },
  {
   "cell_type": "code",
   "execution_count": 2,
   "metadata": {
    "ExecuteTime": {
     "end_time": "2020-07-22T09:21:36.668543Z",
     "start_time": "2020-07-22T09:21:27.022412Z"
    },
    "scrolled": true
   },
   "outputs": [
    {
     "name": "stdout",
     "output_type": "stream",
     "text": [
      "Password:\n",
      "Duo two-factor login for huangl1\n",
      "\n",
      "Enter a passcode or select one of the following options:\n",
      "\n",
      " 1. Duo Push to XXX-XXX-4177\n",
      " 2. Phone call to XXX-XXX-4177\n",
      " 3. SMS passcodes to XXX-XXX-4177\n",
      "\n",
      "Passcode or option (1-3):\n",
      "Success. Logging you in...\n",
      "Last login: Sun Jul 26 03:44:45 2020 from c-73-51-208-105.hsd1.il.comcast.net\n",
      "===============================================================================\n",
      "                               Welcome to Midway\n",
      "                           Research Computing Center\n",
      "                             University of Chicago\n",
      "                            http://rcc.uchicago.edu\n",
      "\n",
      "\n",
      "For the RCC Manual see the documentation site at\n",
      "    http://docs.rcc.uchicago.edu\n",
      "\n",
      "To check your allocation balance for the current period use this command:\n",
      "accounts balance\n",
      "\n",
      "Questions and issues should be sent to help@rcc.uchicago.edu or 773-795-2667.\n",
      "===============================================================================\n",
      "\n",
      "*******************************************************************************\n",
      "\n",
      "Midway information system usage may be monitored, recorded, and subject to audit.\n",
      "Use of the information system indicates consent to monitoring and recording.\n",
      "Users who logon represent that they are authorized to do so. Unauthorized use of \n",
      "the information system is prohibited and subject to criminal and civil penalties.\n",
      "\n",
      "*******************************************************************************\n",
      "\n",
      "*******************************************************************************\n",
      "\n",
      "Resource intensive computation jobs running on login nodes will be killed. Please\n",
      "submit them to slurm. \n",
      "\n",
      "*******************************************************************************\n",
      "\n",
      "*******************************************************************************\n",
      "\n",
      "As part of Midway1 decommissioning, starting from April 10, 2019 the shared partitions \n",
      "of Midway1 (e.g., sandyb, ivyb, amd, bigmem, etc.) will be no longer available to run \n",
      "jobs. Please use Midway2 partitions (e.g., broadwl, broadwl-lc, etc.) to run your jobs.\n",
      "\n",
      "*******************************************************************************\n",
      "cd /home/huangl1/simulation\n",
      "\n",
      "---------------------------------------------------------------------------\n",
      "fileset          type                   used      quota      limit    grace\n",
      "---------------- ---------------- ---------- ---------- ---------- --------\n",
      "home             blocks (user)         2.34G     30.00G     35.00G     none\n",
      "                 files  (user)         54105     300000    1000000     none\n",
      "scratch          blocks (user)       206.56G    100.00G      5.00T  21 days\n",
      "                 files  (user)         49164   10000000   20000000     none\n",
      "---------------- ---------------- ---------- ---------- ---------- --------\n",
      ">>> Capacity Filesystem: project2 (GPFS)\n",
      "---------------- ---------------- ---------- ---------- ---------- --------\n",
      "gagalli          blocks (group)       63.99T     77.44T     78.44T     none\n",
      "                 files  (group)     14226338   24290000   25290000     none\n",
      "---------------- ---------------- ---------- ---------- ---------- --------\n",
      ">>> Cost-Effective Filesystem: cds1 (ZFS)\n",
      "---------------- ---------------- ---------- ---------- ---------- --------\n",
      "gagalli          blocks (group)      197.70T    200.00T    200.00T     none\n",
      "---------------------------------------------------------------------------\n",
      "\n",
      "> WARNING: Quota limits exceeded. Please note that the report is updated  <\n",
      "> every 60 minutes, so it doesn't reflect the changes of your usages or   <\n",
      "> quota limits immediately.                                               <\n",
      "\n",
      "[huangl1@midway2-login1 ~]$ cd /home/huangl1/simulation\n",
      "[huangl1@midway2-login1 simulation]$ \n",
      " "
     ]
    }
   ],
   "source": [
    "ssh = SSH(ssh_config,'rcc')\n",
    "ssh.connect()"
   ]
  },
  {
   "cell_type": "code",
   "execution_count": 3,
   "metadata": {
    "ExecuteTime": {
     "end_time": "2020-07-22T09:29:31.700789Z",
     "start_time": "2020-07-22T09:29:28.403289Z"
    }
   },
   "outputs": [
    {
     "name": "stdout",
     "output_type": "stream",
     "text": [
      "Change directory to LOCAL_WORKING_DIR:/home/lan/Desktop/hBN_benchmark/rcc\n"
     ]
    }
   ],
   "source": [
    "jm = JobManager(ssh)"
   ]
  },
  {
   "cell_type": "markdown",
   "metadata": {
    "ExecuteTime": {
     "end_time": "2020-07-22T09:22:27.987261Z",
     "start_time": "2020-07-22T09:22:27.982266Z"
    }
   },
   "source": [
    "# hBN geom creation & relax"
   ]
  },
  {
   "cell_type": "code",
   "execution_count": 9,
   "metadata": {
    "ExecuteTime": {
     "end_time": "2020-07-22T09:31:10.638615Z",
     "start_time": "2020-07-22T09:31:10.632625Z"
    }
   },
   "outputs": [
    {
     "name": "stdout",
     "output_type": "stream",
     "text": [
      "Change directory to LOCAL_WORKING_DIR:/home/lan/Desktop/hBN_benchmark/rcc\n"
     ]
    }
   ],
   "source": [
    "jm.cd_LOCAL_WORKING_DIR()"
   ]
  },
  {
   "cell_type": "code",
   "execution_count": 10,
   "metadata": {
    "ExecuteTime": {
     "end_time": "2020-07-22T09:31:25.949153Z",
     "start_time": "2020-07-22T09:31:25.879183Z"
    }
   },
   "outputs": [
    {
     "name": "stdout",
     "output_type": "stream",
     "text": [
      "/home/lan/Desktop/hBN_benchmark/rcc/relax\n"
     ]
    }
   ],
   "source": [
    "#%mkdir relax\n",
    "%cd relax"
   ]
  },
  {
   "cell_type": "code",
   "execution_count": 19,
   "metadata": {
    "ExecuteTime": {
     "end_time": "2020-07-22T09:31:36.115543Z",
     "start_time": "2020-07-22T09:31:35.891671Z"
    }
   },
   "outputs": [
    {
     "data": {
      "application/3dmoljs_load.v0": "<div id=\"3dmolviewer_15958893339023685\"  style=\"position: relative; width: 800px; height: 800px\">\n        <p id=\"3dmolwarning_15958893339023685\" style=\"background-color:#ffcccc;color:black\">You appear to be running in JupyterLab (or JavaScript failed to load for some other reason).  You need to install the 3dmol extension: <br>\n        <tt>jupyter labextension install jupyterlab_3dmol</tt></p>\n        </div>\n<script>\n\nvar loadScriptAsync = function(uri){\n  return new Promise((resolve, reject) => {\n    var tag = document.createElement('script');\n    tag.src = uri;\n    tag.async = true;\n    tag.onload = () => {\n      resolve();\n    };\n  var firstScriptTag = document.getElementsByTagName('script')[0];\n  firstScriptTag.parentNode.insertBefore(tag, firstScriptTag);\n});\n};\n\nif(typeof $3Dmolpromise === 'undefined') {\n$3Dmolpromise = null;\n  $3Dmolpromise = loadScriptAsync('https://3dmol.csb.pitt.edu/build/3Dmol.js');\n}\n\nvar viewer_15958893339023685 = null;\nvar warn = document.getElementById(\"3dmolwarning_15958893339023685\");\nif(warn) {\n    warn.parentNode.removeChild(warn);\n}\n$3Dmolpromise.then(function() {\nviewer_15958893339023685 = $3Dmol.createViewer($(\"#3dmolviewer_15958893339023685\"),{backgroundColor:\"white\"});\n\tviewer_15958893339023685.addModel(\"8\\n\\nB 0.0 1.4505510052135635 1.9271445783076113\\nB -1.25621402 3.6263775130339093 1.9271445783076113\\nB 2.51242804 1.4505510052135635 1.9271445783076113\\nB 1.25621402 3.6263775130339093 1.9271445783076113\\nN 1.25621402 0.7252755026067818 1.9271445783076113\\nN 0.0 2.9011020104271275 1.9271445783076113\\nN 3.7686420600000003 0.7252755026067818 1.9271445783076113\\nN 2.5124280400000005 2.9011020104271275 1.9271445783076113\\n\",\"xyz\");\n\tviewer_15958893339023685.setStyle({\"stick\": {}});\n\tviewer_15958893339023685.addLine({\"color\": \"blue\", \"start\": {\"x\": 0.0, \"y\": 0.0, \"z\": 0.0}, \"end\": {\"x\": 2.51242804, \"y\": 0.0, \"z\": 0.0}});\n\tviewer_15958893339023685.addLine({\"color\": \"blue\", \"start\": {\"x\": 0.0, \"y\": 0.0, \"z\": 0.0}, \"end\": {\"x\": -1.25621402, \"y\": 2.1758265078203456, \"z\": 0.0}});\n\tviewer_15958893339023685.addLine({\"color\": \"blue\", \"start\": {\"x\": 0.0, \"y\": 0.0, \"z\": 0.0}, \"end\": {\"x\": 0.0, \"y\": 0.0, \"z\": 3.8542891566152226}});\n\tviewer_15958893339023685.addLine({\"color\": \"blue\", \"start\": {\"x\": 1.25621402, \"y\": 2.1758265078203456, \"z\": 0.0}, \"end\": {\"x\": 2.51242804, \"y\": 0.0, \"z\": 0.0}});\n\tviewer_15958893339023685.addLine({\"color\": \"blue\", \"start\": {\"x\": 1.25621402, \"y\": 2.1758265078203456, \"z\": 0.0}, \"end\": {\"x\": -1.25621402, \"y\": 2.1758265078203456, \"z\": 0.0}});\n\tviewer_15958893339023685.addLine({\"color\": \"blue\", \"start\": {\"x\": 1.25621402, \"y\": 2.1758265078203456, \"z\": 0.0}, \"end\": {\"x\": 1.25621402, \"y\": 2.1758265078203456, \"z\": 3.8542891566152226}});\n\tviewer_15958893339023685.addLine({\"color\": \"blue\", \"start\": {\"x\": 2.51242804, \"y\": 0.0, \"z\": 3.8542891566152226}, \"end\": {\"x\": 2.51242804, \"y\": 0.0, \"z\": 0.0}});\n\tviewer_15958893339023685.addLine({\"color\": \"blue\", \"start\": {\"x\": 2.51242804, \"y\": 0.0, \"z\": 3.8542891566152226}, \"end\": {\"x\": 0.0, \"y\": 0.0, \"z\": 3.8542891566152226}});\n\tviewer_15958893339023685.addLine({\"color\": \"blue\", \"start\": {\"x\": 2.51242804, \"y\": 0.0, \"z\": 3.8542891566152226}, \"end\": {\"x\": 1.25621402, \"y\": 2.1758265078203456, \"z\": 3.8542891566152226}});\n\tviewer_15958893339023685.addLine({\"color\": \"blue\", \"start\": {\"x\": -1.25621402, \"y\": 2.1758265078203456, \"z\": 3.8542891566152226}, \"end\": {\"x\": -1.25621402, \"y\": 2.1758265078203456, \"z\": 0.0}});\n\tviewer_15958893339023685.addLine({\"color\": \"blue\", \"start\": {\"x\": -1.25621402, \"y\": 2.1758265078203456, \"z\": 3.8542891566152226}, \"end\": {\"x\": 0.0, \"y\": 0.0, \"z\": 3.8542891566152226}});\n\tviewer_15958893339023685.addLine({\"color\": \"blue\", \"start\": {\"x\": -1.25621402, \"y\": 2.1758265078203456, \"z\": 3.8542891566152226}, \"end\": {\"x\": 1.25621402, \"y\": 2.1758265078203456, \"z\": 3.8542891566152226}});\n\tviewer_15958893339023685.zoomTo();\nviewer_15958893339023685.render();\n});\n</script>",
      "text/html": [
       "<div id=\"3dmolviewer_15958893339023685\"  style=\"position: relative; width: 800px; height: 800px\">\n",
       "        <p id=\"3dmolwarning_15958893339023685\" style=\"background-color:#ffcccc;color:black\">You appear to be running in JupyterLab (or JavaScript failed to load for some other reason).  You need to install the 3dmol extension: <br>\n",
       "        <tt>jupyter labextension install jupyterlab_3dmol</tt></p>\n",
       "        </div>\n",
       "<script>\n",
       "\n",
       "var loadScriptAsync = function(uri){\n",
       "  return new Promise((resolve, reject) => {\n",
       "    var tag = document.createElement('script');\n",
       "    tag.src = uri;\n",
       "    tag.async = true;\n",
       "    tag.onload = () => {\n",
       "      resolve();\n",
       "    };\n",
       "  var firstScriptTag = document.getElementsByTagName('script')[0];\n",
       "  firstScriptTag.parentNode.insertBefore(tag, firstScriptTag);\n",
       "});\n",
       "};\n",
       "\n",
       "if(typeof $3Dmolpromise === 'undefined') {\n",
       "$3Dmolpromise = null;\n",
       "  $3Dmolpromise = loadScriptAsync('https://3dmol.csb.pitt.edu/build/3Dmol.js');\n",
       "}\n",
       "\n",
       "var viewer_15958893339023685 = null;\n",
       "var warn = document.getElementById(\"3dmolwarning_15958893339023685\");\n",
       "if(warn) {\n",
       "    warn.parentNode.removeChild(warn);\n",
       "}\n",
       "$3Dmolpromise.then(function() {\n",
       "viewer_15958893339023685 = $3Dmol.createViewer($(\"#3dmolviewer_15958893339023685\"),{backgroundColor:\"white\"});\n",
       "\tviewer_15958893339023685.addModel(\"8\\n\\nB 0.0 1.4505510052135635 1.9271445783076113\\nB -1.25621402 3.6263775130339093 1.9271445783076113\\nB 2.51242804 1.4505510052135635 1.9271445783076113\\nB 1.25621402 3.6263775130339093 1.9271445783076113\\nN 1.25621402 0.7252755026067818 1.9271445783076113\\nN 0.0 2.9011020104271275 1.9271445783076113\\nN 3.7686420600000003 0.7252755026067818 1.9271445783076113\\nN 2.5124280400000005 2.9011020104271275 1.9271445783076113\\n\",\"xyz\");\n",
       "\tviewer_15958893339023685.setStyle({\"stick\": {}});\n",
       "\tviewer_15958893339023685.addLine({\"color\": \"blue\", \"start\": {\"x\": 0.0, \"y\": 0.0, \"z\": 0.0}, \"end\": {\"x\": 2.51242804, \"y\": 0.0, \"z\": 0.0}});\n",
       "\tviewer_15958893339023685.addLine({\"color\": \"blue\", \"start\": {\"x\": 0.0, \"y\": 0.0, \"z\": 0.0}, \"end\": {\"x\": -1.25621402, \"y\": 2.1758265078203456, \"z\": 0.0}});\n",
       "\tviewer_15958893339023685.addLine({\"color\": \"blue\", \"start\": {\"x\": 0.0, \"y\": 0.0, \"z\": 0.0}, \"end\": {\"x\": 0.0, \"y\": 0.0, \"z\": 3.8542891566152226}});\n",
       "\tviewer_15958893339023685.addLine({\"color\": \"blue\", \"start\": {\"x\": 1.25621402, \"y\": 2.1758265078203456, \"z\": 0.0}, \"end\": {\"x\": 2.51242804, \"y\": 0.0, \"z\": 0.0}});\n",
       "\tviewer_15958893339023685.addLine({\"color\": \"blue\", \"start\": {\"x\": 1.25621402, \"y\": 2.1758265078203456, \"z\": 0.0}, \"end\": {\"x\": -1.25621402, \"y\": 2.1758265078203456, \"z\": 0.0}});\n",
       "\tviewer_15958893339023685.addLine({\"color\": \"blue\", \"start\": {\"x\": 1.25621402, \"y\": 2.1758265078203456, \"z\": 0.0}, \"end\": {\"x\": 1.25621402, \"y\": 2.1758265078203456, \"z\": 3.8542891566152226}});\n",
       "\tviewer_15958893339023685.addLine({\"color\": \"blue\", \"start\": {\"x\": 2.51242804, \"y\": 0.0, \"z\": 3.8542891566152226}, \"end\": {\"x\": 2.51242804, \"y\": 0.0, \"z\": 0.0}});\n",
       "\tviewer_15958893339023685.addLine({\"color\": \"blue\", \"start\": {\"x\": 2.51242804, \"y\": 0.0, \"z\": 3.8542891566152226}, \"end\": {\"x\": 0.0, \"y\": 0.0, \"z\": 3.8542891566152226}});\n",
       "\tviewer_15958893339023685.addLine({\"color\": \"blue\", \"start\": {\"x\": 2.51242804, \"y\": 0.0, \"z\": 3.8542891566152226}, \"end\": {\"x\": 1.25621402, \"y\": 2.1758265078203456, \"z\": 3.8542891566152226}});\n",
       "\tviewer_15958893339023685.addLine({\"color\": \"blue\", \"start\": {\"x\": -1.25621402, \"y\": 2.1758265078203456, \"z\": 3.8542891566152226}, \"end\": {\"x\": -1.25621402, \"y\": 2.1758265078203456, \"z\": 0.0}});\n",
       "\tviewer_15958893339023685.addLine({\"color\": \"blue\", \"start\": {\"x\": -1.25621402, \"y\": 2.1758265078203456, \"z\": 3.8542891566152226}, \"end\": {\"x\": 0.0, \"y\": 0.0, \"z\": 3.8542891566152226}});\n",
       "\tviewer_15958893339023685.addLine({\"color\": \"blue\", \"start\": {\"x\": -1.25621402, \"y\": 2.1758265078203456, \"z\": 3.8542891566152226}, \"end\": {\"x\": 1.25621402, \"y\": 2.1758265078203456, \"z\": 3.8542891566152226}});\n",
       "\tviewer_15958893339023685.zoomTo();\n",
       "viewer_15958893339023685.render();\n",
       "});\n",
       "</script>"
      ]
     },
     "metadata": {},
     "output_type": "display_data"
    }
   ],
   "source": [
    "import numpy as np\n",
    "from westpy.units import Angstrom\n",
    "A2BOHR  = Angstrom\n",
    "BOHR2A = 1.0 / Angstrom\n",
    "\n",
    "geom = Geometry()\n",
    "#define unit cell\n",
    "#>>    ibrav = 4           ,\n",
    "#>>    celldm(1) = 4.695926777902829 ,\n",
    "#>>    celldm(3) = 8.048362859199854 ,\n",
    "# 4     Hexagonal and Trigonal P   celldm(3)=c/a\n",
    "#       v1 = a(1,0,0),  v2 = a(-1/2,sqrt(3)/2,0),  v3 = a(0,0,c/a)\n",
    "#https://materialsproject.org/materials/mp-984/\n",
    "celldm_1 = 2.51242804*A2BOHR         #bohr\n",
    "celldm_3 = 7.70726501/2.0/2.512      #c/a\n",
    "geom.addSpecies( \"B\", \"http://www.quantum-simulation.org/potentials/sg15_oncv/upf/B_ONCV_PBE-1.2.upf\")\n",
    "geom.addSpecies( \"N\", \"http://www.quantum-simulation.org/potentials/sg15_oncv/upf/N_ONCV_PBE-1.2.upf\")\n",
    "geom.setCell(a1=(1,0,0), a2=(-1/2,np.sqrt(3)/2,0), a3=(0,0,celldm_3), units=celldm_1)\n",
    "#fraction coords to cartesian matrix | the a1 a2 a3 already include scale celldm_1, Therefore, units = Bohr\n",
    "geom.addFracCoordAtom('B', (1/3.0, 2/3.0,0.5))\n",
    "geom.addFracCoordAtom('N', (2/3.0, 1/3.0,0.5))\n",
    "geom.view(style='stick',ix=2,iy=2)"
   ]
  },
  {
   "cell_type": "markdown",
   "metadata": {},
   "source": [
    "Generate pw.in by WESTpy"
   ]
  },
  {
   "cell_type": "markdown",
   "metadata": {},
   "source": [
    "step1: a plane wave cutoff of 70 Ry and a k-point mesh corresponding to 12×12×1 or higher in the primitive cell. Get the structural parameters."
   ]
  },
  {
   "cell_type": "code",
   "execution_count": 8,
   "metadata": {
    "ExecuteTime": {
     "end_time": "2020-07-22T09:32:08.889846Z",
     "start_time": "2020-07-22T09:32:07.311615Z"
    }
   },
   "outputs": [
    {
     "name": "stdout",
     "output_type": "stream",
     "text": [
      "\n",
      "Generated file:  pw.in\n",
      "Downloaded file:  B_ONCV_PBE-1.2.upf , from url:  http://www.quantum-simulation.org/potentials/sg15_oncv/upf/B_ONCV_PBE-1.2.upf\n",
      "Downloaded file:  N_ONCV_PBE-1.2.upf , from url:  http://www.quantum-simulation.org/potentials/sg15_oncv/upf/N_ONCV_PBE-1.2.upf\n"
     ]
    }
   ],
   "source": [
    "gs = GroundState(geom,xc=\"PBE\",ecut=70.0)\n",
    "gs.setNempty(nempty=0)\n",
    "gs.setKmesh((12,12,1))\n",
    "gs.generateInputPW()\n",
    "gs.downloadPseudopotentials()"
   ]
  },
  {
   "cell_type": "markdown",
   "metadata": {},
   "source": [
    "Manully change pw.in from scf to vc-relax"
   ]
  },
  {
   "cell_type": "code",
   "execution_count": 9,
   "metadata": {
    "ExecuteTime": {
     "end_time": "2020-07-22T10:31:16.632949Z",
     "start_time": "2020-07-22T10:31:15.632519Z"
    }
   },
   "outputs": [
    {
     "name": "stdout",
     "output_type": "stream",
     "text": [
      "&CONTROL\n",
      "calculation       = 'vc-relax'\n",
      "restart_mode      = 'from_scratch'\n",
      "pseudo_dir        = './'\n",
      "outdir            = './'\n",
      "prefix            = 'calc'\n",
      "wf_collect        = .TRUE.\n",
      "etot_conv_thr     = 1.0d-6,\n",
      "forc_conv_thr     = 1.0d-6,\n",
      "nstep             = 200,\n",
      "/\n",
      "&SYSTEM\n",
      "ibrav             = 0\n",
      "nat               = 2\n",
      "ntyp              = 2\n",
      "ecutwfc           = 70.0\n",
      "nbnd              = 8\n",
      "input_dft         = 'PBE'\n",
      "nosym             = .TRUE.\n",
      "noinv             = .TRUE.\n",
      "/\n",
      "&ELECTRONS\n",
      "diago_full_acc = .TRUE.\n",
      "conv_thr       = 1.d-8\n",
      "/\n",
      "&ions\n",
      "ion_dynamics   = 'bfgs'\n",
      "/\n",
      "&cell\n",
      "cell_dynamics  = 'bfgs',\n",
      "press          = 0.0,\n",
      "press_conv_thr = 0.1,\n",
      "/\n",
      "ATOMIC_SPECIES\n",
      "B 10.81 B_ONCV_PBE-1.2.upf\n",
      "N 14.007 N_ONCV_PBE-1.2.upf\n",
      "ATOMIC_POSITIONS {bohr}\n",
      "B 0.0 2.7411441296382604 3.641775455537573\n",
      "N 2.3739004517013185 1.3705720648191302 3.641775455537573\n",
      "K_POINTS {automatic}\n",
      "12 12 1 0 0 0\n",
      "CELL_PARAMETERS {bohr}\n",
      "4.747800903402637 0.0 0.0\n",
      "-2.3739004517013185 4.111716194457391 0.0\n",
      "0.0 0.0 7.283550911075146\n"
     ]
    }
   ],
   "source": [
    "%%bash\n",
    "cat pw.in"
   ]
  },
  {
   "cell_type": "markdown",
   "metadata": {},
   "source": [
    "run pw.x relax on server"
   ]
  },
  {
   "cell_type": "code",
   "execution_count": 10,
   "metadata": {
    "ExecuteTime": {
     "end_time": "2020-07-22T10:31:39.199004Z",
     "start_time": "2020-07-22T10:31:31.094538Z"
    }
   },
   "outputs": [
    {
     "name": "stdout",
     "output_type": "stream",
     "text": [
      "-----------------------Tracking local files change before push ---------------------------\n",
      "Files Added:\n",
      "\t/home/lan/Desktop/hBN_benchmark/rcc/relax/pw.in\n",
      "\t/home/lan/Desktop/hBN_benchmark/rcc/relax/B_ONCV_PBE-1.2.upf\n",
      "\t/home/lan/Desktop/hBN_benchmark/rcc/relax/N_ONCV_PBE-1.2.upf\n",
      "Folder Added:\n",
      "\t/home/lan/Desktop/hBN_benchmark/rcc/relax\n",
      "------------------------------------------------------------------------------------------\n",
      "\u001b[1;1msynchronizing local:/home/lan/Desktop/hBN_benchmark/rcc  ->  remote:/home/huangl1/simulation\u001b[0m\n",
      "\u001b[1;32mUpload local  dir:/home/lan/Desktop/hBN_benchmark/rcc/relax\u001b[0m\n"
     ]
    }
   ],
   "source": [
    "%push "
   ]
  },
  {
   "cell_type": "code",
   "execution_count": 11,
   "metadata": {
    "ExecuteTime": {
     "end_time": "2020-07-22T10:31:41.922494Z",
     "start_time": "2020-07-22T10:31:41.917498Z"
    }
   },
   "outputs": [
    {
     "name": "stdout",
     "output_type": "stream",
     "text": [
      "\r\n",
      "[huangl1@midway2-login2 simulation]$ pwd\r\n",
      "/home/huangl1/simulation\r\n",
      "[huangl1@midway2-login2 simulation]$ cd relax\r\n",
      "[huangl1@midway2-login2 relax]$ pwd\r\n",
      "/home/huangl1/simulation/relax\r\n",
      "[huangl1@midway2-login2 relax]$ ls\r\n",
      "B_ONCV_PBE-1.2.upf  N_ONCV_PBE-1.2.upf  pw.in\r\n",
      "[huangl1@midway2-login2 relax]$ \n",
      " "
     ]
    }
   ],
   "source": [
    "%%r\n",
    "pwd\n",
    "cd relax\n",
    "pwd\n",
    "ls"
   ]
  },
  {
   "cell_type": "markdown",
   "metadata": {},
   "source": [
    "debug mode of rcc to run our relax pw.in"
   ]
  },
  {
   "cell_type": "code",
   "execution_count": 12,
   "metadata": {
    "ExecuteTime": {
     "end_time": "2020-07-22T10:31:48.325478Z",
     "start_time": "2020-07-22T10:31:48.318483Z"
    }
   },
   "outputs": [
    {
     "name": "stdout",
     "output_type": "stream",
     "text": [
      "ks=2teractive --qos=debug --time=00:15:00 --ntas \n",
      "Submitted batch job 3167853\n",
      "\n",
      "For more documentation on sinteractive go here:\n",
      "https://rcc.uchicago.edu/docs/using-midway/index.html#interactive-jobs\n",
      "\n",
      "Wall time for this job (format [days-]hours:minutes:seconds): 00:15:00\n",
      "\n",
      "Waiting for job ID 3167853 to start (press CTRL-C to stop)\n",
      ".Warning: Permanently added 'midway2-0189.rcc.local,10.50.221.189' (RSA) to the list of known hosts.\n",
      "\u001b[?1h\u001b=\u001b[0m\u0000\u0000\u0000\u0000\u0000\u0000\u0000\u0000\u001b(B\u001b[1;24r\u001b[H\u001b[J\u0000\u0000\u0000\u0000\u0000\u0000\u0000\u0000\u0000\u0000\u0000\u0000\u0000\u0000\u0000\u0000\u0000\u0000\u0000\u0000\u0000\u0000\u0000\u0000\u0000\u0000\u0000\u0000\u0000\u0000\u0000\u0000\u0000\u0000\u0000\u0000\u0000\u0000\u0000\u0000\u0000\u0000\u0000\u0000\u0000\u0000\u0000\u0000\u0000\u0000\u0000\u0000\u0000\u0000\u0000\u0000\u0000\u0000\u0000\u0000\u0000\u0000\u0000\u0000\u0000\u0000\u0000\u0000\u0000\u0000\u0000\u0000\u0000\u0000\u0000\u0000\u0000\u0000\u0000\u0000\u0000\u0000\u0000\u0000\u0000\u0000\u0000\u0000\u0000\u0000\u0000\u0000\u0000\u0000\u0000\u0000\u0000\u0000\u0000\u0000\u0000\u0000\u0000\u0000\u0000\u0000\u0000\u0000\u0000\u0000\u0000\u0000\u0000\u0000\u0000\u0000\u0000\u0000\u0000\u0000\u0000\u0000\u0000\u0000\u0000\u0000\u0000\u0000\u0000\u0000\u0000\u0000\u0000\u0000\u0000\u0000\u0000\u0000\u0000\u0000\u0000\u0000\u0000\u0000\u0000\u0000\u0000\u0000\u0000\u0000\u0000\u0000\u0000\u0000\u0000\u0000\u0000\u0000\u0000\u0000\u0000\u0000\u0000\u0000\u0000\u0000\u0000\u0000\u0000\u0000\u0000\u0000\u0000\u0000\u0000\u0000\u0000\u0000\u0000\u0000\u0000\u0000\u0000\u0000\u0000\u0000\u0000\u0000\u0000\u0000\u0000\u0000\u0000\u0000\u0000\u0000\u0000\u0000\u0000\u0000\u0000\u0000\u0000\u0000\u0000\u0000\u0000\u0000\u0000\u0000\u0000\u0000\u0000\u001b[H\u001b[J\u0000\u0000\u0000\u0000\u0000\u0000\u0000\u0000\u0000\u0000\u0000\u0000\u0000\u0000\u0000\u0000\u0000\u0000\u0000\u0000\u0000\u0000\u0000\u0000\u0000\u0000\u0000\u0000\u0000\u0000\u0000\u0000\u0000\u0000\u0000\u0000\u0000\u0000\u0000\u0000\u0000\u0000\u0000\u0000\u0000\u0000\u0000\u0000\u0000\u0000\u0000\u0000\u0000\u0000\u0000\u0000\u0000\u0000\u0000\u0000\u0000\u0000\u0000\u0000\u0000\u0000\u0000\u0000\u0000\u0000\u0000\u0000\u0000\u0000\u0000\u0000\u0000\u0000\u0000\u0000\u0000\u0000\u0000\u0000\u0000\u0000\u0000\u0000\u0000\u0000\u0000\u0000\u0000\u0000\u0000\u0000\u0000\u0000\u0000\u0000\u0000\u0000\u0000\u0000\u0000\u0000\u0000\u0000\u0000\u0000\u0000\u0000\u0000\u0000\u0000\u0000\u0000\u0000\u0000\u0000\u0000\u0000\u0000\u0000\u0000\u0000\u0000\u0000\u0000\u0000\u0000\u0000\u0000\u0000\u0000\u0000\u0000\u0000\u0000\u0000\u0000\u0000\u0000\u0000\u0000\u0000\u0000\u0000\u0000\u0000\u0000\u0000\u0000\u0000\u0000\u0000\u0000\u0000\u0000\u0000\u0000\u0000\u0000\u0000\u0000\u0000\u0000\u0000\u0000\u0000\u0000\u0000\u0000\u0000\u0000\u0000\u0000\u0000\u0000\u0000\u0000\u0000\u0000\u0000\u0000\u0000\u0000\u0000\u0000\u0000\u0000\u0000\u0000\u0000\u0000\u0000\u0000\u0000\u0000\u0000\u0000\u0000\u0000\u0000\u0000\u0000\u0000\u0000\u0000\u0000\u0000\u0000\u0000[huangl1@midway2-0189 relax]$ \n",
      " "
     ]
    }
   ],
   "source": [
    "%r  sinteractive --qos=debug --time=00:15:00 --ntasks=2"
   ]
  },
  {
   "cell_type": "code",
   "execution_count": 13,
   "metadata": {
    "ExecuteTime": {
     "end_time": "2020-07-22T10:32:10.772689Z",
     "start_time": "2020-07-22T10:32:10.765691Z"
    }
   },
   "outputs": [
    {
     "name": "stdout",
     "output_type": "stream",
     "text": [
      "mpirun -np 2 pw.x -i pw.in > pw.out\r\n"
     ]
    }
   ],
   "source": [
    "%r mpirun -np 2 pw.x -i pw.in > pw.out"
   ]
  },
  {
   "cell_type": "code",
   "execution_count": 19,
   "metadata": {
    "ExecuteTime": {
     "end_time": "2020-07-22T10:35:21.835738Z",
     "start_time": "2020-07-22T10:35:21.828741Z"
    }
   },
   "outputs": [
    {
     "name": "stdout",
     "output_type": "stream",
     "text": [
      "grep 'JOB DONE' pw.out\r\n",
      "   \u001b[1m\u0000\u0000\u0000\u0000\u0000\u0000\u0000\u0000\u001b[31m\u001b[K\u0000\u0000\u0000\u0000\u0000\u0000\u0000\u0000\u0000\u0000\u0000\u0000JOB DONE\u001b[0m\u0000\u0000\u0000\u0000\u0000\u0000\u0000\u0000\u001b[K\u0000\u0000\u0000\u0000\u0000\u0000\u0000\u0000\u0000\u0000\u0000\u0000.\r\n",
      "[huangl1@midway2-0189 relax]$ \n",
      " "
     ]
    }
   ],
   "source": [
    "%r grep 'JOB DONE' pw.out"
   ]
  },
  {
   "cell_type": "code",
   "execution_count": 20,
   "metadata": {
    "ExecuteTime": {
     "end_time": "2020-07-22T10:35:30.946584Z",
     "start_time": "2020-07-22T10:35:30.940589Z"
    }
   },
   "outputs": [
    {
     "name": "stdout",
     "output_type": "stream",
     "text": [
      "rm -r calc*\r\n",
      "[huangl1@midway2-0189 relax]$ \n",
      " "
     ]
    }
   ],
   "source": [
    "#clean the calc* folder at remote\n",
    "%r rm -r calc*"
   ]
  },
  {
   "cell_type": "code",
   "execution_count": 21,
   "metadata": {
    "ExecuteTime": {
     "end_time": "2020-07-22T10:35:38.491773Z",
     "start_time": "2020-07-22T10:35:38.484796Z"
    }
   },
   "outputs": [
    {
     "name": "stdout",
     "output_type": "stream",
     "text": [
      "ls\r\n",
      "B_ONCV_PBE-1.2.upf  N_ONCV_PBE-1.2.upf  pw.in  pw.out\r\n",
      "[huangl1@midway2-0189 relax]$ \n",
      " "
     ]
    }
   ],
   "source": [
    "%r ls"
   ]
  },
  {
   "cell_type": "code",
   "execution_count": 22,
   "metadata": {
    "ExecuteTime": {
     "end_time": "2020-07-22T10:35:43.325756Z",
     "start_time": "2020-07-22T10:35:42.373105Z"
    }
   },
   "outputs": [
    {
     "name": "stdout",
     "output_type": "stream",
     "text": [
      "\u001b[1;1msynchronizing remote:/home/huangl1/simulation  ->  local:/home/lan/Desktop/hBN_benchmark/rcc\u001b[0m\n",
      "\u001b[32mDowload remote file:/home/huangl1/simulation/relax/pw.out\u001b[0m\n",
      "--------------------------- Local files change after pull -------------------------------\n",
      "Files Added:\n",
      "\t/home/lan/Desktop/hBN_benchmark/rcc/relax/pw.out\n",
      "------------------------------------------------------------------------------------------\n"
     ]
    }
   ],
   "source": [
    "%pull"
   ]
  },
  {
   "cell_type": "markdown",
   "metadata": {},
   "source": [
    "get relaxed cell parameters"
   ]
  },
  {
   "cell_type": "code",
   "execution_count": 23,
   "metadata": {
    "ExecuteTime": {
     "end_time": "2020-07-22T10:36:08.751629Z",
     "start_time": "2020-07-22T10:36:07.861137Z"
    }
   },
   "outputs": [
    {
     "name": "stdout",
     "output_type": "stream",
     "text": [
      "   4.720848803  -0.000000504  -0.000000126\n",
      "  -2.360424838   4.088374745  -0.000000007\n",
      "  -0.000000206  -0.000000131   8.878321379\n"
     ]
    }
   ],
   "source": [
    "%%bash\n",
    "grep -a3 'CELL_PARAMETERS' pw.out | tail -n3"
   ]
  },
  {
   "cell_type": "markdown",
   "metadata": {},
   "source": [
    "get relaxed atom position"
   ]
  },
  {
   "cell_type": "code",
   "execution_count": 24,
   "metadata": {
    "ExecuteTime": {
     "end_time": "2020-07-22T10:36:29.924347Z",
     "start_time": "2020-07-22T10:36:29.044848Z"
    }
   },
   "outputs": [
    {
     "name": "stdout",
     "output_type": "stream",
     "text": [
      "B       -0.000000875   2.725583229   4.439160632\n",
      "N        2.360424634   1.362790881   4.439160615\n"
     ]
    }
   ],
   "source": [
    "%%bash\n",
    "grep -a2 'ATOMIC_POSITIONS' pw.out | tail -n2"
   ]
  },
  {
   "cell_type": "markdown",
   "metadata": {},
   "source": [
    "# setup new relaxed geom"
   ]
  },
  {
   "cell_type": "code",
   "execution_count": 20,
   "metadata": {
    "ExecuteTime": {
     "end_time": "2020-07-22T19:05:25.041883Z",
     "start_time": "2020-07-22T19:05:24.483202Z"
    }
   },
   "outputs": [
    {
     "data": {
      "application/3dmoljs_load.v0": "<div id=\"3dmolviewer_15958894392234886\"  style=\"position: relative; width: 800px; height: 800px\">\n        <p id=\"3dmolwarning_15958894392234886\" style=\"background-color:#ffcccc;color:black\">You appear to be running in JupyterLab (or JavaScript failed to load for some other reason).  You need to install the 3dmol extension: <br>\n        <tt>jupyter labextension install jupyterlab_3dmol</tt></p>\n        </div>\n<script>\n\nvar loadScriptAsync = function(uri){\n  return new Promise((resolve, reject) => {\n    var tag = document.createElement('script');\n    tag.src = uri;\n    tag.async = true;\n    tag.onload = () => {\n      resolve();\n    };\n  var firstScriptTag = document.getElementsByTagName('script')[0];\n  firstScriptTag.parentNode.insertBefore(tag, firstScriptTag);\n});\n};\n\nif(typeof $3Dmolpromise === 'undefined') {\n$3Dmolpromise = null;\n  $3Dmolpromise = loadScriptAsync('https://3dmol.csb.pitt.edu/build/3Dmol.js');\n}\n\nvar viewer_15958894392234886 = null;\nvar warn = document.getElementById(\"3dmolwarning_15958894392234886\");\nif(warn) {\n    warn.parentNode.removeChild(warn);\n}\n$3Dmolpromise.then(function() {\nviewer_15958894392234886 = $3Dmol.createViewer($(\"#3dmolviewer_15958894392234886\"),{backgroundColor:\"white\"});\n\tviewer_15958894392234886.addModel(\"8\\n\\nB -4.630300595428247e-07 1.4423165312146222 2.3491026420058554\\nB -1.249083495356348 3.6057912759126003 2.349102638301615\\nB 2.498165139650812 1.442316264509308 2.349102575329527\\nB 1.2490821073245235 3.6057910092072865 2.3491025716252865\\nN 1.2490829243741375 0.7211578774558269 2.3491026330098426\\nN -1.0795215099612676e-07 2.8846326221538052 2.349102629305602\\nN 3.7472485270550093 0.7211576107505127 2.349102566333514\\nN 2.498165494728721 2.884632355448491 2.3491025626292736\\n\",\"xyz\");\n\tviewer_15958894392234886.setStyle({\"stick\": {}});\n\tviewer_15958894392234886.addLine({\"color\": \"blue\", \"start\": {\"x\": 0.0, \"y\": 0.0, \"z\": 0.0}, \"end\": {\"x\": 2.4981656026808716, \"y\": -2.66705314296667e-07, \"z\": -6.667632857416676e-08}});\n\tviewer_15958894392234886.addLine({\"color\": \"blue\", \"start\": {\"x\": 0.0, \"y\": 0.0, \"z\": 0.0}, \"end\": {\"x\": -1.2490830323262885, \"y\": 2.1634747446979783, \"z\": -3.7042404763425974e-09}});\n\tviewer_15958894392234886.addLine({\"color\": \"blue\", \"start\": {\"x\": 0.0, \"y\": 0.0, \"z\": 0.0}, \"end\": {\"x\": -1.0901050544665359e-07, \"y\": -6.932221462869718e-08, \"z\": 4.69820534486709}});\n\tviewer_15958894392234886.addLine({\"color\": \"blue\", \"start\": {\"x\": 1.2490825703545831, \"y\": 2.163474477992664, \"z\": -7.038056905050935e-08}, \"end\": {\"x\": 2.4981656026808716, \"y\": -2.66705314296667e-07, \"z\": -6.667632857416676e-08}});\n\tviewer_15958894392234886.addLine({\"color\": \"blue\", \"start\": {\"x\": 1.2490825703545831, \"y\": 2.163474477992664, \"z\": -7.038056905050935e-08}, \"end\": {\"x\": -1.2490830323262885, \"y\": 2.1634747446979783, \"z\": -3.7042404763425974e-09}});\n\tviewer_15958894392234886.addLine({\"color\": \"blue\", \"start\": {\"x\": 1.2490825703545831, \"y\": 2.163474477992664, \"z\": -7.038056905050935e-08}, \"end\": {\"x\": 1.2490824613440776, \"y\": 2.1634744086704494, \"z\": 4.698205274486521}});\n\tviewer_15958894392234886.addLine({\"color\": \"blue\", \"start\": {\"x\": 2.498165493670366, \"y\": -3.360275289253642e-07, \"z\": 4.698205278190762}, \"end\": {\"x\": 2.4981656026808716, \"y\": -2.66705314296667e-07, \"z\": -6.667632857416676e-08}});\n\tviewer_15958894392234886.addLine({\"color\": \"blue\", \"start\": {\"x\": 2.498165493670366, \"y\": -3.360275289253642e-07, \"z\": 4.698205278190762}, \"end\": {\"x\": -1.0901050544665359e-07, \"y\": -6.932221462869718e-08, \"z\": 4.69820534486709}});\n\tviewer_15958894392234886.addLine({\"color\": \"blue\", \"start\": {\"x\": 2.498165493670366, \"y\": -3.360275289253642e-07, \"z\": 4.698205278190762}, \"end\": {\"x\": 1.2490824613440776, \"y\": 2.1634744086704494, \"z\": 4.698205274486521}});\n\tviewer_15958894392234886.addLine({\"color\": \"blue\", \"start\": {\"x\": -1.249083141336794, \"y\": 2.1634746753757637, \"z\": 4.69820534116285}, \"end\": {\"x\": -1.2490830323262885, \"y\": 2.1634747446979783, \"z\": -3.7042404763425974e-09}});\n\tviewer_15958894392234886.addLine({\"color\": \"blue\", \"start\": {\"x\": -1.249083141336794, \"y\": 2.1634746753757637, \"z\": 4.69820534116285}, \"end\": {\"x\": -1.0901050544665359e-07, \"y\": -6.932221462869718e-08, \"z\": 4.69820534486709}});\n\tviewer_15958894392234886.addLine({\"color\": \"blue\", \"start\": {\"x\": -1.249083141336794, \"y\": 2.1634746753757637, \"z\": 4.69820534116285}, \"end\": {\"x\": 1.2490824613440776, \"y\": 2.1634744086704494, \"z\": 4.698205274486521}});\n\tviewer_15958894392234886.zoomTo();\nviewer_15958894392234886.render();\n});\n</script>",
      "text/html": [
       "<div id=\"3dmolviewer_15958894392234886\"  style=\"position: relative; width: 800px; height: 800px\">\n",
       "        <p id=\"3dmolwarning_15958894392234886\" style=\"background-color:#ffcccc;color:black\">You appear to be running in JupyterLab (or JavaScript failed to load for some other reason).  You need to install the 3dmol extension: <br>\n",
       "        <tt>jupyter labextension install jupyterlab_3dmol</tt></p>\n",
       "        </div>\n",
       "<script>\n",
       "\n",
       "var loadScriptAsync = function(uri){\n",
       "  return new Promise((resolve, reject) => {\n",
       "    var tag = document.createElement('script');\n",
       "    tag.src = uri;\n",
       "    tag.async = true;\n",
       "    tag.onload = () => {\n",
       "      resolve();\n",
       "    };\n",
       "  var firstScriptTag = document.getElementsByTagName('script')[0];\n",
       "  firstScriptTag.parentNode.insertBefore(tag, firstScriptTag);\n",
       "});\n",
       "};\n",
       "\n",
       "if(typeof $3Dmolpromise === 'undefined') {\n",
       "$3Dmolpromise = null;\n",
       "  $3Dmolpromise = loadScriptAsync('https://3dmol.csb.pitt.edu/build/3Dmol.js');\n",
       "}\n",
       "\n",
       "var viewer_15958894392234886 = null;\n",
       "var warn = document.getElementById(\"3dmolwarning_15958894392234886\");\n",
       "if(warn) {\n",
       "    warn.parentNode.removeChild(warn);\n",
       "}\n",
       "$3Dmolpromise.then(function() {\n",
       "viewer_15958894392234886 = $3Dmol.createViewer($(\"#3dmolviewer_15958894392234886\"),{backgroundColor:\"white\"});\n",
       "\tviewer_15958894392234886.addModel(\"8\\n\\nB -4.630300595428247e-07 1.4423165312146222 2.3491026420058554\\nB -1.249083495356348 3.6057912759126003 2.349102638301615\\nB 2.498165139650812 1.442316264509308 2.349102575329527\\nB 1.2490821073245235 3.6057910092072865 2.3491025716252865\\nN 1.2490829243741375 0.7211578774558269 2.3491026330098426\\nN -1.0795215099612676e-07 2.8846326221538052 2.349102629305602\\nN 3.7472485270550093 0.7211576107505127 2.349102566333514\\nN 2.498165494728721 2.884632355448491 2.3491025626292736\\n\",\"xyz\");\n",
       "\tviewer_15958894392234886.setStyle({\"stick\": {}});\n",
       "\tviewer_15958894392234886.addLine({\"color\": \"blue\", \"start\": {\"x\": 0.0, \"y\": 0.0, \"z\": 0.0}, \"end\": {\"x\": 2.4981656026808716, \"y\": -2.66705314296667e-07, \"z\": -6.667632857416676e-08}});\n",
       "\tviewer_15958894392234886.addLine({\"color\": \"blue\", \"start\": {\"x\": 0.0, \"y\": 0.0, \"z\": 0.0}, \"end\": {\"x\": -1.2490830323262885, \"y\": 2.1634747446979783, \"z\": -3.7042404763425974e-09}});\n",
       "\tviewer_15958894392234886.addLine({\"color\": \"blue\", \"start\": {\"x\": 0.0, \"y\": 0.0, \"z\": 0.0}, \"end\": {\"x\": -1.0901050544665359e-07, \"y\": -6.932221462869718e-08, \"z\": 4.69820534486709}});\n",
       "\tviewer_15958894392234886.addLine({\"color\": \"blue\", \"start\": {\"x\": 1.2490825703545831, \"y\": 2.163474477992664, \"z\": -7.038056905050935e-08}, \"end\": {\"x\": 2.4981656026808716, \"y\": -2.66705314296667e-07, \"z\": -6.667632857416676e-08}});\n",
       "\tviewer_15958894392234886.addLine({\"color\": \"blue\", \"start\": {\"x\": 1.2490825703545831, \"y\": 2.163474477992664, \"z\": -7.038056905050935e-08}, \"end\": {\"x\": -1.2490830323262885, \"y\": 2.1634747446979783, \"z\": -3.7042404763425974e-09}});\n",
       "\tviewer_15958894392234886.addLine({\"color\": \"blue\", \"start\": {\"x\": 1.2490825703545831, \"y\": 2.163474477992664, \"z\": -7.038056905050935e-08}, \"end\": {\"x\": 1.2490824613440776, \"y\": 2.1634744086704494, \"z\": 4.698205274486521}});\n",
       "\tviewer_15958894392234886.addLine({\"color\": \"blue\", \"start\": {\"x\": 2.498165493670366, \"y\": -3.360275289253642e-07, \"z\": 4.698205278190762}, \"end\": {\"x\": 2.4981656026808716, \"y\": -2.66705314296667e-07, \"z\": -6.667632857416676e-08}});\n",
       "\tviewer_15958894392234886.addLine({\"color\": \"blue\", \"start\": {\"x\": 2.498165493670366, \"y\": -3.360275289253642e-07, \"z\": 4.698205278190762}, \"end\": {\"x\": -1.0901050544665359e-07, \"y\": -6.932221462869718e-08, \"z\": 4.69820534486709}});\n",
       "\tviewer_15958894392234886.addLine({\"color\": \"blue\", \"start\": {\"x\": 2.498165493670366, \"y\": -3.360275289253642e-07, \"z\": 4.698205278190762}, \"end\": {\"x\": 1.2490824613440776, \"y\": 2.1634744086704494, \"z\": 4.698205274486521}});\n",
       "\tviewer_15958894392234886.addLine({\"color\": \"blue\", \"start\": {\"x\": -1.249083141336794, \"y\": 2.1634746753757637, \"z\": 4.69820534116285}, \"end\": {\"x\": -1.2490830323262885, \"y\": 2.1634747446979783, \"z\": -3.7042404763425974e-09}});\n",
       "\tviewer_15958894392234886.addLine({\"color\": \"blue\", \"start\": {\"x\": -1.249083141336794, \"y\": 2.1634746753757637, \"z\": 4.69820534116285}, \"end\": {\"x\": -1.0901050544665359e-07, \"y\": -6.932221462869718e-08, \"z\": 4.69820534486709}});\n",
       "\tviewer_15958894392234886.addLine({\"color\": \"blue\", \"start\": {\"x\": -1.249083141336794, \"y\": 2.1634746753757637, \"z\": 4.69820534116285}, \"end\": {\"x\": 1.2490824613440776, \"y\": 2.1634744086704494, \"z\": 4.698205274486521}});\n",
       "\tviewer_15958894392234886.zoomTo();\n",
       "viewer_15958894392234886.render();\n",
       "});\n",
       "</script>"
      ]
     },
     "metadata": {},
     "output_type": "display_data"
    }
   ],
   "source": [
    "geom = Geometry()\n",
    "geom.addSpecies( \"B\", \"http://www.quantum-simulation.org/potentials/sg15_oncv/upf/B_ONCV_PBE-1.2.upf\")\n",
    "geom.addSpecies( \"N\", \"http://www.quantum-simulation.org/potentials/sg15_oncv/upf/N_ONCV_PBE-1.2.upf\")\n",
    "geom.setCell(a1=(4.720848803 , -0.000000504 , -0.000000126), a2=(-2.360424838 ,  4.088374745 , -0.000000007), a3=(-0.000000206 , -0.000000131 ,  8.878321379))\n",
    "geom.addAtom('B', (-0.000000875 ,  2.725583229 ,  4.439160632))\n",
    "geom.addAtom('N', (2.360424634 ,  1.362790881  , 4.439160615))\n",
    "geom.view(style='stick',ix=2,iy=2)"
   ]
  },
  {
   "cell_type": "markdown",
   "metadata": {},
   "source": [
    "# hBN WEST  wstat  wfreq parameter converge scan"
   ]
  },
  {
   "cell_type": "code",
   "execution_count": 7,
   "metadata": {
    "ExecuteTime": {
     "end_time": "2020-07-22T19:12:29.175005Z",
     "start_time": "2020-07-22T19:12:29.170009Z"
    }
   },
   "outputs": [
    {
     "name": "stdout",
     "output_type": "stream",
     "text": [
      "Change directory to LOCAL_WORKING_DIR:/home/lan/Desktop/hBN_benchmark/rcc\n"
     ]
    }
   ],
   "source": [
    "jm.cd_LOCAL_WORKING_DIR()"
   ]
  },
  {
   "cell_type": "markdown",
   "metadata": {},
   "source": [
    "## Test  Ecut"
   ]
  },
  {
   "cell_type": "code",
   "execution_count": 86,
   "metadata": {
    "ExecuteTime": {
     "end_time": "2020-07-22T19:12:30.477402Z",
     "start_time": "2020-07-22T19:12:30.417424Z"
    }
   },
   "outputs": [
    {
     "name": "stdout",
     "output_type": "stream",
     "text": [
      "mkdir: cannot create directory ‘test_ecut’: File exists\n",
      "/home/lan/Desktop/hBN_benchmark/rcc/test_ecut\n"
     ]
    }
   ],
   "source": [
    "%mkdir test_ecut\n",
    "%cd test_ecut"
   ]
  },
  {
   "cell_type": "code",
   "execution_count": 87,
   "metadata": {
    "ExecuteTime": {
     "end_time": "2020-07-22T19:12:33.215057Z",
     "start_time": "2020-07-22T19:12:33.210057Z"
    }
   },
   "outputs": [],
   "source": [
    "parameters = {'job_name': 'pw',\n",
    "              'time': '01:30:00',\n",
    "              'queue': 'broadwl',\n",
    "              'nodes': 1,\n",
    "              'ntasks_per_node': 1,\n",
    "              'cpus_per_task': 4,\n",
    "              'mem_per_cpu': 2000,\n",
    "              'cmd': 'mpirun -np $NTASKS pw.x -i pw.in > pw.out'}"
   ]
  },
  {
   "cell_type": "code",
   "execution_count": 88,
   "metadata": {
    "ExecuteTime": {
     "end_time": "2020-07-22T19:13:23.689128Z",
     "start_time": "2020-07-22T19:12:42.570709Z"
    }
   },
   "outputs": [
    {
     "name": "stdout",
     "output_type": "stream",
     "text": [
      "/home/lan/Desktop/hBN_benchmark/rcc/test_ecut/5\n",
      "\n",
      "Generated file:  pw.in\n",
      "Downloaded file:  B_ONCV_PBE-1.2.upf , from url:  http://www.quantum-simulation.org/potentials/sg15_oncv/upf/B_ONCV_PBE-1.2.upf\n",
      "Downloaded file:  N_ONCV_PBE-1.2.upf , from url:  http://www.quantum-simulation.org/potentials/sg15_oncv/upf/N_ONCV_PBE-1.2.upf\n",
      "/home/lan/Desktop/hBN_benchmark/rcc/test_ecut\n",
      "/home/lan/Desktop/hBN_benchmark/rcc/test_ecut/10\n",
      "\n",
      "Generated file:  pw.in\n",
      "Downloaded file:  B_ONCV_PBE-1.2.upf , from url:  http://www.quantum-simulation.org/potentials/sg15_oncv/upf/B_ONCV_PBE-1.2.upf\n",
      "Downloaded file:  N_ONCV_PBE-1.2.upf , from url:  http://www.quantum-simulation.org/potentials/sg15_oncv/upf/N_ONCV_PBE-1.2.upf\n",
      "/home/lan/Desktop/hBN_benchmark/rcc/test_ecut\n",
      "/home/lan/Desktop/hBN_benchmark/rcc/test_ecut/15\n",
      "\n",
      "Generated file:  pw.in\n",
      "Downloaded file:  B_ONCV_PBE-1.2.upf , from url:  http://www.quantum-simulation.org/potentials/sg15_oncv/upf/B_ONCV_PBE-1.2.upf\n",
      "Downloaded file:  N_ONCV_PBE-1.2.upf , from url:  http://www.quantum-simulation.org/potentials/sg15_oncv/upf/N_ONCV_PBE-1.2.upf\n",
      "/home/lan/Desktop/hBN_benchmark/rcc/test_ecut\n",
      "/home/lan/Desktop/hBN_benchmark/rcc/test_ecut/20\n",
      "\n",
      "Generated file:  pw.in\n",
      "Downloaded file:  B_ONCV_PBE-1.2.upf , from url:  http://www.quantum-simulation.org/potentials/sg15_oncv/upf/B_ONCV_PBE-1.2.upf\n",
      "Downloaded file:  N_ONCV_PBE-1.2.upf , from url:  http://www.quantum-simulation.org/potentials/sg15_oncv/upf/N_ONCV_PBE-1.2.upf\n",
      "/home/lan/Desktop/hBN_benchmark/rcc/test_ecut\n",
      "/home/lan/Desktop/hBN_benchmark/rcc/test_ecut/25\n",
      "\n",
      "Generated file:  pw.in\n",
      "Downloaded file:  B_ONCV_PBE-1.2.upf , from url:  http://www.quantum-simulation.org/potentials/sg15_oncv/upf/B_ONCV_PBE-1.2.upf\n",
      "Downloaded file:  N_ONCV_PBE-1.2.upf , from url:  http://www.quantum-simulation.org/potentials/sg15_oncv/upf/N_ONCV_PBE-1.2.upf\n",
      "/home/lan/Desktop/hBN_benchmark/rcc/test_ecut\n",
      "/home/lan/Desktop/hBN_benchmark/rcc/test_ecut/30\n",
      "\n",
      "Generated file:  pw.in\n",
      "Downloaded file:  B_ONCV_PBE-1.2.upf , from url:  http://www.quantum-simulation.org/potentials/sg15_oncv/upf/B_ONCV_PBE-1.2.upf\n",
      "Downloaded file:  N_ONCV_PBE-1.2.upf , from url:  http://www.quantum-simulation.org/potentials/sg15_oncv/upf/N_ONCV_PBE-1.2.upf\n",
      "/home/lan/Desktop/hBN_benchmark/rcc/test_ecut\n",
      "/home/lan/Desktop/hBN_benchmark/rcc/test_ecut/35\n",
      "\n",
      "Generated file:  pw.in\n",
      "Downloaded file:  B_ONCV_PBE-1.2.upf , from url:  http://www.quantum-simulation.org/potentials/sg15_oncv/upf/B_ONCV_PBE-1.2.upf\n",
      "Downloaded file:  N_ONCV_PBE-1.2.upf , from url:  http://www.quantum-simulation.org/potentials/sg15_oncv/upf/N_ONCV_PBE-1.2.upf\n",
      "/home/lan/Desktop/hBN_benchmark/rcc/test_ecut\n",
      "/home/lan/Desktop/hBN_benchmark/rcc/test_ecut/40\n",
      "\n",
      "Generated file:  pw.in\n",
      "Downloaded file:  B_ONCV_PBE-1.2.upf , from url:  http://www.quantum-simulation.org/potentials/sg15_oncv/upf/B_ONCV_PBE-1.2.upf\n",
      "Downloaded file:  N_ONCV_PBE-1.2.upf , from url:  http://www.quantum-simulation.org/potentials/sg15_oncv/upf/N_ONCV_PBE-1.2.upf\n",
      "/home/lan/Desktop/hBN_benchmark/rcc/test_ecut\n",
      "/home/lan/Desktop/hBN_benchmark/rcc/test_ecut/45\n",
      "\n",
      "Generated file:  pw.in\n",
      "Downloaded file:  B_ONCV_PBE-1.2.upf , from url:  http://www.quantum-simulation.org/potentials/sg15_oncv/upf/B_ONCV_PBE-1.2.upf\n",
      "Downloaded file:  N_ONCV_PBE-1.2.upf , from url:  http://www.quantum-simulation.org/potentials/sg15_oncv/upf/N_ONCV_PBE-1.2.upf\n",
      "/home/lan/Desktop/hBN_benchmark/rcc/test_ecut\n",
      "/home/lan/Desktop/hBN_benchmark/rcc/test_ecut/50\n",
      "\n",
      "Generated file:  pw.in\n",
      "Downloaded file:  B_ONCV_PBE-1.2.upf , from url:  http://www.quantum-simulation.org/potentials/sg15_oncv/upf/B_ONCV_PBE-1.2.upf\n",
      "Downloaded file:  N_ONCV_PBE-1.2.upf , from url:  http://www.quantum-simulation.org/potentials/sg15_oncv/upf/N_ONCV_PBE-1.2.upf\n",
      "/home/lan/Desktop/hBN_benchmark/rcc/test_ecut\n",
      "/home/lan/Desktop/hBN_benchmark/rcc/test_ecut/55\n",
      "\n",
      "Generated file:  pw.in\n",
      "Downloaded file:  B_ONCV_PBE-1.2.upf , from url:  http://www.quantum-simulation.org/potentials/sg15_oncv/upf/B_ONCV_PBE-1.2.upf\n",
      "Downloaded file:  N_ONCV_PBE-1.2.upf , from url:  http://www.quantum-simulation.org/potentials/sg15_oncv/upf/N_ONCV_PBE-1.2.upf\n",
      "/home/lan/Desktop/hBN_benchmark/rcc/test_ecut\n",
      "/home/lan/Desktop/hBN_benchmark/rcc/test_ecut/60\n",
      "\n",
      "Generated file:  pw.in\n",
      "Downloaded file:  B_ONCV_PBE-1.2.upf , from url:  http://www.quantum-simulation.org/potentials/sg15_oncv/upf/B_ONCV_PBE-1.2.upf\n",
      "Downloaded file:  N_ONCV_PBE-1.2.upf , from url:  http://www.quantum-simulation.org/potentials/sg15_oncv/upf/N_ONCV_PBE-1.2.upf\n",
      "/home/lan/Desktop/hBN_benchmark/rcc/test_ecut\n",
      "/home/lan/Desktop/hBN_benchmark/rcc/test_ecut/65\n",
      "\n",
      "Generated file:  pw.in\n",
      "Downloaded file:  B_ONCV_PBE-1.2.upf , from url:  http://www.quantum-simulation.org/potentials/sg15_oncv/upf/B_ONCV_PBE-1.2.upf\n",
      "Downloaded file:  N_ONCV_PBE-1.2.upf , from url:  http://www.quantum-simulation.org/potentials/sg15_oncv/upf/N_ONCV_PBE-1.2.upf\n",
      "/home/lan/Desktop/hBN_benchmark/rcc/test_ecut\n",
      "/home/lan/Desktop/hBN_benchmark/rcc/test_ecut/70\n",
      "\n",
      "Generated file:  pw.in\n",
      "Downloaded file:  B_ONCV_PBE-1.2.upf , from url:  http://www.quantum-simulation.org/potentials/sg15_oncv/upf/B_ONCV_PBE-1.2.upf\n",
      "Downloaded file:  N_ONCV_PBE-1.2.upf , from url:  http://www.quantum-simulation.org/potentials/sg15_oncv/upf/N_ONCV_PBE-1.2.upf\n",
      "/home/lan/Desktop/hBN_benchmark/rcc/test_ecut\n",
      "/home/lan/Desktop/hBN_benchmark/rcc/test_ecut/75\n",
      "\n",
      "Generated file:  pw.in\n",
      "Downloaded file:  B_ONCV_PBE-1.2.upf , from url:  http://www.quantum-simulation.org/potentials/sg15_oncv/upf/B_ONCV_PBE-1.2.upf\n",
      "Downloaded file:  N_ONCV_PBE-1.2.upf , from url:  http://www.quantum-simulation.org/potentials/sg15_oncv/upf/N_ONCV_PBE-1.2.upf\n",
      "/home/lan/Desktop/hBN_benchmark/rcc/test_ecut\n",
      "/home/lan/Desktop/hBN_benchmark/rcc/test_ecut/80\n",
      "\n",
      "Generated file:  pw.in\n",
      "Downloaded file:  B_ONCV_PBE-1.2.upf , from url:  http://www.quantum-simulation.org/potentials/sg15_oncv/upf/B_ONCV_PBE-1.2.upf\n",
      "Downloaded file:  N_ONCV_PBE-1.2.upf , from url:  http://www.quantum-simulation.org/potentials/sg15_oncv/upf/N_ONCV_PBE-1.2.upf\n",
      "/home/lan/Desktop/hBN_benchmark/rcc/test_ecut\n",
      "/home/lan/Desktop/hBN_benchmark/rcc/test_ecut/85\n",
      "\n",
      "Generated file:  pw.in\n",
      "Downloaded file:  B_ONCV_PBE-1.2.upf , from url:  http://www.quantum-simulation.org/potentials/sg15_oncv/upf/B_ONCV_PBE-1.2.upf\n",
      "Downloaded file:  N_ONCV_PBE-1.2.upf , from url:  http://www.quantum-simulation.org/potentials/sg15_oncv/upf/N_ONCV_PBE-1.2.upf\n",
      "/home/lan/Desktop/hBN_benchmark/rcc/test_ecut\n",
      "/home/lan/Desktop/hBN_benchmark/rcc/test_ecut/90\n",
      "\n",
      "Generated file:  pw.in\n",
      "Downloaded file:  B_ONCV_PBE-1.2.upf , from url:  http://www.quantum-simulation.org/potentials/sg15_oncv/upf/B_ONCV_PBE-1.2.upf\n",
      "Downloaded file:  N_ONCV_PBE-1.2.upf , from url:  http://www.quantum-simulation.org/potentials/sg15_oncv/upf/N_ONCV_PBE-1.2.upf\n",
      "/home/lan/Desktop/hBN_benchmark/rcc/test_ecut\n",
      "/home/lan/Desktop/hBN_benchmark/rcc/test_ecut/95\n",
      "\n",
      "Generated file:  pw.in\n",
      "Downloaded file:  B_ONCV_PBE-1.2.upf , from url:  http://www.quantum-simulation.org/potentials/sg15_oncv/upf/B_ONCV_PBE-1.2.upf\n",
      "Downloaded file:  N_ONCV_PBE-1.2.upf , from url:  http://www.quantum-simulation.org/potentials/sg15_oncv/upf/N_ONCV_PBE-1.2.upf\n",
      "/home/lan/Desktop/hBN_benchmark/rcc/test_ecut\n",
      "/home/lan/Desktop/hBN_benchmark/rcc/test_ecut/100\n",
      "\n",
      "Generated file:  pw.in\n",
      "Downloaded file:  B_ONCV_PBE-1.2.upf , from url:  http://www.quantum-simulation.org/potentials/sg15_oncv/upf/B_ONCV_PBE-1.2.upf\n",
      "Downloaded file:  N_ONCV_PBE-1.2.upf , from url:  http://www.quantum-simulation.org/potentials/sg15_oncv/upf/N_ONCV_PBE-1.2.upf\n",
      "/home/lan/Desktop/hBN_benchmark/rcc/test_ecut\n",
      "/home/lan/Desktop/hBN_benchmark/rcc/test_ecut/105\n",
      "\n",
      "Generated file:  pw.in\n",
      "Downloaded file:  B_ONCV_PBE-1.2.upf , from url:  http://www.quantum-simulation.org/potentials/sg15_oncv/upf/B_ONCV_PBE-1.2.upf\n",
      "Downloaded file:  N_ONCV_PBE-1.2.upf , from url:  http://www.quantum-simulation.org/potentials/sg15_oncv/upf/N_ONCV_PBE-1.2.upf\n",
      "/home/lan/Desktop/hBN_benchmark/rcc/test_ecut\n",
      "/home/lan/Desktop/hBN_benchmark/rcc/test_ecut/110\n",
      "\n",
      "Generated file:  pw.in\n",
      "Downloaded file:  B_ONCV_PBE-1.2.upf , from url:  http://www.quantum-simulation.org/potentials/sg15_oncv/upf/B_ONCV_PBE-1.2.upf\n",
      "Downloaded file:  N_ONCV_PBE-1.2.upf , from url:  http://www.quantum-simulation.org/potentials/sg15_oncv/upf/N_ONCV_PBE-1.2.upf\n",
      "/home/lan/Desktop/hBN_benchmark/rcc/test_ecut\n"
     ]
    },
    {
     "name": "stdout",
     "output_type": "stream",
     "text": [
      "/home/lan/Desktop/hBN_benchmark/rcc/test_ecut/115\n",
      "\n",
      "Generated file:  pw.in\n",
      "Downloaded file:  B_ONCV_PBE-1.2.upf , from url:  http://www.quantum-simulation.org/potentials/sg15_oncv/upf/B_ONCV_PBE-1.2.upf\n",
      "Downloaded file:  N_ONCV_PBE-1.2.upf , from url:  http://www.quantum-simulation.org/potentials/sg15_oncv/upf/N_ONCV_PBE-1.2.upf\n",
      "/home/lan/Desktop/hBN_benchmark/rcc/test_ecut\n",
      "/home/lan/Desktop/hBN_benchmark/rcc/test_ecut/120\n",
      "\n",
      "Generated file:  pw.in\n",
      "Downloaded file:  B_ONCV_PBE-1.2.upf , from url:  http://www.quantum-simulation.org/potentials/sg15_oncv/upf/B_ONCV_PBE-1.2.upf\n",
      "Downloaded file:  N_ONCV_PBE-1.2.upf , from url:  http://www.quantum-simulation.org/potentials/sg15_oncv/upf/N_ONCV_PBE-1.2.upf\n",
      "/home/lan/Desktop/hBN_benchmark/rcc/test_ecut\n"
     ]
    }
   ],
   "source": [
    "#creat test ecut files at local with kmesh 12*12*1\n",
    "for ecut in range(5,121,5):\n",
    "    %mkdir {ecut}\n",
    "    %cd {ecut}\n",
    "    gs = GroundState(geom,xc=\"PBE\",ecut=ecut)\n",
    "    gs.setKmesh((12,12,1))\n",
    "    gs.generateInputPW()\n",
    "    gs.downloadPseudopotentials()\n",
    "    Template(rcc_template_string,parameters).write('run_pw.sh')\n",
    "    %cd .."
   ]
  },
  {
   "cell_type": "code",
   "execution_count": 89,
   "metadata": {},
   "outputs": [
    {
     "name": "stdout",
     "output_type": "stream",
     "text": [
      "Change directory to LOCAL_WORKING_DIR:/home/lan/Desktop/hBN_benchmark/rcc\n",
      "/home/lan/Desktop/hBN_benchmark/rcc/test_ecut\n"
     ]
    }
   ],
   "source": [
    "jm.cd_LOCAL_WORKING_DIR()\n",
    "%cd test_ecut"
   ]
  },
  {
   "cell_type": "code",
   "execution_count": 90,
   "metadata": {
    "ExecuteTime": {
     "end_time": "2020-07-22T19:14:05.266473Z",
     "start_time": "2020-07-22T19:14:05.258499Z"
    }
   },
   "outputs": [
    {
     "data": {
      "text/plain": [
       "'/home/lan/Desktop/hBN_benchmark/rcc/test_ecut'"
      ]
     },
     "execution_count": 90,
     "metadata": {},
     "output_type": "execute_result"
    }
   ],
   "source": [
    "%pwd"
   ]
  },
  {
   "cell_type": "code",
   "execution_count": 91,
   "metadata": {
    "ExecuteTime": {
     "end_time": "2020-07-22T19:18:14.939827Z",
     "start_time": "2020-07-22T19:16:17.601785Z"
    }
   },
   "outputs": [
    {
     "name": "stdout",
     "output_type": "stream",
     "text": [
      "/home/lan/Desktop/hBN_benchmark/rcc/test_ecut/5\n",
      "\u001b[1;1msynchronizing local:/home/lan/Desktop/hBN_benchmark/rcc  ->  remote:/home/huangl1/simulation\u001b[0m\n",
      "\u001b[1;32mUpload local  dir:/home/lan/Desktop/hBN_benchmark/rcc/test_ecut\u001b[0m\n",
      "JobID:3168266\n",
      "/home/lan/Desktop/hBN_benchmark/rcc/test_ecut\n",
      "/home/lan/Desktop/hBN_benchmark/rcc/test_ecut/10\n",
      "\u001b[1;1msynchronizing local:/home/lan/Desktop/hBN_benchmark/rcc  ->  remote:/home/huangl1/simulation\u001b[0m\n",
      "\u001b[93mOverwriteRemote file:/home/huangl1/simulation/test_ecut/10/run_pw.sh\u001b[0m\n",
      "JobID:3168267\n",
      "/home/lan/Desktop/hBN_benchmark/rcc/test_ecut\n",
      "/home/lan/Desktop/hBN_benchmark/rcc/test_ecut/15\n",
      "\u001b[1;1msynchronizing local:/home/lan/Desktop/hBN_benchmark/rcc  ->  remote:/home/huangl1/simulation\u001b[0m\n",
      "\u001b[93mOverwriteRemote file:/home/huangl1/simulation/test_ecut/15/run_pw.sh\u001b[0m\n",
      "JobID:3168269\n",
      "/home/lan/Desktop/hBN_benchmark/rcc/test_ecut\n",
      "/home/lan/Desktop/hBN_benchmark/rcc/test_ecut/20\n",
      "\u001b[1;1msynchronizing local:/home/lan/Desktop/hBN_benchmark/rcc  ->  remote:/home/huangl1/simulation\u001b[0m\n",
      "\u001b[93mOverwriteRemote file:/home/huangl1/simulation/test_ecut/20/run_pw.sh\u001b[0m\n",
      "JobID:3168272\n",
      "/home/lan/Desktop/hBN_benchmark/rcc/test_ecut\n",
      "/home/lan/Desktop/hBN_benchmark/rcc/test_ecut/25\n",
      "\u001b[1;1msynchronizing local:/home/lan/Desktop/hBN_benchmark/rcc  ->  remote:/home/huangl1/simulation\u001b[0m\n",
      "\u001b[93mOverwriteRemote file:/home/huangl1/simulation/test_ecut/25/run_pw.sh\u001b[0m\n",
      "JobID:3168281\n",
      "/home/lan/Desktop/hBN_benchmark/rcc/test_ecut\n",
      "/home/lan/Desktop/hBN_benchmark/rcc/test_ecut/30\n",
      "\u001b[1;1msynchronizing local:/home/lan/Desktop/hBN_benchmark/rcc  ->  remote:/home/huangl1/simulation\u001b[0m\n",
      "\u001b[93mOverwriteRemote file:/home/huangl1/simulation/test_ecut/30/run_pw.sh\u001b[0m\n",
      "JobID:3168283\n",
      "/home/lan/Desktop/hBN_benchmark/rcc/test_ecut\n",
      "/home/lan/Desktop/hBN_benchmark/rcc/test_ecut/35\n",
      "\u001b[1;1msynchronizing local:/home/lan/Desktop/hBN_benchmark/rcc  ->  remote:/home/huangl1/simulation\u001b[0m\n",
      "\u001b[93mOverwriteRemote file:/home/huangl1/simulation/test_ecut/35/run_pw.sh\u001b[0m\n",
      "JobID:3168284\n",
      "/home/lan/Desktop/hBN_benchmark/rcc/test_ecut\n",
      "/home/lan/Desktop/hBN_benchmark/rcc/test_ecut/40\n",
      "\u001b[1;1msynchronizing local:/home/lan/Desktop/hBN_benchmark/rcc  ->  remote:/home/huangl1/simulation\u001b[0m\n",
      "\u001b[93mOverwriteRemote file:/home/huangl1/simulation/test_ecut/40/run_pw.sh\u001b[0m\n",
      "JobID:3168285\n",
      "/home/lan/Desktop/hBN_benchmark/rcc/test_ecut\n",
      "/home/lan/Desktop/hBN_benchmark/rcc/test_ecut/45\n",
      "\u001b[1;1msynchronizing local:/home/lan/Desktop/hBN_benchmark/rcc  ->  remote:/home/huangl1/simulation\u001b[0m\n",
      "\u001b[93mOverwriteRemote file:/home/huangl1/simulation/test_ecut/45/run_pw.sh\u001b[0m\n",
      "JobID:3168286\n",
      "/home/lan/Desktop/hBN_benchmark/rcc/test_ecut\n",
      "/home/lan/Desktop/hBN_benchmark/rcc/test_ecut/50\n",
      "\u001b[1;1msynchronizing local:/home/lan/Desktop/hBN_benchmark/rcc  ->  remote:/home/huangl1/simulation\u001b[0m\n",
      "\u001b[93mOverwriteRemote file:/home/huangl1/simulation/test_ecut/50/run_pw.sh\u001b[0m\n",
      "JobID:3168287\n",
      "/home/lan/Desktop/hBN_benchmark/rcc/test_ecut\n",
      "/home/lan/Desktop/hBN_benchmark/rcc/test_ecut/55\n",
      "\u001b[1;1msynchronizing local:/home/lan/Desktop/hBN_benchmark/rcc  ->  remote:/home/huangl1/simulation\u001b[0m\n",
      "\u001b[93mOverwriteRemote file:/home/huangl1/simulation/test_ecut/55/run_pw.sh\u001b[0m\n",
      "JobID:3168288\n",
      "/home/lan/Desktop/hBN_benchmark/rcc/test_ecut\n",
      "/home/lan/Desktop/hBN_benchmark/rcc/test_ecut/60\n",
      "\u001b[1;1msynchronizing local:/home/lan/Desktop/hBN_benchmark/rcc  ->  remote:/home/huangl1/simulation\u001b[0m\n",
      "\u001b[93mOverwriteRemote file:/home/huangl1/simulation/test_ecut/60/run_pw.sh\u001b[0m\n",
      "JobID:3168289\n",
      "/home/lan/Desktop/hBN_benchmark/rcc/test_ecut\n",
      "/home/lan/Desktop/hBN_benchmark/rcc/test_ecut/65\n",
      "\u001b[1;1msynchronizing local:/home/lan/Desktop/hBN_benchmark/rcc  ->  remote:/home/huangl1/simulation\u001b[0m\n",
      "\u001b[93mOverwriteRemote file:/home/huangl1/simulation/test_ecut/65/run_pw.sh\u001b[0m\n",
      "JobID:3168291\n",
      "/home/lan/Desktop/hBN_benchmark/rcc/test_ecut\n",
      "/home/lan/Desktop/hBN_benchmark/rcc/test_ecut/70\n",
      "\u001b[1;1msynchronizing local:/home/lan/Desktop/hBN_benchmark/rcc  ->  remote:/home/huangl1/simulation\u001b[0m\n",
      "\u001b[93mOverwriteRemote file:/home/huangl1/simulation/test_ecut/70/run_pw.sh\u001b[0m\n",
      "JobID:3168292\n",
      "/home/lan/Desktop/hBN_benchmark/rcc/test_ecut\n",
      "/home/lan/Desktop/hBN_benchmark/rcc/test_ecut/75\n",
      "\u001b[1;1msynchronizing local:/home/lan/Desktop/hBN_benchmark/rcc  ->  remote:/home/huangl1/simulation\u001b[0m\n",
      "\u001b[93mOverwriteRemote file:/home/huangl1/simulation/test_ecut/75/run_pw.sh\u001b[0m\n",
      "JobID:3168293\n",
      "/home/lan/Desktop/hBN_benchmark/rcc/test_ecut\n",
      "/home/lan/Desktop/hBN_benchmark/rcc/test_ecut/80\n",
      "\u001b[1;1msynchronizing local:/home/lan/Desktop/hBN_benchmark/rcc  ->  remote:/home/huangl1/simulation\u001b[0m\n",
      "\u001b[93mOverwriteRemote file:/home/huangl1/simulation/test_ecut/80/run_pw.sh\u001b[0m\n",
      "JobID:3168296\n",
      "/home/lan/Desktop/hBN_benchmark/rcc/test_ecut\n",
      "/home/lan/Desktop/hBN_benchmark/rcc/test_ecut/85\n",
      "\u001b[1;1msynchronizing local:/home/lan/Desktop/hBN_benchmark/rcc  ->  remote:/home/huangl1/simulation\u001b[0m\n",
      "\u001b[93mOverwriteRemote file:/home/huangl1/simulation/test_ecut/85/run_pw.sh\u001b[0m\n",
      "JobID:3168297\n",
      "/home/lan/Desktop/hBN_benchmark/rcc/test_ecut\n",
      "/home/lan/Desktop/hBN_benchmark/rcc/test_ecut/90\n",
      "\u001b[1;1msynchronizing local:/home/lan/Desktop/hBN_benchmark/rcc  ->  remote:/home/huangl1/simulation\u001b[0m\n",
      "\u001b[93mOverwriteRemote file:/home/huangl1/simulation/test_ecut/90/run_pw.sh\u001b[0m\n",
      "JobID:3168298\n",
      "/home/lan/Desktop/hBN_benchmark/rcc/test_ecut\n",
      "/home/lan/Desktop/hBN_benchmark/rcc/test_ecut/95\n",
      "\u001b[1;1msynchronizing local:/home/lan/Desktop/hBN_benchmark/rcc  ->  remote:/home/huangl1/simulation\u001b[0m\n",
      "\u001b[93mOverwriteRemote file:/home/huangl1/simulation/test_ecut/95/run_pw.sh\u001b[0m\n",
      "JobID:3168299\n",
      "/home/lan/Desktop/hBN_benchmark/rcc/test_ecut\n",
      "/home/lan/Desktop/hBN_benchmark/rcc/test_ecut/100\n",
      "\u001b[1;1msynchronizing local:/home/lan/Desktop/hBN_benchmark/rcc  ->  remote:/home/huangl1/simulation\u001b[0m\n",
      "\u001b[93mOverwriteRemote file:/home/huangl1/simulation/test_ecut/100/run_pw.sh\u001b[0m\n",
      "JobID:3168300\n",
      "/home/lan/Desktop/hBN_benchmark/rcc/test_ecut\n",
      "/home/lan/Desktop/hBN_benchmark/rcc/test_ecut/105\n",
      "\u001b[1;1msynchronizing local:/home/lan/Desktop/hBN_benchmark/rcc  ->  remote:/home/huangl1/simulation\u001b[0m\n",
      "\u001b[93mOverwriteRemote file:/home/huangl1/simulation/test_ecut/105/run_pw.sh\u001b[0m\n",
      "JobID:3168301\n",
      "/home/lan/Desktop/hBN_benchmark/rcc/test_ecut\n",
      "/home/lan/Desktop/hBN_benchmark/rcc/test_ecut/110\n",
      "\u001b[1;1msynchronizing local:/home/lan/Desktop/hBN_benchmark/rcc  ->  remote:/home/huangl1/simulation\u001b[0m\n",
      "\u001b[93mOverwriteRemote file:/home/huangl1/simulation/test_ecut/110/run_pw.sh\u001b[0m\n",
      "JobID:3168302\n",
      "/home/lan/Desktop/hBN_benchmark/rcc/test_ecut\n",
      "/home/lan/Desktop/hBN_benchmark/rcc/test_ecut/115\n",
      "\u001b[1;1msynchronizing local:/home/lan/Desktop/hBN_benchmark/rcc  ->  remote:/home/huangl1/simulation\u001b[0m\n",
      "\u001b[93mOverwriteRemote file:/home/huangl1/simulation/test_ecut/115/run_pw.sh\u001b[0m\n",
      "JobID:3168303\n",
      "/home/lan/Desktop/hBN_benchmark/rcc/test_ecut\n",
      "/home/lan/Desktop/hBN_benchmark/rcc/test_ecut/120\n",
      "\u001b[1;1msynchronizing local:/home/lan/Desktop/hBN_benchmark/rcc  ->  remote:/home/huangl1/simulation\u001b[0m\n",
      "\u001b[93mOverwriteRemote file:/home/huangl1/simulation/test_ecut/120/run_pw.sh\u001b[0m\n",
      "JobID:3168304\n",
      "/home/lan/Desktop/hBN_benchmark/rcc/test_ecut\n"
     ]
    }
   ],
   "source": [
    "#submit job to server creat test ecut files\n",
    "for ecut in range(5,121,5):\n",
    "    %cd {ecut}\n",
    "    %submit run_pw.sh @collect=pw.out\n",
    "    %cd .."
   ]
  },
  {
   "cell_type": "code",
   "execution_count": 92,
   "metadata": {},
   "outputs": [
    {
     "name": "stdout",
     "output_type": "stream",
     "text": [
      "    JobID  | Status  |   Time   |    SubmitTime       |       Note\n",
      " -----------------------------Pending Jobs------------------------------\n",
      "   3135402 | Pending |     0:00 | 2020-07-22 21:52:30 | Cannot find JobInfo in log \n",
      "   3136672 | Pending |     0:00 | 2020-07-22 21:52:30 | Cannot find JobInfo in log \n",
      "   3136675 | Pending |     0:00 | 2020-07-22 21:52:30 | Cannot find JobInfo in log \n",
      "   3136736 | Pending |     0:00 | 2020-07-22 21:52:30 | Cannot find JobInfo in log \n",
      "   3168266 | Pending |     0:00 | 2020-07-22 23:46:01 | /test_ecut/5 | pw.out \n",
      "   3168267 | Pending |     0:00 | 2020-07-22 23:46:07 | /test_ecut/10 | pw.out \n",
      "   3168269 | Pending |     0:00 | 2020-07-22 23:46:12 | /test_ecut/15 | pw.out \n",
      "   3168272 | Pending |     0:00 | 2020-07-22 23:46:18 | /test_ecut/20 | pw.out \n",
      "   3168281 | Pending |     0:00 | 2020-07-22 23:46:28 | /test_ecut/25 | pw.out \n",
      "   3168283 | Pending |     0:00 | 2020-07-22 23:46:35 | /test_ecut/30 | pw.out \n",
      "   3168284 | Pending |     0:00 | 2020-07-22 23:46:43 | /test_ecut/35 | pw.out \n",
      "   3168285 | Pending |     0:00 | 2020-07-22 23:46:48 | /test_ecut/40 | pw.out \n",
      "   3168286 | Pending |     0:00 | 2020-07-22 23:46:55 | /test_ecut/45 | pw.out \n",
      "   3168287 | Pending |     0:00 | 2020-07-22 23:47:03 | /test_ecut/50 | pw.out \n",
      "   3168288 | Pending |     0:00 | 2020-07-22 23:47:08 | /test_ecut/55 | pw.out \n",
      "   3168289 | Pending |     0:00 | 2020-07-22 23:47:15 | /test_ecut/60 | pw.out \n",
      "   3168291 | Pending |     0:00 | 2020-07-22 23:47:21 | /test_ecut/65 | pw.out \n",
      "   3168292 | Pending |     0:00 | 2020-07-22 23:47:29 | /test_ecut/70 | pw.out \n",
      "   3168293 | Pending |     0:00 | 2020-07-22 23:47:35 | /test_ecut/75 | pw.out \n",
      "   3168296 | Pending |     0:00 | 2020-07-22 23:47:41 | /test_ecut/80 | pw.out \n",
      "   3168297 | Pending |     0:00 | 2020-07-22 23:47:46 | /test_ecut/85 | pw.out \n",
      "   3168298 | Pending |     0:00 | 2020-07-22 23:47:52 | /test_ecut/90 | pw.out \n",
      "   3168299 | Pending |     0:00 | 2020-07-22 23:47:58 | /test_ecut/95 | pw.out \n",
      "   3168300 | Pending |     0:00 | 2020-07-22 23:48:04 | /test_ecut/100 | pw.out \n",
      "   3168301 | Pending |     0:00 | 2020-07-22 23:48:10 | /test_ecut/105 | pw.out \n",
      "   3168302 | Pending |     0:00 | 2020-07-22 23:48:16 | /test_ecut/110 | pw.out \n",
      "   3168303 | Pending |     0:00 | 2020-07-22 23:48:21 | /test_ecut/115 | pw.out \n",
      "   3168304 | Pending |     0:00 | 2020-07-22 23:48:27 | /test_ecut/120 | pw.out \n",
      " ----------------------------Finished  Jobs-----------------------------\n",
      "   3167853 |  Done   |    13:39 | 2020-07-22 22:05:18 | Cannot find JobInfo in log \n",
      "   3167936 |  Done   |     0:01 | 2020-07-22 22:02:39 | /test_ecut/5 | pw.out \n",
      "   3167937 |  Done   |     0:01 | 2020-07-22 22:02:44 | /test_ecut/10 | pw.out \n",
      "   3167938 |  Done   |     0:01 | 2020-07-22 22:02:50 | /test_ecut/15 | pw.out \n",
      "   3167939 |  Done   |     0:00 | 2020-07-22 22:02:55 | /test_ecut/20 | pw.out \n",
      "   3167940 |  Done   |     0:00 | 2020-07-22 22:03:03 | /test_ecut/25 | pw.out \n",
      "   3167941 |  Done   |     0:00 | 2020-07-22 22:03:10 | /test_ecut/30 | pw.out \n",
      "   3167942 |  Done   |     0:00 | 2020-07-22 22:03:18 | /test_ecut/35 | pw.out \n",
      "   3167943 |  Done   |     0:00 | 2020-07-22 22:03:26 | /test_ecut/40 | pw.out \n",
      "   3167944 |  Done   |     0:00 | 2020-07-22 22:03:33 | /test_ecut/45 | pw.out \n",
      "   3167945 |  Done   |     0:00 | 2020-07-22 22:03:40 | /test_ecut/50 | pw.out \n",
      "   3167947 |  Done   |     0:00 | 2020-07-22 22:03:48 | /test_ecut/55 | pw.out \n",
      "   3167948 |  Done   |     0:00 | 2020-07-22 22:03:54 | /test_ecut/60 | pw.out \n",
      "   3167949 |  Done   |     0:00 | 2020-07-22 22:04:00 | /test_ecut/65 | pw.out \n",
      "   3167950 |  Done   |     0:00 | 2020-07-22 22:04:08 | /test_ecut/70 | pw.out \n",
      "   3167951 |  Done   |     0:00 | 2020-07-22 22:04:14 | /test_ecut/75 | pw.out \n",
      "   3167952 |  Done   |     0:00 | 2020-07-22 22:04:19 | /test_ecut/80 | pw.out \n",
      "   3167953 |  Done   |     0:00 | 2020-07-22 22:04:28 | /test_ecut/85 | pw.out \n",
      "   3167954 |  Done   |     0:00 | 2020-07-22 22:04:34 | /test_ecut/90 | pw.out \n",
      "   3167955 |  Done   |     0:00 | 2020-07-22 22:04:39 | /test_ecut/95 | pw.out \n",
      "   3167956 |  Done   |     0:00 | 2020-07-22 22:04:45 | /test_ecut/100 | pw.out \n",
      "   3167957 |  Done   |     0:00 | 2020-07-22 22:04:53 | /test_ecut/105 | pw.out \n",
      "   3167958 |  Done   |     0:00 | 2020-07-22 22:05:01 | /test_ecut/110 | pw.out \n",
      "   3167959 |  Done   |     0:00 | 2020-07-22 22:05:08 | /test_ecut/115 | pw.out \n",
      "   3167960 |  Done   |     0:00 | 2020-07-22 22:05:16 | /test_ecut/120 | pw.out \n",
      "   3168192 |  Done   |     0:00 | 2020-07-22 23:22:43 | /wstat_test | pw.out \n"
     ]
    }
   ],
   "source": [
    "jm.view()"
   ]
  },
  {
   "cell_type": "code",
   "execution_count": 102,
   "metadata": {},
   "outputs": [],
   "source": [
    "# #you can also check job status by using ezjob magic\n",
    "#%ezjob\n",
    "#%ezjob close"
   ]
  },
  {
   "cell_type": "code",
   "execution_count": 106,
   "metadata": {
    "ExecuteTime": {
     "end_time": "2020-07-22T19:35:46.637165Z",
     "start_time": "2020-07-22T19:35:11.263626Z"
    },
    "scrolled": false
   },
   "outputs": [
    {
     "name": "stdout",
     "output_type": "stream",
     "text": [
      "ecut: 5\n",
      "\n",
      " %%%%%%%%%%%%%%%%%%%%%%%%%%%%%%%%%%%%%%%%%%%%%%%%%%%%%%%%%%%%%%%%%%%%%%%%%%%%%%\n",
      "     Error in routine cdiaghg (64):\n",
      "     S matrix not positive definite\n",
      "\n",
      "ecut: 10\n",
      "   JOB DONE.\n",
      "\n",
      "\n",
      "ecut: 15\n",
      "   JOB DONE.\n",
      "\n",
      "\n",
      "ecut: 20\n",
      "   JOB DONE.\n",
      "\n",
      "\n",
      "ecut: 25\n",
      "   JOB DONE.\n",
      "\n",
      "\n",
      "ecut: 30\n",
      "   JOB DONE.\n",
      "\n",
      "\n",
      "ecut: 35\n",
      "   JOB DONE.\n",
      "\n",
      "\n",
      "ecut: 40\n",
      "   JOB DONE.\n",
      "\n",
      "\n",
      "ecut: 45\n",
      "   JOB DONE.\n",
      "\n",
      "\n",
      "ecut: 50\n",
      "   JOB DONE.\n",
      "\n",
      "\n",
      "ecut: 55\n",
      "   JOB DONE.\n",
      "\n",
      "\n",
      "ecut: 60\n",
      "   JOB DONE.\n",
      "\n",
      "\n",
      "ecut: 65\n",
      "   JOB DONE.\n",
      "\n",
      "\n",
      "ecut: 70\n",
      "   JOB DONE.\n",
      "\n",
      "\n",
      "ecut: 75\n",
      "   JOB DONE.\n",
      "\n",
      "\n",
      "ecut: 80\n",
      "   JOB DONE.\n",
      "\n",
      "\n",
      "ecut: 85\n",
      "   JOB DONE.\n",
      "\n",
      "\n",
      "ecut: 90\n",
      "   JOB DONE.\n",
      "\n",
      "\n",
      "ecut: 95\n",
      "   JOB DONE.\n",
      "\n",
      "\n",
      "ecut: 100\n",
      "   JOB DONE.\n",
      "\n",
      "\n",
      "ecut: 105\n",
      "   JOB DONE.\n",
      "\n",
      "\n",
      "ecut: 110\n",
      "   JOB DONE.\n",
      "\n",
      "\n",
      "ecut: 115\n",
      "   JOB DONE.\n",
      "\n",
      "\n",
      "ecut: 120\n",
      "   JOB DONE.\n",
      "\n",
      "\n"
     ]
    }
   ],
   "source": [
    "#demo of checking job finish at remote\n",
    "remote_test_ecut_folder=ssh.get_REMOTE_WORKING_DIR() + '/test_ecut/'\n",
    "for ecut in range(5,121,5):\n",
    "    ecut_folder = remote_test_ecut_folder + str(ecut)\n",
    "    res_done = ssh.cmd('cd '+ecut_folder+'; grep \"JOB DONE\" pw.out')\n",
    "    res_error = ssh.cmd('cd '+ecut_folder+'; grep -a1 \"Error\" pw.out')\n",
    "    print('ecut:',ecut)\n",
    "    print(res_done)\n",
    "    print(res_error)"
   ]
  },
  {
   "cell_type": "code",
   "execution_count": 107,
   "metadata": {
    "ExecuteTime": {
     "end_time": "2020-07-22T19:35:59.917493Z",
     "start_time": "2020-07-22T19:35:56.213217Z"
    },
    "scrolled": false
   },
   "outputs": [
    {
     "name": "stdout",
     "output_type": "stream",
     "text": [
      "\u001b[1;1msynchronizing remote:/home/huangl1/simulation  ->  local:/home/lan/Desktop/hBN_benchmark/rcc\u001b[0m\n",
      "\u001b[32mDowload remote file:/home/huangl1/simulation/test_ecut/110/pw.out\u001b[0m\n",
      "\u001b[32mDowload remote file:/home/huangl1/simulation/test_ecut/60/pw.out\u001b[0m\n",
      "\u001b[32mDowload remote file:/home/huangl1/simulation/test_ecut/70/pw.out\u001b[0m\n",
      "\u001b[32mDowload remote file:/home/huangl1/simulation/test_ecut/55/pw.out\u001b[0m\n",
      "\u001b[32mDowload remote file:/home/huangl1/simulation/test_ecut/65/pw.out\u001b[0m\n",
      "\u001b[32mDowload remote file:/home/huangl1/simulation/test_ecut/15/pw.out\u001b[0m\n",
      "\u001b[32mDowload remote file:/home/huangl1/simulation/test_ecut/50/pw.out\u001b[0m\n",
      "\u001b[32mDowload remote file:/home/huangl1/simulation/test_ecut/105/pw.out\u001b[0m\n",
      "\u001b[32mDowload remote file:/home/huangl1/simulation/test_ecut/45/pw.out\u001b[0m\n",
      "\u001b[32mDowload remote file:/home/huangl1/simulation/test_ecut/40/pw.out\u001b[0m\n",
      "\u001b[32mDowload remote file:/home/huangl1/simulation/test_ecut/80/pw.out\u001b[0m\n",
      "\u001b[32mDowload remote file:/home/huangl1/simulation/test_ecut/85/pw.out\u001b[0m\n",
      "\u001b[32mDowload remote file:/home/huangl1/simulation/test_ecut/100/pw.out\u001b[0m\n",
      "\u001b[32mDowload remote file:/home/huangl1/simulation/test_ecut/35/pw.out\u001b[0m\n",
      "\u001b[32mDowload remote file:/home/huangl1/simulation/test_ecut/25/pw.out\u001b[0m\n",
      "\u001b[32mDowload remote file:/home/huangl1/simulation/test_ecut/30/pw.out\u001b[0m\n",
      "\u001b[32mDowload remote file:/home/huangl1/simulation/test_ecut/95/pw.out\u001b[0m\n",
      "\u001b[32mDowload remote file:/home/huangl1/simulation/test_ecut/20/pw.out\u001b[0m\n",
      "\u001b[32mDowload remote file:/home/huangl1/simulation/test_ecut/10/pw.out\u001b[0m\n",
      "\u001b[32mDowload remote file:/home/huangl1/simulation/test_ecut/120/pw.out\u001b[0m\n",
      "\u001b[32mDowload remote file:/home/huangl1/simulation/test_ecut/75/pw.out\u001b[0m\n",
      "\u001b[32mDowload remote file:/home/huangl1/simulation/test_ecut/90/pw.out\u001b[0m\n",
      "\u001b[32mDowload remote file:/home/huangl1/simulation/test_ecut/115/pw.out\u001b[0m\n",
      "\u001b[32mDowload remote file:/home/huangl1/simulation/test_ecut/5/pw.out\u001b[0m\n",
      "--------------------------- Local files change after pull -------------------------------\n",
      "Files Added:\n",
      "\t/home/lan/Desktop/hBN_benchmark/rcc/test_ecut/80/pw.out\n",
      "\t/home/lan/Desktop/hBN_benchmark/rcc/test_ecut/75/pw.out\n",
      "\t/home/lan/Desktop/hBN_benchmark/rcc/test_ecut/15/pw.out\n",
      "\t/home/lan/Desktop/hBN_benchmark/rcc/test_ecut/90/pw.out\n",
      "\t/home/lan/Desktop/hBN_benchmark/rcc/test_ecut/100/pw.out\n",
      "\t/home/lan/Desktop/hBN_benchmark/rcc/test_ecut/25/pw.out\n",
      "\t/home/lan/Desktop/hBN_benchmark/rcc/test_ecut/60/pw.out\n",
      "\t/home/lan/Desktop/hBN_benchmark/rcc/test_ecut/35/pw.out\n",
      "\t/home/lan/Desktop/hBN_benchmark/rcc/test_ecut/95/pw.out\n",
      "\t/home/lan/Desktop/hBN_benchmark/rcc/test_ecut/10/pw.out\n",
      "\t/home/lan/Desktop/hBN_benchmark/rcc/test_ecut/20/pw.out\n",
      "\t/home/lan/Desktop/hBN_benchmark/rcc/test_ecut/45/pw.out\n",
      "\t/home/lan/Desktop/hBN_benchmark/rcc/test_ecut/70/pw.out\n",
      "\t/home/lan/Desktop/hBN_benchmark/rcc/test_ecut/120/pw.out\n",
      "\t/home/lan/Desktop/hBN_benchmark/rcc/test_ecut/5/pw.out\n",
      "\t/home/lan/Desktop/hBN_benchmark/rcc/test_ecut/65/pw.out\n",
      "\t/home/lan/Desktop/hBN_benchmark/rcc/test_ecut/30/pw.out\n",
      "\t/home/lan/Desktop/hBN_benchmark/rcc/test_ecut/55/pw.out\n",
      "\t/home/lan/Desktop/hBN_benchmark/rcc/test_ecut/85/pw.out\n",
      "\t/home/lan/Desktop/hBN_benchmark/rcc/test_ecut/110/pw.out\n",
      "\t/home/lan/Desktop/hBN_benchmark/rcc/test_ecut/105/pw.out\n",
      "\t/home/lan/Desktop/hBN_benchmark/rcc/test_ecut/40/pw.out\n",
      "\t/home/lan/Desktop/hBN_benchmark/rcc/test_ecut/115/pw.out\n",
      "\t/home/lan/Desktop/hBN_benchmark/rcc/test_ecut/50/pw.out\n",
      "------------------------------------------------------------------------------------------\n"
     ]
    }
   ],
   "source": [
    "#download remote result to local\n",
    "%pull"
   ]
  },
  {
   "cell_type": "code",
   "execution_count": 108,
   "metadata": {
    "ExecuteTime": {
     "end_time": "2020-07-22T19:40:35.917366Z",
     "start_time": "2020-07-22T19:40:35.909395Z"
    }
   },
   "outputs": [
    {
     "data": {
      "text/plain": [
       "'/home/lan/Desktop/hBN_benchmark/rcc/test_ecut'"
      ]
     },
     "execution_count": 108,
     "metadata": {},
     "output_type": "execute_result"
    }
   ],
   "source": [
    "%pwd"
   ]
  },
  {
   "cell_type": "code",
   "execution_count": 109,
   "metadata": {
    "scrolled": false
   },
   "outputs": [
    {
     "name": "stdout",
     "output_type": "stream",
     "text": [
      "/home/lan/Desktop/hBN_benchmark/rcc/test_ecut/10\n",
      "/home/lan/Desktop/hBN_benchmark/rcc/test_ecut\n",
      "/home/lan/Desktop/hBN_benchmark/rcc/test_ecut/15\n",
      "/home/lan/Desktop/hBN_benchmark/rcc/test_ecut\n",
      "/home/lan/Desktop/hBN_benchmark/rcc/test_ecut/20\n",
      "/home/lan/Desktop/hBN_benchmark/rcc/test_ecut\n",
      "/home/lan/Desktop/hBN_benchmark/rcc/test_ecut/25\n",
      "/home/lan/Desktop/hBN_benchmark/rcc/test_ecut\n",
      "/home/lan/Desktop/hBN_benchmark/rcc/test_ecut/30\n",
      "/home/lan/Desktop/hBN_benchmark/rcc/test_ecut\n",
      "/home/lan/Desktop/hBN_benchmark/rcc/test_ecut/35\n",
      "/home/lan/Desktop/hBN_benchmark/rcc/test_ecut\n",
      "/home/lan/Desktop/hBN_benchmark/rcc/test_ecut/40\n",
      "/home/lan/Desktop/hBN_benchmark/rcc/test_ecut\n",
      "/home/lan/Desktop/hBN_benchmark/rcc/test_ecut/45\n",
      "/home/lan/Desktop/hBN_benchmark/rcc/test_ecut\n",
      "/home/lan/Desktop/hBN_benchmark/rcc/test_ecut/50\n",
      "/home/lan/Desktop/hBN_benchmark/rcc/test_ecut\n",
      "/home/lan/Desktop/hBN_benchmark/rcc/test_ecut/55\n",
      "/home/lan/Desktop/hBN_benchmark/rcc/test_ecut\n",
      "/home/lan/Desktop/hBN_benchmark/rcc/test_ecut/60\n",
      "/home/lan/Desktop/hBN_benchmark/rcc/test_ecut\n",
      "/home/lan/Desktop/hBN_benchmark/rcc/test_ecut/65\n",
      "/home/lan/Desktop/hBN_benchmark/rcc/test_ecut\n",
      "/home/lan/Desktop/hBN_benchmark/rcc/test_ecut/70\n",
      "/home/lan/Desktop/hBN_benchmark/rcc/test_ecut\n",
      "/home/lan/Desktop/hBN_benchmark/rcc/test_ecut/75\n",
      "/home/lan/Desktop/hBN_benchmark/rcc/test_ecut\n",
      "/home/lan/Desktop/hBN_benchmark/rcc/test_ecut/80\n",
      "/home/lan/Desktop/hBN_benchmark/rcc/test_ecut\n",
      "/home/lan/Desktop/hBN_benchmark/rcc/test_ecut/85\n",
      "/home/lan/Desktop/hBN_benchmark/rcc/test_ecut\n",
      "/home/lan/Desktop/hBN_benchmark/rcc/test_ecut/90\n",
      "/home/lan/Desktop/hBN_benchmark/rcc/test_ecut\n",
      "/home/lan/Desktop/hBN_benchmark/rcc/test_ecut/95\n",
      "/home/lan/Desktop/hBN_benchmark/rcc/test_ecut\n",
      "/home/lan/Desktop/hBN_benchmark/rcc/test_ecut/100\n",
      "/home/lan/Desktop/hBN_benchmark/rcc/test_ecut\n",
      "/home/lan/Desktop/hBN_benchmark/rcc/test_ecut/105\n",
      "/home/lan/Desktop/hBN_benchmark/rcc/test_ecut\n",
      "/home/lan/Desktop/hBN_benchmark/rcc/test_ecut/110\n",
      "/home/lan/Desktop/hBN_benchmark/rcc/test_ecut\n",
      "/home/lan/Desktop/hBN_benchmark/rcc/test_ecut/115\n",
      "/home/lan/Desktop/hBN_benchmark/rcc/test_ecut\n",
      "/home/lan/Desktop/hBN_benchmark/rcc/test_ecut/120\n",
      "/home/lan/Desktop/hBN_benchmark/rcc/test_ecut\n"
     ]
    },
    {
     "data": {
      "image/png": "[encoded data removed]",
      "text/plain": [
       "<Figure size 432x288 with 1 Axes>"
      ]
     },
     "metadata": {
      "needs_background": "light"
     },
     "output_type": "display_data"
    }
   ],
   "source": [
    "#analysis result  ecut=5 ERROR skip\n",
    "total_e=[]\n",
    "for ecut in range(10,121,5):\n",
    "    %cd {ecut}\n",
    "    total_energy = !grep -a \"!    total energy              =\" pw.out |  awk '{print $5}'\n",
    "    total_e.append(float(total_energy[0]))\n",
    "    %cd ..\n",
    "\n",
    "plt.plot(range(10,121,5),total_e,'-*')\n",
    "plt.xlabel('Ecut(Ry)')\n",
    "plt.ylabel('Total Energy(Ry)')\n",
    "plt.title('Ecut converge plot')\n",
    "plt.show()"
   ]
  },
  {
   "cell_type": "markdown",
   "metadata": {
    "ExecuteTime": {
     "end_time": "2020-07-22T19:50:01.835644Z",
     "start_time": "2020-07-22T19:50:01.765686Z"
    }
   },
   "source": [
    "## <font color='blue'>Ecut_converged=60 Ry</font>"
   ]
  },
  {
   "cell_type": "markdown",
   "metadata": {},
   "source": [
    "## test wstat n_pdep_eigen = 40   (Gamma only)\n",
    "<pre>\n",
    "For the converged value of ecut: \n",
    "Run wstat with n_pdep_eigen = 40 (10 * the number of electrons) \n",
    "</pre>"
   ]
  },
  {
   "cell_type": "code",
   "execution_count": 8,
   "metadata": {},
   "outputs": [
    {
     "name": "stdout",
     "output_type": "stream",
     "text": [
      "Change directory to LOCAL_WORKING_DIR:/home/lan/Desktop/hBN_benchmark/rcc\n",
      "mkdir: cannot create directory ‘wstat_test’: File exists\n",
      "/home/lan/Desktop/hBN_benchmark/rcc/wstat_test\n"
     ]
    }
   ],
   "source": [
    "jm.cd_LOCAL_WORKING_DIR()\n",
    "%mkdir wstat_test\n",
    "%cd wstat_test"
   ]
  },
  {
   "cell_type": "code",
   "execution_count": 9,
   "metadata": {},
   "outputs": [
    {
     "data": {
      "text/plain": [
       "'/home/lan/Desktop/hBN_benchmark/rcc/wstat_test'"
      ]
     },
     "execution_count": 9,
     "metadata": {},
     "output_type": "execute_result"
    }
   ],
   "source": [
    "%pwd"
   ]
  },
  {
   "cell_type": "code",
   "execution_count": 17,
   "metadata": {},
   "outputs": [],
   "source": [
    "parameters = {'job_name': 'pw',\n",
    "              'time': '00:20:00',\n",
    "              'queue': 'broadwl',\n",
    "              'nodes': 1,\n",
    "              'ntasks_per_node': 1,\n",
    "              'cpus_per_task': 2,\n",
    "              'mem_per_cpu': 2000,\n",
    "              'cmd': 'mpirun -np $NTASKS pw.x -i pw.in > pw.out'}"
   ]
  },
  {
   "cell_type": "markdown",
   "metadata": {},
   "source": [
    "run pw.in first ecut=60 Ry  Gamma only"
   ]
  },
  {
   "cell_type": "code",
   "execution_count": 18,
   "metadata": {},
   "outputs": [
    {
     "name": "stdout",
     "output_type": "stream",
     "text": [
      "\n",
      "Generated file:  pw.in\n",
      "Downloaded file:  B_ONCV_PBE-1.2.upf , from url:  http://www.quantum-simulation.org/potentials/sg15_oncv/upf/B_ONCV_PBE-1.2.upf\n",
      "Downloaded file:  N_ONCV_PBE-1.2.upf , from url:  http://www.quantum-simulation.org/potentials/sg15_oncv/upf/N_ONCV_PBE-1.2.upf\n",
      "\u001b[1;1msynchronizing local:/home/lan/Desktop/hBN_benchmark/rcc  ->  remote:/home/huangl1/simulation\u001b[0m\n",
      "\u001b[32mUpload local  file:/home/lan/Desktop/hBN_benchmark/rcc/wstat_test/pw.in\u001b[0m\n",
      "\u001b[32mUpload local  file:/home/lan/Desktop/hBN_benchmark/rcc/wstat_test/B_ONCV_PBE-1.2.upf\u001b[0m\n",
      "\u001b[32mUpload local  file:/home/lan/Desktop/hBN_benchmark/rcc/wstat_test/wstat.in\u001b[0m\n",
      "\u001b[32mUpload local  file:/home/lan/Desktop/hBN_benchmark/rcc/wstat_test/run_pw.sh\u001b[0m\n",
      "\u001b[32mUpload local  file:/home/lan/Desktop/hBN_benchmark/rcc/wstat_test/run_wstat.sh\u001b[0m\n",
      "\u001b[32mUpload local  file:/home/lan/Desktop/hBN_benchmark/rcc/wstat_test/N_ONCV_PBE-1.2.upf\u001b[0m\n",
      "JobID:3191678\n"
     ]
    }
   ],
   "source": [
    "gs = GroundState(geom,xc=\"PBE\",ecut=60)\n",
    "gs.generateInputPW()\n",
    "gs.downloadPseudopotentials()\n",
    "Template(rcc_template_string,parameters).write('run_pw.sh')\n",
    "#ignore @collect  the default collect is *  cp all from remote scratch to remote working \n",
    "%submit run_pw.sh"
   ]
  },
  {
   "cell_type": "code",
   "execution_count": 23,
   "metadata": {},
   "outputs": [
    {
     "name": "stdout",
     "output_type": "stream",
     "text": [
      "   JOB DONE.\n",
      "\n",
      "\n"
     ]
    }
   ],
   "source": [
    "#check pw.out normal termination at remote\n",
    "remote_wstat_test_folder=ssh.get_REMOTE_WORKING_DIR() + '/wstat_test/'\n",
    "print(ssh.cmd('cd '+remote_wstat_test_folder+'; grep \"JOB DONE\" pw.out'))\n",
    "print(ssh.cmd('cd '+remote_wstat_test_folder+'; grep -a1 \"Error\" pw.out'))"
   ]
  },
  {
   "cell_type": "code",
   "execution_count": 24,
   "metadata": {},
   "outputs": [
    {
     "name": "stdout",
     "output_type": "stream",
     "text": [
      "B_ONCV_PBE-1.2.upf\n",
      "N_ONCV_PBE-1.2.upf\n",
      "calc.save\n",
      "pw.in\n",
      "pw.out\n",
      "run_pw.sh\n",
      "run_wstat.sh\n",
      "slurm-3191678.out\n",
      "wstat.in\n",
      "\n"
     ]
    }
   ],
   "source": [
    "#check remote scratch files\n",
    "scratch_wstat_test_scratch_folder = ssh.get_REMOTE_SCRATCH_DIR() + '/wstat_test/'\n",
    "print(ssh.cmd('cd '+scratch_wstat_test_scratch_folder+'; ls'))"
   ]
  },
  {
   "cell_type": "markdown",
   "metadata": {},
   "source": [
    "now remote scratch has the calc.save folder "
   ]
  },
  {
   "cell_type": "markdown",
   "metadata": {},
   "source": [
    "let's run wstat.in with n_pdep_eigen = 40"
   ]
  },
  {
   "cell_type": "code",
   "execution_count": 26,
   "metadata": {},
   "outputs": [
    {
     "data": {
      "text/plain": [
       "'/home/lan/Desktop/hBN_benchmark/rcc/wstat_test'"
      ]
     },
     "execution_count": 26,
     "metadata": {},
     "output_type": "execute_result"
    }
   ],
   "source": [
    "#confirm we are at wstat_test local folder\n",
    "%pwd"
   ]
  },
  {
   "cell_type": "code",
   "execution_count": 27,
   "metadata": {},
   "outputs": [],
   "source": [
    "parameters = {'job_name': 'wstat',\n",
    "              'time': '01:30:00',\n",
    "              'queue': 'broadwl',\n",
    "              'nodes': 1,\n",
    "              'ntasks_per_node': 1,\n",
    "              'cpus_per_task': 14,\n",
    "              'mem_per_cpu': 2000,\n",
    "              'cmd': 'mpirun -np $NTASKS wstat.x -i wstat.in > wstat.out'}"
   ]
  },
  {
   "cell_type": "code",
   "execution_count": 28,
   "metadata": {},
   "outputs": [
    {
     "name": "stdout",
     "output_type": "stream",
     "text": [
      "\n",
      "File written :  wstat.in\n",
      "\u001b[1;1msynchronizing local:/home/lan/Desktop/hBN_benchmark/rcc  ->  remote:/home/huangl1/simulation\u001b[0m\n",
      "\u001b[93mOverwriteRemote file:/home/huangl1/simulation/wstat_test/run_wstat.sh\u001b[0m\n",
      "JobID:3191799\n"
     ]
    }
   ],
   "source": [
    "data = {}\n",
    "data[\"input_west\"] = {}\n",
    "data[\"input_west\"][\"qe_prefix\"] = \"calc\"\n",
    "data[\"input_west\"][\"west_prefix\"] = \"calc\"\n",
    "data[\"input_west\"][\"outdir\"] = \"./\"\n",
    "data[\"wstat_control\"] = {}\n",
    "data[\"wstat_control\"][\"wstat_calculation\"] = \"S\"\n",
    "data[\"wstat_control\"][\"n_pdep_eigen\"] = 40\n",
    "writeJsonFile(\"wstat.in\",data)\n",
    "Template(rcc_template_string,parameters).write('run_wstat.sh')\n",
    "#ignore @collect will cp all files/folders from remote scratch to remote working dir \n",
    "%submit run_wstat.sh"
   ]
  },
  {
   "cell_type": "code",
   "execution_count": 65,
   "metadata": {},
   "outputs": [
    {
     "name": "stdout",
     "output_type": "stream",
     "text": [
      "   JOB DONE.\n",
      "\n",
      "\n"
     ]
    }
   ],
   "source": [
    "#check wstat.out normal termination at remote\n",
    "remote_wstat_test_folder=ssh.get_REMOTE_WORKING_DIR() + '/wstat_test/'\n",
    "print(ssh.cmd('cd '+remote_wstat_test_folder+'; grep \"JOB DONE\" wstat.out'))\n",
    "print(ssh.cmd('cd '+remote_wstat_test_folder+'; grep -a1 \"Error\" wstat.out'))"
   ]
  },
  {
   "cell_type": "code",
   "execution_count": 88,
   "metadata": {
    "scrolled": false
   },
   "outputs": [
    {
     "name": "stdout",
     "output_type": "stream",
     "text": [
      "\u001b[1;1msynchronizing remote:/home/huangl1/simulation  ->  local:/home/lan/Desktop/hBN_benchmark/rcc\u001b[0m\n",
      "\u001b[1;32mDowload remote dir:/home/huangl1/simulation/wstat_test/calc.wstat.save\u001b[0m\n",
      "\u001b[1;32mDowload remote dir:/home/huangl1/simulation/wstat_test/calc.save\u001b[0m\n",
      "\u001b[32mDowload remote file:/home/huangl1/simulation/wstat_test/pw.out\u001b[0m\n",
      "\u001b[32mDowload remote file:/home/huangl1/simulation/wstat_test/slurm-3191799.out\u001b[0m\n",
      "\u001b[32mDowload remote file:/home/huangl1/simulation/wstat_test/wstat.out\u001b[0m\n",
      "\u001b[32mDowload remote file:/home/huangl1/simulation/wstat_test/slurm-3191678.out\u001b[0m\n",
      "--------------------------- Local files change after pull -------------------------------\n",
      "Files Added:\n",
      "\t/home/lan/Desktop/hBN_benchmark/rcc/wstat_test/pw.out\n",
      "\t/home/lan/Desktop/hBN_benchmark/rcc/wstat_test/slurm-3191799.out\n",
      "\t/home/lan/Desktop/hBN_benchmark/rcc/wstat_test/slurm-3191678.out\n",
      "\t/home/lan/Desktop/hBN_benchmark/rcc/wstat_test/wstat.out\n",
      "\t/home/lan/Desktop/hBN_benchmark/rcc/wstat_test/calc.wstat.save/Q000000001E000000040.json\n",
      "\t/home/lan/Desktop/hBN_benchmark/rcc/wstat_test/calc.wstat.save/Q000000001E000000029.json\n",
      "\t/home/lan/Desktop/hBN_benchmark/rcc/wstat_test/calc.wstat.save/Q000000001E000000026.json\n",
      "\t/home/lan/Desktop/hBN_benchmark/rcc/wstat_test/calc.wstat.save/Q000000001E000000023.json\n",
      "\t/home/lan/Desktop/hBN_benchmark/rcc/wstat_test/calc.wstat.save/Q000000001E000000014.json\n",
      "\t/home/lan/Desktop/hBN_benchmark/rcc/wstat_test/calc.wstat.save/Q000000001E000000032.json\n",
      "\t/home/lan/Desktop/hBN_benchmark/rcc/wstat_test/calc.wstat.save/Q000000001E000000003.json\n",
      "\t/home/lan/Desktop/hBN_benchmark/rcc/wstat_test/calc.wstat.save/Q000000001E000000009.json\n",
      "\t/home/lan/Desktop/hBN_benchmark/rcc/wstat_test/calc.wstat.save/Q000000001E000000010.json\n",
      "\t/home/lan/Desktop/hBN_benchmark/rcc/wstat_test/calc.wstat.save/Q000000001E000000037.json\n",
      "\t/home/lan/Desktop/hBN_benchmark/rcc/wstat_test/calc.wstat.save/Q000000001E000000004.json\n",
      "\t/home/lan/Desktop/hBN_benchmark/rcc/wstat_test/calc.wstat.save/wstat.json\n",
      "\t/home/lan/Desktop/hBN_benchmark/rcc/wstat_test/calc.wstat.save/Q000000001E000000038.json\n",
      "\t/home/lan/Desktop/hBN_benchmark/rcc/wstat_test/calc.wstat.save/Q000000001E000000019.json\n",
      "\t/home/lan/Desktop/hBN_benchmark/rcc/wstat_test/calc.wstat.save/Q000000001E000000034.json\n",
      "\t/home/lan/Desktop/hBN_benchmark/rcc/wstat_test/calc.wstat.save/Q000000001E000000021.json\n",
      "\t/home/lan/Desktop/hBN_benchmark/rcc/wstat_test/calc.wstat.save/Q000000001E000000008.json\n",
      "\t/home/lan/Desktop/hBN_benchmark/rcc/wstat_test/calc.wstat.save/Q000000001E000000016.json\n",
      "\t/home/lan/Desktop/hBN_benchmark/rcc/wstat_test/calc.wstat.save/Q000000001E000000005.json\n",
      "\t/home/lan/Desktop/hBN_benchmark/rcc/wstat_test/calc.wstat.save/Q000000001E000000028.json\n",
      "\t/home/lan/Desktop/hBN_benchmark/rcc/wstat_test/calc.wstat.save/Q000000001E000000031.json\n",
      "\t/home/lan/Desktop/hBN_benchmark/rcc/wstat_test/calc.wstat.save/Q000000001E000000024.json\n",
      "\t/home/lan/Desktop/hBN_benchmark/rcc/wstat_test/calc.wstat.save/Q000000001E000000006.json\n",
      "\t/home/lan/Desktop/hBN_benchmark/rcc/wstat_test/calc.wstat.save/summary.json\n",
      "\t/home/lan/Desktop/hBN_benchmark/rcc/wstat_test/calc.wstat.save/Q000000001E000000022.json\n",
      "\t/home/lan/Desktop/hBN_benchmark/rcc/wstat_test/calc.wstat.save/Q000000001E000000018.json\n",
      "\t/home/lan/Desktop/hBN_benchmark/rcc/wstat_test/calc.wstat.save/Q000000001E000000007.json\n",
      "\t/home/lan/Desktop/hBN_benchmark/rcc/wstat_test/calc.wstat.save/Q000000001E000000020.json\n",
      "\t/home/lan/Desktop/hBN_benchmark/rcc/wstat_test/calc.wstat.save/Q000000001E000000017.json\n",
      "\t/home/lan/Desktop/hBN_benchmark/rcc/wstat_test/calc.wstat.save/Q000000001E000000015.json\n",
      "\t/home/lan/Desktop/hBN_benchmark/rcc/wstat_test/calc.wstat.save/Q000000001E000000025.json\n",
      "\t/home/lan/Desktop/hBN_benchmark/rcc/wstat_test/calc.wstat.save/Q000000001E000000035.json\n",
      "\t/home/lan/Desktop/hBN_benchmark/rcc/wstat_test/calc.wstat.save/Q000000001E000000001.json\n",
      "\t/home/lan/Desktop/hBN_benchmark/rcc/wstat_test/calc.wstat.save/Q000000001E000000027.json\n",
      "\t/home/lan/Desktop/hBN_benchmark/rcc/wstat_test/calc.wstat.save/Q000000001E000000013.json\n",
      "\t/home/lan/Desktop/hBN_benchmark/rcc/wstat_test/calc.wstat.save/Q000000001E000000033.json\n",
      "\t/home/lan/Desktop/hBN_benchmark/rcc/wstat_test/calc.wstat.save/Q000000001E000000002.json\n",
      "\t/home/lan/Desktop/hBN_benchmark/rcc/wstat_test/calc.wstat.save/Q000000001E000000012.json\n",
      "\t/home/lan/Desktop/hBN_benchmark/rcc/wstat_test/calc.wstat.save/Q000000001E000000039.json\n",
      "\t/home/lan/Desktop/hBN_benchmark/rcc/wstat_test/calc.wstat.save/Q000000001E000000030.json\n",
      "\t/home/lan/Desktop/hBN_benchmark/rcc/wstat_test/calc.wstat.save/Q000000001E000000011.json\n",
      "\t/home/lan/Desktop/hBN_benchmark/rcc/wstat_test/calc.wstat.save/Q000000001E000000036.json\n",
      "\t/home/lan/Desktop/hBN_benchmark/rcc/wstat_test/calc.save/gvectors.dat\n",
      "\t/home/lan/Desktop/hBN_benchmark/rcc/wstat_test/calc.save/charge-density.dat\n",
      "\t/home/lan/Desktop/hBN_benchmark/rcc/wstat_test/calc.save/data-file.xml\n",
      "\t/home/lan/Desktop/hBN_benchmark/rcc/wstat_test/calc.save/B_ONCV_PBE-1.2.upf\n",
      "\t/home/lan/Desktop/hBN_benchmark/rcc/wstat_test/calc.save/N_ONCV_PBE-1.2.upf\n",
      "\t/home/lan/Desktop/hBN_benchmark/rcc/wstat_test/calc.save/K00001/evc.dat\n",
      "\t/home/lan/Desktop/hBN_benchmark/rcc/wstat_test/calc.save/K00001/gkvectors.dat\n",
      "\t/home/lan/Desktop/hBN_benchmark/rcc/wstat_test/calc.save/K00001/eigenval.xml\n",
      "Folder Added:\n",
      "\t/home/lan/Desktop/hBN_benchmark/rcc/wstat_test/calc.wstat.save\n",
      "\t/home/lan/Desktop/hBN_benchmark/rcc/wstat_test/calc.save\n",
      "\t/home/lan/Desktop/hBN_benchmark/rcc/wstat_test/calc.save/K00001\n",
      "------------------------------------------------------------------------------------------\n"
     ]
    }
   ],
   "source": [
    "%pull"
   ]
  },
  {
   "cell_type": "markdown",
   "metadata": {},
   "source": [
    "## test wfreq  (Gamma only)\n",
    "\n",
    "Then run wfreq with: \n",
    "\n",
    "**n_refreq** —> this needs to be converged, start with n_refreq = 3 * Ry2eV / 0.1, and then increase it \n",
    "\n",
    "**n_imfreq** —> this needs to be converged, start with 64 and then increase to 128, 256, 512, ...\n",
    "\n",
    "**n_lanczos** —> this needs to be converged, start with 10 and then increase to 20, 30, ... \n",
    "\n",
    "**n_pdep_eigen_to_use** —> this needs to be converged, start with the max possible = n_pdep_eigen from wstat and then reduce it, for instance 10 time the number of electrons, 9 times, 8 times, 7 times… \n",
    "\n",
    "**kmesh** --> this will be tested after tuning above parameters\n",
    "\n",
    "qp_bandrange = [1,8] # compute GW for states the 4 occupied states and 4 empty bands —> this doesn’t need to be converged \n",
    "\n",
    "ecut_refreq = 3 —> this doesn’t need to be converged \n",
    "\n",
    "ecut_imfreq = ecut_rho —> = 4 * ecut —> this doesn’t need to be converged\n",
    "\n",
    "n_secant_maxiter —> set it to 100 —> this doesn’t need to be converged  \n",
    "\n",
    "\n",
    "Find optimal values for ecut, n_refreq, n_imfreq, n_lanczos, n_pdep_eigen_to_use. \n",
    "\n",
    "Once we have optimal values, we will freeze them, and then vary the vacuum (cell size), and obtain the reference plot. \n"
   ]
  },
  {
   "cell_type": "code",
   "execution_count": 91,
   "metadata": {},
   "outputs": [
    {
     "data": {
      "text/plain": [
       "'/home/lan/Desktop/hBN_benchmark/rcc/wstat_test/*'"
      ]
     },
     "execution_count": 91,
     "metadata": {},
     "output_type": "execute_result"
    }
   ],
   "source": [
    "local_wstat_test_folder_content=ssh.get_LOCAL_WORKING_DIR() + '/wstat_test/*'\n",
    "local_wstat_test_folder_content"
   ]
  },
  {
   "cell_type": "code",
   "execution_count": 70,
   "metadata": {},
   "outputs": [
    {
     "data": {
      "text/plain": [
       "408"
      ]
     },
     "execution_count": 70,
     "metadata": {},
     "output_type": "execute_result"
    }
   ],
   "source": [
    "Ry2eV = 13.6056980659\n",
    "n_refreq = int(3 * Ry2eV / 0.1)\n",
    "n_refreq"
   ]
  },
  {
   "cell_type": "code",
   "execution_count": 77,
   "metadata": {},
   "outputs": [],
   "source": [
    "ecut_converged = 60\n",
    "li_n_refreq = [50,100,150,200,250,272,300,350,408,500,600,700]\n",
    "li_n_imfreq = [64,128,256,512,1024]\n",
    "li_n_lanczos = [10,20,30,40,50]\n",
    "li_n_pdep_eigen_to_use = [4*i for i in range(1,11)]"
   ]
  },
  {
   "cell_type": "markdown",
   "metadata": {},
   "source": [
    "### 1. n_refreq converge"
   ]
  },
  {
   "cell_type": "code",
   "execution_count": 94,
   "metadata": {},
   "outputs": [
    {
     "name": "stdout",
     "output_type": "stream",
     "text": [
      "Change directory to LOCAL_WORKING_DIR:/home/lan/Desktop/hBN_benchmark/rcc\n",
      "/home/lan/Desktop/hBN_benchmark/rcc/test_wfreq\n"
     ]
    }
   ],
   "source": [
    "jm.cd_LOCAL_WORKING_DIR()\n",
    "%mkdir test_wfreq\n",
    "%cd test_wfreq"
   ]
  },
  {
   "cell_type": "markdown",
   "metadata": {},
   "source": [
    "creat files at local first"
   ]
  },
  {
   "cell_type": "code",
   "execution_count": 95,
   "metadata": {},
   "outputs": [
    {
     "name": "stdout",
     "output_type": "stream",
     "text": [
      "n_refreq,  n_imfreq,  n_lanczos,  n_pdep_eigen_to_use\n",
      "50 256 30 40\n",
      "/home/lan/Desktop/hBN_benchmark/rcc/test_wfreq/n_refreq_50\n",
      "\n",
      "File written :  wfreq.in\n",
      "/home/lan/Desktop/hBN_benchmark/rcc/test_wfreq\n",
      "100 256 30 40\n",
      "/home/lan/Desktop/hBN_benchmark/rcc/test_wfreq/n_refreq_100\n",
      "\n",
      "File written :  wfreq.in\n",
      "/home/lan/Desktop/hBN_benchmark/rcc/test_wfreq\n",
      "150 256 30 40\n",
      "/home/lan/Desktop/hBN_benchmark/rcc/test_wfreq/n_refreq_150\n",
      "\n",
      "File written :  wfreq.in\n",
      "/home/lan/Desktop/hBN_benchmark/rcc/test_wfreq\n",
      "200 256 30 40\n",
      "/home/lan/Desktop/hBN_benchmark/rcc/test_wfreq/n_refreq_200\n",
      "\n",
      "File written :  wfreq.in\n",
      "/home/lan/Desktop/hBN_benchmark/rcc/test_wfreq\n",
      "250 256 30 40\n",
      "/home/lan/Desktop/hBN_benchmark/rcc/test_wfreq/n_refreq_250\n",
      "\n",
      "File written :  wfreq.in\n",
      "/home/lan/Desktop/hBN_benchmark/rcc/test_wfreq\n",
      "272 256 30 40\n",
      "/home/lan/Desktop/hBN_benchmark/rcc/test_wfreq/n_refreq_272\n",
      "\n",
      "File written :  wfreq.in\n",
      "/home/lan/Desktop/hBN_benchmark/rcc/test_wfreq\n",
      "300 256 30 40\n",
      "/home/lan/Desktop/hBN_benchmark/rcc/test_wfreq/n_refreq_300\n",
      "\n",
      "File written :  wfreq.in\n",
      "/home/lan/Desktop/hBN_benchmark/rcc/test_wfreq\n",
      "350 256 30 40\n",
      "/home/lan/Desktop/hBN_benchmark/rcc/test_wfreq/n_refreq_350\n",
      "\n",
      "File written :  wfreq.in\n",
      "/home/lan/Desktop/hBN_benchmark/rcc/test_wfreq\n",
      "408 256 30 40\n",
      "/home/lan/Desktop/hBN_benchmark/rcc/test_wfreq/n_refreq_408\n",
      "\n",
      "File written :  wfreq.in\n",
      "/home/lan/Desktop/hBN_benchmark/rcc/test_wfreq\n",
      "500 256 30 40\n",
      "/home/lan/Desktop/hBN_benchmark/rcc/test_wfreq/n_refreq_500\n",
      "\n",
      "File written :  wfreq.in\n",
      "/home/lan/Desktop/hBN_benchmark/rcc/test_wfreq\n",
      "600 256 30 40\n",
      "/home/lan/Desktop/hBN_benchmark/rcc/test_wfreq/n_refreq_600\n",
      "\n",
      "File written :  wfreq.in\n",
      "/home/lan/Desktop/hBN_benchmark/rcc/test_wfreq\n",
      "700 256 30 40\n",
      "/home/lan/Desktop/hBN_benchmark/rcc/test_wfreq/n_refreq_700\n",
      "\n",
      "File written :  wfreq.in\n",
      "/home/lan/Desktop/hBN_benchmark/rcc/test_wfreq\n"
     ]
    }
   ],
   "source": [
    "n_refreq = 272\n",
    "n_lanczos = 30\n",
    "n_imfreq = 256\n",
    "n_pdep_eigen_to_use = 40\n",
    "print('n_refreq,  n_imfreq,  n_lanczos,  n_pdep_eigen_to_use')\n",
    "for n_refreq in li_n_refreq:\n",
    "    print(n_refreq,n_imfreq,n_lanczos,n_pdep_eigen_to_use)\n",
    "    #assign cur folder\n",
    "    cur_folder='n_refreq_'+str(n_refreq)\n",
    "    %mkdir {cur_folder}\n",
    "    %cd {cur_folder}\n",
    "    data = {}\n",
    "    data[\"input_west\"] = {}\n",
    "    data[\"input_west\"][\"qe_prefix\"] = \"calc\"\n",
    "    data[\"input_west\"][\"west_prefix\"] = \"calc\"\n",
    "    data[\"input_west\"][\"outdir\"] = \"./\"\n",
    "    data[\"wstat_control\"] = {}\n",
    "    data[\"wstat_control\"][\"wstat_calculation\"] = \"S\"\n",
    "    data[\"wstat_control\"][\"n_pdep_eigen\"] = 40\n",
    "    #write wfreq.in\n",
    "    data[\"wfreq_control\"] = {}\n",
    "    data[\"wfreq_control\"][\"wfreq_calculation\"] = \"XWGQ\"\n",
    "    data[\"wfreq_control\"][\"n_refreq\"] = n_refreq\n",
    "    data[\"wfreq_control\"][\"n_imfreq\"] = n_imfreq\n",
    "    data[\"wfreq_control\"][\"n_lanczos\"] = n_lanczos\n",
    "    data[\"wfreq_control\"][\"n_pdep_eigen_to_use\"] = n_pdep_eigen_to_use\n",
    "    data[\"wfreq_control\"][\"qp_bandrange\"] = [1,8]\n",
    "    data[\"wfreq_control\"][\"ecut_refreq\"] = 3.0\n",
    "    data[\"wfreq_control\"][\"ecut_imfreq\"] = 4*ecut_converged\n",
    "    data[\"wfreq_control\"][\"n_secant_maxiter\"] = 100\n",
    "    writeJsonFile(\"wfreq.in\",data)\n",
    "    #cp local_wstat_test_folder's content to cur_folder\n",
    "    !cp -r  {local_wstat_test_folder_content} .\n",
    "    %cd .."
   ]
  },
  {
   "cell_type": "markdown",
   "metadata": {},
   "source": [
    "submit wfreq job"
   ]
  },
  {
   "cell_type": "code",
   "execution_count": 99,
   "metadata": {},
   "outputs": [],
   "source": [
    "parameters = {'job_name': 'wfreq',\n",
    "              'time': '02:00:00',\n",
    "              'queue': 'broadwl',\n",
    "              'nodes': 1,\n",
    "              'ntasks_per_node': 1,\n",
    "              'cpus_per_task': 14,\n",
    "              'mem_per_cpu': 2000,\n",
    "              'cmd': 'mpirun -np $NTASKS wfreq.x -i wfreq.in > wfreq.out'}"
   ]
  },
  {
   "cell_type": "code",
   "execution_count": 100,
   "metadata": {},
   "outputs": [
    {
     "name": "stdout",
     "output_type": "stream",
     "text": [
      "Change directory to LOCAL_WORKING_DIR:/home/lan/Desktop/hBN_benchmark/rcc\n",
      "/home/lan/Desktop/hBN_benchmark/rcc/test_wfreq\n",
      "n_refreq 50\n",
      "/home/lan/Desktop/hBN_benchmark/rcc/test_wfreq/n_refreq_50\n",
      "\u001b[1;1msynchronizing local:/home/lan/Desktop/hBN_benchmark/rcc  ->  remote:/home/huangl1/simulation\u001b[0m\n",
      "\u001b[1;32mUpload local  dir:/home/lan/Desktop/hBN_benchmark/rcc/test_wfreq\u001b[0m\n",
      "JobID:3194114\n",
      "/home/lan/Desktop/hBN_benchmark/rcc/test_wfreq\n",
      "n_refreq 100\n",
      "/home/lan/Desktop/hBN_benchmark/rcc/test_wfreq/n_refreq_100\n",
      "\u001b[1;1msynchronizing local:/home/lan/Desktop/hBN_benchmark/rcc  ->  remote:/home/huangl1/simulation\u001b[0m\n",
      "\u001b[32mUpload local  file:/home/lan/Desktop/hBN_benchmark/rcc/test_wfreq/n_refreq_100/run_wfreq.sh\u001b[0m\n",
      "JobID:3194162\n",
      "/home/lan/Desktop/hBN_benchmark/rcc/test_wfreq\n",
      "n_refreq 150\n",
      "/home/lan/Desktop/hBN_benchmark/rcc/test_wfreq/n_refreq_150\n",
      "\u001b[1;1msynchronizing local:/home/lan/Desktop/hBN_benchmark/rcc  ->  remote:/home/huangl1/simulation\u001b[0m\n",
      "\u001b[32mUpload local  file:/home/lan/Desktop/hBN_benchmark/rcc/test_wfreq/n_refreq_150/run_wfreq.sh\u001b[0m\n",
      "JobID:3194205\n",
      "/home/lan/Desktop/hBN_benchmark/rcc/test_wfreq\n",
      "n_refreq 200\n",
      "/home/lan/Desktop/hBN_benchmark/rcc/test_wfreq/n_refreq_200\n",
      "\u001b[1;1msynchronizing local:/home/lan/Desktop/hBN_benchmark/rcc  ->  remote:/home/huangl1/simulation\u001b[0m\n",
      "\u001b[32mUpload local  file:/home/lan/Desktop/hBN_benchmark/rcc/test_wfreq/n_refreq_200/run_wfreq.sh\u001b[0m\n",
      "JobID:3194245\n",
      "/home/lan/Desktop/hBN_benchmark/rcc/test_wfreq\n",
      "n_refreq 250\n",
      "/home/lan/Desktop/hBN_benchmark/rcc/test_wfreq/n_refreq_250\n",
      "\u001b[1;1msynchronizing local:/home/lan/Desktop/hBN_benchmark/rcc  ->  remote:/home/huangl1/simulation\u001b[0m\n",
      "\u001b[32mUpload local  file:/home/lan/Desktop/hBN_benchmark/rcc/test_wfreq/n_refreq_250/run_wfreq.sh\u001b[0m\n",
      "JobID:3194301\n",
      "/home/lan/Desktop/hBN_benchmark/rcc/test_wfreq\n",
      "n_refreq 272\n",
      "/home/lan/Desktop/hBN_benchmark/rcc/test_wfreq/n_refreq_272\n",
      "\u001b[1;1msynchronizing local:/home/lan/Desktop/hBN_benchmark/rcc  ->  remote:/home/huangl1/simulation\u001b[0m\n",
      "\u001b[32mUpload local  file:/home/lan/Desktop/hBN_benchmark/rcc/test_wfreq/n_refreq_272/run_wfreq.sh\u001b[0m\n",
      "JobID:3194342\n",
      "/home/lan/Desktop/hBN_benchmark/rcc/test_wfreq\n",
      "n_refreq 300\n",
      "/home/lan/Desktop/hBN_benchmark/rcc/test_wfreq/n_refreq_300\n",
      "\u001b[1;1msynchronizing local:/home/lan/Desktop/hBN_benchmark/rcc  ->  remote:/home/huangl1/simulation\u001b[0m\n",
      "\u001b[32mUpload local  file:/home/lan/Desktop/hBN_benchmark/rcc/test_wfreq/n_refreq_300/run_wfreq.sh\u001b[0m\n",
      "JobID:3194387\n",
      "/home/lan/Desktop/hBN_benchmark/rcc/test_wfreq\n",
      "n_refreq 350\n",
      "/home/lan/Desktop/hBN_benchmark/rcc/test_wfreq/n_refreq_350\n",
      "\u001b[1;1msynchronizing local:/home/lan/Desktop/hBN_benchmark/rcc  ->  remote:/home/huangl1/simulation\u001b[0m\n",
      "\u001b[32mUpload local  file:/home/lan/Desktop/hBN_benchmark/rcc/test_wfreq/n_refreq_350/run_wfreq.sh\u001b[0m\n",
      "JobID:3194444\n",
      "/home/lan/Desktop/hBN_benchmark/rcc/test_wfreq\n",
      "n_refreq 408\n",
      "/home/lan/Desktop/hBN_benchmark/rcc/test_wfreq/n_refreq_408\n",
      "\u001b[1;1msynchronizing local:/home/lan/Desktop/hBN_benchmark/rcc  ->  remote:/home/huangl1/simulation\u001b[0m\n",
      "\u001b[32mUpload local  file:/home/lan/Desktop/hBN_benchmark/rcc/test_wfreq/n_refreq_408/run_wfreq.sh\u001b[0m\n",
      "JobID:3194489\n",
      "/home/lan/Desktop/hBN_benchmark/rcc/test_wfreq\n",
      "n_refreq 500\n",
      "/home/lan/Desktop/hBN_benchmark/rcc/test_wfreq/n_refreq_500\n",
      "\u001b[1;1msynchronizing local:/home/lan/Desktop/hBN_benchmark/rcc  ->  remote:/home/huangl1/simulation\u001b[0m\n",
      "\u001b[32mUpload local  file:/home/lan/Desktop/hBN_benchmark/rcc/test_wfreq/n_refreq_500/run_wfreq.sh\u001b[0m\n",
      "JobID:3194493\n",
      "/home/lan/Desktop/hBN_benchmark/rcc/test_wfreq\n",
      "n_refreq 600\n",
      "/home/lan/Desktop/hBN_benchmark/rcc/test_wfreq/n_refreq_600\n",
      "\u001b[1;1msynchronizing local:/home/lan/Desktop/hBN_benchmark/rcc  ->  remote:/home/huangl1/simulation\u001b[0m\n",
      "\u001b[32mUpload local  file:/home/lan/Desktop/hBN_benchmark/rcc/test_wfreq/n_refreq_600/run_wfreq.sh\u001b[0m\n",
      "JobID:3194500\n",
      "/home/lan/Desktop/hBN_benchmark/rcc/test_wfreq\n",
      "n_refreq 700\n",
      "/home/lan/Desktop/hBN_benchmark/rcc/test_wfreq/n_refreq_700\n",
      "\u001b[1;1msynchronizing local:/home/lan/Desktop/hBN_benchmark/rcc  ->  remote:/home/huangl1/simulation\u001b[0m\n",
      "\u001b[32mUpload local  file:/home/lan/Desktop/hBN_benchmark/rcc/test_wfreq/n_refreq_700/run_wfreq.sh\u001b[0m\n",
      "JobID:3194501\n",
      "/home/lan/Desktop/hBN_benchmark/rcc/test_wfreq\n"
     ]
    }
   ],
   "source": [
    "jm.cd_LOCAL_WORKING_DIR()\n",
    "%cd test_wfreq\n",
    "\n",
    "for n_refreq in li_n_refreq:\n",
    "    print('n_refreq',n_refreq)\n",
    "    cur_folder='n_refreq_'+str(n_refreq)\n",
    "    %cd {cur_folder}\n",
    "    Template(rcc_template_string,parameters).write('run_wfreq.sh')\n",
    "    %submit run_wfreq.sh @collect=wfreq.out,o*\n",
    "    %cd .."
   ]
  },
  {
   "cell_type": "code",
   "execution_count": 115,
   "metadata": {},
   "outputs": [
    {
     "name": "stdout",
     "output_type": "stream",
     "text": [
      "    JobID  | Status  |   Time   |    SubmitTime       |       Note\n",
      " -----------------------------Pending Jobs------------------------------\n",
      "   3135402 | Pending |     0:00 | 2020-07-22 21:52:30 | Cannot find JobInfo in log \n",
      "   3136672 | Pending |     0:00 | 2020-07-22 21:52:30 | Cannot find JobInfo in log \n",
      "   3136675 | Pending |     0:00 | 2020-07-22 21:52:30 | Cannot find JobInfo in log \n",
      "   3136736 | Pending |     0:00 | 2020-07-22 21:52:30 | Cannot find JobInfo in log \n",
      " ----------------------------Finished  Jobs-----------------------------\n",
      "   3169140 |  Done   |     0:00 | 2020-07-23 03:36:43 | /wstat_test |  \n",
      "   3191678 |  Done   |     0:08 | 2020-07-24 14:39:59 | /wstat_test |  \n",
      "   3191799 |  Done   |     0:18 | 2020-07-24 14:44:01 | /wstat_test |  \n",
      "   3194114 |  Done   |     0:00 | 2020-07-24 15:46:07 | /test_wfreq/n_refreq_50 | wfreq.out,o* \n",
      "   3194162 |  Done   |     0:00 | 2020-07-24 15:46:12 | /test_wfreq/n_refreq_100 | wfreq.out,o* \n",
      "   3194205 |  Done   |     0:00 | 2020-07-24 15:46:17 | /test_wfreq/n_refreq_150 | wfreq.out,o* \n",
      "   3194245 |  Done   |     0:00 | 2020-07-24 15:46:22 | /test_wfreq/n_refreq_200 | wfreq.out,o* \n",
      "   3194301 |  Done   |     0:00 | 2020-07-24 15:46:27 | /test_wfreq/n_refreq_250 | wfreq.out,o* \n",
      "   3194342 |  Done   |     0:00 | 2020-07-24 15:46:32 | /test_wfreq/n_refreq_272 | wfreq.out,o* \n",
      "   3194387 |  Done   |     0:00 | 2020-07-24 15:46:37 | /test_wfreq/n_refreq_300 | wfreq.out,o* \n",
      "   3194444 |  Done   |     0:00 | 2020-07-24 15:46:42 | /test_wfreq/n_refreq_350 | wfreq.out,o* \n",
      "   3194489 |  Done   |     0:00 | 2020-07-24 15:46:47 | /test_wfreq/n_refreq_408 | wfreq.out,o* \n",
      "   3194493 |  Done   |     0:00 | 2020-07-24 15:46:53 | /test_wfreq/n_refreq_500 | wfreq.out,o* \n",
      "   3194500 |  Done   |     0:00 | 2020-07-24 15:46:58 | /test_wfreq/n_refreq_600 | wfreq.out,o* \n",
      "   3194501 |  Done   |     0:00 | 2020-07-24 15:47:03 | /test_wfreq/n_refreq_700 | wfreq.out,o* \n"
     ]
    }
   ],
   "source": [
    "jm.view()"
   ]
  },
  {
   "cell_type": "code",
   "execution_count": 116,
   "metadata": {
    "scrolled": false
   },
   "outputs": [
    {
     "name": "stdout",
     "output_type": "stream",
     "text": [
      "\u001b[1;1msynchronizing remote:/home/huangl1/simulation  ->  local:/home/lan/Desktop/hBN_benchmark/rcc\u001b[0m\n",
      "\u001b[32mDowload remote file:/home/huangl1/simulation/test_wfreq/n_refreq_408/o-ehf_K00001.tab\u001b[0m\n",
      "\u001b[32mDowload remote file:/home/huangl1/simulation/test_wfreq/n_refreq_408/o-eqp_K00001.tab\u001b[0m\n",
      "\u001b[32mDowload remote file:/home/huangl1/simulation/test_wfreq/n_refreq_408/wfreq.out\u001b[0m\n",
      "\u001b[32mDowload remote file:/home/huangl1/simulation/test_wfreq/n_refreq_250/o-ehf_K00001.tab\u001b[0m\n",
      "\u001b[32mDowload remote file:/home/huangl1/simulation/test_wfreq/n_refreq_250/o-eqp_K00001.tab\u001b[0m\n",
      "\u001b[32mDowload remote file:/home/huangl1/simulation/test_wfreq/n_refreq_250/wfreq.out\u001b[0m\n",
      "\u001b[32mDowload remote file:/home/huangl1/simulation/test_wfreq/n_refreq_300/o-ehf_K00001.tab\u001b[0m\n",
      "\u001b[32mDowload remote file:/home/huangl1/simulation/test_wfreq/n_refreq_300/o-eqp_K00001.tab\u001b[0m\n",
      "\u001b[32mDowload remote file:/home/huangl1/simulation/test_wfreq/n_refreq_300/wfreq.out\u001b[0m\n",
      "\u001b[32mDowload remote file:/home/huangl1/simulation/test_wfreq/n_refreq_150/o-ehf_K00001.tab\u001b[0m\n",
      "\u001b[32mDowload remote file:/home/huangl1/simulation/test_wfreq/n_refreq_150/o-eqp_K00001.tab\u001b[0m\n",
      "\u001b[32mDowload remote file:/home/huangl1/simulation/test_wfreq/n_refreq_150/wfreq.out\u001b[0m\n",
      "\u001b[32mDowload remote file:/home/huangl1/simulation/test_wfreq/n_refreq_272/o-ehf_K00001.tab\u001b[0m\n",
      "\u001b[32mDowload remote file:/home/huangl1/simulation/test_wfreq/n_refreq_272/o-eqp_K00001.tab\u001b[0m\n",
      "\u001b[32mDowload remote file:/home/huangl1/simulation/test_wfreq/n_refreq_272/wfreq.out\u001b[0m\n",
      "\u001b[32mDowload remote file:/home/huangl1/simulation/test_wfreq/n_refreq_500/o-ehf_K00001.tab\u001b[0m\n",
      "\u001b[32mDowload remote file:/home/huangl1/simulation/test_wfreq/n_refreq_500/o-eqp_K00001.tab\u001b[0m\n",
      "\u001b[32mDowload remote file:/home/huangl1/simulation/test_wfreq/n_refreq_500/wfreq.out\u001b[0m\n",
      "\u001b[32mDowload remote file:/home/huangl1/simulation/test_wfreq/n_refreq_700/o-ehf_K00001.tab\u001b[0m\n",
      "\u001b[32mDowload remote file:/home/huangl1/simulation/test_wfreq/n_refreq_700/o-eqp_K00001.tab\u001b[0m\n",
      "\u001b[32mDowload remote file:/home/huangl1/simulation/test_wfreq/n_refreq_700/wfreq.out\u001b[0m\n",
      "\u001b[32mDowload remote file:/home/huangl1/simulation/test_wfreq/n_refreq_50/o-ehf_K00001.tab\u001b[0m\n",
      "\u001b[32mDowload remote file:/home/huangl1/simulation/test_wfreq/n_refreq_50/o-eqp_K00001.tab\u001b[0m\n",
      "\u001b[32mDowload remote file:/home/huangl1/simulation/test_wfreq/n_refreq_50/wfreq.out\u001b[0m\n",
      "\u001b[32mDowload remote file:/home/huangl1/simulation/test_wfreq/n_refreq_200/o-ehf_K00001.tab\u001b[0m\n",
      "\u001b[32mDowload remote file:/home/huangl1/simulation/test_wfreq/n_refreq_200/o-eqp_K00001.tab\u001b[0m\n",
      "\u001b[32mDowload remote file:/home/huangl1/simulation/test_wfreq/n_refreq_200/wfreq.out\u001b[0m\n",
      "\u001b[32mDowload remote file:/home/huangl1/simulation/test_wfreq/n_refreq_600/o-ehf_K00001.tab\u001b[0m\n",
      "\u001b[32mDowload remote file:/home/huangl1/simulation/test_wfreq/n_refreq_600/o-eqp_K00001.tab\u001b[0m\n",
      "\u001b[32mDowload remote file:/home/huangl1/simulation/test_wfreq/n_refreq_600/wfreq.out\u001b[0m\n",
      "\u001b[32mDowload remote file:/home/huangl1/simulation/test_wfreq/n_refreq_100/o-ehf_K00001.tab\u001b[0m\n",
      "\u001b[32mDowload remote file:/home/huangl1/simulation/test_wfreq/n_refreq_100/o-eqp_K00001.tab\u001b[0m\n",
      "\u001b[32mDowload remote file:/home/huangl1/simulation/test_wfreq/n_refreq_100/wfreq.out\u001b[0m\n",
      "\u001b[32mDowload remote file:/home/huangl1/simulation/test_wfreq/n_refreq_350/o-ehf_K00001.tab\u001b[0m\n",
      "\u001b[32mDowload remote file:/home/huangl1/simulation/test_wfreq/n_refreq_350/o-eqp_K00001.tab\u001b[0m\n",
      "\u001b[32mDowload remote file:/home/huangl1/simulation/test_wfreq/n_refreq_350/wfreq.out\u001b[0m\n",
      "--------------------------- Local files change after pull -------------------------------\n",
      "Files Added:\n",
      "\t/home/lan/Desktop/hBN_benchmark/rcc/test_wfreq/n_refreq_500/o-eqp_K00001.tab\n",
      "\t/home/lan/Desktop/hBN_benchmark/rcc/test_wfreq/n_refreq_500/wfreq.out\n",
      "\t/home/lan/Desktop/hBN_benchmark/rcc/test_wfreq/n_refreq_500/o-ehf_K00001.tab\n",
      "\t/home/lan/Desktop/hBN_benchmark/rcc/test_wfreq/n_refreq_350/o-eqp_K00001.tab\n",
      "\t/home/lan/Desktop/hBN_benchmark/rcc/test_wfreq/n_refreq_350/wfreq.out\n",
      "\t/home/lan/Desktop/hBN_benchmark/rcc/test_wfreq/n_refreq_350/o-ehf_K00001.tab\n",
      "\t/home/lan/Desktop/hBN_benchmark/rcc/test_wfreq/n_refreq_200/o-eqp_K00001.tab\n",
      "\t/home/lan/Desktop/hBN_benchmark/rcc/test_wfreq/n_refreq_200/wfreq.out\n",
      "\t/home/lan/Desktop/hBN_benchmark/rcc/test_wfreq/n_refreq_200/o-ehf_K00001.tab\n",
      "\t/home/lan/Desktop/hBN_benchmark/rcc/test_wfreq/n_refreq_100/o-eqp_K00001.tab\n",
      "\t/home/lan/Desktop/hBN_benchmark/rcc/test_wfreq/n_refreq_100/wfreq.out\n",
      "\t/home/lan/Desktop/hBN_benchmark/rcc/test_wfreq/n_refreq_100/o-ehf_K00001.tab\n",
      "\t/home/lan/Desktop/hBN_benchmark/rcc/test_wfreq/n_refreq_250/o-eqp_K00001.tab\n",
      "\t/home/lan/Desktop/hBN_benchmark/rcc/test_wfreq/n_refreq_250/wfreq.out\n",
      "\t/home/lan/Desktop/hBN_benchmark/rcc/test_wfreq/n_refreq_250/o-ehf_K00001.tab\n",
      "\t/home/lan/Desktop/hBN_benchmark/rcc/test_wfreq/n_refreq_700/o-eqp_K00001.tab\n",
      "\t/home/lan/Desktop/hBN_benchmark/rcc/test_wfreq/n_refreq_700/wfreq.out\n",
      "\t/home/lan/Desktop/hBN_benchmark/rcc/test_wfreq/n_refreq_700/o-ehf_K00001.tab\n",
      "\t/home/lan/Desktop/hBN_benchmark/rcc/test_wfreq/n_refreq_600/o-eqp_K00001.tab\n",
      "\t/home/lan/Desktop/hBN_benchmark/rcc/test_wfreq/n_refreq_600/wfreq.out\n",
      "\t/home/lan/Desktop/hBN_benchmark/rcc/test_wfreq/n_refreq_600/o-ehf_K00001.tab\n",
      "\t/home/lan/Desktop/hBN_benchmark/rcc/test_wfreq/n_refreq_272/o-eqp_K00001.tab\n",
      "\t/home/lan/Desktop/hBN_benchmark/rcc/test_wfreq/n_refreq_272/wfreq.out\n",
      "\t/home/lan/Desktop/hBN_benchmark/rcc/test_wfreq/n_refreq_272/o-ehf_K00001.tab\n",
      "\t/home/lan/Desktop/hBN_benchmark/rcc/test_wfreq/n_refreq_300/o-eqp_K00001.tab\n",
      "\t/home/lan/Desktop/hBN_benchmark/rcc/test_wfreq/n_refreq_300/wfreq.out\n",
      "\t/home/lan/Desktop/hBN_benchmark/rcc/test_wfreq/n_refreq_300/o-ehf_K00001.tab\n",
      "\t/home/lan/Desktop/hBN_benchmark/rcc/test_wfreq/n_refreq_50/o-eqp_K00001.tab\n",
      "\t/home/lan/Desktop/hBN_benchmark/rcc/test_wfreq/n_refreq_50/wfreq.out\n",
      "\t/home/lan/Desktop/hBN_benchmark/rcc/test_wfreq/n_refreq_50/o-ehf_K00001.tab\n",
      "\t/home/lan/Desktop/hBN_benchmark/rcc/test_wfreq/n_refreq_150/o-eqp_K00001.tab\n",
      "\t/home/lan/Desktop/hBN_benchmark/rcc/test_wfreq/n_refreq_150/wfreq.out\n",
      "\t/home/lan/Desktop/hBN_benchmark/rcc/test_wfreq/n_refreq_150/o-ehf_K00001.tab\n",
      "\t/home/lan/Desktop/hBN_benchmark/rcc/test_wfreq/n_refreq_408/o-eqp_K00001.tab\n",
      "\t/home/lan/Desktop/hBN_benchmark/rcc/test_wfreq/n_refreq_408/wfreq.out\n",
      "\t/home/lan/Desktop/hBN_benchmark/rcc/test_wfreq/n_refreq_408/o-ehf_K00001.tab\n",
      "------------------------------------------------------------------------------------------\n"
     ]
    }
   ],
   "source": [
    "%pull"
   ]
  },
  {
   "cell_type": "code",
   "execution_count": 117,
   "metadata": {
    "scrolled": false
   },
   "outputs": [
    {
     "name": "stdout",
     "output_type": "stream",
     "text": [
      "Change directory to LOCAL_WORKING_DIR:/home/lan/Desktop/hBN_benchmark/rcc\n",
      "/home/lan/Desktop/hBN_benchmark/rcc/test_wfreq\n",
      "n_refreq 50\n",
      "/home/lan/Desktop/hBN_benchmark/rcc/test_wfreq/n_refreq_50\n",
      "   JOB DONE.\n",
      "/home/lan/Desktop/hBN_benchmark/rcc/test_wfreq\n",
      "n_refreq 100\n",
      "/home/lan/Desktop/hBN_benchmark/rcc/test_wfreq/n_refreq_100\n",
      "   JOB DONE.\n",
      "/home/lan/Desktop/hBN_benchmark/rcc/test_wfreq\n",
      "n_refreq 150\n",
      "/home/lan/Desktop/hBN_benchmark/rcc/test_wfreq/n_refreq_150\n",
      "   JOB DONE.\n",
      "/home/lan/Desktop/hBN_benchmark/rcc/test_wfreq\n",
      "n_refreq 200\n",
      "/home/lan/Desktop/hBN_benchmark/rcc/test_wfreq/n_refreq_200\n",
      "   JOB DONE.\n",
      "/home/lan/Desktop/hBN_benchmark/rcc/test_wfreq\n",
      "n_refreq 250\n",
      "/home/lan/Desktop/hBN_benchmark/rcc/test_wfreq/n_refreq_250\n",
      "   JOB DONE.\n",
      "/home/lan/Desktop/hBN_benchmark/rcc/test_wfreq\n",
      "n_refreq 272\n",
      "/home/lan/Desktop/hBN_benchmark/rcc/test_wfreq/n_refreq_272\n",
      "   JOB DONE.\n",
      "/home/lan/Desktop/hBN_benchmark/rcc/test_wfreq\n",
      "n_refreq 300\n",
      "/home/lan/Desktop/hBN_benchmark/rcc/test_wfreq/n_refreq_300\n",
      "   JOB DONE.\n",
      "/home/lan/Desktop/hBN_benchmark/rcc/test_wfreq\n",
      "n_refreq 350\n",
      "/home/lan/Desktop/hBN_benchmark/rcc/test_wfreq/n_refreq_350\n",
      "   JOB DONE.\n",
      "/home/lan/Desktop/hBN_benchmark/rcc/test_wfreq\n",
      "n_refreq 408\n",
      "/home/lan/Desktop/hBN_benchmark/rcc/test_wfreq/n_refreq_408\n",
      "   JOB DONE.\n",
      "/home/lan/Desktop/hBN_benchmark/rcc/test_wfreq\n",
      "n_refreq 500\n",
      "/home/lan/Desktop/hBN_benchmark/rcc/test_wfreq/n_refreq_500\n",
      "   JOB DONE.\n",
      "/home/lan/Desktop/hBN_benchmark/rcc/test_wfreq\n",
      "n_refreq 600\n",
      "/home/lan/Desktop/hBN_benchmark/rcc/test_wfreq/n_refreq_600\n",
      "   JOB DONE.\n",
      "/home/lan/Desktop/hBN_benchmark/rcc/test_wfreq\n",
      "n_refreq 700\n",
      "/home/lan/Desktop/hBN_benchmark/rcc/test_wfreq/n_refreq_700\n",
      "   JOB DONE.\n",
      "/home/lan/Desktop/hBN_benchmark/rcc/test_wfreq\n"
     ]
    }
   ],
   "source": [
    "#check job terminate normal\n",
    "jm.cd_LOCAL_WORKING_DIR()\n",
    "%cd test_wfreq\n",
    "\n",
    "for n_refreq in li_n_refreq:\n",
    "    print('n_refreq',n_refreq)\n",
    "    cur_folder='n_refreq_'+str(n_refreq)\n",
    "    %cd {cur_folder}\n",
    "    !grep 'JOB DONE' wfreq.out\n",
    "    %cd .."
   ]
  },
  {
   "cell_type": "code",
   "execution_count": 120,
   "metadata": {},
   "outputs": [
    {
     "name": "stdout",
     "output_type": "stream",
     "text": [
      "Change directory to LOCAL_WORKING_DIR:/home/lan/Desktop/hBN_benchmark/rcc\n",
      "/home/lan/Desktop/hBN_benchmark/rcc/test_wfreq\n",
      "n_refreq 50\n",
      "/home/lan/Desktop/hBN_benchmark/rcc/test_wfreq/n_refreq_50\n"
     ]
    },
    {
     "name": "stderr",
     "output_type": "stream",
     "text": [
      "/home/lan/.local/lib/python3.6/site-packages/ipykernel_launcher.py:14: ParserWarning: Falling back to the 'python' engine because the 'c' engine does not support regex separators (separators > 1 char and different from '\\s+' are interpreted as regex); you can avoid this warning by specifying engine='python'.\n",
      "  \n"
     ]
    },
    {
     "name": "stdout",
     "output_type": "stream",
     "text": [
      "/home/lan/Desktop/hBN_benchmark/rcc/test_wfreq\n",
      "n_refreq 100\n",
      "/home/lan/Desktop/hBN_benchmark/rcc/test_wfreq/n_refreq_100\n",
      "/home/lan/Desktop/hBN_benchmark/rcc/test_wfreq\n",
      "n_refreq 150\n",
      "/home/lan/Desktop/hBN_benchmark/rcc/test_wfreq/n_refreq_150\n",
      "/home/lan/Desktop/hBN_benchmark/rcc/test_wfreq\n",
      "n_refreq 200\n",
      "/home/lan/Desktop/hBN_benchmark/rcc/test_wfreq/n_refreq_200\n",
      "/home/lan/Desktop/hBN_benchmark/rcc/test_wfreq\n",
      "n_refreq 250\n",
      "/home/lan/Desktop/hBN_benchmark/rcc/test_wfreq/n_refreq_250\n",
      "/home/lan/Desktop/hBN_benchmark/rcc/test_wfreq\n",
      "n_refreq 272\n",
      "/home/lan/Desktop/hBN_benchmark/rcc/test_wfreq/n_refreq_272\n",
      "/home/lan/Desktop/hBN_benchmark/rcc/test_wfreq\n",
      "n_refreq 300\n",
      "/home/lan/Desktop/hBN_benchmark/rcc/test_wfreq/n_refreq_300\n",
      "/home/lan/Desktop/hBN_benchmark/rcc/test_wfreq\n",
      "n_refreq 350\n",
      "/home/lan/Desktop/hBN_benchmark/rcc/test_wfreq/n_refreq_350\n",
      "/home/lan/Desktop/hBN_benchmark/rcc/test_wfreq\n",
      "n_refreq 408\n",
      "/home/lan/Desktop/hBN_benchmark/rcc/test_wfreq/n_refreq_408\n",
      "/home/lan/Desktop/hBN_benchmark/rcc/test_wfreq\n",
      "n_refreq 500\n",
      "/home/lan/Desktop/hBN_benchmark/rcc/test_wfreq/n_refreq_500\n",
      "/home/lan/Desktop/hBN_benchmark/rcc/test_wfreq\n",
      "n_refreq 600\n",
      "/home/lan/Desktop/hBN_benchmark/rcc/test_wfreq/n_refreq_600\n",
      "/home/lan/Desktop/hBN_benchmark/rcc/test_wfreq\n",
      "n_refreq 700\n",
      "/home/lan/Desktop/hBN_benchmark/rcc/test_wfreq/n_refreq_700\n",
      "/home/lan/Desktop/hBN_benchmark/rcc/test_wfreq\n"
     ]
    },
    {
     "data": {
      "image/png": "[encoded data removed]",
      "text/plain": [
       "<Figure size 432x288 with 1 Axes>"
      ]
     },
     "metadata": {
      "needs_background": "light"
     },
     "output_type": "display_data"
    }
   ],
   "source": [
    "#plot  n_refreq\n",
    "jm.cd_LOCAL_WORKING_DIR()\n",
    "%cd test_wfreq\n",
    "\n",
    "HOMO = 5\n",
    "LOMO = 4\n",
    "Eqp=[]\n",
    "\n",
    "for n_refreq in li_n_refreq:\n",
    "    print('n_refreq',n_refreq)\n",
    "    cur_folder='n_refreq_'+str(n_refreq)\n",
    "    %cd {cur_folder}\n",
    "    #process o-eqp_K00001.tab\n",
    "    tmp=pd.read_csv('o-eqp_K00001.tab',sep='      ', header=None,skiprows=[0])\n",
    "    tmp.rename({0: 'band', 1: 'E0[eV]', 2:'EHF[eV]', 3:'Eqp[eV]',4:'Eqp-E0[eV]',5:'Sc_Eqp[eV]',6:'Width[eV]'}, axis=1, inplace=True)    \n",
    "    Eqp_HOMO_LOMO=tmp.loc[HOMO-1,'Eqp[eV]'] - tmp.loc[LOMO-1,'Eqp[eV]'] \n",
    "    Eqp.append(Eqp_HOMO_LOMO)\n",
    "    %cd ..\n",
    "\n",
    "plt.plot(li_n_refreq,Eqp,'-*')\n",
    "plt.xlabel('n_refreq')\n",
    "plt.ylabel('Eqp HOMO-LOMO[ev]')\n",
    "plt.title('n_refreq v.s Eqp HOMO-LOMO[ev]')\n",
    "plt.show()"
   ]
  },
  {
   "cell_type": "markdown",
   "metadata": {},
   "source": [
    "## <font color='blue'>converged n_refreq=600</font>"
   ]
  },
  {
   "cell_type": "markdown",
   "metadata": {},
   "source": [
    "### 2. n_imfreq converge"
   ]
  },
  {
   "cell_type": "code",
   "execution_count": 122,
   "metadata": {},
   "outputs": [
    {
     "name": "stdout",
     "output_type": "stream",
     "text": [
      "Change directory to LOCAL_WORKING_DIR:/home/lan/Desktop/hBN_benchmark/rcc\n",
      "/home/lan/Desktop/hBN_benchmark/rcc/test_wfreq\n",
      "n_refreq,  n_imfreq,  n_lanczos,  n_pdep_eigen_to_use\n",
      "272 64 30 40\n",
      "/home/lan/Desktop/hBN_benchmark/rcc/test_wfreq/n_imfreq_64\n",
      "\n",
      "File written :  wfreq.in\n",
      "\u001b[1;1msynchronizing local:/home/lan/Desktop/hBN_benchmark/rcc  ->  remote:/home/huangl1/simulation\u001b[0m\n",
      "\u001b[1;32mUpload local  dir:/home/lan/Desktop/hBN_benchmark/rcc/test_wfreq/n_imfreq_64\u001b[0m\n",
      "JobID:3196120\n",
      "/home/lan/Desktop/hBN_benchmark/rcc/test_wfreq\n",
      "272 128 30 40\n",
      "/home/lan/Desktop/hBN_benchmark/rcc/test_wfreq/n_imfreq_128\n",
      "\n",
      "File written :  wfreq.in\n",
      "\u001b[1;1msynchronizing local:/home/lan/Desktop/hBN_benchmark/rcc  ->  remote:/home/huangl1/simulation\u001b[0m\n",
      "\u001b[1;32mUpload local  dir:/home/lan/Desktop/hBN_benchmark/rcc/test_wfreq/n_imfreq_128\u001b[0m\n",
      "JobID:3196121\n",
      "/home/lan/Desktop/hBN_benchmark/rcc/test_wfreq\n",
      "272 256 30 40\n",
      "/home/lan/Desktop/hBN_benchmark/rcc/test_wfreq/n_imfreq_256\n",
      "\n",
      "File written :  wfreq.in\n",
      "\u001b[1;1msynchronizing local:/home/lan/Desktop/hBN_benchmark/rcc  ->  remote:/home/huangl1/simulation\u001b[0m\n",
      "\u001b[1;32mUpload local  dir:/home/lan/Desktop/hBN_benchmark/rcc/test_wfreq/n_imfreq_256\u001b[0m\n",
      "JobID:3196122\n",
      "/home/lan/Desktop/hBN_benchmark/rcc/test_wfreq\n",
      "272 512 30 40\n",
      "/home/lan/Desktop/hBN_benchmark/rcc/test_wfreq/n_imfreq_512\n",
      "\n",
      "File written :  wfreq.in\n",
      "\u001b[1;1msynchronizing local:/home/lan/Desktop/hBN_benchmark/rcc  ->  remote:/home/huangl1/simulation\u001b[0m\n",
      "\u001b[1;32mUpload local  dir:/home/lan/Desktop/hBN_benchmark/rcc/test_wfreq/n_imfreq_512\u001b[0m\n",
      "JobID:3196124\n",
      "/home/lan/Desktop/hBN_benchmark/rcc/test_wfreq\n",
      "272 1024 30 40\n",
      "/home/lan/Desktop/hBN_benchmark/rcc/test_wfreq/n_imfreq_1024\n",
      "\n",
      "File written :  wfreq.in\n",
      "\u001b[1;1msynchronizing local:/home/lan/Desktop/hBN_benchmark/rcc  ->  remote:/home/huangl1/simulation\u001b[0m\n",
      "\u001b[1;32mUpload local  dir:/home/lan/Desktop/hBN_benchmark/rcc/test_wfreq/n_imfreq_1024\u001b[0m\n",
      "JobID:3196126\n",
      "/home/lan/Desktop/hBN_benchmark/rcc/test_wfreq\n"
     ]
    }
   ],
   "source": [
    "local_wstat_test_folder_content=ssh.get_LOCAL_WORKING_DIR() + '/wstat_test/*'\n",
    "\n",
    "\n",
    "jm.cd_LOCAL_WORKING_DIR()\n",
    "%cd test_wfreq\n",
    "\n",
    "\n",
    "ecut_converged = 60\n",
    "li_n_refreq = [50,100,150,200,250,272,300,350,408,500,600,700]\n",
    "li_n_imfreq = [64,128,256,512,1024]\n",
    "li_n_lanczos = [10,20,30,40,50]\n",
    "li_n_pdep_eigen_to_use = [4*i for i in range(1,11)]\n",
    "\n",
    "\n",
    "n_refreq = 272\n",
    "n_lanczos = 30\n",
    "n_imfreq = 256\n",
    "n_pdep_eigen_to_use = 40\n",
    "\n",
    "\n",
    "parameters = {'job_name': 'wfreq',\n",
    "              'time': '02:00:00',\n",
    "              'queue': 'broadwl',\n",
    "              'nodes': 1,\n",
    "              'ntasks_per_node': 1,\n",
    "              'cpus_per_task': 14,\n",
    "              'mem_per_cpu': 2000,\n",
    "              'cmd': 'mpirun -np $NTASKS wfreq.x -i wfreq.in > wfreq.out'}\n",
    "\n",
    "\n",
    "print('n_refreq,  n_imfreq,  n_lanczos,  n_pdep_eigen_to_use')\n",
    "for n_imfreq in li_n_imfreq:\n",
    "    print(n_refreq,n_imfreq,n_lanczos,n_pdep_eigen_to_use)\n",
    "    #assign cur folder\n",
    "    cur_folder='n_imfreq_'+str(n_imfreq)\n",
    "    %mkdir {cur_folder}\n",
    "    %cd {cur_folder}\n",
    "    data = {}\n",
    "    data[\"input_west\"] = {}\n",
    "    data[\"input_west\"][\"qe_prefix\"] = \"calc\"\n",
    "    data[\"input_west\"][\"west_prefix\"] = \"calc\"\n",
    "    data[\"input_west\"][\"outdir\"] = \"./\"\n",
    "    data[\"wstat_control\"] = {}\n",
    "    data[\"wstat_control\"][\"wstat_calculation\"] = \"S\"\n",
    "    data[\"wstat_control\"][\"n_pdep_eigen\"] = 40\n",
    "    #write wfreq.in\n",
    "    data[\"wfreq_control\"] = {}\n",
    "    data[\"wfreq_control\"][\"wfreq_calculation\"] = \"XWGQ\"\n",
    "    data[\"wfreq_control\"][\"n_refreq\"] = n_refreq\n",
    "    data[\"wfreq_control\"][\"n_imfreq\"] = n_imfreq\n",
    "    data[\"wfreq_control\"][\"n_lanczos\"] = n_lanczos\n",
    "    data[\"wfreq_control\"][\"n_pdep_eigen_to_use\"] = n_pdep_eigen_to_use\n",
    "    data[\"wfreq_control\"][\"qp_bandrange\"] = [1,8]\n",
    "    data[\"wfreq_control\"][\"ecut_refreq\"] = 3.0\n",
    "    data[\"wfreq_control\"][\"ecut_imfreq\"] = 4*ecut_converged\n",
    "    data[\"wfreq_control\"][\"n_secant_maxiter\"] = 100\n",
    "    writeJsonFile(\"wfreq.in\",data)\n",
    "    #cp local_wstat_test_folder's content to cur_folder\n",
    "    !cp -r  {local_wstat_test_folder_content} .\n",
    "    Template(rcc_template_string,parameters).write('run_wfreq.sh')\n",
    "    %submit run_wfreq.sh @collect=wfreq.out,o*\n",
    "    %cd .."
   ]
  },
  {
   "cell_type": "code",
   "execution_count": 134,
   "metadata": {},
   "outputs": [
    {
     "name": "stdout",
     "output_type": "stream",
     "text": [
      "    JobID  | Status  |   Time   |    SubmitTime       |       Note\n",
      " -----------------------------Pending Jobs------------------------------\n",
      "   3135402 | Pending |     0:00 | 2020-07-22 21:52:30 | Cannot find JobInfo in log \n",
      "   3136672 | Pending |     0:00 | 2020-07-22 21:52:30 | Cannot find JobInfo in log \n",
      "   3136675 | Pending |     0:00 | 2020-07-22 21:52:30 | Cannot find JobInfo in log \n",
      "   3136736 | Pending |     0:00 | 2020-07-22 21:52:30 | Cannot find JobInfo in log \n",
      " ----------------------------Finished  Jobs-----------------------------\n",
      "   3169140 |  Done   |     0:00 | 2020-07-23 03:36:43 | /wstat_test |  \n",
      "   3191678 |  Done   |     0:08 | 2020-07-24 14:39:59 | /wstat_test |  \n",
      "   3191799 |  Done   |     0:18 | 2020-07-24 14:44:01 | /wstat_test |  \n",
      "   3194114 |  Done   |     0:00 | 2020-07-24 15:46:07 | /test_wfreq/n_refreq_50 | wfreq.out,o* \n",
      "   3194162 |  Done   |     0:00 | 2020-07-24 15:46:12 | /test_wfreq/n_refreq_100 | wfreq.out,o* \n",
      "   3194205 |  Done   |     0:00 | 2020-07-24 15:46:17 | /test_wfreq/n_refreq_150 | wfreq.out,o* \n",
      "   3194245 |  Done   |     0:00 | 2020-07-24 15:46:22 | /test_wfreq/n_refreq_200 | wfreq.out,o* \n",
      "   3194301 |  Done   |     0:00 | 2020-07-24 15:46:27 | /test_wfreq/n_refreq_250 | wfreq.out,o* \n",
      "   3194342 |  Done   |     0:00 | 2020-07-24 15:46:32 | /test_wfreq/n_refreq_272 | wfreq.out,o* \n",
      "   3194387 |  Done   |     0:00 | 2020-07-24 15:46:37 | /test_wfreq/n_refreq_300 | wfreq.out,o* \n",
      "   3194444 |  Done   |     0:00 | 2020-07-24 15:46:42 | /test_wfreq/n_refreq_350 | wfreq.out,o* \n",
      "   3194489 |  Done   |     0:00 | 2020-07-24 15:46:47 | /test_wfreq/n_refreq_408 | wfreq.out,o* \n",
      "   3194493 |  Done   |     0:00 | 2020-07-24 15:46:53 | /test_wfreq/n_refreq_500 | wfreq.out,o* \n",
      "   3194500 |  Done   |     0:00 | 2020-07-24 15:46:58 | /test_wfreq/n_refreq_600 | wfreq.out,o* \n",
      "   3194501 |  Done   |     0:00 | 2020-07-24 15:47:03 | /test_wfreq/n_refreq_700 | wfreq.out,o* \n",
      "   3196120 |  Done   |     0:00 | 2020-07-24 18:16:08 | /test_wfreq/n_imfreq_64 | wfreq.out,o* \n",
      "   3196121 |  Done   |     0:00 | 2020-07-24 18:16:20 | /test_wfreq/n_imfreq_128 | wfreq.out,o* \n",
      "   3196122 |  Done   |     0:00 | 2020-07-24 18:16:32 | /test_wfreq/n_imfreq_256 | wfreq.out,o* \n",
      "   3196124 |  Done   |     0:00 | 2020-07-24 18:16:44 | /test_wfreq/n_imfreq_512 | wfreq.out,o* \n",
      "   3196126 |  Done   |     0:00 | 2020-07-24 18:16:57 | /test_wfreq/n_imfreq_1024 | wfreq.out,o* \n"
     ]
    }
   ],
   "source": [
    "jm.view()"
   ]
  },
  {
   "cell_type": "code",
   "execution_count": 135,
   "metadata": {},
   "outputs": [
    {
     "name": "stdout",
     "output_type": "stream",
     "text": [
      "\u001b[1;1msynchronizing remote:/home/huangl1/simulation  ->  local:/home/lan/Desktop/hBN_benchmark/rcc\u001b[0m\n",
      "\u001b[32mDowload remote file:/home/huangl1/simulation/test_wfreq/n_imfreq_1024/o-ehf_K00001.tab\u001b[0m\n",
      "\u001b[32mDowload remote file:/home/huangl1/simulation/test_wfreq/n_imfreq_1024/o-eqp_K00001.tab\u001b[0m\n",
      "\u001b[32mDowload remote file:/home/huangl1/simulation/test_wfreq/n_imfreq_1024/wfreq.out\u001b[0m\n",
      "\u001b[32mDowload remote file:/home/huangl1/simulation/test_wfreq/n_imfreq_512/o-ehf_K00001.tab\u001b[0m\n",
      "\u001b[32mDowload remote file:/home/huangl1/simulation/test_wfreq/n_imfreq_512/o-eqp_K00001.tab\u001b[0m\n",
      "\u001b[32mDowload remote file:/home/huangl1/simulation/test_wfreq/n_imfreq_512/wfreq.out\u001b[0m\n",
      "\u001b[32mDowload remote file:/home/huangl1/simulation/test_wfreq/n_imfreq_256/o-ehf_K00001.tab\u001b[0m\n",
      "\u001b[32mDowload remote file:/home/huangl1/simulation/test_wfreq/n_imfreq_256/o-eqp_K00001.tab\u001b[0m\n",
      "\u001b[32mDowload remote file:/home/huangl1/simulation/test_wfreq/n_imfreq_256/wfreq.out\u001b[0m\n",
      "\u001b[32mDowload remote file:/home/huangl1/simulation/test_wfreq/n_imfreq_128/o-ehf_K00001.tab\u001b[0m\n",
      "\u001b[32mDowload remote file:/home/huangl1/simulation/test_wfreq/n_imfreq_128/o-eqp_K00001.tab\u001b[0m\n",
      "\u001b[32mDowload remote file:/home/huangl1/simulation/test_wfreq/n_imfreq_128/wfreq.out\u001b[0m\n",
      "\u001b[32mDowload remote file:/home/huangl1/simulation/test_wfreq/n_imfreq_64/o-ehf_K00001.tab\u001b[0m\n",
      "\u001b[32mDowload remote file:/home/huangl1/simulation/test_wfreq/n_imfreq_64/o-eqp_K00001.tab\u001b[0m\n",
      "\u001b[32mDowload remote file:/home/huangl1/simulation/test_wfreq/n_imfreq_64/wfreq.out\u001b[0m\n",
      "--------------------------- Local files change after pull -------------------------------\n",
      "Files Added:\n",
      "\t/home/lan/Desktop/hBN_benchmark/rcc/test_wfreq/n_imfreq_256/o-eqp_K00001.tab\n",
      "\t/home/lan/Desktop/hBN_benchmark/rcc/test_wfreq/n_imfreq_256/wfreq.out\n",
      "\t/home/lan/Desktop/hBN_benchmark/rcc/test_wfreq/n_imfreq_256/o-ehf_K00001.tab\n",
      "\t/home/lan/Desktop/hBN_benchmark/rcc/test_wfreq/n_imfreq_128/o-eqp_K00001.tab\n",
      "\t/home/lan/Desktop/hBN_benchmark/rcc/test_wfreq/n_imfreq_128/wfreq.out\n",
      "\t/home/lan/Desktop/hBN_benchmark/rcc/test_wfreq/n_imfreq_128/o-ehf_K00001.tab\n",
      "\t/home/lan/Desktop/hBN_benchmark/rcc/test_wfreq/n_imfreq_1024/o-eqp_K00001.tab\n",
      "\t/home/lan/Desktop/hBN_benchmark/rcc/test_wfreq/n_imfreq_1024/wfreq.out\n",
      "\t/home/lan/Desktop/hBN_benchmark/rcc/test_wfreq/n_imfreq_1024/o-ehf_K00001.tab\n",
      "\t/home/lan/Desktop/hBN_benchmark/rcc/test_wfreq/n_imfreq_512/o-eqp_K00001.tab\n",
      "\t/home/lan/Desktop/hBN_benchmark/rcc/test_wfreq/n_imfreq_512/wfreq.out\n",
      "\t/home/lan/Desktop/hBN_benchmark/rcc/test_wfreq/n_imfreq_512/o-ehf_K00001.tab\n",
      "\t/home/lan/Desktop/hBN_benchmark/rcc/test_wfreq/n_imfreq_64/o-eqp_K00001.tab\n",
      "\t/home/lan/Desktop/hBN_benchmark/rcc/test_wfreq/n_imfreq_64/wfreq.out\n",
      "\t/home/lan/Desktop/hBN_benchmark/rcc/test_wfreq/n_imfreq_64/o-ehf_K00001.tab\n",
      "------------------------------------------------------------------------------------------\n"
     ]
    }
   ],
   "source": [
    "%pull"
   ]
  },
  {
   "cell_type": "code",
   "execution_count": 136,
   "metadata": {},
   "outputs": [
    {
     "name": "stdout",
     "output_type": "stream",
     "text": [
      "Change directory to LOCAL_WORKING_DIR:/home/lan/Desktop/hBN_benchmark/rcc\n",
      "/home/lan/Desktop/hBN_benchmark/rcc/test_wfreq\n",
      "n_imfreq 64\n",
      "/home/lan/Desktop/hBN_benchmark/rcc/test_wfreq/n_imfreq_64\n",
      "   JOB DONE.\n",
      "/home/lan/Desktop/hBN_benchmark/rcc/test_wfreq\n",
      "n_imfreq 128\n",
      "/home/lan/Desktop/hBN_benchmark/rcc/test_wfreq/n_imfreq_128\n",
      "   JOB DONE.\n",
      "/home/lan/Desktop/hBN_benchmark/rcc/test_wfreq\n",
      "n_imfreq 256\n",
      "/home/lan/Desktop/hBN_benchmark/rcc/test_wfreq/n_imfreq_256\n",
      "   JOB DONE.\n",
      "/home/lan/Desktop/hBN_benchmark/rcc/test_wfreq\n",
      "n_imfreq 512\n",
      "/home/lan/Desktop/hBN_benchmark/rcc/test_wfreq/n_imfreq_512\n",
      "   JOB DONE.\n",
      "/home/lan/Desktop/hBN_benchmark/rcc/test_wfreq\n",
      "n_imfreq 1024\n",
      "/home/lan/Desktop/hBN_benchmark/rcc/test_wfreq/n_imfreq_1024\n",
      "   JOB DONE.\n",
      "/home/lan/Desktop/hBN_benchmark/rcc/test_wfreq\n"
     ]
    }
   ],
   "source": [
    "#check job terminate normal\n",
    "jm.cd_LOCAL_WORKING_DIR()\n",
    "%cd test_wfreq\n",
    "\n",
    "for n_imfreq in li_n_imfreq:\n",
    "    print('n_imfreq',n_imfreq)\n",
    "    cur_folder='n_imfreq_'+str(n_imfreq)\n",
    "    %cd {cur_folder}\n",
    "    !grep 'JOB DONE' wfreq.out\n",
    "    %cd .."
   ]
  },
  {
   "cell_type": "code",
   "execution_count": 138,
   "metadata": {},
   "outputs": [
    {
     "name": "stdout",
     "output_type": "stream",
     "text": [
      "Change directory to LOCAL_WORKING_DIR:/home/lan/Desktop/hBN_benchmark/rcc\n",
      "/home/lan/Desktop/hBN_benchmark/rcc/test_wfreq\n",
      "n_imfreq 64\n",
      "/home/lan/Desktop/hBN_benchmark/rcc/test_wfreq/n_imfreq_64\n",
      "/home/lan/Desktop/hBN_benchmark/rcc/test_wfreq\n",
      "n_imfreq 128\n",
      "/home/lan/Desktop/hBN_benchmark/rcc/test_wfreq/n_imfreq_128\n",
      "/home/lan/Desktop/hBN_benchmark/rcc/test_wfreq\n",
      "n_imfreq 256\n",
      "/home/lan/Desktop/hBN_benchmark/rcc/test_wfreq/n_imfreq_256\n",
      "/home/lan/Desktop/hBN_benchmark/rcc/test_wfreq\n",
      "n_imfreq 512\n"
     ]
    },
    {
     "name": "stderr",
     "output_type": "stream",
     "text": [
      "/home/lan/.local/lib/python3.6/site-packages/ipykernel_launcher.py:14: ParserWarning: Falling back to the 'python' engine because the 'c' engine does not support regex separators (separators > 1 char and different from '\\s+' are interpreted as regex); you can avoid this warning by specifying engine='python'.\n",
      "  \n"
     ]
    },
    {
     "name": "stdout",
     "output_type": "stream",
     "text": [
      "/home/lan/Desktop/hBN_benchmark/rcc/test_wfreq/n_imfreq_512\n",
      "/home/lan/Desktop/hBN_benchmark/rcc/test_wfreq\n",
      "n_imfreq 1024\n",
      "/home/lan/Desktop/hBN_benchmark/rcc/test_wfreq/n_imfreq_1024\n",
      "/home/lan/Desktop/hBN_benchmark/rcc/test_wfreq\n"
     ]
    },
    {
     "data": {
      "image/png": "[encoded data removed]",
      "text/plain": [
       "<Figure size 432x288 with 1 Axes>"
      ]
     },
     "metadata": {
      "needs_background": "light"
     },
     "output_type": "display_data"
    }
   ],
   "source": [
    "#plot  n_imfreq\n",
    "jm.cd_LOCAL_WORKING_DIR()\n",
    "%cd test_wfreq\n",
    "\n",
    "HOMO = 5\n",
    "LOMO = 4\n",
    "Eqp=[]\n",
    "\n",
    "for n_imfreq in li_n_imfreq:\n",
    "    print('n_imfreq',n_imfreq)\n",
    "    cur_folder='n_imfreq_'+str(n_imfreq)\n",
    "    %cd {cur_folder}\n",
    "    #process o-eqp_K00001.tab\n",
    "    tmp=pd.read_csv('o-eqp_K00001.tab',sep='      ', header=None,skiprows=[0])\n",
    "    tmp.rename({0: 'band', 1: 'E0[eV]', 2:'EHF[eV]', 3:'Eqp[eV]',4:'Eqp-E0[eV]',5:'Sc_Eqp[eV]',6:'Width[eV]'}, axis=1, inplace=True)    \n",
    "    Eqp_HOMO_LOMO=tmp.loc[HOMO-1,'Eqp[eV]'] - tmp.loc[LOMO-1,'Eqp[eV]'] \n",
    "    Eqp.append(Eqp_HOMO_LOMO)\n",
    "    %cd ..\n",
    "\n",
    "plt.plot(li_n_imfreq,Eqp,'-*')\n",
    "plt.xlabel('n_imfreq')\n",
    "plt.ylabel('Eqp HOMO-LOMO[ev]')\n",
    "plt.title('n_imfreq v.s Eqp HOMO-LOMO[ev]')\n",
    "plt.show()"
   ]
  },
  {
   "cell_type": "markdown",
   "metadata": {},
   "source": [
    "## <font color='blue'>converged n_imfreq=256</font>"
   ]
  },
  {
   "cell_type": "markdown",
   "metadata": {},
   "source": [
    "### 3. n_lanczos  converge"
   ]
  },
  {
   "cell_type": "code",
   "execution_count": 141,
   "metadata": {},
   "outputs": [
    {
     "name": "stdout",
     "output_type": "stream",
     "text": [
      "Change directory to LOCAL_WORKING_DIR:/home/lan/Desktop/hBN_benchmark/rcc\n",
      "/home/lan/Desktop/hBN_benchmark/rcc/test_wfreq\n",
      "n_refreq,  n_imfreq,  n_lanczos,  n_pdep_eigen_to_use\n",
      "272 256 10 40\n",
      "/home/lan/Desktop/hBN_benchmark/rcc/test_wfreq/n_lanczos_10\n",
      "\n",
      "File written :  wfreq.in\n",
      "\u001b[1;1msynchronizing local:/home/lan/Desktop/hBN_benchmark/rcc  ->  remote:/home/huangl1/simulation\u001b[0m\n",
      "\u001b[1;32mUpload local  dir:/home/lan/Desktop/hBN_benchmark/rcc/test_wfreq/n_lanczos_10\u001b[0m\n",
      "JobID:3196260\n",
      "/home/lan/Desktop/hBN_benchmark/rcc/test_wfreq\n",
      "272 256 20 40\n",
      "/home/lan/Desktop/hBN_benchmark/rcc/test_wfreq/n_lanczos_20\n",
      "\n",
      "File written :  wfreq.in\n",
      "\u001b[1;1msynchronizing local:/home/lan/Desktop/hBN_benchmark/rcc  ->  remote:/home/huangl1/simulation\u001b[0m\n",
      "\u001b[1;32mUpload local  dir:/home/lan/Desktop/hBN_benchmark/rcc/test_wfreq/n_lanczos_20\u001b[0m\n",
      "JobID:3196261\n",
      "/home/lan/Desktop/hBN_benchmark/rcc/test_wfreq\n",
      "272 256 30 40\n",
      "/home/lan/Desktop/hBN_benchmark/rcc/test_wfreq/n_lanczos_30\n",
      "\n",
      "File written :  wfreq.in\n",
      "\u001b[1;1msynchronizing local:/home/lan/Desktop/hBN_benchmark/rcc  ->  remote:/home/huangl1/simulation\u001b[0m\n",
      "\u001b[1;32mUpload local  dir:/home/lan/Desktop/hBN_benchmark/rcc/test_wfreq/n_lanczos_30\u001b[0m\n",
      "JobID:3196263\n",
      "/home/lan/Desktop/hBN_benchmark/rcc/test_wfreq\n",
      "272 256 40 40\n",
      "/home/lan/Desktop/hBN_benchmark/rcc/test_wfreq/n_lanczos_40\n",
      "\n",
      "File written :  wfreq.in\n",
      "\u001b[1;1msynchronizing local:/home/lan/Desktop/hBN_benchmark/rcc  ->  remote:/home/huangl1/simulation\u001b[0m\n",
      "\u001b[1;32mUpload local  dir:/home/lan/Desktop/hBN_benchmark/rcc/test_wfreq/n_lanczos_40\u001b[0m\n",
      "JobID:3196265\n",
      "/home/lan/Desktop/hBN_benchmark/rcc/test_wfreq\n",
      "272 256 50 40\n",
      "/home/lan/Desktop/hBN_benchmark/rcc/test_wfreq/n_lanczos_50\n",
      "\n",
      "File written :  wfreq.in\n",
      "\u001b[1;1msynchronizing local:/home/lan/Desktop/hBN_benchmark/rcc  ->  remote:/home/huangl1/simulation\u001b[0m\n",
      "\u001b[1;32mUpload local  dir:/home/lan/Desktop/hBN_benchmark/rcc/test_wfreq/n_lanczos_50\u001b[0m\n",
      "JobID:3196267\n",
      "/home/lan/Desktop/hBN_benchmark/rcc/test_wfreq\n"
     ]
    }
   ],
   "source": [
    "local_wstat_test_folder_content=ssh.get_LOCAL_WORKING_DIR() + '/wstat_test/*'\n",
    "\n",
    "\n",
    "jm.cd_LOCAL_WORKING_DIR()\n",
    "%cd test_wfreq\n",
    "\n",
    "\n",
    "ecut_converged = 60\n",
    "li_n_refreq = [50,100,150,200,250,272,300,350,408,500,600,700]\n",
    "li_n_imfreq = [64,128,256,512,1024]\n",
    "li_n_lanczos = [10,20,30,40,50]\n",
    "li_n_pdep_eigen_to_use = [4*i for i in range(1,11)]\n",
    "\n",
    "\n",
    "n_refreq = 272\n",
    "n_lanczos = 30\n",
    "n_imfreq = 256\n",
    "n_pdep_eigen_to_use = 40\n",
    "\n",
    "\n",
    "parameters = {'job_name': 'wfreq',\n",
    "              'time': '02:00:00',\n",
    "              'queue': 'broadwl',\n",
    "              'nodes': 1,\n",
    "              'ntasks_per_node': 1,\n",
    "              'cpus_per_task': 14,\n",
    "              'mem_per_cpu': 2000,\n",
    "              'cmd': 'mpirun -np $NTASKS wfreq.x -i wfreq.in > wfreq.out'}\n",
    "\n",
    "\n",
    "print('n_refreq,  n_imfreq,  n_lanczos,  n_pdep_eigen_to_use')\n",
    "for n_lanczos in li_n_lanczos:\n",
    "    print(n_refreq,n_imfreq,n_lanczos,n_pdep_eigen_to_use)\n",
    "    #assign cur folder\n",
    "    cur_folder='n_lanczos_'+str(n_lanczos)\n",
    "    %mkdir {cur_folder}\n",
    "    %cd {cur_folder}\n",
    "    data = {}\n",
    "    data[\"input_west\"] = {}\n",
    "    data[\"input_west\"][\"qe_prefix\"] = \"calc\"\n",
    "    data[\"input_west\"][\"west_prefix\"] = \"calc\"\n",
    "    data[\"input_west\"][\"outdir\"] = \"./\"\n",
    "    data[\"wstat_control\"] = {}\n",
    "    data[\"wstat_control\"][\"wstat_calculation\"] = \"S\"\n",
    "    data[\"wstat_control\"][\"n_pdep_eigen\"] = 40\n",
    "    #write wfreq.in\n",
    "    data[\"wfreq_control\"] = {}\n",
    "    data[\"wfreq_control\"][\"wfreq_calculation\"] = \"XWGQ\"\n",
    "    data[\"wfreq_control\"][\"n_refreq\"] = n_refreq\n",
    "    data[\"wfreq_control\"][\"n_imfreq\"] = n_imfreq\n",
    "    data[\"wfreq_control\"][\"n_lanczos\"] = n_lanczos\n",
    "    data[\"wfreq_control\"][\"n_pdep_eigen_to_use\"] = n_pdep_eigen_to_use\n",
    "    data[\"wfreq_control\"][\"qp_bandrange\"] = [1,8]\n",
    "    data[\"wfreq_control\"][\"ecut_refreq\"] = 3.0\n",
    "    data[\"wfreq_control\"][\"ecut_imfreq\"] = 4*ecut_converged\n",
    "    data[\"wfreq_control\"][\"n_secant_maxiter\"] = 100\n",
    "    writeJsonFile(\"wfreq.in\",data)\n",
    "    #cp local_wstat_test_folder's content to cur_folder\n",
    "    !cp -r  {local_wstat_test_folder_content} .\n",
    "    Template(rcc_template_string,parameters).write('run_wfreq.sh')\n",
    "    %submit run_wfreq.sh @collect=wfreq.out,o*\n",
    "    %cd .."
   ]
  },
  {
   "cell_type": "code",
   "execution_count": 146,
   "metadata": {},
   "outputs": [
    {
     "name": "stdout",
     "output_type": "stream",
     "text": [
      "    JobID  | Status  |   Time   |    SubmitTime       |       Note\n",
      " -----------------------------Pending Jobs------------------------------\n",
      "   3135402 | Pending |     0:00 | 2020-07-22 21:52:30 | Cannot find JobInfo in log \n",
      "   3136672 | Pending |     0:00 | 2020-07-22 21:52:30 | Cannot find JobInfo in log \n",
      "   3136675 | Pending |     0:00 | 2020-07-22 21:52:30 | Cannot find JobInfo in log \n",
      "   3136736 | Pending |     0:00 | 2020-07-22 21:52:30 | Cannot find JobInfo in log \n",
      " ----------------------------Finished  Jobs-----------------------------\n",
      "   3169140 |  Done   |     0:00 | 2020-07-23 03:36:43 | /wstat_test |  \n",
      "   3191678 |  Done   |     0:08 | 2020-07-24 14:39:59 | /wstat_test |  \n",
      "   3191799 |  Done   |     0:18 | 2020-07-24 14:44:01 | /wstat_test |  \n",
      "   3194114 |  Done   |     0:00 | 2020-07-24 15:46:07 | /test_wfreq/n_refreq_50 | wfreq.out,o* \n",
      "   3194162 |  Done   |     0:00 | 2020-07-24 15:46:12 | /test_wfreq/n_refreq_100 | wfreq.out,o* \n",
      "   3194205 |  Done   |     0:00 | 2020-07-24 15:46:17 | /test_wfreq/n_refreq_150 | wfreq.out,o* \n",
      "   3194245 |  Done   |     0:00 | 2020-07-24 15:46:22 | /test_wfreq/n_refreq_200 | wfreq.out,o* \n",
      "   3194301 |  Done   |     0:00 | 2020-07-24 15:46:27 | /test_wfreq/n_refreq_250 | wfreq.out,o* \n",
      "   3194342 |  Done   |     0:00 | 2020-07-24 15:46:32 | /test_wfreq/n_refreq_272 | wfreq.out,o* \n",
      "   3194387 |  Done   |     0:00 | 2020-07-24 15:46:37 | /test_wfreq/n_refreq_300 | wfreq.out,o* \n",
      "   3194444 |  Done   |     0:00 | 2020-07-24 15:46:42 | /test_wfreq/n_refreq_350 | wfreq.out,o* \n",
      "   3194489 |  Done   |     0:00 | 2020-07-24 15:46:47 | /test_wfreq/n_refreq_408 | wfreq.out,o* \n",
      "   3194493 |  Done   |     0:00 | 2020-07-24 15:46:53 | /test_wfreq/n_refreq_500 | wfreq.out,o* \n",
      "   3194500 |  Done   |     0:00 | 2020-07-24 15:46:58 | /test_wfreq/n_refreq_600 | wfreq.out,o* \n",
      "   3194501 |  Done   |     0:00 | 2020-07-24 15:47:03 | /test_wfreq/n_refreq_700 | wfreq.out,o* \n",
      "   3196120 |  Done   |     0:00 | 2020-07-24 18:16:08 | /test_wfreq/n_imfreq_64 | wfreq.out,o* \n",
      "   3196121 |  Done   |     0:00 | 2020-07-24 18:16:20 | /test_wfreq/n_imfreq_128 | wfreq.out,o* \n",
      "   3196122 |  Done   |     0:00 | 2020-07-24 18:16:32 | /test_wfreq/n_imfreq_256 | wfreq.out,o* \n",
      "   3196124 |  Done   |     0:00 | 2020-07-24 18:16:44 | /test_wfreq/n_imfreq_512 | wfreq.out,o* \n",
      "   3196126 |  Done   |     0:00 | 2020-07-24 18:16:57 | /test_wfreq/n_imfreq_1024 | wfreq.out,o* \n",
      "   3196260 |  Done   |     0:00 | 2020-07-24 18:37:32 | /test_wfreq/n_lanczos_10 | wfreq.out,o* \n",
      "   3196261 |  Done   |     0:00 | 2020-07-24 18:37:45 | /test_wfreq/n_lanczos_20 | wfreq.out,o* \n",
      "   3196263 |  Done   |     0:00 | 2020-07-24 18:38:00 | /test_wfreq/n_lanczos_30 | wfreq.out,o* \n",
      "   3196265 |  Done   |     0:00 | 2020-07-24 18:38:14 | /test_wfreq/n_lanczos_40 | wfreq.out,o* \n",
      "   3196267 |  Done   |     0:00 | 2020-07-24 18:38:28 | /test_wfreq/n_lanczos_50 | wfreq.out,o* \n"
     ]
    }
   ],
   "source": [
    "jm.view()"
   ]
  },
  {
   "cell_type": "code",
   "execution_count": 148,
   "metadata": {},
   "outputs": [
    {
     "name": "stdout",
     "output_type": "stream",
     "text": [
      "\u001b[1;1msynchronizing remote:/home/huangl1/simulation  ->  local:/home/lan/Desktop/hBN_benchmark/rcc\u001b[0m\n",
      "\u001b[32mDowload remote file:/home/huangl1/simulation/test_wfreq/n_lanczos_50/o-ehf_K00001.tab\u001b[0m\n",
      "\u001b[32mDowload remote file:/home/huangl1/simulation/test_wfreq/n_lanczos_50/o-eqp_K00001.tab\u001b[0m\n",
      "\u001b[32mDowload remote file:/home/huangl1/simulation/test_wfreq/n_lanczos_50/wfreq.out\u001b[0m\n",
      "\u001b[32mDowload remote file:/home/huangl1/simulation/test_wfreq/n_lanczos_30/o-ehf_K00001.tab\u001b[0m\n",
      "\u001b[32mDowload remote file:/home/huangl1/simulation/test_wfreq/n_lanczos_30/o-eqp_K00001.tab\u001b[0m\n",
      "\u001b[32mDowload remote file:/home/huangl1/simulation/test_wfreq/n_lanczos_30/wfreq.out\u001b[0m\n",
      "\u001b[32mDowload remote file:/home/huangl1/simulation/test_wfreq/n_lanczos_10/o-ehf_K00001.tab\u001b[0m\n",
      "\u001b[32mDowload remote file:/home/huangl1/simulation/test_wfreq/n_lanczos_10/o-eqp_K00001.tab\u001b[0m\n",
      "\u001b[32mDowload remote file:/home/huangl1/simulation/test_wfreq/n_lanczos_10/wfreq.out\u001b[0m\n",
      "\u001b[32mDowload remote file:/home/huangl1/simulation/test_wfreq/n_lanczos_20/o-ehf_K00001.tab\u001b[0m\n",
      "\u001b[32mDowload remote file:/home/huangl1/simulation/test_wfreq/n_lanczos_20/o-eqp_K00001.tab\u001b[0m\n",
      "\u001b[32mDowload remote file:/home/huangl1/simulation/test_wfreq/n_lanczos_20/wfreq.out\u001b[0m\n",
      "\u001b[32mDowload remote file:/home/huangl1/simulation/test_wfreq/n_lanczos_40/o-ehf_K00001.tab\u001b[0m\n",
      "\u001b[32mDowload remote file:/home/huangl1/simulation/test_wfreq/n_lanczos_40/o-eqp_K00001.tab\u001b[0m\n",
      "\u001b[32mDowload remote file:/home/huangl1/simulation/test_wfreq/n_lanczos_40/wfreq.out\u001b[0m\n",
      "--------------------------- Local files change after pull -------------------------------\n",
      "Files Added:\n",
      "\t/home/lan/Desktop/hBN_benchmark/rcc/test_wfreq/n_lanczos_30/o-eqp_K00001.tab\n",
      "\t/home/lan/Desktop/hBN_benchmark/rcc/test_wfreq/n_lanczos_30/wfreq.out\n",
      "\t/home/lan/Desktop/hBN_benchmark/rcc/test_wfreq/n_lanczos_30/o-ehf_K00001.tab\n",
      "\t/home/lan/Desktop/hBN_benchmark/rcc/test_wfreq/n_lanczos_50/o-eqp_K00001.tab\n",
      "\t/home/lan/Desktop/hBN_benchmark/rcc/test_wfreq/n_lanczos_50/wfreq.out\n",
      "\t/home/lan/Desktop/hBN_benchmark/rcc/test_wfreq/n_lanczos_50/o-ehf_K00001.tab\n",
      "\t/home/lan/Desktop/hBN_benchmark/rcc/test_wfreq/n_lanczos_40/o-eqp_K00001.tab\n",
      "\t/home/lan/Desktop/hBN_benchmark/rcc/test_wfreq/n_lanczos_40/wfreq.out\n",
      "\t/home/lan/Desktop/hBN_benchmark/rcc/test_wfreq/n_lanczos_40/o-ehf_K00001.tab\n",
      "\t/home/lan/Desktop/hBN_benchmark/rcc/test_wfreq/n_lanczos_10/o-eqp_K00001.tab\n",
      "\t/home/lan/Desktop/hBN_benchmark/rcc/test_wfreq/n_lanczos_10/wfreq.out\n",
      "\t/home/lan/Desktop/hBN_benchmark/rcc/test_wfreq/n_lanczos_10/o-ehf_K00001.tab\n",
      "\t/home/lan/Desktop/hBN_benchmark/rcc/test_wfreq/n_lanczos_20/o-eqp_K00001.tab\n",
      "\t/home/lan/Desktop/hBN_benchmark/rcc/test_wfreq/n_lanczos_20/wfreq.out\n",
      "\t/home/lan/Desktop/hBN_benchmark/rcc/test_wfreq/n_lanczos_20/o-ehf_K00001.tab\n",
      "------------------------------------------------------------------------------------------\n"
     ]
    }
   ],
   "source": [
    "%pull"
   ]
  },
  {
   "cell_type": "code",
   "execution_count": 149,
   "metadata": {},
   "outputs": [
    {
     "name": "stdout",
     "output_type": "stream",
     "text": [
      "Change directory to LOCAL_WORKING_DIR:/home/lan/Desktop/hBN_benchmark/rcc\n",
      "/home/lan/Desktop/hBN_benchmark/rcc/test_wfreq\n",
      "n_lanczos 10\n",
      "/home/lan/Desktop/hBN_benchmark/rcc/test_wfreq/n_lanczos_10\n",
      "   JOB DONE.\n",
      "/home/lan/Desktop/hBN_benchmark/rcc/test_wfreq\n",
      "n_lanczos 20\n",
      "/home/lan/Desktop/hBN_benchmark/rcc/test_wfreq/n_lanczos_20\n",
      "   JOB DONE.\n",
      "/home/lan/Desktop/hBN_benchmark/rcc/test_wfreq\n",
      "n_lanczos 30\n",
      "/home/lan/Desktop/hBN_benchmark/rcc/test_wfreq/n_lanczos_30\n",
      "   JOB DONE.\n",
      "/home/lan/Desktop/hBN_benchmark/rcc/test_wfreq\n",
      "n_lanczos 40\n",
      "/home/lan/Desktop/hBN_benchmark/rcc/test_wfreq/n_lanczos_40\n",
      "   JOB DONE.\n",
      "/home/lan/Desktop/hBN_benchmark/rcc/test_wfreq\n",
      "n_lanczos 50\n",
      "/home/lan/Desktop/hBN_benchmark/rcc/test_wfreq/n_lanczos_50\n",
      "   JOB DONE.\n",
      "/home/lan/Desktop/hBN_benchmark/rcc/test_wfreq\n"
     ]
    }
   ],
   "source": [
    "#check job terminate normal\n",
    "jm.cd_LOCAL_WORKING_DIR()\n",
    "%cd test_wfreq\n",
    "\n",
    "for n_lanczos in li_n_lanczos:\n",
    "    print('n_lanczos',n_lanczos)\n",
    "    cur_folder='n_lanczos_'+str(n_lanczos)\n",
    "    %cd {cur_folder}\n",
    "    !grep 'JOB DONE' wfreq.out\n",
    "    %cd .."
   ]
  },
  {
   "cell_type": "code",
   "execution_count": 150,
   "metadata": {},
   "outputs": [
    {
     "name": "stdout",
     "output_type": "stream",
     "text": [
      "Change directory to LOCAL_WORKING_DIR:/home/lan/Desktop/hBN_benchmark/rcc\n",
      "/home/lan/Desktop/hBN_benchmark/rcc/test_wfreq\n",
      "n_lanczos 10\n",
      "/home/lan/Desktop/hBN_benchmark/rcc/test_wfreq/n_lanczos_10\n",
      "/home/lan/Desktop/hBN_benchmark/rcc/test_wfreq\n",
      "n_lanczos 20\n",
      "/home/lan/Desktop/hBN_benchmark/rcc/test_wfreq/n_lanczos_20\n",
      "/home/lan/Desktop/hBN_benchmark/rcc/test_wfreq\n",
      "n_lanczos 30\n",
      "/home/lan/Desktop/hBN_benchmark/rcc/test_wfreq/n_lanczos_30\n",
      "/home/lan/Desktop/hBN_benchmark/rcc/test_wfreq\n",
      "n_lanczos 40\n",
      "/home/lan/Desktop/hBN_benchmark/rcc/test_wfreq/n_lanczos_40\n"
     ]
    },
    {
     "name": "stderr",
     "output_type": "stream",
     "text": [
      "/home/lan/.local/lib/python3.6/site-packages/ipykernel_launcher.py:14: ParserWarning: Falling back to the 'python' engine because the 'c' engine does not support regex separators (separators > 1 char and different from '\\s+' are interpreted as regex); you can avoid this warning by specifying engine='python'.\n",
      "  \n"
     ]
    },
    {
     "name": "stdout",
     "output_type": "stream",
     "text": [
      "/home/lan/Desktop/hBN_benchmark/rcc/test_wfreq\n",
      "n_lanczos 50\n",
      "/home/lan/Desktop/hBN_benchmark/rcc/test_wfreq/n_lanczos_50\n",
      "/home/lan/Desktop/hBN_benchmark/rcc/test_wfreq\n"
     ]
    },
    {
     "data": {
      "image/png": "[encoded data removed]",
      "text/plain": [
       "<Figure size 432x288 with 1 Axes>"
      ]
     },
     "metadata": {
      "needs_background": "light"
     },
     "output_type": "display_data"
    }
   ],
   "source": [
    "#plot  n_lanczos\n",
    "jm.cd_LOCAL_WORKING_DIR()\n",
    "%cd test_wfreq\n",
    "\n",
    "HOMO = 5\n",
    "LOMO = 4\n",
    "Eqp=[]\n",
    "\n",
    "for n_lanczos in li_n_lanczos:\n",
    "    print('n_lanczos',n_lanczos)\n",
    "    cur_folder='n_lanczos_'+str(n_lanczos)\n",
    "    %cd {cur_folder}\n",
    "    #process o-eqp_K00001.tab\n",
    "    tmp=pd.read_csv('o-eqp_K00001.tab',sep='      ', header=None,skiprows=[0])\n",
    "    tmp.rename({0: 'band', 1: 'E0[eV]', 2:'EHF[eV]', 3:'Eqp[eV]',4:'Eqp-E0[eV]',5:'Sc_Eqp[eV]',6:'Width[eV]'}, axis=1, inplace=True)    \n",
    "    Eqp_HOMO_LOMO=tmp.loc[HOMO-1,'Eqp[eV]'] - tmp.loc[LOMO-1,'Eqp[eV]'] \n",
    "    Eqp.append(Eqp_HOMO_LOMO)\n",
    "    %cd ..\n",
    "\n",
    "plt.plot(li_n_lanczos,Eqp,'-*')\n",
    "plt.xlabel('n_lanczos')\n",
    "plt.ylabel('Eqp HOMO-LOMO[ev]')\n",
    "plt.title('n_lanczos v.s Eqp HOMO-LOMO[ev]')\n",
    "plt.show()"
   ]
  },
  {
   "cell_type": "markdown",
   "metadata": {},
   "source": [
    "## <font color='blue'>converged n_lanczos=30</font> "
   ]
  },
  {
   "cell_type": "markdown",
   "metadata": {},
   "source": [
    "### 4. n_pdep_eigen_to_use  converge"
   ]
  },
  {
   "cell_type": "code",
   "execution_count": 151,
   "metadata": {},
   "outputs": [
    {
     "name": "stdout",
     "output_type": "stream",
     "text": [
      "Change directory to LOCAL_WORKING_DIR:/home/lan/Desktop/hBN_benchmark/rcc\n",
      "/home/lan/Desktop/hBN_benchmark/rcc/test_wfreq\n",
      "n_refreq,  n_imfreq,  n_lanczos,  n_pdep_eigen_to_use\n",
      "272 256 30 4\n",
      "/home/lan/Desktop/hBN_benchmark/rcc/test_wfreq/n_pdep_eigen_to_use_4\n",
      "\n",
      "File written :  wfreq.in\n",
      "\u001b[1;1msynchronizing local:/home/lan/Desktop/hBN_benchmark/rcc  ->  remote:/home/huangl1/simulation\u001b[0m\n",
      "\u001b[1;32mUpload local  dir:/home/lan/Desktop/hBN_benchmark/rcc/test_wfreq/n_pdep_eigen_to_use_4\u001b[0m\n",
      "JobID:3196847\n",
      "/home/lan/Desktop/hBN_benchmark/rcc/test_wfreq\n",
      "272 256 30 8\n",
      "/home/lan/Desktop/hBN_benchmark/rcc/test_wfreq/n_pdep_eigen_to_use_8\n",
      "\n",
      "File written :  wfreq.in\n",
      "\u001b[1;1msynchronizing local:/home/lan/Desktop/hBN_benchmark/rcc  ->  remote:/home/huangl1/simulation\u001b[0m\n",
      "\u001b[1;32mUpload local  dir:/home/lan/Desktop/hBN_benchmark/rcc/test_wfreq/n_pdep_eigen_to_use_8\u001b[0m\n",
      "JobID:3196848\n",
      "/home/lan/Desktop/hBN_benchmark/rcc/test_wfreq\n",
      "272 256 30 12\n",
      "/home/lan/Desktop/hBN_benchmark/rcc/test_wfreq/n_pdep_eigen_to_use_12\n",
      "\n",
      "File written :  wfreq.in\n",
      "\u001b[1;1msynchronizing local:/home/lan/Desktop/hBN_benchmark/rcc  ->  remote:/home/huangl1/simulation\u001b[0m\n",
      "\u001b[1;32mUpload local  dir:/home/lan/Desktop/hBN_benchmark/rcc/test_wfreq/n_pdep_eigen_to_use_12\u001b[0m\n",
      "JobID:3196849\n",
      "/home/lan/Desktop/hBN_benchmark/rcc/test_wfreq\n",
      "272 256 30 16\n",
      "/home/lan/Desktop/hBN_benchmark/rcc/test_wfreq/n_pdep_eigen_to_use_16\n",
      "\n",
      "File written :  wfreq.in\n",
      "\u001b[1;1msynchronizing local:/home/lan/Desktop/hBN_benchmark/rcc  ->  remote:/home/huangl1/simulation\u001b[0m\n",
      "\u001b[1;32mUpload local  dir:/home/lan/Desktop/hBN_benchmark/rcc/test_wfreq/n_pdep_eigen_to_use_16\u001b[0m\n",
      "JobID:3196850\n",
      "/home/lan/Desktop/hBN_benchmark/rcc/test_wfreq\n",
      "272 256 30 20\n",
      "/home/lan/Desktop/hBN_benchmark/rcc/test_wfreq/n_pdep_eigen_to_use_20\n",
      "\n",
      "File written :  wfreq.in\n",
      "\u001b[1;1msynchronizing local:/home/lan/Desktop/hBN_benchmark/rcc  ->  remote:/home/huangl1/simulation\u001b[0m\n",
      "\u001b[1;32mUpload local  dir:/home/lan/Desktop/hBN_benchmark/rcc/test_wfreq/n_pdep_eigen_to_use_20\u001b[0m\n",
      "JobID:3196851\n",
      "/home/lan/Desktop/hBN_benchmark/rcc/test_wfreq\n",
      "272 256 30 24\n",
      "/home/lan/Desktop/hBN_benchmark/rcc/test_wfreq/n_pdep_eigen_to_use_24\n",
      "\n",
      "File written :  wfreq.in\n",
      "\u001b[1;1msynchronizing local:/home/lan/Desktop/hBN_benchmark/rcc  ->  remote:/home/huangl1/simulation\u001b[0m\n",
      "\u001b[1;32mUpload local  dir:/home/lan/Desktop/hBN_benchmark/rcc/test_wfreq/n_pdep_eigen_to_use_24\u001b[0m\n",
      "JobID:3196852\n",
      "/home/lan/Desktop/hBN_benchmark/rcc/test_wfreq\n",
      "272 256 30 28\n",
      "/home/lan/Desktop/hBN_benchmark/rcc/test_wfreq/n_pdep_eigen_to_use_28\n",
      "\n",
      "File written :  wfreq.in\n",
      "\u001b[1;1msynchronizing local:/home/lan/Desktop/hBN_benchmark/rcc  ->  remote:/home/huangl1/simulation\u001b[0m\n",
      "\u001b[1;32mUpload local  dir:/home/lan/Desktop/hBN_benchmark/rcc/test_wfreq/n_pdep_eigen_to_use_28\u001b[0m\n",
      "JobID:3196853\n",
      "/home/lan/Desktop/hBN_benchmark/rcc/test_wfreq\n",
      "272 256 30 32\n",
      "/home/lan/Desktop/hBN_benchmark/rcc/test_wfreq/n_pdep_eigen_to_use_32\n",
      "\n",
      "File written :  wfreq.in\n",
      "\u001b[1;1msynchronizing local:/home/lan/Desktop/hBN_benchmark/rcc  ->  remote:/home/huangl1/simulation\u001b[0m\n",
      "\u001b[1;32mUpload local  dir:/home/lan/Desktop/hBN_benchmark/rcc/test_wfreq/n_pdep_eigen_to_use_32\u001b[0m\n",
      "JobID:3196854\n",
      "/home/lan/Desktop/hBN_benchmark/rcc/test_wfreq\n",
      "272 256 30 36\n",
      "/home/lan/Desktop/hBN_benchmark/rcc/test_wfreq/n_pdep_eigen_to_use_36\n",
      "\n",
      "File written :  wfreq.in\n",
      "\u001b[1;1msynchronizing local:/home/lan/Desktop/hBN_benchmark/rcc  ->  remote:/home/huangl1/simulation\u001b[0m\n",
      "\u001b[1;32mUpload local  dir:/home/lan/Desktop/hBN_benchmark/rcc/test_wfreq/n_pdep_eigen_to_use_36\u001b[0m\n",
      "JobID:3196855\n",
      "/home/lan/Desktop/hBN_benchmark/rcc/test_wfreq\n",
      "272 256 30 40\n",
      "/home/lan/Desktop/hBN_benchmark/rcc/test_wfreq/n_pdep_eigen_to_use_40\n",
      "\n",
      "File written :  wfreq.in\n",
      "\u001b[1;1msynchronizing local:/home/lan/Desktop/hBN_benchmark/rcc  ->  remote:/home/huangl1/simulation\u001b[0m\n",
      "\u001b[1;32mUpload local  dir:/home/lan/Desktop/hBN_benchmark/rcc/test_wfreq/n_pdep_eigen_to_use_40\u001b[0m\n",
      "JobID:3196856\n",
      "/home/lan/Desktop/hBN_benchmark/rcc/test_wfreq\n"
     ]
    }
   ],
   "source": [
    "local_wstat_test_folder_content=ssh.get_LOCAL_WORKING_DIR() + '/wstat_test/*'\n",
    "\n",
    "\n",
    "jm.cd_LOCAL_WORKING_DIR()\n",
    "%cd test_wfreq\n",
    "\n",
    "\n",
    "ecut_converged = 60\n",
    "li_n_refreq = [50,100,150,200,250,272,300,350,408,500,600,700]\n",
    "li_n_imfreq = [64,128,256,512,1024]\n",
    "li_n_lanczos = [10,20,30,40,50]\n",
    "li_n_pdep_eigen_to_use = [4*i for i in range(1,11)]\n",
    "\n",
    "\n",
    "n_refreq = 272\n",
    "n_lanczos = 30\n",
    "n_imfreq = 256\n",
    "n_pdep_eigen_to_use = 40\n",
    "\n",
    "\n",
    "parameters = {'job_name': 'wfreq',\n",
    "              'time': '02:00:00',\n",
    "              'queue': 'broadwl',\n",
    "              'nodes': 1,\n",
    "              'ntasks_per_node': 1,\n",
    "              'cpus_per_task': 14,\n",
    "              'mem_per_cpu': 2000,\n",
    "              'cmd': 'mpirun -np $NTASKS wfreq.x -i wfreq.in > wfreq.out'}\n",
    "\n",
    "\n",
    "print('n_refreq,  n_imfreq,  n_lanczos,  n_pdep_eigen_to_use')\n",
    "for n_pdep_eigen_to_use in li_n_pdep_eigen_to_use:\n",
    "    print(n_refreq,n_imfreq,n_lanczos,n_pdep_eigen_to_use)\n",
    "    #assign cur folder\n",
    "    cur_folder='n_pdep_eigen_to_use_'+str(n_pdep_eigen_to_use)\n",
    "    %mkdir {cur_folder}\n",
    "    %cd {cur_folder}\n",
    "    data = {}\n",
    "    data[\"input_west\"] = {}\n",
    "    data[\"input_west\"][\"qe_prefix\"] = \"calc\"\n",
    "    data[\"input_west\"][\"west_prefix\"] = \"calc\"\n",
    "    data[\"input_west\"][\"outdir\"] = \"./\"\n",
    "    data[\"wstat_control\"] = {}\n",
    "    data[\"wstat_control\"][\"wstat_calculation\"] = \"S\"\n",
    "    data[\"wstat_control\"][\"n_pdep_eigen\"] = 40\n",
    "    #write wfreq.in\n",
    "    data[\"wfreq_control\"] = {}\n",
    "    data[\"wfreq_control\"][\"wfreq_calculation\"] = \"XWGQ\"\n",
    "    data[\"wfreq_control\"][\"n_refreq\"] = n_refreq\n",
    "    data[\"wfreq_control\"][\"n_imfreq\"] = n_imfreq\n",
    "    data[\"wfreq_control\"][\"n_lanczos\"] = n_lanczos\n",
    "    data[\"wfreq_control\"][\"n_pdep_eigen_to_use\"] = n_pdep_eigen_to_use\n",
    "    data[\"wfreq_control\"][\"qp_bandrange\"] = [1,8]\n",
    "    data[\"wfreq_control\"][\"ecut_refreq\"] = 3.0\n",
    "    data[\"wfreq_control\"][\"ecut_imfreq\"] = 4*ecut_converged\n",
    "    data[\"wfreq_control\"][\"n_secant_maxiter\"] = 100\n",
    "    writeJsonFile(\"wfreq.in\",data)\n",
    "    #cp local_wstat_test_folder's content to cur_folder\n",
    "    !cp -r  {local_wstat_test_folder_content} .\n",
    "    Template(rcc_template_string,parameters).write('run_wfreq.sh')\n",
    "    %submit run_wfreq.sh @collect=wfreq.out,o*\n",
    "    %cd .."
   ]
  },
  {
   "cell_type": "code",
   "execution_count": 155,
   "metadata": {},
   "outputs": [
    {
     "name": "stdout",
     "output_type": "stream",
     "text": [
      "    JobID  | Status  |   Time   |    SubmitTime       |       Note\n",
      " -----------------------------Pending Jobs------------------------------\n",
      "   3135402 | Pending |     0:00 | 2020-07-22 21:52:30 | Cannot find JobInfo in log \n",
      "   3136672 | Pending |     0:00 | 2020-07-22 21:52:30 | Cannot find JobInfo in log \n",
      "   3136675 | Pending |     0:00 | 2020-07-22 21:52:30 | Cannot find JobInfo in log \n",
      "   3136736 | Pending |     0:00 | 2020-07-22 21:52:30 | Cannot find JobInfo in log \n",
      " ----------------------------Finished  Jobs-----------------------------\n",
      "   3169140 |  Done   |     0:00 | 2020-07-23 03:36:43 | /wstat_test |  \n",
      "   3191678 |  Done   |     0:08 | 2020-07-24 14:39:59 | /wstat_test |  \n",
      "   3191799 |  Done   |     0:18 | 2020-07-24 14:44:01 | /wstat_test |  \n",
      "   3194114 |  Done   |     0:00 | 2020-07-24 15:46:07 | /test_wfreq/n_refreq_50 | wfreq.out,o* \n",
      "   3194162 |  Done   |     0:00 | 2020-07-24 15:46:12 | /test_wfreq/n_refreq_100 | wfreq.out,o* \n",
      "   3194205 |  Done   |     0:00 | 2020-07-24 15:46:17 | /test_wfreq/n_refreq_150 | wfreq.out,o* \n",
      "   3194245 |  Done   |     0:00 | 2020-07-24 15:46:22 | /test_wfreq/n_refreq_200 | wfreq.out,o* \n",
      "   3194301 |  Done   |     0:00 | 2020-07-24 15:46:27 | /test_wfreq/n_refreq_250 | wfreq.out,o* \n",
      "   3194342 |  Done   |     0:00 | 2020-07-24 15:46:32 | /test_wfreq/n_refreq_272 | wfreq.out,o* \n",
      "   3194387 |  Done   |     0:00 | 2020-07-24 15:46:37 | /test_wfreq/n_refreq_300 | wfreq.out,o* \n",
      "   3194444 |  Done   |     0:00 | 2020-07-24 15:46:42 | /test_wfreq/n_refreq_350 | wfreq.out,o* \n",
      "   3194489 |  Done   |     0:00 | 2020-07-24 15:46:47 | /test_wfreq/n_refreq_408 | wfreq.out,o* \n",
      "   3194493 |  Done   |     0:00 | 2020-07-24 15:46:53 | /test_wfreq/n_refreq_500 | wfreq.out,o* \n",
      "   3194500 |  Done   |     0:00 | 2020-07-24 15:46:58 | /test_wfreq/n_refreq_600 | wfreq.out,o* \n",
      "   3194501 |  Done   |     0:00 | 2020-07-24 15:47:03 | /test_wfreq/n_refreq_700 | wfreq.out,o* \n",
      "   3196120 |  Done   |     0:00 | 2020-07-24 18:16:08 | /test_wfreq/n_imfreq_64 | wfreq.out,o* \n",
      "   3196121 |  Done   |     0:00 | 2020-07-24 18:16:20 | /test_wfreq/n_imfreq_128 | wfreq.out,o* \n",
      "   3196122 |  Done   |     0:00 | 2020-07-24 18:16:32 | /test_wfreq/n_imfreq_256 | wfreq.out,o* \n",
      "   3196124 |  Done   |     0:00 | 2020-07-24 18:16:44 | /test_wfreq/n_imfreq_512 | wfreq.out,o* \n",
      "   3196126 |  Done   |     0:00 | 2020-07-24 18:16:57 | /test_wfreq/n_imfreq_1024 | wfreq.out,o* \n",
      "   3196260 |  Done   |     0:00 | 2020-07-24 18:37:32 | /test_wfreq/n_lanczos_10 | wfreq.out,o* \n",
      "   3196261 |  Done   |     0:00 | 2020-07-24 18:37:45 | /test_wfreq/n_lanczos_20 | wfreq.out,o* \n",
      "   3196263 |  Done   |     0:00 | 2020-07-24 18:38:00 | /test_wfreq/n_lanczos_30 | wfreq.out,o* \n",
      "   3196265 |  Done   |     0:00 | 2020-07-24 18:38:14 | /test_wfreq/n_lanczos_40 | wfreq.out,o* \n",
      "   3196267 |  Done   |     0:00 | 2020-07-24 18:38:28 | /test_wfreq/n_lanczos_50 | wfreq.out,o* \n",
      "   3196847 |  Done   |     0:00 | 2020-07-24 19:07:31 | /test_wfreq/n_pdep_eigen_to_use_4 | wfreq.out,o* \n",
      "   3196848 |  Done   |     0:00 | 2020-07-24 19:07:44 | /test_wfreq/n_pdep_eigen_to_use_8 | wfreq.out,o* \n",
      "   3196849 |  Done   |     0:00 | 2020-07-24 19:07:56 | /test_wfreq/n_pdep_eigen_to_use_12 | wfreq.out,o* \n",
      "   3196850 |  Done   |     0:00 | 2020-07-24 19:08:09 | /test_wfreq/n_pdep_eigen_to_use_16 | wfreq.out,o* \n",
      "   3196851 |  Done   |     0:00 | 2020-07-24 19:08:21 | /test_wfreq/n_pdep_eigen_to_use_20 | wfreq.out,o* \n",
      "   3196852 |  Done   |     0:00 | 2020-07-24 19:08:34 | /test_wfreq/n_pdep_eigen_to_use_24 | wfreq.out,o* \n",
      "   3196853 |  Done   |     0:00 | 2020-07-24 19:08:46 | /test_wfreq/n_pdep_eigen_to_use_28 | wfreq.out,o* \n",
      "   3196854 |  Done   |     0:00 | 2020-07-24 19:08:59 | /test_wfreq/n_pdep_eigen_to_use_32 | wfreq.out,o* \n",
      "   3196855 |  Done   |     0:00 | 2020-07-24 19:09:12 | /test_wfreq/n_pdep_eigen_to_use_36 | wfreq.out,o* \n",
      "   3196856 |  Done   |     0:00 | 2020-07-24 19:09:25 | /test_wfreq/n_pdep_eigen_to_use_40 | wfreq.out,o* \n"
     ]
    }
   ],
   "source": [
    "jm.view()"
   ]
  },
  {
   "cell_type": "code",
   "execution_count": 156,
   "metadata": {},
   "outputs": [
    {
     "name": "stdout",
     "output_type": "stream",
     "text": [
      "\u001b[1;1msynchronizing remote:/home/huangl1/simulation  ->  local:/home/lan/Desktop/hBN_benchmark/rcc\u001b[0m\n",
      "\u001b[32mDowload remote file:/home/huangl1/simulation/test_wfreq/n_pdep_eigen_to_use_32/o-ehf_K00001.tab\u001b[0m\n",
      "\u001b[32mDowload remote file:/home/huangl1/simulation/test_wfreq/n_pdep_eigen_to_use_32/o-eqp_K00001.tab\u001b[0m\n",
      "\u001b[32mDowload remote file:/home/huangl1/simulation/test_wfreq/n_pdep_eigen_to_use_32/wfreq.out\u001b[0m\n",
      "\u001b[32mDowload remote file:/home/huangl1/simulation/test_wfreq/n_pdep_eigen_to_use_28/o-ehf_K00001.tab\u001b[0m\n",
      "\u001b[32mDowload remote file:/home/huangl1/simulation/test_wfreq/n_pdep_eigen_to_use_28/o-eqp_K00001.tab\u001b[0m\n",
      "\u001b[32mDowload remote file:/home/huangl1/simulation/test_wfreq/n_pdep_eigen_to_use_28/wfreq.out\u001b[0m\n",
      "\u001b[32mDowload remote file:/home/huangl1/simulation/test_wfreq/n_pdep_eigen_to_use_36/o-ehf_K00001.tab\u001b[0m\n",
      "\u001b[32mDowload remote file:/home/huangl1/simulation/test_wfreq/n_pdep_eigen_to_use_36/o-eqp_K00001.tab\u001b[0m\n",
      "\u001b[32mDowload remote file:/home/huangl1/simulation/test_wfreq/n_pdep_eigen_to_use_36/wfreq.out\u001b[0m\n",
      "\u001b[32mDowload remote file:/home/huangl1/simulation/test_wfreq/n_pdep_eigen_to_use_24/o-ehf_K00001.tab\u001b[0m\n",
      "\u001b[32mDowload remote file:/home/huangl1/simulation/test_wfreq/n_pdep_eigen_to_use_24/o-eqp_K00001.tab\u001b[0m\n",
      "\u001b[32mDowload remote file:/home/huangl1/simulation/test_wfreq/n_pdep_eigen_to_use_24/wfreq.out\u001b[0m\n",
      "\u001b[32mDowload remote file:/home/huangl1/simulation/test_wfreq/n_pdep_eigen_to_use_4/o-ehf_K00001.tab\u001b[0m\n",
      "\u001b[32mDowload remote file:/home/huangl1/simulation/test_wfreq/n_pdep_eigen_to_use_4/o-eqp_K00001.tab\u001b[0m\n",
      "\u001b[32mDowload remote file:/home/huangl1/simulation/test_wfreq/n_pdep_eigen_to_use_4/wfreq.out\u001b[0m\n",
      "\u001b[32mDowload remote file:/home/huangl1/simulation/test_wfreq/n_pdep_eigen_to_use_20/o-ehf_K00001.tab\u001b[0m\n",
      "\u001b[32mDowload remote file:/home/huangl1/simulation/test_wfreq/n_pdep_eigen_to_use_20/o-eqp_K00001.tab\u001b[0m\n",
      "\u001b[32mDowload remote file:/home/huangl1/simulation/test_wfreq/n_pdep_eigen_to_use_20/wfreq.out\u001b[0m\n",
      "\u001b[32mDowload remote file:/home/huangl1/simulation/test_wfreq/n_pdep_eigen_to_use_16/o-ehf_K00001.tab\u001b[0m\n",
      "\u001b[32mDowload remote file:/home/huangl1/simulation/test_wfreq/n_pdep_eigen_to_use_16/o-eqp_K00001.tab\u001b[0m\n",
      "\u001b[32mDowload remote file:/home/huangl1/simulation/test_wfreq/n_pdep_eigen_to_use_16/wfreq.out\u001b[0m\n",
      "\u001b[32mDowload remote file:/home/huangl1/simulation/test_wfreq/n_pdep_eigen_to_use_8/o-ehf_K00001.tab\u001b[0m\n",
      "\u001b[32mDowload remote file:/home/huangl1/simulation/test_wfreq/n_pdep_eigen_to_use_8/o-eqp_K00001.tab\u001b[0m\n",
      "\u001b[32mDowload remote file:/home/huangl1/simulation/test_wfreq/n_pdep_eigen_to_use_8/wfreq.out\u001b[0m\n",
      "\u001b[32mDowload remote file:/home/huangl1/simulation/test_wfreq/n_pdep_eigen_to_use_12/o-ehf_K00001.tab\u001b[0m\n",
      "\u001b[32mDowload remote file:/home/huangl1/simulation/test_wfreq/n_pdep_eigen_to_use_12/o-eqp_K00001.tab\u001b[0m\n",
      "\u001b[32mDowload remote file:/home/huangl1/simulation/test_wfreq/n_pdep_eigen_to_use_12/wfreq.out\u001b[0m\n",
      "\u001b[32mDowload remote file:/home/huangl1/simulation/test_wfreq/n_pdep_eigen_to_use_40/o-ehf_K00001.tab\u001b[0m\n",
      "\u001b[32mDowload remote file:/home/huangl1/simulation/test_wfreq/n_pdep_eigen_to_use_40/o-eqp_K00001.tab\u001b[0m\n",
      "\u001b[32mDowload remote file:/home/huangl1/simulation/test_wfreq/n_pdep_eigen_to_use_40/wfreq.out\u001b[0m\n",
      "--------------------------- Local files change after pull -------------------------------\n",
      "Files Added:\n",
      "\t/home/lan/Desktop/hBN_benchmark/rcc/test_wfreq/n_pdep_eigen_to_use_8/o-eqp_K00001.tab\n",
      "\t/home/lan/Desktop/hBN_benchmark/rcc/test_wfreq/n_pdep_eigen_to_use_8/wfreq.out\n",
      "\t/home/lan/Desktop/hBN_benchmark/rcc/test_wfreq/n_pdep_eigen_to_use_8/o-ehf_K00001.tab\n",
      "\t/home/lan/Desktop/hBN_benchmark/rcc/test_wfreq/n_pdep_eigen_to_use_20/o-eqp_K00001.tab\n",
      "\t/home/lan/Desktop/hBN_benchmark/rcc/test_wfreq/n_pdep_eigen_to_use_20/wfreq.out\n",
      "\t/home/lan/Desktop/hBN_benchmark/rcc/test_wfreq/n_pdep_eigen_to_use_20/o-ehf_K00001.tab\n",
      "\t/home/lan/Desktop/hBN_benchmark/rcc/test_wfreq/n_pdep_eigen_to_use_32/o-eqp_K00001.tab\n",
      "\t/home/lan/Desktop/hBN_benchmark/rcc/test_wfreq/n_pdep_eigen_to_use_32/wfreq.out\n",
      "\t/home/lan/Desktop/hBN_benchmark/rcc/test_wfreq/n_pdep_eigen_to_use_32/o-ehf_K00001.tab\n",
      "\t/home/lan/Desktop/hBN_benchmark/rcc/test_wfreq/n_pdep_eigen_to_use_4/o-eqp_K00001.tab\n",
      "\t/home/lan/Desktop/hBN_benchmark/rcc/test_wfreq/n_pdep_eigen_to_use_4/wfreq.out\n",
      "\t/home/lan/Desktop/hBN_benchmark/rcc/test_wfreq/n_pdep_eigen_to_use_4/o-ehf_K00001.tab\n",
      "\t/home/lan/Desktop/hBN_benchmark/rcc/test_wfreq/n_pdep_eigen_to_use_12/o-eqp_K00001.tab\n",
      "\t/home/lan/Desktop/hBN_benchmark/rcc/test_wfreq/n_pdep_eigen_to_use_12/wfreq.out\n",
      "\t/home/lan/Desktop/hBN_benchmark/rcc/test_wfreq/n_pdep_eigen_to_use_12/o-ehf_K00001.tab\n",
      "\t/home/lan/Desktop/hBN_benchmark/rcc/test_wfreq/n_pdep_eigen_to_use_24/o-eqp_K00001.tab\n",
      "\t/home/lan/Desktop/hBN_benchmark/rcc/test_wfreq/n_pdep_eigen_to_use_24/wfreq.out\n",
      "\t/home/lan/Desktop/hBN_benchmark/rcc/test_wfreq/n_pdep_eigen_to_use_24/o-ehf_K00001.tab\n",
      "\t/home/lan/Desktop/hBN_benchmark/rcc/test_wfreq/n_pdep_eigen_to_use_36/o-eqp_K00001.tab\n",
      "\t/home/lan/Desktop/hBN_benchmark/rcc/test_wfreq/n_pdep_eigen_to_use_36/wfreq.out\n",
      "\t/home/lan/Desktop/hBN_benchmark/rcc/test_wfreq/n_pdep_eigen_to_use_36/o-ehf_K00001.tab\n",
      "\t/home/lan/Desktop/hBN_benchmark/rcc/test_wfreq/n_pdep_eigen_to_use_40/o-eqp_K00001.tab\n",
      "\t/home/lan/Desktop/hBN_benchmark/rcc/test_wfreq/n_pdep_eigen_to_use_40/wfreq.out\n",
      "\t/home/lan/Desktop/hBN_benchmark/rcc/test_wfreq/n_pdep_eigen_to_use_40/o-ehf_K00001.tab\n",
      "\t/home/lan/Desktop/hBN_benchmark/rcc/test_wfreq/n_pdep_eigen_to_use_16/o-eqp_K00001.tab\n",
      "\t/home/lan/Desktop/hBN_benchmark/rcc/test_wfreq/n_pdep_eigen_to_use_16/wfreq.out\n",
      "\t/home/lan/Desktop/hBN_benchmark/rcc/test_wfreq/n_pdep_eigen_to_use_16/o-ehf_K00001.tab\n",
      "\t/home/lan/Desktop/hBN_benchmark/rcc/test_wfreq/n_pdep_eigen_to_use_28/o-eqp_K00001.tab\n",
      "\t/home/lan/Desktop/hBN_benchmark/rcc/test_wfreq/n_pdep_eigen_to_use_28/wfreq.out\n",
      "\t/home/lan/Desktop/hBN_benchmark/rcc/test_wfreq/n_pdep_eigen_to_use_28/o-ehf_K00001.tab\n",
      "------------------------------------------------------------------------------------------\n"
     ]
    }
   ],
   "source": [
    "%pull"
   ]
  },
  {
   "cell_type": "code",
   "execution_count": 157,
   "metadata": {},
   "outputs": [
    {
     "name": "stdout",
     "output_type": "stream",
     "text": [
      "Change directory to LOCAL_WORKING_DIR:/home/lan/Desktop/hBN_benchmark/rcc\n",
      "/home/lan/Desktop/hBN_benchmark/rcc/test_wfreq\n",
      "n_pdep_eigen_to_use 4\n",
      "/home/lan/Desktop/hBN_benchmark/rcc/test_wfreq/n_pdep_eigen_to_use_4\n",
      "   JOB DONE.\n",
      "/home/lan/Desktop/hBN_benchmark/rcc/test_wfreq\n",
      "n_pdep_eigen_to_use 8\n",
      "/home/lan/Desktop/hBN_benchmark/rcc/test_wfreq/n_pdep_eigen_to_use_8\n",
      "   JOB DONE.\n",
      "/home/lan/Desktop/hBN_benchmark/rcc/test_wfreq\n",
      "n_pdep_eigen_to_use 12\n",
      "/home/lan/Desktop/hBN_benchmark/rcc/test_wfreq/n_pdep_eigen_to_use_12\n",
      "   JOB DONE.\n",
      "/home/lan/Desktop/hBN_benchmark/rcc/test_wfreq\n",
      "n_pdep_eigen_to_use 16\n",
      "/home/lan/Desktop/hBN_benchmark/rcc/test_wfreq/n_pdep_eigen_to_use_16\n",
      "   JOB DONE.\n",
      "/home/lan/Desktop/hBN_benchmark/rcc/test_wfreq\n",
      "n_pdep_eigen_to_use 20\n",
      "/home/lan/Desktop/hBN_benchmark/rcc/test_wfreq/n_pdep_eigen_to_use_20\n",
      "   JOB DONE.\n",
      "/home/lan/Desktop/hBN_benchmark/rcc/test_wfreq\n",
      "n_pdep_eigen_to_use 24\n",
      "/home/lan/Desktop/hBN_benchmark/rcc/test_wfreq/n_pdep_eigen_to_use_24\n",
      "   JOB DONE.\n",
      "/home/lan/Desktop/hBN_benchmark/rcc/test_wfreq\n",
      "n_pdep_eigen_to_use 28\n",
      "/home/lan/Desktop/hBN_benchmark/rcc/test_wfreq/n_pdep_eigen_to_use_28\n",
      "   JOB DONE.\n",
      "/home/lan/Desktop/hBN_benchmark/rcc/test_wfreq\n",
      "n_pdep_eigen_to_use 32\n",
      "/home/lan/Desktop/hBN_benchmark/rcc/test_wfreq/n_pdep_eigen_to_use_32\n",
      "   JOB DONE.\n",
      "/home/lan/Desktop/hBN_benchmark/rcc/test_wfreq\n",
      "n_pdep_eigen_to_use 36\n",
      "/home/lan/Desktop/hBN_benchmark/rcc/test_wfreq/n_pdep_eigen_to_use_36\n",
      "   JOB DONE.\n",
      "/home/lan/Desktop/hBN_benchmark/rcc/test_wfreq\n",
      "n_pdep_eigen_to_use 40\n",
      "/home/lan/Desktop/hBN_benchmark/rcc/test_wfreq/n_pdep_eigen_to_use_40\n",
      "   JOB DONE.\n",
      "/home/lan/Desktop/hBN_benchmark/rcc/test_wfreq\n"
     ]
    }
   ],
   "source": [
    "#check job terminate normal\n",
    "jm.cd_LOCAL_WORKING_DIR()\n",
    "%cd test_wfreq\n",
    "\n",
    "for n_pdep_eigen_to_use in li_n_pdep_eigen_to_use:\n",
    "    print('n_pdep_eigen_to_use',n_pdep_eigen_to_use)\n",
    "    cur_folder='n_pdep_eigen_to_use_'+str(n_pdep_eigen_to_use)\n",
    "    %cd {cur_folder}\n",
    "    !grep 'JOB DONE' wfreq.out\n",
    "    %cd .."
   ]
  },
  {
   "cell_type": "code",
   "execution_count": 160,
   "metadata": {},
   "outputs": [
    {
     "name": "stdout",
     "output_type": "stream",
     "text": [
      "Change directory to LOCAL_WORKING_DIR:/home/lan/Desktop/hBN_benchmark/rcc\n",
      "/home/lan/Desktop/hBN_benchmark/rcc/test_wfreq\n",
      "n_pdep_eigen_to_use 4\n",
      "/home/lan/Desktop/hBN_benchmark/rcc/test_wfreq/n_pdep_eigen_to_use_4\n",
      "/home/lan/Desktop/hBN_benchmark/rcc/test_wfreq\n",
      "n_pdep_eigen_to_use 8\n",
      "/home/lan/Desktop/hBN_benchmark/rcc/test_wfreq/n_pdep_eigen_to_use_8\n",
      "/home/lan/Desktop/hBN_benchmark/rcc/test_wfreq\n",
      "n_pdep_eigen_to_use 12\n",
      "/home/lan/Desktop/hBN_benchmark/rcc/test_wfreq/n_pdep_eigen_to_use_12\n",
      "/home/lan/Desktop/hBN_benchmark/rcc/test_wfreq\n",
      "n_pdep_eigen_to_use 16\n",
      "/home/lan/Desktop/hBN_benchmark/rcc/test_wfreq/n_pdep_eigen_to_use_16\n"
     ]
    },
    {
     "name": "stderr",
     "output_type": "stream",
     "text": [
      "/home/lan/.local/lib/python3.6/site-packages/ipykernel_launcher.py:14: ParserWarning: Falling back to the 'python' engine because the 'c' engine does not support regex separators (separators > 1 char and different from '\\s+' are interpreted as regex); you can avoid this warning by specifying engine='python'.\n",
      "  \n"
     ]
    },
    {
     "name": "stdout",
     "output_type": "stream",
     "text": [
      "/home/lan/Desktop/hBN_benchmark/rcc/test_wfreq\n",
      "n_pdep_eigen_to_use 20\n",
      "/home/lan/Desktop/hBN_benchmark/rcc/test_wfreq/n_pdep_eigen_to_use_20\n",
      "/home/lan/Desktop/hBN_benchmark/rcc/test_wfreq\n",
      "n_pdep_eigen_to_use 24\n",
      "/home/lan/Desktop/hBN_benchmark/rcc/test_wfreq/n_pdep_eigen_to_use_24\n",
      "/home/lan/Desktop/hBN_benchmark/rcc/test_wfreq\n",
      "n_pdep_eigen_to_use 28\n",
      "/home/lan/Desktop/hBN_benchmark/rcc/test_wfreq/n_pdep_eigen_to_use_28\n",
      "/home/lan/Desktop/hBN_benchmark/rcc/test_wfreq\n",
      "n_pdep_eigen_to_use 32\n",
      "/home/lan/Desktop/hBN_benchmark/rcc/test_wfreq/n_pdep_eigen_to_use_32\n",
      "/home/lan/Desktop/hBN_benchmark/rcc/test_wfreq\n",
      "n_pdep_eigen_to_use 36\n",
      "/home/lan/Desktop/hBN_benchmark/rcc/test_wfreq/n_pdep_eigen_to_use_36\n",
      "/home/lan/Desktop/hBN_benchmark/rcc/test_wfreq\n",
      "n_pdep_eigen_to_use 40\n",
      "/home/lan/Desktop/hBN_benchmark/rcc/test_wfreq/n_pdep_eigen_to_use_40\n",
      "/home/lan/Desktop/hBN_benchmark/rcc/test_wfreq\n"
     ]
    },
    {
     "data": {
      "image/png": "[encoded data removed]",
      "text/plain": [
       "<Figure size 432x288 with 1 Axes>"
      ]
     },
     "metadata": {
      "needs_background": "light"
     },
     "output_type": "display_data"
    }
   ],
   "source": [
    "#plot  n_lanczos\n",
    "jm.cd_LOCAL_WORKING_DIR()\n",
    "%cd test_wfreq\n",
    "\n",
    "HOMO = 5\n",
    "LOMO = 4\n",
    "Eqp=[]\n",
    "\n",
    "for n_pdep_eigen_to_use in li_n_pdep_eigen_to_use:\n",
    "    print('n_pdep_eigen_to_use',n_pdep_eigen_to_use)\n",
    "    cur_folder='n_pdep_eigen_to_use_'+str(n_pdep_eigen_to_use)\n",
    "    %cd {cur_folder}\n",
    "    #process o-eqp_K00001.tab\n",
    "    tmp=pd.read_csv('o-eqp_K00001.tab',sep='      ', header=None,skiprows=[0])\n",
    "    tmp.rename({0: 'band', 1: 'E0[eV]', 2:'EHF[eV]', 3:'Eqp[eV]',4:'Eqp-E0[eV]',5:'Sc_Eqp[eV]',6:'Width[eV]'}, axis=1, inplace=True)    \n",
    "    Eqp_HOMO_LOMO=tmp.loc[HOMO-1,'Eqp[eV]'] - tmp.loc[LOMO-1,'Eqp[eV]'] \n",
    "    Eqp.append(Eqp_HOMO_LOMO)\n",
    "    %cd ..\n",
    "\n",
    "plt.plot(li_n_pdep_eigen_to_use,Eqp,'-*')\n",
    "plt.xlabel('n_pdep_eigen_to_use')\n",
    "plt.ylabel('Eqp HOMO-LOMO[ev]')\n",
    "plt.title('n_pdep_eigen_to_use v.s Eqp HOMO-LOMO[ev]')\n",
    "plt.show()"
   ]
  },
  {
   "cell_type": "markdown",
   "metadata": {},
   "source": [
    "## <font color='blue'>converged n_pdep_eigen_to_use=16</font> "
   ]
  },
  {
   "cell_type": "markdown",
   "metadata": {},
   "source": [
    "# <font color='blue'>summary of wfreq converge result using Gamma only: </font>\n",
    " \n",
    "\n",
    "**n_refreq** —>  600\n",
    "\n",
    "**n_imfreq** —>  256\n",
    "\n",
    "**n_lanczos** —> 30\n",
    "\n",
    "**n_pdep_eigen_to_use** —> 16\n",
    "\n",
    "\n",
    "qp_bandrange = [1,8] # compute GW for states the 4 occupied states and 4 empty bands \n",
    "\n",
    "ecut_refreq = 3 —> this doesn’t need to be converged \n",
    "\n",
    "ecut_imfreq = ecut_rho —> = 4 * ecut —> this doesn’t need to be converged\n",
    "\n",
    "n_secant_maxiter —> set it to 100 —> this doesn’t need to be converged  \n",
    "\n",
    "\n",
    "Once we have optimal values, we will freeze them, and then vary the vacuum (cell size), and obtain the reference plot.\n"
   ]
  },
  {
   "cell_type": "markdown",
   "metadata": {},
   "source": [
    "### 5. Kmesh  converge"
   ]
  },
  {
   "cell_type": "markdown",
   "metadata": {},
   "source": [
    "get the relaxed geom first"
   ]
  },
  {
   "cell_type": "code",
   "execution_count": 21,
   "metadata": {},
   "outputs": [
    {
     "data": {
      "application/3dmoljs_load.v0": "<div id=\"3dmolviewer_15958901191852036\"  style=\"position: relative; width: 800px; height: 800px\">\n        <p id=\"3dmolwarning_15958901191852036\" style=\"background-color:#ffcccc;color:black\">You appear to be running in JupyterLab (or JavaScript failed to load for some other reason).  You need to install the 3dmol extension: <br>\n        <tt>jupyter labextension install jupyterlab_3dmol</tt></p>\n        </div>\n<script>\n\nvar loadScriptAsync = function(uri){\n  return new Promise((resolve, reject) => {\n    var tag = document.createElement('script');\n    tag.src = uri;\n    tag.async = true;\n    tag.onload = () => {\n      resolve();\n    };\n  var firstScriptTag = document.getElementsByTagName('script')[0];\n  firstScriptTag.parentNode.insertBefore(tag, firstScriptTag);\n});\n};\n\nif(typeof $3Dmolpromise === 'undefined') {\n$3Dmolpromise = null;\n  $3Dmolpromise = loadScriptAsync('https://3dmol.csb.pitt.edu/build/3Dmol.js');\n}\n\nvar viewer_15958901191852036 = null;\nvar warn = document.getElementById(\"3dmolwarning_15958901191852036\");\nif(warn) {\n    warn.parentNode.removeChild(warn);\n}\n$3Dmolpromise.then(function() {\nviewer_15958901191852036 = $3Dmol.createViewer($(\"#3dmolviewer_15958901191852036\"),{backgroundColor:\"white\"});\n\tviewer_15958901191852036.addModel(\"8\\n\\nB -4.630300595428247e-07 1.4423165312146222 2.3491026420058554\\nB -1.249083495356348 3.6057912759126003 2.349102638301615\\nB 2.498165139650812 1.442316264509308 2.349102575329527\\nB 1.2490821073245235 3.6057910092072865 2.3491025716252865\\nN 1.2490829243741375 0.7211578774558269 2.3491026330098426\\nN -1.0795215099612676e-07 2.8846326221538052 2.349102629305602\\nN 3.7472485270550093 0.7211576107505127 2.349102566333514\\nN 2.498165494728721 2.884632355448491 2.3491025626292736\\n\",\"xyz\");\n\tviewer_15958901191852036.setStyle({\"stick\": {}});\n\tviewer_15958901191852036.addLine({\"color\": \"blue\", \"start\": {\"x\": 0.0, \"y\": 0.0, \"z\": 0.0}, \"end\": {\"x\": 2.4981656026808716, \"y\": -2.66705314296667e-07, \"z\": -6.667632857416676e-08}});\n\tviewer_15958901191852036.addLine({\"color\": \"blue\", \"start\": {\"x\": 0.0, \"y\": 0.0, \"z\": 0.0}, \"end\": {\"x\": -1.2490830323262885, \"y\": 2.1634747446979783, \"z\": -3.7042404763425974e-09}});\n\tviewer_15958901191852036.addLine({\"color\": \"blue\", \"start\": {\"x\": 0.0, \"y\": 0.0, \"z\": 0.0}, \"end\": {\"x\": -1.0901050544665359e-07, \"y\": -6.932221462869718e-08, \"z\": 4.69820534486709}});\n\tviewer_15958901191852036.addLine({\"color\": \"blue\", \"start\": {\"x\": 1.2490825703545831, \"y\": 2.163474477992664, \"z\": -7.038056905050935e-08}, \"end\": {\"x\": 2.4981656026808716, \"y\": -2.66705314296667e-07, \"z\": -6.667632857416676e-08}});\n\tviewer_15958901191852036.addLine({\"color\": \"blue\", \"start\": {\"x\": 1.2490825703545831, \"y\": 2.163474477992664, \"z\": -7.038056905050935e-08}, \"end\": {\"x\": -1.2490830323262885, \"y\": 2.1634747446979783, \"z\": -3.7042404763425974e-09}});\n\tviewer_15958901191852036.addLine({\"color\": \"blue\", \"start\": {\"x\": 1.2490825703545831, \"y\": 2.163474477992664, \"z\": -7.038056905050935e-08}, \"end\": {\"x\": 1.2490824613440776, \"y\": 2.1634744086704494, \"z\": 4.698205274486521}});\n\tviewer_15958901191852036.addLine({\"color\": \"blue\", \"start\": {\"x\": 2.498165493670366, \"y\": -3.360275289253642e-07, \"z\": 4.698205278190762}, \"end\": {\"x\": 2.4981656026808716, \"y\": -2.66705314296667e-07, \"z\": -6.667632857416676e-08}});\n\tviewer_15958901191852036.addLine({\"color\": \"blue\", \"start\": {\"x\": 2.498165493670366, \"y\": -3.360275289253642e-07, \"z\": 4.698205278190762}, \"end\": {\"x\": -1.0901050544665359e-07, \"y\": -6.932221462869718e-08, \"z\": 4.69820534486709}});\n\tviewer_15958901191852036.addLine({\"color\": \"blue\", \"start\": {\"x\": 2.498165493670366, \"y\": -3.360275289253642e-07, \"z\": 4.698205278190762}, \"end\": {\"x\": 1.2490824613440776, \"y\": 2.1634744086704494, \"z\": 4.698205274486521}});\n\tviewer_15958901191852036.addLine({\"color\": \"blue\", \"start\": {\"x\": -1.249083141336794, \"y\": 2.1634746753757637, \"z\": 4.69820534116285}, \"end\": {\"x\": -1.2490830323262885, \"y\": 2.1634747446979783, \"z\": -3.7042404763425974e-09}});\n\tviewer_15958901191852036.addLine({\"color\": \"blue\", \"start\": {\"x\": -1.249083141336794, \"y\": 2.1634746753757637, \"z\": 4.69820534116285}, \"end\": {\"x\": -1.0901050544665359e-07, \"y\": -6.932221462869718e-08, \"z\": 4.69820534486709}});\n\tviewer_15958901191852036.addLine({\"color\": \"blue\", \"start\": {\"x\": -1.249083141336794, \"y\": 2.1634746753757637, \"z\": 4.69820534116285}, \"end\": {\"x\": 1.2490824613440776, \"y\": 2.1634744086704494, \"z\": 4.698205274486521}});\n\tviewer_15958901191852036.zoomTo();\nviewer_15958901191852036.render();\n});\n</script>",
      "text/html": [
       "<div id=\"3dmolviewer_15958901191852036\"  style=\"position: relative; width: 800px; height: 800px\">\n",
       "        <p id=\"3dmolwarning_15958901191852036\" style=\"background-color:#ffcccc;color:black\">You appear to be running in JupyterLab (or JavaScript failed to load for some other reason).  You need to install the 3dmol extension: <br>\n",
       "        <tt>jupyter labextension install jupyterlab_3dmol</tt></p>\n",
       "        </div>\n",
       "<script>\n",
       "\n",
       "var loadScriptAsync = function(uri){\n",
       "  return new Promise((resolve, reject) => {\n",
       "    var tag = document.createElement('script');\n",
       "    tag.src = uri;\n",
       "    tag.async = true;\n",
       "    tag.onload = () => {\n",
       "      resolve();\n",
       "    };\n",
       "  var firstScriptTag = document.getElementsByTagName('script')[0];\n",
       "  firstScriptTag.parentNode.insertBefore(tag, firstScriptTag);\n",
       "});\n",
       "};\n",
       "\n",
       "if(typeof $3Dmolpromise === 'undefined') {\n",
       "$3Dmolpromise = null;\n",
       "  $3Dmolpromise = loadScriptAsync('https://3dmol.csb.pitt.edu/build/3Dmol.js');\n",
       "}\n",
       "\n",
       "var viewer_15958901191852036 = null;\n",
       "var warn = document.getElementById(\"3dmolwarning_15958901191852036\");\n",
       "if(warn) {\n",
       "    warn.parentNode.removeChild(warn);\n",
       "}\n",
       "$3Dmolpromise.then(function() {\n",
       "viewer_15958901191852036 = $3Dmol.createViewer($(\"#3dmolviewer_15958901191852036\"),{backgroundColor:\"white\"});\n",
       "\tviewer_15958901191852036.addModel(\"8\\n\\nB -4.630300595428247e-07 1.4423165312146222 2.3491026420058554\\nB -1.249083495356348 3.6057912759126003 2.349102638301615\\nB 2.498165139650812 1.442316264509308 2.349102575329527\\nB 1.2490821073245235 3.6057910092072865 2.3491025716252865\\nN 1.2490829243741375 0.7211578774558269 2.3491026330098426\\nN -1.0795215099612676e-07 2.8846326221538052 2.349102629305602\\nN 3.7472485270550093 0.7211576107505127 2.349102566333514\\nN 2.498165494728721 2.884632355448491 2.3491025626292736\\n\",\"xyz\");\n",
       "\tviewer_15958901191852036.setStyle({\"stick\": {}});\n",
       "\tviewer_15958901191852036.addLine({\"color\": \"blue\", \"start\": {\"x\": 0.0, \"y\": 0.0, \"z\": 0.0}, \"end\": {\"x\": 2.4981656026808716, \"y\": -2.66705314296667e-07, \"z\": -6.667632857416676e-08}});\n",
       "\tviewer_15958901191852036.addLine({\"color\": \"blue\", \"start\": {\"x\": 0.0, \"y\": 0.0, \"z\": 0.0}, \"end\": {\"x\": -1.2490830323262885, \"y\": 2.1634747446979783, \"z\": -3.7042404763425974e-09}});\n",
       "\tviewer_15958901191852036.addLine({\"color\": \"blue\", \"start\": {\"x\": 0.0, \"y\": 0.0, \"z\": 0.0}, \"end\": {\"x\": -1.0901050544665359e-07, \"y\": -6.932221462869718e-08, \"z\": 4.69820534486709}});\n",
       "\tviewer_15958901191852036.addLine({\"color\": \"blue\", \"start\": {\"x\": 1.2490825703545831, \"y\": 2.163474477992664, \"z\": -7.038056905050935e-08}, \"end\": {\"x\": 2.4981656026808716, \"y\": -2.66705314296667e-07, \"z\": -6.667632857416676e-08}});\n",
       "\tviewer_15958901191852036.addLine({\"color\": \"blue\", \"start\": {\"x\": 1.2490825703545831, \"y\": 2.163474477992664, \"z\": -7.038056905050935e-08}, \"end\": {\"x\": -1.2490830323262885, \"y\": 2.1634747446979783, \"z\": -3.7042404763425974e-09}});\n",
       "\tviewer_15958901191852036.addLine({\"color\": \"blue\", \"start\": {\"x\": 1.2490825703545831, \"y\": 2.163474477992664, \"z\": -7.038056905050935e-08}, \"end\": {\"x\": 1.2490824613440776, \"y\": 2.1634744086704494, \"z\": 4.698205274486521}});\n",
       "\tviewer_15958901191852036.addLine({\"color\": \"blue\", \"start\": {\"x\": 2.498165493670366, \"y\": -3.360275289253642e-07, \"z\": 4.698205278190762}, \"end\": {\"x\": 2.4981656026808716, \"y\": -2.66705314296667e-07, \"z\": -6.667632857416676e-08}});\n",
       "\tviewer_15958901191852036.addLine({\"color\": \"blue\", \"start\": {\"x\": 2.498165493670366, \"y\": -3.360275289253642e-07, \"z\": 4.698205278190762}, \"end\": {\"x\": -1.0901050544665359e-07, \"y\": -6.932221462869718e-08, \"z\": 4.69820534486709}});\n",
       "\tviewer_15958901191852036.addLine({\"color\": \"blue\", \"start\": {\"x\": 2.498165493670366, \"y\": -3.360275289253642e-07, \"z\": 4.698205278190762}, \"end\": {\"x\": 1.2490824613440776, \"y\": 2.1634744086704494, \"z\": 4.698205274486521}});\n",
       "\tviewer_15958901191852036.addLine({\"color\": \"blue\", \"start\": {\"x\": -1.249083141336794, \"y\": 2.1634746753757637, \"z\": 4.69820534116285}, \"end\": {\"x\": -1.2490830323262885, \"y\": 2.1634747446979783, \"z\": -3.7042404763425974e-09}});\n",
       "\tviewer_15958901191852036.addLine({\"color\": \"blue\", \"start\": {\"x\": -1.249083141336794, \"y\": 2.1634746753757637, \"z\": 4.69820534116285}, \"end\": {\"x\": -1.0901050544665359e-07, \"y\": -6.932221462869718e-08, \"z\": 4.69820534486709}});\n",
       "\tviewer_15958901191852036.addLine({\"color\": \"blue\", \"start\": {\"x\": -1.249083141336794, \"y\": 2.1634746753757637, \"z\": 4.69820534116285}, \"end\": {\"x\": 1.2490824613440776, \"y\": 2.1634744086704494, \"z\": 4.698205274486521}});\n",
       "\tviewer_15958901191852036.zoomTo();\n",
       "viewer_15958901191852036.render();\n",
       "});\n",
       "</script>"
      ]
     },
     "metadata": {},
     "output_type": "display_data"
    }
   ],
   "source": [
    "geom = Geometry()\n",
    "geom.addSpecies( \"B\", \"http://www.quantum-simulation.org/potentials/sg15_oncv/upf/B_ONCV_PBE-1.2.upf\")\n",
    "geom.addSpecies( \"N\", \"http://www.quantum-simulation.org/potentials/sg15_oncv/upf/N_ONCV_PBE-1.2.upf\")\n",
    "geom.setCell(a1=(4.720848803 , -0.000000504 , -0.000000126), a2=(-2.360424838 ,  4.088374745 , -0.000000007), a3=(-0.000000206 , -0.000000131 ,  8.878321379))\n",
    "geom.addAtom('B', (-0.000000875 ,  2.725583229 ,  4.439160632))\n",
    "geom.addAtom('N', (2.360424634 ,  1.362790881  , 4.439160615))\n",
    "geom.view(style='stick',ix=2,iy=2)"
   ]
  },
  {
   "cell_type": "markdown",
   "metadata": {},
   "source": [
    "pw step"
   ]
  },
  {
   "cell_type": "code",
   "execution_count": 164,
   "metadata": {
    "scrolled": false
   },
   "outputs": [
    {
     "name": "stdout",
     "output_type": "stream",
     "text": [
      "Change directory to LOCAL_WORKING_DIR:/home/lan/Desktop/hBN_benchmark/rcc\n",
      "/home/lan/Desktop/hBN_benchmark/rcc/test_wfreq\n",
      "/home/lan/Desktop/hBN_benchmark/rcc/test_wfreq/kmesh_2\n",
      "\n",
      "Generated file:  pw.in\n",
      "Downloaded file:  B_ONCV_PBE-1.2.upf , from url:  http://www.quantum-simulation.org/potentials/sg15_oncv/upf/B_ONCV_PBE-1.2.upf\n",
      "Downloaded file:  N_ONCV_PBE-1.2.upf , from url:  http://www.quantum-simulation.org/potentials/sg15_oncv/upf/N_ONCV_PBE-1.2.upf\n",
      "\u001b[1;1msynchronizing local:/home/lan/Desktop/hBN_benchmark/rcc  ->  remote:/home/huangl1/simulation\u001b[0m\n",
      "\u001b[1;32mUpload local  dir:/home/lan/Desktop/hBN_benchmark/rcc/test_wfreq/kmesh_2\u001b[0m\n",
      "JobID:3196944\n",
      "/home/lan/Desktop/hBN_benchmark/rcc/test_wfreq\n",
      "/home/lan/Desktop/hBN_benchmark/rcc/test_wfreq/kmesh_4\n",
      "\n",
      "Generated file:  pw.in\n",
      "Downloaded file:  B_ONCV_PBE-1.2.upf , from url:  http://www.quantum-simulation.org/potentials/sg15_oncv/upf/B_ONCV_PBE-1.2.upf\n",
      "Downloaded file:  N_ONCV_PBE-1.2.upf , from url:  http://www.quantum-simulation.org/potentials/sg15_oncv/upf/N_ONCV_PBE-1.2.upf\n",
      "\u001b[1;1msynchronizing local:/home/lan/Desktop/hBN_benchmark/rcc  ->  remote:/home/huangl1/simulation\u001b[0m\n",
      "\u001b[1;32mUpload local  dir:/home/lan/Desktop/hBN_benchmark/rcc/test_wfreq/kmesh_4\u001b[0m\n",
      "JobID:3196946\n",
      "/home/lan/Desktop/hBN_benchmark/rcc/test_wfreq\n",
      "/home/lan/Desktop/hBN_benchmark/rcc/test_wfreq/kmesh_6\n",
      "\n",
      "Generated file:  pw.in\n",
      "Downloaded file:  B_ONCV_PBE-1.2.upf , from url:  http://www.quantum-simulation.org/potentials/sg15_oncv/upf/B_ONCV_PBE-1.2.upf\n",
      "Downloaded file:  N_ONCV_PBE-1.2.upf , from url:  http://www.quantum-simulation.org/potentials/sg15_oncv/upf/N_ONCV_PBE-1.2.upf\n",
      "\u001b[1;1msynchronizing local:/home/lan/Desktop/hBN_benchmark/rcc  ->  remote:/home/huangl1/simulation\u001b[0m\n",
      "\u001b[1;32mUpload local  dir:/home/lan/Desktop/hBN_benchmark/rcc/test_wfreq/kmesh_6\u001b[0m\n",
      "JobID:3196947\n",
      "/home/lan/Desktop/hBN_benchmark/rcc/test_wfreq\n",
      "/home/lan/Desktop/hBN_benchmark/rcc/test_wfreq/kmesh_8\n",
      "\n",
      "Generated file:  pw.in\n",
      "Downloaded file:  B_ONCV_PBE-1.2.upf , from url:  http://www.quantum-simulation.org/potentials/sg15_oncv/upf/B_ONCV_PBE-1.2.upf\n",
      "Downloaded file:  N_ONCV_PBE-1.2.upf , from url:  http://www.quantum-simulation.org/potentials/sg15_oncv/upf/N_ONCV_PBE-1.2.upf\n",
      "\u001b[1;1msynchronizing local:/home/lan/Desktop/hBN_benchmark/rcc  ->  remote:/home/huangl1/simulation\u001b[0m\n",
      "\u001b[1;32mUpload local  dir:/home/lan/Desktop/hBN_benchmark/rcc/test_wfreq/kmesh_8\u001b[0m\n",
      "JobID:3196948\n",
      "/home/lan/Desktop/hBN_benchmark/rcc/test_wfreq\n",
      "/home/lan/Desktop/hBN_benchmark/rcc/test_wfreq/kmesh_10\n",
      "\n",
      "Generated file:  pw.in\n",
      "Downloaded file:  B_ONCV_PBE-1.2.upf , from url:  http://www.quantum-simulation.org/potentials/sg15_oncv/upf/B_ONCV_PBE-1.2.upf\n",
      "Downloaded file:  N_ONCV_PBE-1.2.upf , from url:  http://www.quantum-simulation.org/potentials/sg15_oncv/upf/N_ONCV_PBE-1.2.upf\n",
      "\u001b[1;1msynchronizing local:/home/lan/Desktop/hBN_benchmark/rcc  ->  remote:/home/huangl1/simulation\u001b[0m\n",
      "\u001b[1;32mUpload local  dir:/home/lan/Desktop/hBN_benchmark/rcc/test_wfreq/kmesh_10\u001b[0m\n",
      "JobID:3196949\n",
      "/home/lan/Desktop/hBN_benchmark/rcc/test_wfreq\n",
      "/home/lan/Desktop/hBN_benchmark/rcc/test_wfreq/kmesh_12\n",
      "\n",
      "Generated file:  pw.in\n",
      "Downloaded file:  B_ONCV_PBE-1.2.upf , from url:  http://www.quantum-simulation.org/potentials/sg15_oncv/upf/B_ONCV_PBE-1.2.upf\n",
      "Downloaded file:  N_ONCV_PBE-1.2.upf , from url:  http://www.quantum-simulation.org/potentials/sg15_oncv/upf/N_ONCV_PBE-1.2.upf\n",
      "\u001b[1;1msynchronizing local:/home/lan/Desktop/hBN_benchmark/rcc  ->  remote:/home/huangl1/simulation\u001b[0m\n",
      "\u001b[1;32mUpload local  dir:/home/lan/Desktop/hBN_benchmark/rcc/test_wfreq/kmesh_12\u001b[0m\n",
      "JobID:3196950\n",
      "/home/lan/Desktop/hBN_benchmark/rcc/test_wfreq\n",
      "/home/lan/Desktop/hBN_benchmark/rcc/test_wfreq/kmesh_14\n",
      "\n",
      "Generated file:  pw.in\n",
      "Downloaded file:  B_ONCV_PBE-1.2.upf , from url:  http://www.quantum-simulation.org/potentials/sg15_oncv/upf/B_ONCV_PBE-1.2.upf\n",
      "Downloaded file:  N_ONCV_PBE-1.2.upf , from url:  http://www.quantum-simulation.org/potentials/sg15_oncv/upf/N_ONCV_PBE-1.2.upf\n",
      "\u001b[1;1msynchronizing local:/home/lan/Desktop/hBN_benchmark/rcc  ->  remote:/home/huangl1/simulation\u001b[0m\n",
      "\u001b[1;32mUpload local  dir:/home/lan/Desktop/hBN_benchmark/rcc/test_wfreq/kmesh_14\u001b[0m\n",
      "JobID:3196953\n",
      "/home/lan/Desktop/hBN_benchmark/rcc/test_wfreq\n",
      "/home/lan/Desktop/hBN_benchmark/rcc/test_wfreq/kmesh_16\n",
      "\n",
      "Generated file:  pw.in\n",
      "Downloaded file:  B_ONCV_PBE-1.2.upf , from url:  http://www.quantum-simulation.org/potentials/sg15_oncv/upf/B_ONCV_PBE-1.2.upf\n",
      "Downloaded file:  N_ONCV_PBE-1.2.upf , from url:  http://www.quantum-simulation.org/potentials/sg15_oncv/upf/N_ONCV_PBE-1.2.upf\n",
      "\u001b[1;1msynchronizing local:/home/lan/Desktop/hBN_benchmark/rcc  ->  remote:/home/huangl1/simulation\u001b[0m\n",
      "\u001b[1;32mUpload local  dir:/home/lan/Desktop/hBN_benchmark/rcc/test_wfreq/kmesh_16\u001b[0m\n",
      "JobID:3196954\n",
      "/home/lan/Desktop/hBN_benchmark/rcc/test_wfreq\n",
      "/home/lan/Desktop/hBN_benchmark/rcc/test_wfreq/kmesh_18\n",
      "\n",
      "Generated file:  pw.in\n",
      "Downloaded file:  B_ONCV_PBE-1.2.upf , from url:  http://www.quantum-simulation.org/potentials/sg15_oncv/upf/B_ONCV_PBE-1.2.upf\n",
      "Downloaded file:  N_ONCV_PBE-1.2.upf , from url:  http://www.quantum-simulation.org/potentials/sg15_oncv/upf/N_ONCV_PBE-1.2.upf\n",
      "\u001b[1;1msynchronizing local:/home/lan/Desktop/hBN_benchmark/rcc  ->  remote:/home/huangl1/simulation\u001b[0m\n",
      "\u001b[1;32mUpload local  dir:/home/lan/Desktop/hBN_benchmark/rcc/test_wfreq/kmesh_18\u001b[0m\n",
      "JobID:3196956\n",
      "/home/lan/Desktop/hBN_benchmark/rcc/test_wfreq\n"
     ]
    }
   ],
   "source": [
    "jm.cd_LOCAL_WORKING_DIR()\n",
    "%cd test_wfreq\n",
    "\n",
    "\n",
    "ecut_converged = 60\n",
    " \n",
    "n_refreq = 600\n",
    "n_lanczos = 30\n",
    "n_imfreq = 256\n",
    "n_pdep_eigen_to_use = 32\n",
    "\n",
    "li_kmesh = [2,4,6,8,10,12,14,16,18]\n",
    "\n",
    "parameters = {'job_name': 'wfreq',\n",
    "              'time': '02:00:00',\n",
    "              'queue': 'broadwl',\n",
    "              'nodes': 1,\n",
    "              'ntasks_per_node': 1,\n",
    "              'cpus_per_task': 8,\n",
    "              'mem_per_cpu': 2000,\n",
    "              'cmd': 'mpirun -np $NTASKS pw.x -i pw.in > pw.out'}\n",
    "\n",
    "\n",
    " \n",
    "for kmesh in li_kmesh:\n",
    "    \n",
    "    #assign cur folder\n",
    "    cur_folder='kmesh_'+str(kmesh)\n",
    "    %mkdir {cur_folder}\n",
    "    %cd {cur_folder}\n",
    "    \n",
    "    gs = GroundState(geom,xc=\"PBE\",ecut=ecut_converged)\n",
    "    gs.setNempty(nempty=0)\n",
    "    gs.setKmesh((kmesh,kmesh,1))\n",
    "    gs.generateInputPW()\n",
    "    gs.downloadPseudopotentials()\n",
    "     \n",
    "    Template(rcc_template_string,parameters).write('run_pw.sh')\n",
    "    %submit run_pw.sh\n",
    "    \n",
    "    %cd .."
   ]
  },
  {
   "cell_type": "code",
   "execution_count": 33,
   "metadata": {},
   "outputs": [
    {
     "name": "stdout",
     "output_type": "stream",
     "text": [
      "    JobID  | Status  |   Time   |    SubmitTime       |       Note\n",
      " -----------------------------Pending Jobs------------------------------\n",
      "   3208998 | Pending |     0:00 | 2020-07-26 08:48:29 | Cannot find JobInfo in log \n",
      " -----------------------------Running Jobs------------------------------\n",
      "   3197077 | Running | 1-02:00:36 | 2020-07-24 20:13:06 | /test_wfreq/kmesh_18 | wstat.out \n",
      "   3197075 | Running | 1-02:06:36 | 2020-07-24 20:12:43 | /test_wfreq/kmesh_16 | wstat.out \n",
      "   3197074 | Running | 1-02:09:36 | 2020-07-24 20:12:26 | /test_wfreq/kmesh_14 | wstat.out \n",
      "   3197073 | Running | 1-03:02:38 | 2020-07-24 20:12:12 | /test_wfreq/kmesh_12 | wstat.out \n",
      "   3136675 | Running | 1-03:02:38 | 2020-07-22 21:52:30 | Cannot find JobInfo in log \n",
      "   3136672 | Running | 1-03:18:38 | 2020-07-22 21:52:30 | Cannot find JobInfo in log \n",
      " ----------------------------Finished  Jobs-----------------------------\n",
      "   3135402 |  Done   | 14:12:20 | 2020-07-22 21:52:30 | Cannot find JobInfo in log \n",
      "   3136736 |  Done   |     0:00 | 2020-07-22 21:52:30 | Cannot find JobInfo in log \n",
      "   3197070 |  Done   |  6:53:35 | 2020-07-24 20:11:47 | /test_wfreq/kmesh_8 | wstat.out \n",
      "   3197071 |  Done   | 22:25:46 | 2020-07-24 20:11:58 | /test_wfreq/kmesh_10 | wstat.out \n"
     ]
    }
   ],
   "source": [
    "jm.view()"
   ]
  },
  {
   "cell_type": "code",
   "execution_count": 34,
   "metadata": {},
   "outputs": [
    {
     "name": "stdout",
     "output_type": "stream",
     "text": [
      "2    JOB DONE.\n",
      "\n",
      "4    JOB DONE.\n",
      "\n",
      "6    JOB DONE.\n",
      "\n",
      "8    JOB DONE.\n",
      "\n",
      "10    JOB DONE.\n",
      "\n",
      "12    JOB DONE.\n",
      "\n",
      "14    JOB DONE.\n",
      "\n",
      "16    JOB DONE.\n",
      "\n",
      "18    JOB DONE.\n",
      "\n"
     ]
    }
   ],
   "source": [
    "#check remote scratch job termination status\n",
    "for kmesh in li_kmesh:\n",
    "    remote_scratch_kmesh = ssh.get_REMOTE_SCRATCH_DIR() + '/test_wfreq/kmesh_' + str(kmesh)\n",
    "    print(kmesh,ssh.cmd('cd '+remote_scratch_kmesh+'; grep \"JOB DONE\" pw.out'))"
   ]
  },
  {
   "cell_type": "markdown",
   "metadata": {},
   "source": [
    "wstat step"
   ]
  },
  {
   "cell_type": "code",
   "execution_count": 183,
   "metadata": {},
   "outputs": [
    {
     "name": "stdout",
     "output_type": "stream",
     "text": [
      "Change directory to LOCAL_WORKING_DIR:/home/lan/Desktop/hBN_benchmark/rcc\n",
      "/home/lan/Desktop/hBN_benchmark/rcc/test_wfreq\n",
      "/home/lan/Desktop/hBN_benchmark/rcc/test_wfreq/kmesh_2\n",
      "\n",
      "File written :  wstat.in\n",
      "\u001b[1;1msynchronizing local:/home/lan/Desktop/hBN_benchmark/rcc  ->  remote:/home/huangl1/simulation\u001b[0m\n",
      "\u001b[32mUpload local  file:/home/lan/Desktop/hBN_benchmark/rcc/test_wfreq/kmesh_2/run_wstat.sh\u001b[0m\n",
      "\u001b[32mUpload local  file:/home/lan/Desktop/hBN_benchmark/rcc/test_wfreq/kmesh_2/wstat.in\u001b[0m\n",
      "JobID:3197065\n",
      "/home/lan/Desktop/hBN_benchmark/rcc/test_wfreq\n",
      "/home/lan/Desktop/hBN_benchmark/rcc/test_wfreq/kmesh_4\n",
      "\n",
      "File written :  wstat.in\n",
      "\u001b[1;1msynchronizing local:/home/lan/Desktop/hBN_benchmark/rcc  ->  remote:/home/huangl1/simulation\u001b[0m\n",
      "\u001b[32mUpload local  file:/home/lan/Desktop/hBN_benchmark/rcc/test_wfreq/kmesh_4/run_wstat.sh\u001b[0m\n",
      "\u001b[32mUpload local  file:/home/lan/Desktop/hBN_benchmark/rcc/test_wfreq/kmesh_4/wstat.in\u001b[0m\n",
      "JobID:3197068\n",
      "/home/lan/Desktop/hBN_benchmark/rcc/test_wfreq\n",
      "/home/lan/Desktop/hBN_benchmark/rcc/test_wfreq/kmesh_6\n",
      "\n",
      "File written :  wstat.in\n",
      "\u001b[1;1msynchronizing local:/home/lan/Desktop/hBN_benchmark/rcc  ->  remote:/home/huangl1/simulation\u001b[0m\n",
      "\u001b[32mUpload local  file:/home/lan/Desktop/hBN_benchmark/rcc/test_wfreq/kmesh_6/run_wstat.sh\u001b[0m\n",
      "\u001b[32mUpload local  file:/home/lan/Desktop/hBN_benchmark/rcc/test_wfreq/kmesh_6/wstat.in\u001b[0m\n",
      "JobID:3197069\n",
      "/home/lan/Desktop/hBN_benchmark/rcc/test_wfreq\n",
      "/home/lan/Desktop/hBN_benchmark/rcc/test_wfreq/kmesh_8\n",
      "\n",
      "File written :  wstat.in\n",
      "\u001b[1;1msynchronizing local:/home/lan/Desktop/hBN_benchmark/rcc  ->  remote:/home/huangl1/simulation\u001b[0m\n",
      "\u001b[32mUpload local  file:/home/lan/Desktop/hBN_benchmark/rcc/test_wfreq/kmesh_8/run_wstat.sh\u001b[0m\n",
      "\u001b[32mUpload local  file:/home/lan/Desktop/hBN_benchmark/rcc/test_wfreq/kmesh_8/wstat.in\u001b[0m\n",
      "JobID:3197070\n",
      "/home/lan/Desktop/hBN_benchmark/rcc/test_wfreq\n",
      "/home/lan/Desktop/hBN_benchmark/rcc/test_wfreq/kmesh_10\n",
      "\n",
      "File written :  wstat.in\n",
      "\u001b[1;1msynchronizing local:/home/lan/Desktop/hBN_benchmark/rcc  ->  remote:/home/huangl1/simulation\u001b[0m\n",
      "\u001b[32mUpload local  file:/home/lan/Desktop/hBN_benchmark/rcc/test_wfreq/kmesh_10/run_wstat.sh\u001b[0m\n",
      "\u001b[32mUpload local  file:/home/lan/Desktop/hBN_benchmark/rcc/test_wfreq/kmesh_10/wstat.in\u001b[0m\n",
      "JobID:3197071\n",
      "/home/lan/Desktop/hBN_benchmark/rcc/test_wfreq\n",
      "/home/lan/Desktop/hBN_benchmark/rcc/test_wfreq/kmesh_12\n",
      "\n",
      "File written :  wstat.in\n",
      "\u001b[1;1msynchronizing local:/home/lan/Desktop/hBN_benchmark/rcc  ->  remote:/home/huangl1/simulation\u001b[0m\n",
      "\u001b[32mUpload local  file:/home/lan/Desktop/hBN_benchmark/rcc/test_wfreq/kmesh_12/run_wstat.sh\u001b[0m\n",
      "\u001b[32mUpload local  file:/home/lan/Desktop/hBN_benchmark/rcc/test_wfreq/kmesh_12/wstat.in\u001b[0m\n",
      "JobID:3197073\n",
      "/home/lan/Desktop/hBN_benchmark/rcc/test_wfreq\n",
      "/home/lan/Desktop/hBN_benchmark/rcc/test_wfreq/kmesh_14\n",
      "\n",
      "File written :  wstat.in\n",
      "\u001b[1;1msynchronizing local:/home/lan/Desktop/hBN_benchmark/rcc  ->  remote:/home/huangl1/simulation\u001b[0m\n",
      "\u001b[32mUpload local  file:/home/lan/Desktop/hBN_benchmark/rcc/test_wfreq/kmesh_14/run_wstat.sh\u001b[0m\n",
      "\u001b[32mUpload local  file:/home/lan/Desktop/hBN_benchmark/rcc/test_wfreq/kmesh_14/wstat.in\u001b[0m\n",
      "JobID:3197074\n",
      "/home/lan/Desktop/hBN_benchmark/rcc/test_wfreq\n",
      "/home/lan/Desktop/hBN_benchmark/rcc/test_wfreq/kmesh_16\n",
      "\n",
      "File written :  wstat.in\n",
      "\u001b[1;1msynchronizing local:/home/lan/Desktop/hBN_benchmark/rcc  ->  remote:/home/huangl1/simulation\u001b[0m\n",
      "\u001b[32mUpload local  file:/home/lan/Desktop/hBN_benchmark/rcc/test_wfreq/kmesh_16/run_wstat.sh\u001b[0m\n",
      "\u001b[32mUpload local  file:/home/lan/Desktop/hBN_benchmark/rcc/test_wfreq/kmesh_16/wstat.in\u001b[0m\n",
      "JobID:3197075\n",
      "/home/lan/Desktop/hBN_benchmark/rcc/test_wfreq\n",
      "/home/lan/Desktop/hBN_benchmark/rcc/test_wfreq/kmesh_18\n",
      "\n",
      "File written :  wstat.in\n",
      "\u001b[1;1msynchronizing local:/home/lan/Desktop/hBN_benchmark/rcc  ->  remote:/home/huangl1/simulation\u001b[0m\n",
      "\u001b[32mUpload local  file:/home/lan/Desktop/hBN_benchmark/rcc/test_wfreq/kmesh_18/run_wstat.sh\u001b[0m\n",
      "\u001b[32mUpload local  file:/home/lan/Desktop/hBN_benchmark/rcc/test_wfreq/kmesh_18/wstat.in\u001b[0m\n",
      "JobID:3197077\n",
      "/home/lan/Desktop/hBN_benchmark/rcc/test_wfreq\n"
     ]
    }
   ],
   "source": [
    "jm.cd_LOCAL_WORKING_DIR()\n",
    "%cd test_wfreq\n",
    "\n",
    "li_kmesh = [2,4,6,8,10,12,14,16,18]\n",
    "times = ['02:00:00','04:00:00','08:00:00','16:00:00','35:00:00','35:00:00','35:00:00','35:00:00','35:00:00']\n",
    "\n",
    "parameters = {'job_name': 'wstat',\n",
    "              'time': '02:00:00',\n",
    "              'queue': 'broadwl',\n",
    "              'nodes': 2,\n",
    "              'ntasks_per_node': 1,\n",
    "              'cpus_per_task': 28,\n",
    "              'mem_per_cpu': 2000,\n",
    "              'cmd': 'mpirun -np $NTASKS wstat.x -i wstat.in > wstat.out'}\n",
    "\n",
    " \n",
    "for kmesh,time in zip(li_kmesh,times):\n",
    "    #assign cur folder\n",
    "    cur_folder='kmesh_'+str(kmesh)\n",
    "    %cd {cur_folder}\n",
    "    data = {}\n",
    "    data[\"input_west\"] = {}\n",
    "    data[\"input_west\"][\"qe_prefix\"] = \"calc\"\n",
    "    data[\"input_west\"][\"west_prefix\"] = \"calc\"\n",
    "    data[\"input_west\"][\"outdir\"] = \"./\"\n",
    "    data[\"wstat_control\"] = {}\n",
    "    data[\"wstat_control\"][\"wstat_calculation\"] = \"S\"\n",
    "    data[\"wstat_control\"][\"n_pdep_eigen\"] = 40\n",
    "    writeJsonFile(\"wstat.in\",data)\n",
    "    parameters['time'] = time\n",
    "    Template(rcc_template_string,parameters).write('run_wstat.sh')\n",
    "    %submit run_wstat.sh @collect = wstat.out  \n",
    "    %cd .."
   ]
  },
  {
   "cell_type": "code",
   "execution_count": 5,
   "metadata": {},
   "outputs": [
    {
     "name": "stdout",
     "output_type": "stream",
     "text": [
      "    JobID  | Status  |   Time   |    SubmitTime       |       Note\n",
      " -----------------------------Pending Jobs------------------------------\n",
      "   3223190 | Pending |     0:00 | 2020-07-27 21:33:54 | Cannot find JobInfo in log \n",
      "   3223191 | Pending |     0:00 | 2020-07-27 21:33:54 | Cannot find JobInfo in log \n",
      "   3223193 | Pending |     0:00 | 2020-07-27 21:33:54 | Cannot find JobInfo in log \n"
     ]
    }
   ],
   "source": [
    "jm.view()"
   ]
  },
  {
   "cell_type": "code",
   "execution_count": 4,
   "metadata": {},
   "outputs": [
    {
     "name": "stdout",
     "output_type": "stream",
     "text": [
      "2    JOB DONE.\n",
      "\n",
      "4    JOB DONE.\n",
      "\n",
      "6    JOB DONE.\n",
      "\n",
      "8    JOB DONE.\n",
      "\n",
      "10    JOB DONE.\n",
      "\n",
      "12 \n",
      "14 \n",
      "16 \n",
      "18 \n"
     ]
    }
   ],
   "source": [
    "#check remote scratch job termination status\n",
    "li_kmesh = [2,4,6,8,10,12,14,16,18]\n",
    "for kmesh in li_kmesh:\n",
    "    remote_scratch_kmesh = ssh.get_REMOTE_SCRATCH_DIR() + '/test_wfreq/kmesh_' + str(kmesh)\n",
    "    print(kmesh,ssh.cmd('cd '+remote_scratch_kmesh+'; grep \"JOB DONE\" wstat.out'))"
   ]
  },
  {
   "cell_type": "markdown",
   "metadata": {},
   "source": [
    "Since the 12 14 16 18 kmesh jobs are out of walltime, change wstat.in at local data[\"wstat_control\"][\"wstat_calculation\"] = \"R\""
   ]
  },
  {
   "cell_type": "markdown",
   "metadata": {},
   "source": [
    "resubmit for kmesh 12 14 16 18"
   ]
  },
  {
   "cell_type": "code",
   "execution_count": 7,
   "metadata": {},
   "outputs": [
    {
     "name": "stdout",
     "output_type": "stream",
     "text": [
      "Change directory to LOCAL_WORKING_DIR:/home/lan/Desktop/hBN_benchmark/rcc\n",
      "/home/lan/Desktop/hBN_benchmark/rcc/test_wfreq\n",
      "/home/lan/Desktop/hBN_benchmark/rcc/test_wfreq/kmesh_12\n",
      "\n",
      "File written :  wstat.in\n",
      "\u001b[1;1msynchronizing local:/home/lan/Desktop/hBN_benchmark/rcc  ->  remote:/home/huangl1/simulation\u001b[0m\n",
      "\u001b[93mOverwriteRemote file:/home/huangl1/simulation/test_wfreq/kmesh_18/wstat.in\u001b[0m\n",
      "\u001b[93mOverwriteRemote file:/home/huangl1/simulation/test_wfreq/kmesh_16/wstat.in\u001b[0m\n",
      "\u001b[93mOverwriteRemote file:/home/huangl1/simulation/test_wfreq/kmesh_12/wstat.in\u001b[0m\n",
      "\u001b[93mOverwriteRemote file:/home/huangl1/simulation/test_wfreq/kmesh_14/wstat.in\u001b[0m\n",
      "JobID:3223648\n",
      "/home/lan/Desktop/hBN_benchmark/rcc/test_wfreq\n",
      "/home/lan/Desktop/hBN_benchmark/rcc/test_wfreq/kmesh_14\n",
      "\n",
      "File written :  wstat.in\n",
      "\u001b[1;1msynchronizing local:/home/lan/Desktop/hBN_benchmark/rcc  ->  remote:/home/huangl1/simulation\u001b[0m\n",
      "\u001b[93mOverwriteRemote file:/home/huangl1/simulation/test_wfreq/kmesh_14/wstat.in\u001b[0m\n",
      "JobID:3223649\n",
      "/home/lan/Desktop/hBN_benchmark/rcc/test_wfreq\n",
      "/home/lan/Desktop/hBN_benchmark/rcc/test_wfreq/kmesh_16\n",
      "\n",
      "File written :  wstat.in\n",
      "\u001b[1;1msynchronizing local:/home/lan/Desktop/hBN_benchmark/rcc  ->  remote:/home/huangl1/simulation\u001b[0m\n",
      "\u001b[93mOverwriteRemote file:/home/huangl1/simulation/test_wfreq/kmesh_16/wstat.in\u001b[0m\n",
      "JobID:3223651\n",
      "/home/lan/Desktop/hBN_benchmark/rcc/test_wfreq\n",
      "/home/lan/Desktop/hBN_benchmark/rcc/test_wfreq/kmesh_18\n",
      "\n",
      "File written :  wstat.in\n",
      "\u001b[1;1msynchronizing local:/home/lan/Desktop/hBN_benchmark/rcc  ->  remote:/home/huangl1/simulation\u001b[0m\n",
      "\u001b[93mOverwriteRemote file:/home/huangl1/simulation/test_wfreq/kmesh_18/wstat.in\u001b[0m\n",
      "JobID:3223655\n",
      "/home/lan/Desktop/hBN_benchmark/rcc/test_wfreq\n"
     ]
    }
   ],
   "source": [
    "jm.cd_LOCAL_WORKING_DIR()\n",
    "%cd test_wfreq\n",
    "\n",
    "li_kmesh = [12,14,16,18]\n",
    "times = ['35:00:00','35:00:00','35:00:00','35:00:00']\n",
    "\n",
    "parameters = {'job_name': 'wstat',\n",
    "              'time': '02:00:00',\n",
    "              'queue': 'broadwl',\n",
    "              'nodes': 2,\n",
    "              'ntasks_per_node': 1,\n",
    "              'cpus_per_task': 28,\n",
    "              'mem_per_cpu': 2000,\n",
    "              'cmd': 'mpirun -np $NTASKS wstat.x -i wstat.in > wstat.out'}\n",
    "\n",
    " \n",
    "for kmesh,time in zip(li_kmesh,times):\n",
    "    #assign cur folder\n",
    "    cur_folder='kmesh_'+str(kmesh)\n",
    "    %cd {cur_folder}\n",
    "    data = {}\n",
    "    data[\"input_west\"] = {}\n",
    "    data[\"input_west\"][\"qe_prefix\"] = \"calc\"\n",
    "    data[\"input_west\"][\"west_prefix\"] = \"calc\"\n",
    "    data[\"input_west\"][\"outdir\"] = \"./\"\n",
    "    data[\"wstat_control\"] = {}\n",
    "    data[\"wstat_control\"][\"wstat_calculation\"] = \"R\"\n",
    "    data[\"wstat_control\"][\"n_pdep_eigen\"] = 40\n",
    "    writeJsonFile(\"wstat.in\",data)\n",
    "    parameters['time'] = time\n",
    "    Template(rcc_template_string,parameters).write('run_wstat.sh')\n",
    "    %submit run_wstat.sh @collect = wstat.out  \n",
    "    %cd .."
   ]
  },
  {
   "cell_type": "code",
   "execution_count": null,
   "metadata": {},
   "outputs": [],
   "source": []
  },
  {
   "cell_type": "code",
   "execution_count": null,
   "metadata": {},
   "outputs": [],
   "source": []
  },
  {
   "cell_type": "code",
   "execution_count": null,
   "metadata": {},
   "outputs": [],
   "source": [
    "%close"
   ]
  }
 ],
 "metadata": {
  "kernelspec": {
   "display_name": "Python 3",
   "language": "python",
   "name": "python3"
  },
  "language_info": {
   "codemirror_mode": {
    "name": "ipython",
    "version": 3
   },
   "file_extension": ".py",
   "mimetype": "text/x-python",
   "name": "python",
   "nbconvert_exporter": "python",
   "pygments_lexer": "ipython3",
   "version": "3.6.9"
  },
  "toc": {
   "base_numbering": 1,
   "nav_menu": {},
   "number_sections": true,
   "sideBar": true,
   "skip_h1_title": false,
   "title_cell": "Table of Contents",
   "title_sidebar": "Contents",
   "toc_cell": false,
   "toc_position": {},
   "toc_section_display": true,
   "toc_window_display": false
  }
 },
 "nbformat": 4,
 "nbformat_minor": 2
}
