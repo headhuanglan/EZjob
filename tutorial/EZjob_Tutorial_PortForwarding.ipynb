{
 "cells": [
  {
   "cell_type": "code",
   "execution_count": 1,
   "metadata": {
    "ExecuteTime": {
     "end_time": "2020-07-14T11:53:30.455808Z",
     "start_time": "2020-07-14T11:53:28.535356Z"
    },
    "scrolled": false
   },
   "outputs": [
    {
     "name": "stdout",
     "output_type": "stream",
     "text": [
      "\n",
      "  ______ _____ _       _\n",
      " |  ____|___  (_)     | |\n",
      " | |__     / / _  ___ | |__   \n",
      " |  __|   / / | |/ _ \\| '_ \\    \n",
      " | |____ / /__| | (_) | |_) |     \n",
      " |______/_____| |\\___/|_.__/     \n",
      "             _/ |\n",
      "            |__/\n",
      "   \n",
      "Job Manager version :    0.1.6\n",
      "Today :    2020-07-14 06:53:30\n"
     ]
    }
   ],
   "source": [
    "from ezjob import *"
   ]
  },
  {
   "cell_type": "code",
   "execution_count": 3,
   "metadata": {
    "ExecuteTime": {
     "end_time": "2020-07-14T11:53:52.641441Z",
     "start_time": "2020-07-14T11:53:44.253269Z"
    },
    "scrolled": true
   },
   "outputs": [
    {
     "name": "stdout",
     "output_type": "stream",
     "text": [
      "Password:\n",
      "Duo two-factor login for huangl1\n",
      "\n",
      "Enter a passcode or select one of the following options:\n",
      "\n",
      " 1. Duo Push to XXX-XXX-4177\n",
      " 2. Phone call to XXX-XXX-4177\n",
      " 3. SMS passcodes to XXX-XXX-4177\n",
      "\n",
      "Passcode or option (1-3):\n",
      "Success. Logging you in...\n",
      "Last login: Tue Jul 14 06:50:24 2020 from c-73-51-208-105.hsd1.il.comcast.net\n",
      "===============================================================================\n",
      "                               Welcome to Midway\n",
      "                           Research Computing Center\n",
      "                             University of Chicago\n",
      "                            http://rcc.uchicago.edu\n",
      "\n",
      "\n",
      "For the RCC Manual see the documentation site at\n",
      "    http://docs.rcc.uchicago.edu\n",
      "\n",
      "To check your allocation balance for the current period use this command:\n",
      "accounts balance\n",
      "\n",
      "Questions and issues should be sent to help@rcc.uchicago.edu or 773-795-2667.\n",
      "===============================================================================\n",
      "\n",
      "*******************************************************************************\n",
      "\n",
      "Midway information system usage may be monitored, recorded, and subject to audit.\n",
      "Use of the information system indicates consent to monitoring and recording.\n",
      "Users who logon represent that they are authorized to do so. Unauthorized use of \n",
      "the information system is prohibited and subject to criminal and civil penalties.\n",
      "\n",
      "*******************************************************************************\n",
      "\n",
      "*******************************************************************************\n",
      "\n",
      "Resource intensive computation jobs running on login nodes will be killed. Please\n",
      "submit them to slurm. \n",
      "\n",
      "*******************************************************************************\n",
      "\n",
      "*******************************************************************************\n",
      "\n",
      "As part of Midway1 decommissioning, starting from April 10, 2019 the shared partitions \n",
      "of Midway1 (e.g., sandyb, ivyb, amd, bigmem, etc.) will be no longer available to run \n",
      "jobs. Please use Midway2 partitions (e.g., broadwl, broadwl-lc, etc.) to run your jobs.\n",
      "\n",
      "*******************************************************************************\n",
      "cd /home/huangl1/simulation\n",
      "[huangl1@midway2-login1 ~]$ cd /home/huangl1/simulation\n",
      "[huangl1@midway2-login1 simulation]$ \n",
      " "
     ]
    }
   ],
   "source": [
    "ssh = SSH('../config_rcc.ini','rcc')\n",
    "ssh.connect()"
   ]
  },
  {
   "cell_type": "code",
   "execution_count": 4,
   "metadata": {
    "ExecuteTime": {
     "end_time": "2020-07-14T11:53:54.861889Z",
     "start_time": "2020-07-14T11:53:54.853892Z"
    }
   },
   "outputs": [
    {
     "name": "stdout",
     "output_type": "stream",
     "text": [
      " pwd\r\n",
      "/home/huangl1/simulation\r\n",
      "[huangl1@midway2-login1 simulation]$ \n",
      " "
     ]
    }
   ],
   "source": [
    "%r  pwd"
   ]
  },
  {
   "cell_type": "code",
   "execution_count": 10,
   "metadata": {
    "ExecuteTime": {
     "end_time": "2020-07-14T11:55:17.398369Z",
     "start_time": "2020-07-14T11:55:17.390373Z"
    }
   },
   "outputs": [
    {
     "name": "stdout",
     "output_type": "stream",
     "text": [
      "cd ~\r\n",
      "[huangl1@midway2-login1 ~]$ \n",
      " "
     ]
    }
   ],
   "source": [
    "%r cd ~"
   ]
  },
  {
   "cell_type": "code",
   "execution_count": 11,
   "metadata": {
    "ExecuteTime": {
     "end_time": "2020-07-14T11:55:21.694327Z",
     "start_time": "2020-07-14T11:55:21.687331Z"
    }
   },
   "outputs": [
    {
     "name": "stdout",
     "output_type": "stream",
     "text": [
      ".0 --NotebookApp.token='' ser --port=9001 --ip=0.0.0 \n",
      "[W 06:55:22.001 NotebookApp] All authentication is disabled.  Anyone who can connect to this server will be able to run code.\n",
      "[I 06:55:22.042 NotebookApp] Serving notebooks from local directory: /home/huangl1\n",
      "[I 06:55:22.042 NotebookApp] The Jupyter Notebook is running at:\n",
      "[I 06:55:22.042 NotebookApp] http://midway2-login1.rcc.local:9001/\n",
      "[I 06:55:22.042 NotebookApp] Use Control-C to stop this server and shut down all kernels (twice to skip confirmation).\n"
     ]
    }
   ],
   "source": [
    "ssh.shell(\"jupyter notebook --no-browser --port=9001 --ip=0.0.0.0 --NotebookApp.token='' \")"
   ]
  },
  {
   "cell_type": "code",
   "execution_count": 12,
   "metadata": {
    "ExecuteTime": {
     "end_time": "2020-07-14T11:55:26.609417Z",
     "start_time": "2020-07-14T11:55:26.593428Z"
    }
   },
   "outputs": [
    {
     "name": "stdout",
     "output_type": "stream",
     "text": [
      "local port 8888 is in use, try another one!\n"
     ]
    }
   ],
   "source": [
    "ssh.port_forwarding(8888,9001)"
   ]
  },
  {
   "cell_type": "code",
   "execution_count": 16,
   "metadata": {
    "ExecuteTime": {
     "end_time": "2020-07-14T11:55:39.896961Z",
     "start_time": "2020-07-14T11:55:39.877969Z"
    }
   },
   "outputs": [
    {
     "name": "stdout",
     "output_type": "stream",
     "text": [
      "Port forwarding start. local_port:8800  remote_port:9001\n",
      "http://127.0.0.1:8800\n",
      "[I 06:55:42.452 NotebookApp] 302 GET / (128.135.112.68) 1.04ms\n"
     ]
    }
   ],
   "source": [
    "ssh.port_forwarding(8800,9001)"
   ]
  },
  {
   "cell_type": "code",
   "execution_count": 17,
   "metadata": {
    "ExecuteTime": {
     "end_time": "2020-07-14T11:55:52.200888Z",
     "start_time": "2020-07-14T11:55:51.834095Z"
    }
   },
   "outputs": [
    {
     "name": "stdout",
     "output_type": "stream",
     "text": [
      "Port forwarding stopped.\n"
     ]
    }
   ],
   "source": [
    "ssh.stop_port_forwarding()"
   ]
  },
  {
   "cell_type": "code",
   "execution_count": 18,
   "metadata": {
    "ExecuteTime": {
     "end_time": "2020-07-14T11:55:55.415360Z",
     "start_time": "2020-07-14T11:55:55.407365Z"
    }
   },
   "outputs": [
    {
     "name": "stdout",
     "output_type": "stream",
     "text": [
      "\r\n",
      "ls\r\n"
     ]
    }
   ],
   "source": [
    "%%r\n",
    "\n",
    "ls"
   ]
  },
  {
   "cell_type": "markdown",
   "metadata": {},
   "source": [
    "Can not run remote shell now due to the jupyter blocked interactive shell "
   ]
  },
  {
   "cell_type": "code",
   "execution_count": 19,
   "metadata": {
    "ExecuteTime": {
     "end_time": "2020-07-14T11:56:03.493031Z",
     "start_time": "2020-07-14T11:56:03.488034Z"
    }
   },
   "outputs": [
    {
     "name": "stdout",
     "output_type": "stream",
     "text": [
      "^Cy\r\n",
      "[I 06:56:02.992 NotebookApp] interrupted\r\n",
      "Serving notebooks from local directory: /home/huangl1\r\n",
      "0 active kernels\r\n",
      "The Jupyter Notebook is running at:\r\n",
      "http://midway2-login1.rcc.local:9001/\r\n",
      "Shutdown this notebook server (y/[n])? [C 06:56:02.993 NotebookApp] Shutdown confirmed\r\n",
      "[I 06:56:02.994 NotebookApp] Shutting down 0 kernels\r\n",
      "[huangl1@midway2-login1 ~]$ \n",
      " "
     ]
    }
   ],
   "source": [
    "# \\x03  = ctrl + c    y for yes\n",
    "ssh.shell('\\x03y')"
   ]
  },
  {
   "cell_type": "code",
   "execution_count": 20,
   "metadata": {
    "ExecuteTime": {
     "end_time": "2020-07-14T11:56:06.236872Z",
     "start_time": "2020-07-14T11:56:06.230873Z"
    }
   },
   "outputs": [
    {
     "name": "stdout",
     "output_type": "stream",
     "text": [
      "\r\n",
      "[huangl1@midway2-login1 ~]$ ls\r\n",
      "JOB_Monitoring.ipynb  \u001b[0m\u001b[01;36mscratch-midway2\u001b[0m  \u001b[01;34msoftware\u001b[0m\r\n",
      "WEST0D2D.ipynb        \u001b[01;34msimulation\u001b[0m       \u001b[01;34mworkshop-july-2020-master\u001b[0m\r\n",
      "[huangl1@midway2-login1 ~]$ \n",
      " "
     ]
    }
   ],
   "source": [
    "%%r\n",
    "\n",
    "ls"
   ]
  },
  {
   "cell_type": "code",
   "execution_count": 21,
   "metadata": {
    "ExecuteTime": {
     "end_time": "2020-07-14T11:56:11.330753Z",
     "start_time": "2020-07-14T11:56:11.268790Z"
    }
   },
   "outputs": [
    {
     "name": "stdout",
     "output_type": "stream",
     "text": [
      "Port forwarding stopped.\n"
     ]
    }
   ],
   "source": [
    "ssh.close()"
   ]
  },
  {
   "cell_type": "code",
   "execution_count": null,
   "metadata": {},
   "outputs": [],
   "source": []
  }
 ],
 "metadata": {
  "kernelspec": {
   "display_name": "Python 3",
   "language": "python",
   "name": "python3"
  },
  "language_info": {
   "codemirror_mode": {
    "name": "ipython",
    "version": 3
   },
   "file_extension": ".py",
   "mimetype": "text/x-python",
   "name": "python",
   "nbconvert_exporter": "python",
   "pygments_lexer": "ipython3",
   "version": "3.7.3"
  },
  "toc": {
   "base_numbering": 1,
   "nav_menu": {},
   "number_sections": true,
   "sideBar": true,
   "skip_h1_title": false,
   "title_cell": "Table of Contents",
   "title_sidebar": "Contents",
   "toc_cell": false,
   "toc_position": {},
   "toc_section_display": true,
   "toc_window_display": false
  }
 },
 "nbformat": 4,
 "nbformat_minor": 2
}
